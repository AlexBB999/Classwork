{
  "nbformat": 4,
  "nbformat_minor": 0,
  "metadata": {
    "colab": {
      "name": "17.3 id3 algorithm.ipynb",
      "provenance": [],
      "collapsed_sections": [],
      "authorship_tag": "ABX9TyO6/uT8AKflVeCn3Pf2UHdk",
      "include_colab_link": true
    },
    "kernelspec": {
      "name": "python3",
      "display_name": "Python 3"
    }
  },
  "cells": [
    {
      "cell_type": "markdown",
      "metadata": {
        "id": "view-in-github",
        "colab_type": "text"
      },
      "source": [
        "<a href=\"https://colab.research.google.com/github/AlexBB999/Classwork/blob/master/17_3_id3_algorithm.ipynb\" target=\"_parent\"><img src=\"https://colab.research.google.com/assets/colab-badge.svg\" alt=\"Open In Colab\"/></a>"
      ]
    },
    {
      "cell_type": "code",
      "metadata": {
        "id": "3biF1OvEO9Lj",
        "colab_type": "code",
        "colab": {}
      },
      "source": [
        ""
      ],
      "execution_count": 0,
      "outputs": []
    },
    {
      "cell_type": "markdown",
      "metadata": {
        "id": "xcWT0sF9PVAN",
        "colab_type": "text"
      },
      "source": [
        "##**The ID3 Algorithm**\n",
        "\n",
        "**ID3 stands for _Iterative Dichotomizer 3_**, and is one of the simplest ways to create a decision tree. \n",
        "\n",
        "It can be generalized into more robust scenarios, but the implementation is based on the framework we'll go over here.\n",
        "\n",
        " **Essentially ID3 goes through every feature to find the most valuable attribute and then splits based on it**. \n",
        " \n",
        " It moves further and further down the tree until it either has a pure class or has met a terminating condition. We'll cover the details below.\n",
        "\n",
        "Before you can start working with ID3, however, there are **some requirements** for the data in this most basic form. \n",
        "\n",
        "Firstly, **outcomes have to be binary**. The simplest version of ID3 is a binary classifier.\n",
        "\n",
        " The **attributes we're using to build the tree also have to be categorical**. Attributes can have many categories but they must be known and countable.\n",
        "\n",
        "**If those two criteria are met then you can build a basic ID3 classifying algorithm**.\n",
        "\n",
        "The other thing we'll need for this is our definition of entropy. Recall from the previous assignment that we're going to use **Shannon Entropy  𝐻** , defined as:\n",
        "\n",
        "𝐻=−∑𝑖=1𝑛𝑃(𝑥𝑖)𝑙𝑜𝑔2𝑃(𝑥𝑖)\n",
        " \n",
        "For simplicity of calculation, we're actually going to do a slight transform on this definition. Recall from a (quite possibly long ago) algebra class that you can bring exponentials out to the front of a logarithm. In this case we'll raise the probability to -1, changing the formula to:\n",
        "\n",
        "**𝐻=∑𝑖=1𝑛𝑃(𝑥𝑖)𝑙𝑜𝑔2 1/𝑃(𝑥𝑖)**\n",
        " \n",
        "This removes the negative sign up front and will make it easier for us to implement this formula."
      ]
    },
    {
      "cell_type": "markdown",
      "metadata": {
        "id": "2mRIuVFnQIpo",
        "colab_type": "text"
      },
      "source": [
        "##**Calculating Entropy**\n",
        "\n",
        "Since this algorithm is based on entropy let's go over a quick example of how to calculate it.\n",
        "\n",
        "Let's say we have 20 students, and we're trying to classify them as male and female. The only attribute we have is whether their height is tall, medium, or short. Of the 20 students, 12 are boys with and 8 are girls. Of the 12 boys, 4 are tall, 6 are medium and 2 are short. Of the 8 girls, 1 is tall, 2 are medium, and 5 are short.\n",
        "\n",
        "What is the entropy, both before any rule is applied and then after applying a rule for being tall?\n",
        "\n",
        "**The initial entropy is just the formula plugged in over both the possible classes of interest**:"
      ]
    },
    {
      "cell_type": "markdown",
      "metadata": {
        "id": "G3rDhVswQato",
        "colab_type": "text"
      },
      "source": [
        "The initial entropy is just the formula plugged in over both the possible classes of interest:\n",
        "\n",
        "**𝐻=𝑃(𝑚𝑎𝑙𝑒)∗𝑙𝑜𝑔2 1/𝑃(𝑚𝑎𝑙𝑒)+𝑃(𝑓𝑒𝑚𝑎𝑙𝑒)∗𝑙𝑜𝑔2 1/𝑃   (𝑓𝑒𝑚𝑎𝑙𝑒)**\n",
        " \n",
        "=**12/20∗𝑙𝑜𝑔2 20/12+8/20∗𝑙𝑜𝑔2 20/8=.971** "
      ]
    },
    {
      "cell_type": "markdown",
      "metadata": {
        "id": "VmUxTN_WQ-xt",
        "colab_type": "text"
      },
      "source": [
        "What if we apply the rule _height = short_? **We need to calculate the weighted average of the two entropies**, \n",
        "\n",
        "**one for the short students** \n",
        "\n",
        "and **one for the non-short students**.\n",
        "\n",
        "**𝐻(𝑠ℎ𝑜𝑟𝑡)=𝑃(𝑚𝑎𝑙𝑒)∗𝑙𝑜𝑔2 1/𝑃(𝑚𝑎𝑙𝑒)+𝑃(𝑓𝑒𝑚𝑎𝑙𝑒)∗𝑙𝑜𝑔2 1/𝑃(𝑓𝑒𝑚𝑎𝑙𝑒)**\n",
        " \n",
        "=**2/7∗𝑙𝑜𝑔2 7/2+5/7∗𝑙𝑜𝑔2 7/5=.863**\n",
        " \n",
        "𝐻**(𝑛𝑜𝑡_𝑠ℎ𝑜𝑟𝑡)=𝑃(𝑚𝑎𝑙𝑒)∗𝑙𝑜𝑔2 1/𝑃(𝑚𝑎𝑙𝑒)+𝑃(𝑓𝑒𝑚𝑎𝑙𝑒)∗𝑙𝑜𝑔2 1/𝑃(𝑓𝑒𝑚𝑎𝑙𝑒**)\n",
        " \n",
        "=**10/13∗𝑙𝑜𝑔2 13/10+3/13∗𝑙𝑜𝑔2 1/33=.779**\n",
        " \n",
        "Note that all the probabilities here are **conditional** on the criteria we're assuming (short or not short)."
      ]
    },
    {
      "cell_type": "markdown",
      "metadata": {
        "id": "vSBye6R7Ry70",
        "colab_type": "text"
      },
      "source": [
        "Now the weighted average of the two is just:\n",
        "\n",
        "**𝑃(𝑠ℎ𝑜𝑟𝑡)∗𝐻(𝑠ℎ𝑜𝑟𝑡)+𝑃(𝑛𝑜𝑡_𝑠ℎ𝑜𝑟𝑡)∗𝐻(𝑛𝑜𝑡_𝑠ℎ𝑜𝑟𝑡)**=720∗.863+1320∗.779=.809\n",
        " \n",
        "So our entropy from this question would go from .971 to .809. That's an improvement.\n",
        "\n",
        " Use the space below to calculate the entropy of the other criteria, for **we asked whether the students were tall or medium**."
      ]
    },
    {
      "cell_type": "code",
      "metadata": {
        "id": "Wv_FLFaSR-ja",
        "colab_type": "code",
        "colab": {}
      },
      "source": [
        "from math import log2\n",
        "#The initial entropy is just the formula plugged in over both the possible classes of interest:\n",
        "\n",
        "#𝐻=𝑃(𝑚𝑎𝑙𝑒)∗𝑙𝑜𝑔2 1/𝑃(𝑚𝑎𝑙𝑒)+𝑃(𝑓𝑒𝑚𝑎𝑙𝑒)∗𝑙𝑜𝑔2 1/𝑃 (𝑓𝑒𝑚𝑎𝑙𝑒)\n",
        "\n",
        "#=12/20∗𝑙𝑜𝑔2 20/12+8/20∗𝑙𝑜𝑔2 20/8=.971\n",
        "\n",
        "#Of the 12 boys, 4 are tall, 6 are medium and 2 are short\n",
        "# Of the 8 girls, 1 is tall, 2 are medium, and 5 are short.\n",
        "\n",
        "# 𝐻(medium#)=𝑃(𝑚𝑎𝑙𝑒)∗𝑙𝑜𝑔2 1/𝑃(𝑚𝑎𝑙𝑒)+𝑃(𝑓𝑒𝑚𝑎𝑙𝑒)∗𝑙𝑜𝑔2 1/𝑃(𝑓𝑒𝑚𝑎𝑙𝑒)"
      ],
      "execution_count": 0,
      "outputs": []
    },
    {
      "cell_type": "markdown",
      "metadata": {
        "id": "FvYwlCKUXqSX",
        "colab_type": "text"
      },
      "source": [
        "**I can;t solve**"
      ]
    }
  ]
}