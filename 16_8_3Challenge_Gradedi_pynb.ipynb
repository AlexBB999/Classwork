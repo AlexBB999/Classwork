{
  "nbformat": 4,
  "nbformat_minor": 0,
  "metadata": {
    "colab": {
      "name": "16.8 .3Challenge Gradedi. pynb",
      "provenance": [],
      "collapsed_sections": [],
      "authorship_tag": "ABX9TyOSBLvbnLF0fTXNuQpkLjtM",
      "include_colab_link": true
    },
    "kernelspec": {
      "name": "python3",
      "display_name": "Python 3"
    }
  },
  "cells": [
    {
      "cell_type": "markdown",
      "metadata": {
        "id": "view-in-github",
        "colab_type": "text"
      },
      "source": [
        "<a href=\"https://colab.research.google.com/github/AlexBB999/Classwork/blob/master/16_8_3Challenge_Gradedi_pynb.ipynb\" target=\"_parent\"><img src=\"https://colab.research.google.com/assets/colab-badge.svg\" alt=\"Open In Colab\"/></a>"
      ]
    },
    {
      "cell_type": "markdown",
      "metadata": {
        "id": "Qqm5T9yJmTIA",
        "colab_type": "text"
      },
      "source": [
        "In this exercise, you'll work on your house prices model. To complete this assignment, submit a link to a Jupyter notebook containing your solutions to the following tasks:\n",
        "\n",
        "* Load the **houseprices** data from Thinkful's database.\n",
        "* Run your house prices model again and assess the goodness of fit of your model using F-test, R-squared, adjusted R-squared, AIC and BIC.\n",
        "* Do you think your model is satisfactory? If so, why?\n",
        "* In order to improve the goodness of fit of your model, try different model specifications by adding or removing some variables. \n",
        "* For each model you try, get the goodness of fit metrics and compare your models with each other. Which model is the best and why?"
      ]
    },
    {
      "cell_type": "markdown",
      "metadata": {
        "id": "WRoCfLv1PQ4Q",
        "colab_type": "text"
      },
      "source": [
        "#**Assignment: predicting house prices**\n",
        "\n",
        "Now, it's your turn to design your first regression model. In this module, you'll be using a version of the \"House Prices\" dataset from Kaggle that we've ported to a Postgres database. This dataset consists of 79 variables describing many aspects of residential homes in Ames, Iowa. Using this data, your task will be to predict the prices of the houses. You can find the descriptions of the variables here: House Prices\n",
        "\n",
        "To complete this assignment, create a Jupyter notebook containing your solutions to the following tasks:\n",
        "\n",
        "Load the dataset from the Thinkful PostgreSQL database.\n",
        "\n",
        " You can look at the example above for inspiration on how to generate the database engine URL. You'll need the following values:\n",
        "\n",
        "postgres_user = 'dsbc_student'\n",
        "\n",
        "postgres_pw = '7*.8G9QH21'\n",
        "\n",
        "postgres_host = '142.93.121.174'\n",
        "\n",
        "postgres_port = '5432'\n",
        "\n",
        "postgres_db = 'houseprices'\n",
        "\n",
        "\n",
        "\n",
        "\n",
        "\n"
      ]
    },
    {
      "cell_type": "code",
      "metadata": {
        "id": "LB240COAS5ev",
        "colab_type": "code",
        "colab": {}
      },
      "source": [
        "import numpy as np\n",
        "import pandas as pd\n",
        "from sklearn import linear_model\n",
        "import matplotlib.pyplot as plt\n",
        "from sqlalchemy import create_engine\n",
        "from sklearn.preprocessing import OneHotEncoder \n",
        "import seaborn as sns\n",
        "from sklearn.model_selection import train_test_split\n",
        "from sklearn.preprocessing import StandardScaler\n",
        "from sklearn.metrics import mean_absolute_error, mean_squared_error \n",
        "from math import sqrt\n",
        "from sklearn.model_selection import GridSearchCV\n",
        "\n",
        "import warnings\n",
        "warnings.filterwarnings('ignore')"
      ],
      "execution_count": 0,
      "outputs": []
    },
    {
      "cell_type": "code",
      "metadata": {
        "id": "5M7T8y0ATCFT",
        "colab_type": "code",
        "colab": {}
      },
      "source": [
        "postgres_user = 'dsbc_student'\n",
        "postgres_pw = '7*.8G9QH21'\n",
        "postgres_host = '142.93.121.174'\n",
        "postgres_port = '5432'\n",
        "postgres_db =  'houseprices'"
      ],
      "execution_count": 0,
      "outputs": []
    },
    {
      "cell_type": "code",
      "metadata": {
        "id": "zXqp01ECTOqL",
        "colab_type": "code",
        "colab": {}
      },
      "source": [
        "engine = create_engine('postgresql://{}:{}@{}:{}/{}'.format(\n",
        "    postgres_user, postgres_pw, postgres_host, postgres_port, postgres_db))\n",
        "hp0 = pd.read_sql_query('select * FROM houseprices',con=engine)\n",
        "\n",
        "# no need for an open connection, as we're only doing a single query\n",
        "engine.dispose()"
      ],
      "execution_count": 0,
      "outputs": []
    },
    {
      "cell_type": "code",
      "metadata": {
        "id": "doHSqvVqTRGX",
        "colab_type": "code",
        "colab": {}
      },
      "source": [
        "hp=hp0.copy()"
      ],
      "execution_count": 0,
      "outputs": []
    },
    {
      "cell_type": "markdown",
      "metadata": {
        "id": "xHhdWAAQhG9j",
        "colab_type": "text"
      },
      "source": [
        "**REVIEW DATA SET**"
      ]
    },
    {
      "cell_type": "code",
      "metadata": {
        "id": "rndhLMF_AIDF",
        "colab_type": "code",
        "outputId": "dffab2b2-3283-4273-bbea-b3ea2969591a",
        "colab": {
          "base_uri": "https://localhost:8080/",
          "height": 244
        }
      },
      "source": [
        "hp.head()"
      ],
      "execution_count": 6,
      "outputs": [
        {
          "output_type": "execute_result",
          "data": {
            "text/html": [
              "<div>\n",
              "<style scoped>\n",
              "    .dataframe tbody tr th:only-of-type {\n",
              "        vertical-align: middle;\n",
              "    }\n",
              "\n",
              "    .dataframe tbody tr th {\n",
              "        vertical-align: top;\n",
              "    }\n",
              "\n",
              "    .dataframe thead th {\n",
              "        text-align: right;\n",
              "    }\n",
              "</style>\n",
              "<table border=\"1\" class=\"dataframe\">\n",
              "  <thead>\n",
              "    <tr style=\"text-align: right;\">\n",
              "      <th></th>\n",
              "      <th>id</th>\n",
              "      <th>mssubclass</th>\n",
              "      <th>mszoning</th>\n",
              "      <th>lotfrontage</th>\n",
              "      <th>lotarea</th>\n",
              "      <th>street</th>\n",
              "      <th>alley</th>\n",
              "      <th>lotshape</th>\n",
              "      <th>landcontour</th>\n",
              "      <th>utilities</th>\n",
              "      <th>lotconfig</th>\n",
              "      <th>landslope</th>\n",
              "      <th>neighborhood</th>\n",
              "      <th>condition1</th>\n",
              "      <th>condition2</th>\n",
              "      <th>bldgtype</th>\n",
              "      <th>housestyle</th>\n",
              "      <th>overallqual</th>\n",
              "      <th>overallcond</th>\n",
              "      <th>yearbuilt</th>\n",
              "      <th>yearremodadd</th>\n",
              "      <th>roofstyle</th>\n",
              "      <th>roofmatl</th>\n",
              "      <th>exterior1st</th>\n",
              "      <th>exterior2nd</th>\n",
              "      <th>masvnrtype</th>\n",
              "      <th>masvnrarea</th>\n",
              "      <th>exterqual</th>\n",
              "      <th>extercond</th>\n",
              "      <th>foundation</th>\n",
              "      <th>bsmtqual</th>\n",
              "      <th>bsmtcond</th>\n",
              "      <th>bsmtexposure</th>\n",
              "      <th>bsmtfintype1</th>\n",
              "      <th>bsmtfinsf1</th>\n",
              "      <th>bsmtfintype2</th>\n",
              "      <th>bsmtfinsf2</th>\n",
              "      <th>bsmtunfsf</th>\n",
              "      <th>totalbsmtsf</th>\n",
              "      <th>heating</th>\n",
              "      <th>...</th>\n",
              "      <th>centralair</th>\n",
              "      <th>electrical</th>\n",
              "      <th>firstflrsf</th>\n",
              "      <th>secondflrsf</th>\n",
              "      <th>lowqualfinsf</th>\n",
              "      <th>grlivarea</th>\n",
              "      <th>bsmtfullbath</th>\n",
              "      <th>bsmthalfbath</th>\n",
              "      <th>fullbath</th>\n",
              "      <th>halfbath</th>\n",
              "      <th>bedroomabvgr</th>\n",
              "      <th>kitchenabvgr</th>\n",
              "      <th>kitchenqual</th>\n",
              "      <th>totrmsabvgrd</th>\n",
              "      <th>functional</th>\n",
              "      <th>fireplaces</th>\n",
              "      <th>fireplacequ</th>\n",
              "      <th>garagetype</th>\n",
              "      <th>garageyrblt</th>\n",
              "      <th>garagefinish</th>\n",
              "      <th>garagecars</th>\n",
              "      <th>garagearea</th>\n",
              "      <th>garagequal</th>\n",
              "      <th>garagecond</th>\n",
              "      <th>paveddrive</th>\n",
              "      <th>wooddecksf</th>\n",
              "      <th>openporchsf</th>\n",
              "      <th>enclosedporch</th>\n",
              "      <th>threessnporch</th>\n",
              "      <th>screenporch</th>\n",
              "      <th>poolarea</th>\n",
              "      <th>poolqc</th>\n",
              "      <th>fence</th>\n",
              "      <th>miscfeature</th>\n",
              "      <th>miscval</th>\n",
              "      <th>mosold</th>\n",
              "      <th>yrsold</th>\n",
              "      <th>saletype</th>\n",
              "      <th>salecondition</th>\n",
              "      <th>saleprice</th>\n",
              "    </tr>\n",
              "  </thead>\n",
              "  <tbody>\n",
              "    <tr>\n",
              "      <th>0</th>\n",
              "      <td>1</td>\n",
              "      <td>60</td>\n",
              "      <td>RL</td>\n",
              "      <td>65.0</td>\n",
              "      <td>8450</td>\n",
              "      <td>Pave</td>\n",
              "      <td>None</td>\n",
              "      <td>Reg</td>\n",
              "      <td>Lvl</td>\n",
              "      <td>AllPub</td>\n",
              "      <td>Inside</td>\n",
              "      <td>Gtl</td>\n",
              "      <td>CollgCr</td>\n",
              "      <td>Norm</td>\n",
              "      <td>Norm</td>\n",
              "      <td>1Fam</td>\n",
              "      <td>2Story</td>\n",
              "      <td>7</td>\n",
              "      <td>5</td>\n",
              "      <td>2003</td>\n",
              "      <td>2003</td>\n",
              "      <td>Gable</td>\n",
              "      <td>CompShg</td>\n",
              "      <td>VinylSd</td>\n",
              "      <td>VinylSd</td>\n",
              "      <td>BrkFace</td>\n",
              "      <td>196.0</td>\n",
              "      <td>Gd</td>\n",
              "      <td>TA</td>\n",
              "      <td>PConc</td>\n",
              "      <td>Gd</td>\n",
              "      <td>TA</td>\n",
              "      <td>No</td>\n",
              "      <td>GLQ</td>\n",
              "      <td>706</td>\n",
              "      <td>Unf</td>\n",
              "      <td>0</td>\n",
              "      <td>150</td>\n",
              "      <td>856</td>\n",
              "      <td>GasA</td>\n",
              "      <td>...</td>\n",
              "      <td>Y</td>\n",
              "      <td>SBrkr</td>\n",
              "      <td>856</td>\n",
              "      <td>854</td>\n",
              "      <td>0</td>\n",
              "      <td>1710</td>\n",
              "      <td>1</td>\n",
              "      <td>0</td>\n",
              "      <td>2</td>\n",
              "      <td>1</td>\n",
              "      <td>3</td>\n",
              "      <td>1</td>\n",
              "      <td>Gd</td>\n",
              "      <td>8</td>\n",
              "      <td>Typ</td>\n",
              "      <td>0</td>\n",
              "      <td>None</td>\n",
              "      <td>Attchd</td>\n",
              "      <td>2003.0</td>\n",
              "      <td>RFn</td>\n",
              "      <td>2</td>\n",
              "      <td>548</td>\n",
              "      <td>TA</td>\n",
              "      <td>TA</td>\n",
              "      <td>Y</td>\n",
              "      <td>0</td>\n",
              "      <td>61</td>\n",
              "      <td>0</td>\n",
              "      <td>0</td>\n",
              "      <td>0</td>\n",
              "      <td>0</td>\n",
              "      <td>None</td>\n",
              "      <td>None</td>\n",
              "      <td>None</td>\n",
              "      <td>0</td>\n",
              "      <td>2</td>\n",
              "      <td>2008</td>\n",
              "      <td>WD</td>\n",
              "      <td>Normal</td>\n",
              "      <td>208500</td>\n",
              "    </tr>\n",
              "    <tr>\n",
              "      <th>1</th>\n",
              "      <td>2</td>\n",
              "      <td>20</td>\n",
              "      <td>RL</td>\n",
              "      <td>80.0</td>\n",
              "      <td>9600</td>\n",
              "      <td>Pave</td>\n",
              "      <td>None</td>\n",
              "      <td>Reg</td>\n",
              "      <td>Lvl</td>\n",
              "      <td>AllPub</td>\n",
              "      <td>FR2</td>\n",
              "      <td>Gtl</td>\n",
              "      <td>Veenker</td>\n",
              "      <td>Feedr</td>\n",
              "      <td>Norm</td>\n",
              "      <td>1Fam</td>\n",
              "      <td>1Story</td>\n",
              "      <td>6</td>\n",
              "      <td>8</td>\n",
              "      <td>1976</td>\n",
              "      <td>1976</td>\n",
              "      <td>Gable</td>\n",
              "      <td>CompShg</td>\n",
              "      <td>MetalSd</td>\n",
              "      <td>MetalSd</td>\n",
              "      <td>None</td>\n",
              "      <td>0.0</td>\n",
              "      <td>TA</td>\n",
              "      <td>TA</td>\n",
              "      <td>CBlock</td>\n",
              "      <td>Gd</td>\n",
              "      <td>TA</td>\n",
              "      <td>Gd</td>\n",
              "      <td>ALQ</td>\n",
              "      <td>978</td>\n",
              "      <td>Unf</td>\n",
              "      <td>0</td>\n",
              "      <td>284</td>\n",
              "      <td>1262</td>\n",
              "      <td>GasA</td>\n",
              "      <td>...</td>\n",
              "      <td>Y</td>\n",
              "      <td>SBrkr</td>\n",
              "      <td>1262</td>\n",
              "      <td>0</td>\n",
              "      <td>0</td>\n",
              "      <td>1262</td>\n",
              "      <td>0</td>\n",
              "      <td>1</td>\n",
              "      <td>2</td>\n",
              "      <td>0</td>\n",
              "      <td>3</td>\n",
              "      <td>1</td>\n",
              "      <td>TA</td>\n",
              "      <td>6</td>\n",
              "      <td>Typ</td>\n",
              "      <td>1</td>\n",
              "      <td>TA</td>\n",
              "      <td>Attchd</td>\n",
              "      <td>1976.0</td>\n",
              "      <td>RFn</td>\n",
              "      <td>2</td>\n",
              "      <td>460</td>\n",
              "      <td>TA</td>\n",
              "      <td>TA</td>\n",
              "      <td>Y</td>\n",
              "      <td>298</td>\n",
              "      <td>0</td>\n",
              "      <td>0</td>\n",
              "      <td>0</td>\n",
              "      <td>0</td>\n",
              "      <td>0</td>\n",
              "      <td>None</td>\n",
              "      <td>None</td>\n",
              "      <td>None</td>\n",
              "      <td>0</td>\n",
              "      <td>5</td>\n",
              "      <td>2007</td>\n",
              "      <td>WD</td>\n",
              "      <td>Normal</td>\n",
              "      <td>181500</td>\n",
              "    </tr>\n",
              "    <tr>\n",
              "      <th>2</th>\n",
              "      <td>3</td>\n",
              "      <td>60</td>\n",
              "      <td>RL</td>\n",
              "      <td>68.0</td>\n",
              "      <td>11250</td>\n",
              "      <td>Pave</td>\n",
              "      <td>None</td>\n",
              "      <td>IR1</td>\n",
              "      <td>Lvl</td>\n",
              "      <td>AllPub</td>\n",
              "      <td>Inside</td>\n",
              "      <td>Gtl</td>\n",
              "      <td>CollgCr</td>\n",
              "      <td>Norm</td>\n",
              "      <td>Norm</td>\n",
              "      <td>1Fam</td>\n",
              "      <td>2Story</td>\n",
              "      <td>7</td>\n",
              "      <td>5</td>\n",
              "      <td>2001</td>\n",
              "      <td>2002</td>\n",
              "      <td>Gable</td>\n",
              "      <td>CompShg</td>\n",
              "      <td>VinylSd</td>\n",
              "      <td>VinylSd</td>\n",
              "      <td>BrkFace</td>\n",
              "      <td>162.0</td>\n",
              "      <td>Gd</td>\n",
              "      <td>TA</td>\n",
              "      <td>PConc</td>\n",
              "      <td>Gd</td>\n",
              "      <td>TA</td>\n",
              "      <td>Mn</td>\n",
              "      <td>GLQ</td>\n",
              "      <td>486</td>\n",
              "      <td>Unf</td>\n",
              "      <td>0</td>\n",
              "      <td>434</td>\n",
              "      <td>920</td>\n",
              "      <td>GasA</td>\n",
              "      <td>...</td>\n",
              "      <td>Y</td>\n",
              "      <td>SBrkr</td>\n",
              "      <td>920</td>\n",
              "      <td>866</td>\n",
              "      <td>0</td>\n",
              "      <td>1786</td>\n",
              "      <td>1</td>\n",
              "      <td>0</td>\n",
              "      <td>2</td>\n",
              "      <td>1</td>\n",
              "      <td>3</td>\n",
              "      <td>1</td>\n",
              "      <td>Gd</td>\n",
              "      <td>6</td>\n",
              "      <td>Typ</td>\n",
              "      <td>1</td>\n",
              "      <td>TA</td>\n",
              "      <td>Attchd</td>\n",
              "      <td>2001.0</td>\n",
              "      <td>RFn</td>\n",
              "      <td>2</td>\n",
              "      <td>608</td>\n",
              "      <td>TA</td>\n",
              "      <td>TA</td>\n",
              "      <td>Y</td>\n",
              "      <td>0</td>\n",
              "      <td>42</td>\n",
              "      <td>0</td>\n",
              "      <td>0</td>\n",
              "      <td>0</td>\n",
              "      <td>0</td>\n",
              "      <td>None</td>\n",
              "      <td>None</td>\n",
              "      <td>None</td>\n",
              "      <td>0</td>\n",
              "      <td>9</td>\n",
              "      <td>2008</td>\n",
              "      <td>WD</td>\n",
              "      <td>Normal</td>\n",
              "      <td>223500</td>\n",
              "    </tr>\n",
              "    <tr>\n",
              "      <th>3</th>\n",
              "      <td>4</td>\n",
              "      <td>70</td>\n",
              "      <td>RL</td>\n",
              "      <td>60.0</td>\n",
              "      <td>9550</td>\n",
              "      <td>Pave</td>\n",
              "      <td>None</td>\n",
              "      <td>IR1</td>\n",
              "      <td>Lvl</td>\n",
              "      <td>AllPub</td>\n",
              "      <td>Corner</td>\n",
              "      <td>Gtl</td>\n",
              "      <td>Crawfor</td>\n",
              "      <td>Norm</td>\n",
              "      <td>Norm</td>\n",
              "      <td>1Fam</td>\n",
              "      <td>2Story</td>\n",
              "      <td>7</td>\n",
              "      <td>5</td>\n",
              "      <td>1915</td>\n",
              "      <td>1970</td>\n",
              "      <td>Gable</td>\n",
              "      <td>CompShg</td>\n",
              "      <td>Wd Sdng</td>\n",
              "      <td>Wd Shng</td>\n",
              "      <td>None</td>\n",
              "      <td>0.0</td>\n",
              "      <td>TA</td>\n",
              "      <td>TA</td>\n",
              "      <td>BrkTil</td>\n",
              "      <td>TA</td>\n",
              "      <td>Gd</td>\n",
              "      <td>No</td>\n",
              "      <td>ALQ</td>\n",
              "      <td>216</td>\n",
              "      <td>Unf</td>\n",
              "      <td>0</td>\n",
              "      <td>540</td>\n",
              "      <td>756</td>\n",
              "      <td>GasA</td>\n",
              "      <td>...</td>\n",
              "      <td>Y</td>\n",
              "      <td>SBrkr</td>\n",
              "      <td>961</td>\n",
              "      <td>756</td>\n",
              "      <td>0</td>\n",
              "      <td>1717</td>\n",
              "      <td>1</td>\n",
              "      <td>0</td>\n",
              "      <td>1</td>\n",
              "      <td>0</td>\n",
              "      <td>3</td>\n",
              "      <td>1</td>\n",
              "      <td>Gd</td>\n",
              "      <td>7</td>\n",
              "      <td>Typ</td>\n",
              "      <td>1</td>\n",
              "      <td>Gd</td>\n",
              "      <td>Detchd</td>\n",
              "      <td>1998.0</td>\n",
              "      <td>Unf</td>\n",
              "      <td>3</td>\n",
              "      <td>642</td>\n",
              "      <td>TA</td>\n",
              "      <td>TA</td>\n",
              "      <td>Y</td>\n",
              "      <td>0</td>\n",
              "      <td>35</td>\n",
              "      <td>272</td>\n",
              "      <td>0</td>\n",
              "      <td>0</td>\n",
              "      <td>0</td>\n",
              "      <td>None</td>\n",
              "      <td>None</td>\n",
              "      <td>None</td>\n",
              "      <td>0</td>\n",
              "      <td>2</td>\n",
              "      <td>2006</td>\n",
              "      <td>WD</td>\n",
              "      <td>Abnorml</td>\n",
              "      <td>140000</td>\n",
              "    </tr>\n",
              "    <tr>\n",
              "      <th>4</th>\n",
              "      <td>5</td>\n",
              "      <td>60</td>\n",
              "      <td>RL</td>\n",
              "      <td>84.0</td>\n",
              "      <td>14260</td>\n",
              "      <td>Pave</td>\n",
              "      <td>None</td>\n",
              "      <td>IR1</td>\n",
              "      <td>Lvl</td>\n",
              "      <td>AllPub</td>\n",
              "      <td>FR2</td>\n",
              "      <td>Gtl</td>\n",
              "      <td>NoRidge</td>\n",
              "      <td>Norm</td>\n",
              "      <td>Norm</td>\n",
              "      <td>1Fam</td>\n",
              "      <td>2Story</td>\n",
              "      <td>8</td>\n",
              "      <td>5</td>\n",
              "      <td>2000</td>\n",
              "      <td>2000</td>\n",
              "      <td>Gable</td>\n",
              "      <td>CompShg</td>\n",
              "      <td>VinylSd</td>\n",
              "      <td>VinylSd</td>\n",
              "      <td>BrkFace</td>\n",
              "      <td>350.0</td>\n",
              "      <td>Gd</td>\n",
              "      <td>TA</td>\n",
              "      <td>PConc</td>\n",
              "      <td>Gd</td>\n",
              "      <td>TA</td>\n",
              "      <td>Av</td>\n",
              "      <td>GLQ</td>\n",
              "      <td>655</td>\n",
              "      <td>Unf</td>\n",
              "      <td>0</td>\n",
              "      <td>490</td>\n",
              "      <td>1145</td>\n",
              "      <td>GasA</td>\n",
              "      <td>...</td>\n",
              "      <td>Y</td>\n",
              "      <td>SBrkr</td>\n",
              "      <td>1145</td>\n",
              "      <td>1053</td>\n",
              "      <td>0</td>\n",
              "      <td>2198</td>\n",
              "      <td>1</td>\n",
              "      <td>0</td>\n",
              "      <td>2</td>\n",
              "      <td>1</td>\n",
              "      <td>4</td>\n",
              "      <td>1</td>\n",
              "      <td>Gd</td>\n",
              "      <td>9</td>\n",
              "      <td>Typ</td>\n",
              "      <td>1</td>\n",
              "      <td>TA</td>\n",
              "      <td>Attchd</td>\n",
              "      <td>2000.0</td>\n",
              "      <td>RFn</td>\n",
              "      <td>3</td>\n",
              "      <td>836</td>\n",
              "      <td>TA</td>\n",
              "      <td>TA</td>\n",
              "      <td>Y</td>\n",
              "      <td>192</td>\n",
              "      <td>84</td>\n",
              "      <td>0</td>\n",
              "      <td>0</td>\n",
              "      <td>0</td>\n",
              "      <td>0</td>\n",
              "      <td>None</td>\n",
              "      <td>None</td>\n",
              "      <td>None</td>\n",
              "      <td>0</td>\n",
              "      <td>12</td>\n",
              "      <td>2008</td>\n",
              "      <td>WD</td>\n",
              "      <td>Normal</td>\n",
              "      <td>250000</td>\n",
              "    </tr>\n",
              "  </tbody>\n",
              "</table>\n",
              "<p>5 rows × 81 columns</p>\n",
              "</div>"
            ],
            "text/plain": [
              "   id  mssubclass mszoning  ...  saletype  salecondition saleprice\n",
              "0   1          60       RL  ...        WD         Normal    208500\n",
              "1   2          20       RL  ...        WD         Normal    181500\n",
              "2   3          60       RL  ...        WD         Normal    223500\n",
              "3   4          70       RL  ...        WD        Abnorml    140000\n",
              "4   5          60       RL  ...        WD         Normal    250000\n",
              "\n",
              "[5 rows x 81 columns]"
            ]
          },
          "metadata": {
            "tags": []
          },
          "execution_count": 6
        }
      ]
    },
    {
      "cell_type": "code",
      "metadata": {
        "id": "net1LzuiUXsP",
        "colab_type": "code",
        "outputId": "2a0fefc6-b035-41ba-abef-c8da5c096c89",
        "colab": {
          "base_uri": "https://localhost:8080/",
          "height": 304
        }
      },
      "source": [
        "hp.describe()"
      ],
      "execution_count": 7,
      "outputs": [
        {
          "output_type": "execute_result",
          "data": {
            "text/html": [
              "<div>\n",
              "<style scoped>\n",
              "    .dataframe tbody tr th:only-of-type {\n",
              "        vertical-align: middle;\n",
              "    }\n",
              "\n",
              "    .dataframe tbody tr th {\n",
              "        vertical-align: top;\n",
              "    }\n",
              "\n",
              "    .dataframe thead th {\n",
              "        text-align: right;\n",
              "    }\n",
              "</style>\n",
              "<table border=\"1\" class=\"dataframe\">\n",
              "  <thead>\n",
              "    <tr style=\"text-align: right;\">\n",
              "      <th></th>\n",
              "      <th>id</th>\n",
              "      <th>mssubclass</th>\n",
              "      <th>lotfrontage</th>\n",
              "      <th>lotarea</th>\n",
              "      <th>overallqual</th>\n",
              "      <th>overallcond</th>\n",
              "      <th>yearbuilt</th>\n",
              "      <th>yearremodadd</th>\n",
              "      <th>masvnrarea</th>\n",
              "      <th>bsmtfinsf1</th>\n",
              "      <th>bsmtfinsf2</th>\n",
              "      <th>bsmtunfsf</th>\n",
              "      <th>totalbsmtsf</th>\n",
              "      <th>firstflrsf</th>\n",
              "      <th>secondflrsf</th>\n",
              "      <th>lowqualfinsf</th>\n",
              "      <th>grlivarea</th>\n",
              "      <th>bsmtfullbath</th>\n",
              "      <th>bsmthalfbath</th>\n",
              "      <th>fullbath</th>\n",
              "      <th>halfbath</th>\n",
              "      <th>bedroomabvgr</th>\n",
              "      <th>kitchenabvgr</th>\n",
              "      <th>totrmsabvgrd</th>\n",
              "      <th>fireplaces</th>\n",
              "      <th>garageyrblt</th>\n",
              "      <th>garagecars</th>\n",
              "      <th>garagearea</th>\n",
              "      <th>wooddecksf</th>\n",
              "      <th>openporchsf</th>\n",
              "      <th>enclosedporch</th>\n",
              "      <th>threessnporch</th>\n",
              "      <th>screenporch</th>\n",
              "      <th>poolarea</th>\n",
              "      <th>miscval</th>\n",
              "      <th>mosold</th>\n",
              "      <th>yrsold</th>\n",
              "      <th>saleprice</th>\n",
              "    </tr>\n",
              "  </thead>\n",
              "  <tbody>\n",
              "    <tr>\n",
              "      <th>count</th>\n",
              "      <td>1460.000000</td>\n",
              "      <td>1460.000000</td>\n",
              "      <td>1201.000000</td>\n",
              "      <td>1460.000000</td>\n",
              "      <td>1460.000000</td>\n",
              "      <td>1460.000000</td>\n",
              "      <td>1460.000000</td>\n",
              "      <td>1460.000000</td>\n",
              "      <td>1452.000000</td>\n",
              "      <td>1460.000000</td>\n",
              "      <td>1460.000000</td>\n",
              "      <td>1460.000000</td>\n",
              "      <td>1460.000000</td>\n",
              "      <td>1460.000000</td>\n",
              "      <td>1460.000000</td>\n",
              "      <td>1460.000000</td>\n",
              "      <td>1460.000000</td>\n",
              "      <td>1460.000000</td>\n",
              "      <td>1460.000000</td>\n",
              "      <td>1460.000000</td>\n",
              "      <td>1460.000000</td>\n",
              "      <td>1460.000000</td>\n",
              "      <td>1460.000000</td>\n",
              "      <td>1460.000000</td>\n",
              "      <td>1460.000000</td>\n",
              "      <td>1379.000000</td>\n",
              "      <td>1460.000000</td>\n",
              "      <td>1460.000000</td>\n",
              "      <td>1460.000000</td>\n",
              "      <td>1460.000000</td>\n",
              "      <td>1460.000000</td>\n",
              "      <td>1460.000000</td>\n",
              "      <td>1460.000000</td>\n",
              "      <td>1460.000000</td>\n",
              "      <td>1460.000000</td>\n",
              "      <td>1460.000000</td>\n",
              "      <td>1460.000000</td>\n",
              "      <td>1460.000000</td>\n",
              "    </tr>\n",
              "    <tr>\n",
              "      <th>mean</th>\n",
              "      <td>730.500000</td>\n",
              "      <td>56.897260</td>\n",
              "      <td>70.049958</td>\n",
              "      <td>10516.828082</td>\n",
              "      <td>6.099315</td>\n",
              "      <td>5.575342</td>\n",
              "      <td>1971.267808</td>\n",
              "      <td>1984.865753</td>\n",
              "      <td>103.685262</td>\n",
              "      <td>443.639726</td>\n",
              "      <td>46.549315</td>\n",
              "      <td>567.240411</td>\n",
              "      <td>1057.429452</td>\n",
              "      <td>1162.626712</td>\n",
              "      <td>346.992466</td>\n",
              "      <td>5.844521</td>\n",
              "      <td>1515.463699</td>\n",
              "      <td>0.425342</td>\n",
              "      <td>0.057534</td>\n",
              "      <td>1.565068</td>\n",
              "      <td>0.382877</td>\n",
              "      <td>2.866438</td>\n",
              "      <td>1.046575</td>\n",
              "      <td>6.517808</td>\n",
              "      <td>0.613014</td>\n",
              "      <td>1978.506164</td>\n",
              "      <td>1.767123</td>\n",
              "      <td>472.980137</td>\n",
              "      <td>94.244521</td>\n",
              "      <td>46.660274</td>\n",
              "      <td>21.954110</td>\n",
              "      <td>3.409589</td>\n",
              "      <td>15.060959</td>\n",
              "      <td>2.758904</td>\n",
              "      <td>43.489041</td>\n",
              "      <td>6.321918</td>\n",
              "      <td>2007.815753</td>\n",
              "      <td>180921.195890</td>\n",
              "    </tr>\n",
              "    <tr>\n",
              "      <th>std</th>\n",
              "      <td>421.610009</td>\n",
              "      <td>42.300571</td>\n",
              "      <td>24.284752</td>\n",
              "      <td>9981.264932</td>\n",
              "      <td>1.382997</td>\n",
              "      <td>1.112799</td>\n",
              "      <td>30.202904</td>\n",
              "      <td>20.645407</td>\n",
              "      <td>181.066207</td>\n",
              "      <td>456.098091</td>\n",
              "      <td>161.319273</td>\n",
              "      <td>441.866955</td>\n",
              "      <td>438.705324</td>\n",
              "      <td>386.587738</td>\n",
              "      <td>436.528436</td>\n",
              "      <td>48.623081</td>\n",
              "      <td>525.480383</td>\n",
              "      <td>0.518911</td>\n",
              "      <td>0.238753</td>\n",
              "      <td>0.550916</td>\n",
              "      <td>0.502885</td>\n",
              "      <td>0.815778</td>\n",
              "      <td>0.220338</td>\n",
              "      <td>1.625393</td>\n",
              "      <td>0.644666</td>\n",
              "      <td>24.689725</td>\n",
              "      <td>0.747315</td>\n",
              "      <td>213.804841</td>\n",
              "      <td>125.338794</td>\n",
              "      <td>66.256028</td>\n",
              "      <td>61.119149</td>\n",
              "      <td>29.317331</td>\n",
              "      <td>55.757415</td>\n",
              "      <td>40.177307</td>\n",
              "      <td>496.123024</td>\n",
              "      <td>2.703626</td>\n",
              "      <td>1.328095</td>\n",
              "      <td>79442.502883</td>\n",
              "    </tr>\n",
              "    <tr>\n",
              "      <th>min</th>\n",
              "      <td>1.000000</td>\n",
              "      <td>20.000000</td>\n",
              "      <td>21.000000</td>\n",
              "      <td>1300.000000</td>\n",
              "      <td>1.000000</td>\n",
              "      <td>1.000000</td>\n",
              "      <td>1872.000000</td>\n",
              "      <td>1950.000000</td>\n",
              "      <td>0.000000</td>\n",
              "      <td>0.000000</td>\n",
              "      <td>0.000000</td>\n",
              "      <td>0.000000</td>\n",
              "      <td>0.000000</td>\n",
              "      <td>334.000000</td>\n",
              "      <td>0.000000</td>\n",
              "      <td>0.000000</td>\n",
              "      <td>334.000000</td>\n",
              "      <td>0.000000</td>\n",
              "      <td>0.000000</td>\n",
              "      <td>0.000000</td>\n",
              "      <td>0.000000</td>\n",
              "      <td>0.000000</td>\n",
              "      <td>0.000000</td>\n",
              "      <td>2.000000</td>\n",
              "      <td>0.000000</td>\n",
              "      <td>1900.000000</td>\n",
              "      <td>0.000000</td>\n",
              "      <td>0.000000</td>\n",
              "      <td>0.000000</td>\n",
              "      <td>0.000000</td>\n",
              "      <td>0.000000</td>\n",
              "      <td>0.000000</td>\n",
              "      <td>0.000000</td>\n",
              "      <td>0.000000</td>\n",
              "      <td>0.000000</td>\n",
              "      <td>1.000000</td>\n",
              "      <td>2006.000000</td>\n",
              "      <td>34900.000000</td>\n",
              "    </tr>\n",
              "    <tr>\n",
              "      <th>25%</th>\n",
              "      <td>365.750000</td>\n",
              "      <td>20.000000</td>\n",
              "      <td>59.000000</td>\n",
              "      <td>7553.500000</td>\n",
              "      <td>5.000000</td>\n",
              "      <td>5.000000</td>\n",
              "      <td>1954.000000</td>\n",
              "      <td>1967.000000</td>\n",
              "      <td>0.000000</td>\n",
              "      <td>0.000000</td>\n",
              "      <td>0.000000</td>\n",
              "      <td>223.000000</td>\n",
              "      <td>795.750000</td>\n",
              "      <td>882.000000</td>\n",
              "      <td>0.000000</td>\n",
              "      <td>0.000000</td>\n",
              "      <td>1129.500000</td>\n",
              "      <td>0.000000</td>\n",
              "      <td>0.000000</td>\n",
              "      <td>1.000000</td>\n",
              "      <td>0.000000</td>\n",
              "      <td>2.000000</td>\n",
              "      <td>1.000000</td>\n",
              "      <td>5.000000</td>\n",
              "      <td>0.000000</td>\n",
              "      <td>1961.000000</td>\n",
              "      <td>1.000000</td>\n",
              "      <td>334.500000</td>\n",
              "      <td>0.000000</td>\n",
              "      <td>0.000000</td>\n",
              "      <td>0.000000</td>\n",
              "      <td>0.000000</td>\n",
              "      <td>0.000000</td>\n",
              "      <td>0.000000</td>\n",
              "      <td>0.000000</td>\n",
              "      <td>5.000000</td>\n",
              "      <td>2007.000000</td>\n",
              "      <td>129975.000000</td>\n",
              "    </tr>\n",
              "    <tr>\n",
              "      <th>50%</th>\n",
              "      <td>730.500000</td>\n",
              "      <td>50.000000</td>\n",
              "      <td>69.000000</td>\n",
              "      <td>9478.500000</td>\n",
              "      <td>6.000000</td>\n",
              "      <td>5.000000</td>\n",
              "      <td>1973.000000</td>\n",
              "      <td>1994.000000</td>\n",
              "      <td>0.000000</td>\n",
              "      <td>383.500000</td>\n",
              "      <td>0.000000</td>\n",
              "      <td>477.500000</td>\n",
              "      <td>991.500000</td>\n",
              "      <td>1087.000000</td>\n",
              "      <td>0.000000</td>\n",
              "      <td>0.000000</td>\n",
              "      <td>1464.000000</td>\n",
              "      <td>0.000000</td>\n",
              "      <td>0.000000</td>\n",
              "      <td>2.000000</td>\n",
              "      <td>0.000000</td>\n",
              "      <td>3.000000</td>\n",
              "      <td>1.000000</td>\n",
              "      <td>6.000000</td>\n",
              "      <td>1.000000</td>\n",
              "      <td>1980.000000</td>\n",
              "      <td>2.000000</td>\n",
              "      <td>480.000000</td>\n",
              "      <td>0.000000</td>\n",
              "      <td>25.000000</td>\n",
              "      <td>0.000000</td>\n",
              "      <td>0.000000</td>\n",
              "      <td>0.000000</td>\n",
              "      <td>0.000000</td>\n",
              "      <td>0.000000</td>\n",
              "      <td>6.000000</td>\n",
              "      <td>2008.000000</td>\n",
              "      <td>163000.000000</td>\n",
              "    </tr>\n",
              "    <tr>\n",
              "      <th>75%</th>\n",
              "      <td>1095.250000</td>\n",
              "      <td>70.000000</td>\n",
              "      <td>80.000000</td>\n",
              "      <td>11601.500000</td>\n",
              "      <td>7.000000</td>\n",
              "      <td>6.000000</td>\n",
              "      <td>2000.000000</td>\n",
              "      <td>2004.000000</td>\n",
              "      <td>166.000000</td>\n",
              "      <td>712.250000</td>\n",
              "      <td>0.000000</td>\n",
              "      <td>808.000000</td>\n",
              "      <td>1298.250000</td>\n",
              "      <td>1391.250000</td>\n",
              "      <td>728.000000</td>\n",
              "      <td>0.000000</td>\n",
              "      <td>1776.750000</td>\n",
              "      <td>1.000000</td>\n",
              "      <td>0.000000</td>\n",
              "      <td>2.000000</td>\n",
              "      <td>1.000000</td>\n",
              "      <td>3.000000</td>\n",
              "      <td>1.000000</td>\n",
              "      <td>7.000000</td>\n",
              "      <td>1.000000</td>\n",
              "      <td>2002.000000</td>\n",
              "      <td>2.000000</td>\n",
              "      <td>576.000000</td>\n",
              "      <td>168.000000</td>\n",
              "      <td>68.000000</td>\n",
              "      <td>0.000000</td>\n",
              "      <td>0.000000</td>\n",
              "      <td>0.000000</td>\n",
              "      <td>0.000000</td>\n",
              "      <td>0.000000</td>\n",
              "      <td>8.000000</td>\n",
              "      <td>2009.000000</td>\n",
              "      <td>214000.000000</td>\n",
              "    </tr>\n",
              "    <tr>\n",
              "      <th>max</th>\n",
              "      <td>1460.000000</td>\n",
              "      <td>190.000000</td>\n",
              "      <td>313.000000</td>\n",
              "      <td>215245.000000</td>\n",
              "      <td>10.000000</td>\n",
              "      <td>9.000000</td>\n",
              "      <td>2010.000000</td>\n",
              "      <td>2010.000000</td>\n",
              "      <td>1600.000000</td>\n",
              "      <td>5644.000000</td>\n",
              "      <td>1474.000000</td>\n",
              "      <td>2336.000000</td>\n",
              "      <td>6110.000000</td>\n",
              "      <td>4692.000000</td>\n",
              "      <td>2065.000000</td>\n",
              "      <td>572.000000</td>\n",
              "      <td>5642.000000</td>\n",
              "      <td>3.000000</td>\n",
              "      <td>2.000000</td>\n",
              "      <td>3.000000</td>\n",
              "      <td>2.000000</td>\n",
              "      <td>8.000000</td>\n",
              "      <td>3.000000</td>\n",
              "      <td>14.000000</td>\n",
              "      <td>3.000000</td>\n",
              "      <td>2010.000000</td>\n",
              "      <td>4.000000</td>\n",
              "      <td>1418.000000</td>\n",
              "      <td>857.000000</td>\n",
              "      <td>547.000000</td>\n",
              "      <td>552.000000</td>\n",
              "      <td>508.000000</td>\n",
              "      <td>480.000000</td>\n",
              "      <td>738.000000</td>\n",
              "      <td>15500.000000</td>\n",
              "      <td>12.000000</td>\n",
              "      <td>2010.000000</td>\n",
              "      <td>755000.000000</td>\n",
              "    </tr>\n",
              "  </tbody>\n",
              "</table>\n",
              "</div>"
            ],
            "text/plain": [
              "                id   mssubclass  ...       yrsold      saleprice\n",
              "count  1460.000000  1460.000000  ...  1460.000000    1460.000000\n",
              "mean    730.500000    56.897260  ...  2007.815753  180921.195890\n",
              "std     421.610009    42.300571  ...     1.328095   79442.502883\n",
              "min       1.000000    20.000000  ...  2006.000000   34900.000000\n",
              "25%     365.750000    20.000000  ...  2007.000000  129975.000000\n",
              "50%     730.500000    50.000000  ...  2008.000000  163000.000000\n",
              "75%    1095.250000    70.000000  ...  2009.000000  214000.000000\n",
              "max    1460.000000   190.000000  ...  2010.000000  755000.000000\n",
              "\n",
              "[8 rows x 38 columns]"
            ]
          },
          "metadata": {
            "tags": []
          },
          "execution_count": 7
        }
      ]
    },
    {
      "cell_type": "code",
      "metadata": {
        "id": "5zPON3NCK4--",
        "colab_type": "code",
        "outputId": "37d2e7f5-c6ad-4a61-92ea-0af978e5d889",
        "colab": {
          "base_uri": "https://localhost:8080/",
          "height": 295
        }
      },
      "source": [
        "plt.rcParams[\"figure.figsize\"] = [6,4]\n",
        "plt.hist(hp.saleprice)\n",
        "plt.title(\"The distribution of salesprices\")\n",
        "plt.xlabel(\"price\")\n",
        "plt.ylabel(\"number of occurrence\")\n",
        "plt.show()"
      ],
      "execution_count": 8,
      "outputs": [
        {
          "output_type": "display_data",
          "data": {
            "image/png": "[encoded data removed]",
            "text/plain": [
              "<Figure size 432x288 with 1 Axes>"
            ]
          },
          "metadata": {
            "tags": []
          }
        }
      ]
    },
    {
      "cell_type": "code",
      "metadata": {
        "id": "1hx4ipkPbmpE",
        "colab_type": "code",
        "outputId": "3303dafb-9eae-449b-b448-924ddee6f030",
        "colab": {
          "base_uri": "https://localhost:8080/",
          "height": 296
        }
      },
      "source": [
        "plt.rcParams[\"figure.figsize\"] = [6,4]\n",
        "\n",
        "sns.distplot(hp.saleprice)"
      ],
      "execution_count": 9,
      "outputs": [
        {
          "output_type": "execute_result",
          "data": {
            "text/plain": [
              "<matplotlib.axes._subplots.AxesSubplot at 0x7f930263d6a0>"
            ]
          },
          "metadata": {
            "tags": []
          },
          "execution_count": 9
        },
        {
          "output_type": "display_data",
          "data": {
            "image/png": "[encoded data removed]",
            "text/plain": [
              "<Figure size 432x288 with 1 Axes>"
            ]
          },
          "metadata": {
            "tags": []
          }
        }
      ]
    },
    {
      "cell_type": "code",
      "metadata": {
        "id": "vy4P0s7U-_KP",
        "colab_type": "code",
        "colab": {}
      },
      "source": [
        "pd.set_option('display.max_rows',None)"
      ],
      "execution_count": 0,
      "outputs": []
    },
    {
      "cell_type": "markdown",
      "metadata": {
        "id": "OwJWVCOJVQRz",
        "colab_type": "text"
      },
      "source": [
        "**FIND COLUMNS THAT HAVE  NULLS**"
      ]
    },
    {
      "cell_type": "markdown",
      "metadata": {
        "id": "N6Jr0zUTASE7",
        "colab_type": "text"
      },
      "source": [
        "**Percentage null**"
      ]
    },
    {
      "cell_type": "code",
      "metadata": {
        "id": "CAFHyrtpov6J",
        "colab_type": "code",
        "outputId": "56118deb-d147-471e-f250-09e518119843",
        "colab": {
          "base_uri": "https://localhost:8080/",
          "height": 1000
        }
      },
      "source": [
        "hp.isna().mean()*100"
      ],
      "execution_count": 11,
      "outputs": [
        {
          "output_type": "execute_result",
          "data": {
            "text/plain": [
              "id                0.000000\n",
              "mssubclass        0.000000\n",
              "mszoning          0.000000\n",
              "lotfrontage      17.739726\n",
              "lotarea           0.000000\n",
              "street            0.000000\n",
              "alley            93.767123\n",
              "lotshape          0.000000\n",
              "landcontour       0.000000\n",
              "utilities         0.000000\n",
              "lotconfig         0.000000\n",
              "landslope         0.000000\n",
              "neighborhood      0.000000\n",
              "condition1        0.000000\n",
              "condition2        0.000000\n",
              "bldgtype          0.000000\n",
              "housestyle        0.000000\n",
              "overallqual       0.000000\n",
              "overallcond       0.000000\n",
              "yearbuilt         0.000000\n",
              "yearremodadd      0.000000\n",
              "roofstyle         0.000000\n",
              "roofmatl          0.000000\n",
              "exterior1st       0.000000\n",
              "exterior2nd       0.000000\n",
              "masvnrtype        0.547945\n",
              "masvnrarea        0.547945\n",
              "exterqual         0.000000\n",
              "extercond         0.000000\n",
              "foundation        0.000000\n",
              "bsmtqual          2.534247\n",
              "bsmtcond          2.534247\n",
              "bsmtexposure      2.602740\n",
              "bsmtfintype1      2.534247\n",
              "bsmtfinsf1        0.000000\n",
              "bsmtfintype2      2.602740\n",
              "bsmtfinsf2        0.000000\n",
              "bsmtunfsf         0.000000\n",
              "totalbsmtsf       0.000000\n",
              "heating           0.000000\n",
              "heatingqc         0.000000\n",
              "centralair        0.000000\n",
              "electrical        0.068493\n",
              "firstflrsf        0.000000\n",
              "secondflrsf       0.000000\n",
              "lowqualfinsf      0.000000\n",
              "grlivarea         0.000000\n",
              "bsmtfullbath      0.000000\n",
              "bsmthalfbath      0.000000\n",
              "fullbath          0.000000\n",
              "halfbath          0.000000\n",
              "bedroomabvgr      0.000000\n",
              "kitchenabvgr      0.000000\n",
              "kitchenqual       0.000000\n",
              "totrmsabvgrd      0.000000\n",
              "functional        0.000000\n",
              "fireplaces        0.000000\n",
              "fireplacequ      47.260274\n",
              "garagetype        5.547945\n",
              "garageyrblt       5.547945\n",
              "garagefinish      5.547945\n",
              "garagecars        0.000000\n",
              "garagearea        0.000000\n",
              "garagequal        5.547945\n",
              "garagecond        5.547945\n",
              "paveddrive        0.000000\n",
              "wooddecksf        0.000000\n",
              "openporchsf       0.000000\n",
              "enclosedporch     0.000000\n",
              "threessnporch     0.000000\n",
              "screenporch       0.000000\n",
              "poolarea          0.000000\n",
              "poolqc           99.520548\n",
              "fence            80.753425\n",
              "miscfeature      96.301370\n",
              "miscval           0.000000\n",
              "mosold            0.000000\n",
              "yrsold            0.000000\n",
              "saletype          0.000000\n",
              "salecondition     0.000000\n",
              "saleprice         0.000000\n",
              "dtype: float64"
            ]
          },
          "metadata": {
            "tags": []
          },
          "execution_count": 11
        }
      ]
    },
    {
      "cell_type": "markdown",
      "metadata": {
        "id": "LcBXxpLxWwIp",
        "colab_type": "text"
      },
      "source": [
        "**Dropping  coulumns alley,poolqc,fence,miscfeature-- too many missing values**\n",
        "\n"
      ]
    },
    {
      "cell_type": "code",
      "metadata": {
        "id": "na_JQDyypTVg",
        "colab_type": "code",
        "colab": {}
      },
      "source": [
        "hp.drop(['alley','poolqc','fence','miscfeature','fireplacequ'],axis=1,inplace=True)"
      ],
      "execution_count": 0,
      "outputs": []
    },
    {
      "cell_type": "code",
      "metadata": {
        "id": "76xeVAdRNpu7",
        "colab_type": "code",
        "outputId": "33acb080-1ed6-4026-fd13-51e2c5778dd6",
        "colab": {
          "base_uri": "https://localhost:8080/",
          "height": 34
        }
      },
      "source": [
        "n=[col for col in list(hp) if hp[col].dtype!=object]\n",
        "len(n)"
      ],
      "execution_count": 13,
      "outputs": [
        {
          "output_type": "execute_result",
          "data": {
            "text/plain": [
              "38"
            ]
          },
          "metadata": {
            "tags": []
          },
          "execution_count": 13
        }
      ]
    },
    {
      "cell_type": "markdown",
      "metadata": {
        "id": "Rs37wwXubpVg",
        "colab_type": "text"
      },
      "source": [
        "**HISTOGRAM OF NUMERICAL FEATURES** "
      ]
    },
    {
      "cell_type": "code",
      "metadata": {
        "id": "2BVeypfGaQNW",
        "colab_type": "code",
        "outputId": "e884cc29-b6ef-43fc-c5b3-b44c95ccfb07",
        "colab": {
          "base_uri": "https://localhost:8080/",
          "height": 657
        }
      },
      "source": [
        "plt.rcParams[\"figure.figsize\"] = [12,9]\n",
        "hp.hist()\n",
        "plt.tight_layout()"
      ],
      "execution_count": 0,
      "outputs": [
        {
          "output_type": "display_data",
          "data": {
            "image/png": "[encoded data removed]",
            "text/plain": [
              "<Figure size 864x648 with 42 Axes>"
            ]
          },
          "metadata": {
            "tags": []
          }
        }
      ]
    },
    {
      "cell_type": "markdown",
      "metadata": {
        "id": "L4HVhUUPch2w",
        "colab_type": "text"
      },
      "source": [
        "**SEVERAL OF THESE WILL HAVE TO GO STARTING WITH id**\n",
        "\n",
        "**WILL DETREMINE REST WITH CORRELATION MATRIX**"
      ]
    },
    {
      "cell_type": "markdown",
      "metadata": {
        "id": "6vh6JsnYKY24",
        "colab_type": "text"
      },
      "source": [
        "**DROP ID AND YRSOLD MOSOLD**"
      ]
    },
    {
      "cell_type": "code",
      "metadata": {
        "id": "997TaHfoc6Xs",
        "colab_type": "code",
        "colab": {}
      },
      "source": [
        "hp.drop(['id','yrsold','mosold'],axis=1,inplace=True)  #drop id"
      ],
      "execution_count": 0,
      "outputs": []
    },
    {
      "cell_type": "code",
      "metadata": {
        "id": "G95WtBbg3asG",
        "colab_type": "code",
        "outputId": "80355a1d-0bb8-4cb3-eb6b-20ea4401b20e",
        "colab": {
          "base_uri": "https://localhost:8080/",
          "height": 1000
        }
      },
      "source": [
        "hp.isnull().sum()"
      ],
      "execution_count": 15,
      "outputs": [
        {
          "output_type": "execute_result",
          "data": {
            "text/plain": [
              "mssubclass         0\n",
              "mszoning           0\n",
              "lotfrontage      259\n",
              "lotarea            0\n",
              "street             0\n",
              "lotshape           0\n",
              "landcontour        0\n",
              "utilities          0\n",
              "lotconfig          0\n",
              "landslope          0\n",
              "neighborhood       0\n",
              "condition1         0\n",
              "condition2         0\n",
              "bldgtype           0\n",
              "housestyle         0\n",
              "overallqual        0\n",
              "overallcond        0\n",
              "yearbuilt          0\n",
              "yearremodadd       0\n",
              "roofstyle          0\n",
              "roofmatl           0\n",
              "exterior1st        0\n",
              "exterior2nd        0\n",
              "masvnrtype         8\n",
              "masvnrarea         8\n",
              "exterqual          0\n",
              "extercond          0\n",
              "foundation         0\n",
              "bsmtqual          37\n",
              "bsmtcond          37\n",
              "bsmtexposure      38\n",
              "bsmtfintype1      37\n",
              "bsmtfinsf1         0\n",
              "bsmtfintype2      38\n",
              "bsmtfinsf2         0\n",
              "bsmtunfsf          0\n",
              "totalbsmtsf        0\n",
              "heating            0\n",
              "heatingqc          0\n",
              "centralair         0\n",
              "electrical         1\n",
              "firstflrsf         0\n",
              "secondflrsf        0\n",
              "lowqualfinsf       0\n",
              "grlivarea          0\n",
              "bsmtfullbath       0\n",
              "bsmthalfbath       0\n",
              "fullbath           0\n",
              "halfbath           0\n",
              "bedroomabvgr       0\n",
              "kitchenabvgr       0\n",
              "kitchenqual        0\n",
              "totrmsabvgrd       0\n",
              "functional         0\n",
              "fireplaces         0\n",
              "garagetype        81\n",
              "garageyrblt       81\n",
              "garagefinish      81\n",
              "garagecars         0\n",
              "garagearea         0\n",
              "garagequal        81\n",
              "garagecond        81\n",
              "paveddrive         0\n",
              "wooddecksf         0\n",
              "openporchsf        0\n",
              "enclosedporch      0\n",
              "threessnporch      0\n",
              "screenporch        0\n",
              "poolarea           0\n",
              "miscval            0\n",
              "saletype           0\n",
              "salecondition      0\n",
              "saleprice          0\n",
              "dtype: int64"
            ]
          },
          "metadata": {
            "tags": []
          },
          "execution_count": 15
        }
      ]
    },
    {
      "cell_type": "markdown",
      "metadata": {
        "id": "csFOCXRWh00n",
        "colab_type": "text"
      },
      "source": [
        "**CHECK FOR COULUMNS WITH  OVER 1,000 ZEROES**"
      ]
    },
    {
      "cell_type": "code",
      "metadata": {
        "id": "x_OGJJT2E1kQ",
        "colab_type": "code",
        "outputId": "48ec67f5-d1d6-4df2-ba7e-1e391270c0b5",
        "colab": {
          "base_uri": "https://localhost:8080/",
          "height": 151
        }
      },
      "source": [
        "for col in list(hp):\n",
        "  z=(hp[col]==0).sum()\n",
        "  if z>1000: print (col,\"  \",z)\n",
        "  #if (hp[col]==0).sum()>0: print(col)"
      ],
      "execution_count": 16,
      "outputs": [
        {
          "output_type": "stream",
          "text": [
            "bsmtfinsf2    1293\n",
            "lowqualfinsf    1434\n",
            "bsmthalfbath    1378\n",
            "enclosedporch    1252\n",
            "threessnporch    1436\n",
            "screenporch    1344\n",
            "poolarea    1453\n",
            "miscval    1408\n"
          ],
          "name": "stdout"
        }
      ]
    },
    {
      "cell_type": "markdown",
      "metadata": {
        "id": "bbZ8qW3kj-E5",
        "colab_type": "text"
      },
      "source": [
        "**DROP -- TOO MANY ZEROS**\n",
        "\n"
      ]
    },
    {
      "cell_type": "code",
      "metadata": {
        "colab_type": "code",
        "id": "9SOBn7XakGxi",
        "colab": {}
      },
      "source": [
        "hp.drop(columns=['bsmtfinsf2','screenporch','poolarea','threessnporch','lowqualfinsf','enclosedporch',\"bsmthalfbath\",\"poolarea\",'miscval'],inplace=True)"
      ],
      "execution_count": 0,
      "outputs": []
    },
    {
      "cell_type": "code",
      "metadata": {
        "id": "NYhuid6RiVov",
        "colab_type": "code",
        "outputId": "bbfc925e-739e-45d2-c50f-474ebf84f2d8",
        "colab": {
          "base_uri": "https://localhost:8080/",
          "height": 126
        }
      },
      "source": [
        "hp.head(2)"
      ],
      "execution_count": 18,
      "outputs": [
        {
          "output_type": "execute_result",
          "data": {
            "text/html": [
              "<div>\n",
              "<style scoped>\n",
              "    .dataframe tbody tr th:only-of-type {\n",
              "        vertical-align: middle;\n",
              "    }\n",
              "\n",
              "    .dataframe tbody tr th {\n",
              "        vertical-align: top;\n",
              "    }\n",
              "\n",
              "    .dataframe thead th {\n",
              "        text-align: right;\n",
              "    }\n",
              "</style>\n",
              "<table border=\"1\" class=\"dataframe\">\n",
              "  <thead>\n",
              "    <tr style=\"text-align: right;\">\n",
              "      <th></th>\n",
              "      <th>mssubclass</th>\n",
              "      <th>mszoning</th>\n",
              "      <th>lotfrontage</th>\n",
              "      <th>lotarea</th>\n",
              "      <th>street</th>\n",
              "      <th>lotshape</th>\n",
              "      <th>landcontour</th>\n",
              "      <th>utilities</th>\n",
              "      <th>lotconfig</th>\n",
              "      <th>landslope</th>\n",
              "      <th>neighborhood</th>\n",
              "      <th>condition1</th>\n",
              "      <th>condition2</th>\n",
              "      <th>bldgtype</th>\n",
              "      <th>housestyle</th>\n",
              "      <th>overallqual</th>\n",
              "      <th>overallcond</th>\n",
              "      <th>yearbuilt</th>\n",
              "      <th>yearremodadd</th>\n",
              "      <th>roofstyle</th>\n",
              "      <th>roofmatl</th>\n",
              "      <th>exterior1st</th>\n",
              "      <th>exterior2nd</th>\n",
              "      <th>masvnrtype</th>\n",
              "      <th>masvnrarea</th>\n",
              "      <th>exterqual</th>\n",
              "      <th>extercond</th>\n",
              "      <th>foundation</th>\n",
              "      <th>bsmtqual</th>\n",
              "      <th>bsmtcond</th>\n",
              "      <th>bsmtexposure</th>\n",
              "      <th>bsmtfintype1</th>\n",
              "      <th>bsmtfinsf1</th>\n",
              "      <th>bsmtfintype2</th>\n",
              "      <th>bsmtunfsf</th>\n",
              "      <th>totalbsmtsf</th>\n",
              "      <th>heating</th>\n",
              "      <th>heatingqc</th>\n",
              "      <th>centralair</th>\n",
              "      <th>electrical</th>\n",
              "      <th>firstflrsf</th>\n",
              "      <th>secondflrsf</th>\n",
              "      <th>grlivarea</th>\n",
              "      <th>bsmtfullbath</th>\n",
              "      <th>fullbath</th>\n",
              "      <th>halfbath</th>\n",
              "      <th>bedroomabvgr</th>\n",
              "      <th>kitchenabvgr</th>\n",
              "      <th>kitchenqual</th>\n",
              "      <th>totrmsabvgrd</th>\n",
              "      <th>functional</th>\n",
              "      <th>fireplaces</th>\n",
              "      <th>garagetype</th>\n",
              "      <th>garageyrblt</th>\n",
              "      <th>garagefinish</th>\n",
              "      <th>garagecars</th>\n",
              "      <th>garagearea</th>\n",
              "      <th>garagequal</th>\n",
              "      <th>garagecond</th>\n",
              "      <th>paveddrive</th>\n",
              "      <th>wooddecksf</th>\n",
              "      <th>openporchsf</th>\n",
              "      <th>saletype</th>\n",
              "      <th>salecondition</th>\n",
              "      <th>saleprice</th>\n",
              "    </tr>\n",
              "  </thead>\n",
              "  <tbody>\n",
              "    <tr>\n",
              "      <th>0</th>\n",
              "      <td>60</td>\n",
              "      <td>RL</td>\n",
              "      <td>65.0</td>\n",
              "      <td>8450</td>\n",
              "      <td>Pave</td>\n",
              "      <td>Reg</td>\n",
              "      <td>Lvl</td>\n",
              "      <td>AllPub</td>\n",
              "      <td>Inside</td>\n",
              "      <td>Gtl</td>\n",
              "      <td>CollgCr</td>\n",
              "      <td>Norm</td>\n",
              "      <td>Norm</td>\n",
              "      <td>1Fam</td>\n",
              "      <td>2Story</td>\n",
              "      <td>7</td>\n",
              "      <td>5</td>\n",
              "      <td>2003</td>\n",
              "      <td>2003</td>\n",
              "      <td>Gable</td>\n",
              "      <td>CompShg</td>\n",
              "      <td>VinylSd</td>\n",
              "      <td>VinylSd</td>\n",
              "      <td>BrkFace</td>\n",
              "      <td>196.0</td>\n",
              "      <td>Gd</td>\n",
              "      <td>TA</td>\n",
              "      <td>PConc</td>\n",
              "      <td>Gd</td>\n",
              "      <td>TA</td>\n",
              "      <td>No</td>\n",
              "      <td>GLQ</td>\n",
              "      <td>706</td>\n",
              "      <td>Unf</td>\n",
              "      <td>150</td>\n",
              "      <td>856</td>\n",
              "      <td>GasA</td>\n",
              "      <td>Ex</td>\n",
              "      <td>Y</td>\n",
              "      <td>SBrkr</td>\n",
              "      <td>856</td>\n",
              "      <td>854</td>\n",
              "      <td>1710</td>\n",
              "      <td>1</td>\n",
              "      <td>2</td>\n",
              "      <td>1</td>\n",
              "      <td>3</td>\n",
              "      <td>1</td>\n",
              "      <td>Gd</td>\n",
              "      <td>8</td>\n",
              "      <td>Typ</td>\n",
              "      <td>0</td>\n",
              "      <td>Attchd</td>\n",
              "      <td>2003.0</td>\n",
              "      <td>RFn</td>\n",
              "      <td>2</td>\n",
              "      <td>548</td>\n",
              "      <td>TA</td>\n",
              "      <td>TA</td>\n",
              "      <td>Y</td>\n",
              "      <td>0</td>\n",
              "      <td>61</td>\n",
              "      <td>WD</td>\n",
              "      <td>Normal</td>\n",
              "      <td>208500</td>\n",
              "    </tr>\n",
              "    <tr>\n",
              "      <th>1</th>\n",
              "      <td>20</td>\n",
              "      <td>RL</td>\n",
              "      <td>80.0</td>\n",
              "      <td>9600</td>\n",
              "      <td>Pave</td>\n",
              "      <td>Reg</td>\n",
              "      <td>Lvl</td>\n",
              "      <td>AllPub</td>\n",
              "      <td>FR2</td>\n",
              "      <td>Gtl</td>\n",
              "      <td>Veenker</td>\n",
              "      <td>Feedr</td>\n",
              "      <td>Norm</td>\n",
              "      <td>1Fam</td>\n",
              "      <td>1Story</td>\n",
              "      <td>6</td>\n",
              "      <td>8</td>\n",
              "      <td>1976</td>\n",
              "      <td>1976</td>\n",
              "      <td>Gable</td>\n",
              "      <td>CompShg</td>\n",
              "      <td>MetalSd</td>\n",
              "      <td>MetalSd</td>\n",
              "      <td>None</td>\n",
              "      <td>0.0</td>\n",
              "      <td>TA</td>\n",
              "      <td>TA</td>\n",
              "      <td>CBlock</td>\n",
              "      <td>Gd</td>\n",
              "      <td>TA</td>\n",
              "      <td>Gd</td>\n",
              "      <td>ALQ</td>\n",
              "      <td>978</td>\n",
              "      <td>Unf</td>\n",
              "      <td>284</td>\n",
              "      <td>1262</td>\n",
              "      <td>GasA</td>\n",
              "      <td>Ex</td>\n",
              "      <td>Y</td>\n",
              "      <td>SBrkr</td>\n",
              "      <td>1262</td>\n",
              "      <td>0</td>\n",
              "      <td>1262</td>\n",
              "      <td>0</td>\n",
              "      <td>2</td>\n",
              "      <td>0</td>\n",
              "      <td>3</td>\n",
              "      <td>1</td>\n",
              "      <td>TA</td>\n",
              "      <td>6</td>\n",
              "      <td>Typ</td>\n",
              "      <td>1</td>\n",
              "      <td>Attchd</td>\n",
              "      <td>1976.0</td>\n",
              "      <td>RFn</td>\n",
              "      <td>2</td>\n",
              "      <td>460</td>\n",
              "      <td>TA</td>\n",
              "      <td>TA</td>\n",
              "      <td>Y</td>\n",
              "      <td>298</td>\n",
              "      <td>0</td>\n",
              "      <td>WD</td>\n",
              "      <td>Normal</td>\n",
              "      <td>181500</td>\n",
              "    </tr>\n",
              "  </tbody>\n",
              "</table>\n",
              "</div>"
            ],
            "text/plain": [
              "   mssubclass mszoning  lotfrontage  ...  saletype salecondition saleprice\n",
              "0          60       RL         65.0  ...        WD        Normal    208500\n",
              "1          20       RL         80.0  ...        WD        Normal    181500\n",
              "\n",
              "[2 rows x 65 columns]"
            ]
          },
          "metadata": {
            "tags": []
          },
          "execution_count": 18
        }
      ]
    },
    {
      "cell_type": "markdown",
      "metadata": {
        "id": "MkUHj9V3DZh2",
        "colab_type": "text"
      },
      "source": [
        "**DROP GARAGEYEAR BUILT**"
      ]
    },
    {
      "cell_type": "code",
      "metadata": {
        "id": "tgCcFembDguN",
        "colab_type": "code",
        "colab": {}
      },
      "source": [
        "hp.drop('garageyrblt',axis=1,inplace=True)"
      ],
      "execution_count": 0,
      "outputs": []
    },
    {
      "cell_type": "markdown",
      "metadata": {
        "id": "LZLFQYNLjC5l",
        "colab_type": "text"
      },
      "source": [
        "  **ONLY A FEW NULLS LEFT SO DROP**"
      ]
    },
    {
      "cell_type": "code",
      "metadata": {
        "id": "EwWCkftXIc5m",
        "colab_type": "code",
        "colab": {}
      },
      "source": [
        "hp.dropna(inplace=True)"
      ],
      "execution_count": 0,
      "outputs": []
    },
    {
      "cell_type": "code",
      "metadata": {
        "id": "EWJcIUm4H0nl",
        "colab_type": "code",
        "outputId": "266588c2-4edd-4f62-b97b-fe6a32006e7e",
        "colab": {
          "base_uri": "https://localhost:8080/",
          "height": 454
        }
      },
      "source": [
        "n=[col for col in list(hp) if hp[col].dtype!=object]\n",
        "n"
      ],
      "execution_count": 21,
      "outputs": [
        {
          "output_type": "execute_result",
          "data": {
            "text/plain": [
              "['mssubclass',\n",
              " 'lotfrontage',\n",
              " 'lotarea',\n",
              " 'overallqual',\n",
              " 'overallcond',\n",
              " 'yearbuilt',\n",
              " 'yearremodadd',\n",
              " 'masvnrarea',\n",
              " 'bsmtfinsf1',\n",
              " 'bsmtunfsf',\n",
              " 'totalbsmtsf',\n",
              " 'firstflrsf',\n",
              " 'secondflrsf',\n",
              " 'grlivarea',\n",
              " 'bsmtfullbath',\n",
              " 'fullbath',\n",
              " 'halfbath',\n",
              " 'bedroomabvgr',\n",
              " 'kitchenabvgr',\n",
              " 'totrmsabvgrd',\n",
              " 'fireplaces',\n",
              " 'garagecars',\n",
              " 'garagearea',\n",
              " 'wooddecksf',\n",
              " 'openporchsf',\n",
              " 'saleprice']"
            ]
          },
          "metadata": {
            "tags": []
          },
          "execution_count": 21
        }
      ]
    },
    {
      "cell_type": "code",
      "metadata": {
        "id": "VS-b87EyruDm",
        "colab_type": "code",
        "outputId": "6c24cd01-85d1-4466-c4ed-58583b00f18d",
        "colab": {
          "base_uri": "https://localhost:8080/",
          "height": 97
        }
      },
      "source": [
        "hp.head(1)"
      ],
      "execution_count": 22,
      "outputs": [
        {
          "output_type": "execute_result",
          "data": {
            "text/html": [
              "<div>\n",
              "<style scoped>\n",
              "    .dataframe tbody tr th:only-of-type {\n",
              "        vertical-align: middle;\n",
              "    }\n",
              "\n",
              "    .dataframe tbody tr th {\n",
              "        vertical-align: top;\n",
              "    }\n",
              "\n",
              "    .dataframe thead th {\n",
              "        text-align: right;\n",
              "    }\n",
              "</style>\n",
              "<table border=\"1\" class=\"dataframe\">\n",
              "  <thead>\n",
              "    <tr style=\"text-align: right;\">\n",
              "      <th></th>\n",
              "      <th>mssubclass</th>\n",
              "      <th>mszoning</th>\n",
              "      <th>lotfrontage</th>\n",
              "      <th>lotarea</th>\n",
              "      <th>street</th>\n",
              "      <th>lotshape</th>\n",
              "      <th>landcontour</th>\n",
              "      <th>utilities</th>\n",
              "      <th>lotconfig</th>\n",
              "      <th>landslope</th>\n",
              "      <th>neighborhood</th>\n",
              "      <th>condition1</th>\n",
              "      <th>condition2</th>\n",
              "      <th>bldgtype</th>\n",
              "      <th>housestyle</th>\n",
              "      <th>overallqual</th>\n",
              "      <th>overallcond</th>\n",
              "      <th>yearbuilt</th>\n",
              "      <th>yearremodadd</th>\n",
              "      <th>roofstyle</th>\n",
              "      <th>roofmatl</th>\n",
              "      <th>exterior1st</th>\n",
              "      <th>exterior2nd</th>\n",
              "      <th>masvnrtype</th>\n",
              "      <th>masvnrarea</th>\n",
              "      <th>exterqual</th>\n",
              "      <th>extercond</th>\n",
              "      <th>foundation</th>\n",
              "      <th>bsmtqual</th>\n",
              "      <th>bsmtcond</th>\n",
              "      <th>bsmtexposure</th>\n",
              "      <th>bsmtfintype1</th>\n",
              "      <th>bsmtfinsf1</th>\n",
              "      <th>bsmtfintype2</th>\n",
              "      <th>bsmtunfsf</th>\n",
              "      <th>totalbsmtsf</th>\n",
              "      <th>heating</th>\n",
              "      <th>heatingqc</th>\n",
              "      <th>centralair</th>\n",
              "      <th>electrical</th>\n",
              "      <th>firstflrsf</th>\n",
              "      <th>secondflrsf</th>\n",
              "      <th>grlivarea</th>\n",
              "      <th>bsmtfullbath</th>\n",
              "      <th>fullbath</th>\n",
              "      <th>halfbath</th>\n",
              "      <th>bedroomabvgr</th>\n",
              "      <th>kitchenabvgr</th>\n",
              "      <th>kitchenqual</th>\n",
              "      <th>totrmsabvgrd</th>\n",
              "      <th>functional</th>\n",
              "      <th>fireplaces</th>\n",
              "      <th>garagetype</th>\n",
              "      <th>garagefinish</th>\n",
              "      <th>garagecars</th>\n",
              "      <th>garagearea</th>\n",
              "      <th>garagequal</th>\n",
              "      <th>garagecond</th>\n",
              "      <th>paveddrive</th>\n",
              "      <th>wooddecksf</th>\n",
              "      <th>openporchsf</th>\n",
              "      <th>saletype</th>\n",
              "      <th>salecondition</th>\n",
              "      <th>saleprice</th>\n",
              "    </tr>\n",
              "  </thead>\n",
              "  <tbody>\n",
              "    <tr>\n",
              "      <th>0</th>\n",
              "      <td>60</td>\n",
              "      <td>RL</td>\n",
              "      <td>65.0</td>\n",
              "      <td>8450</td>\n",
              "      <td>Pave</td>\n",
              "      <td>Reg</td>\n",
              "      <td>Lvl</td>\n",
              "      <td>AllPub</td>\n",
              "      <td>Inside</td>\n",
              "      <td>Gtl</td>\n",
              "      <td>CollgCr</td>\n",
              "      <td>Norm</td>\n",
              "      <td>Norm</td>\n",
              "      <td>1Fam</td>\n",
              "      <td>2Story</td>\n",
              "      <td>7</td>\n",
              "      <td>5</td>\n",
              "      <td>2003</td>\n",
              "      <td>2003</td>\n",
              "      <td>Gable</td>\n",
              "      <td>CompShg</td>\n",
              "      <td>VinylSd</td>\n",
              "      <td>VinylSd</td>\n",
              "      <td>BrkFace</td>\n",
              "      <td>196.0</td>\n",
              "      <td>Gd</td>\n",
              "      <td>TA</td>\n",
              "      <td>PConc</td>\n",
              "      <td>Gd</td>\n",
              "      <td>TA</td>\n",
              "      <td>No</td>\n",
              "      <td>GLQ</td>\n",
              "      <td>706</td>\n",
              "      <td>Unf</td>\n",
              "      <td>150</td>\n",
              "      <td>856</td>\n",
              "      <td>GasA</td>\n",
              "      <td>Ex</td>\n",
              "      <td>Y</td>\n",
              "      <td>SBrkr</td>\n",
              "      <td>856</td>\n",
              "      <td>854</td>\n",
              "      <td>1710</td>\n",
              "      <td>1</td>\n",
              "      <td>2</td>\n",
              "      <td>1</td>\n",
              "      <td>3</td>\n",
              "      <td>1</td>\n",
              "      <td>Gd</td>\n",
              "      <td>8</td>\n",
              "      <td>Typ</td>\n",
              "      <td>0</td>\n",
              "      <td>Attchd</td>\n",
              "      <td>RFn</td>\n",
              "      <td>2</td>\n",
              "      <td>548</td>\n",
              "      <td>TA</td>\n",
              "      <td>TA</td>\n",
              "      <td>Y</td>\n",
              "      <td>0</td>\n",
              "      <td>61</td>\n",
              "      <td>WD</td>\n",
              "      <td>Normal</td>\n",
              "      <td>208500</td>\n",
              "    </tr>\n",
              "  </tbody>\n",
              "</table>\n",
              "</div>"
            ],
            "text/plain": [
              "   mssubclass mszoning  lotfrontage  ...  saletype salecondition saleprice\n",
              "0          60       RL         65.0  ...        WD        Normal    208500\n",
              "\n",
              "[1 rows x 64 columns]"
            ]
          },
          "metadata": {
            "tags": []
          },
          "execution_count": 22
        }
      ]
    },
    {
      "cell_type": "code",
      "metadata": {
        "id": "QLPvXNNgMCqd",
        "colab_type": "code",
        "outputId": "5098cf63-7e63-4f15-f6f6-0d1c7001ed31",
        "colab": {
          "base_uri": "https://localhost:8080/",
          "height": 585
        }
      },
      "source": [
        "\n",
        "plt.rcParams['figure.figsize'] = (10.0, 8.0)\n",
        "hp.hist()\n",
        "plt.tight_layout()"
      ],
      "execution_count": 27,
      "outputs": [
        {
          "output_type": "display_data",
          "data": {
            "image/png": "[encoded data removed]",
            "text/plain": [
              "<Figure size 720x576 with 30 Axes>"
            ]
          },
          "metadata": {
            "tags": []
          }
        }
      ]
    },
    {
      "cell_type": "markdown",
      "metadata": {
        "id": "fNqjSXI2EAH9",
        "colab_type": "text"
      },
      "source": [
        "**DROP YEARREMODADD + YEARBUILT**"
      ]
    },
    {
      "cell_type": "code",
      "metadata": {
        "id": "9RISEtPWEIs9",
        "colab_type": "code",
        "colab": {}
      },
      "source": [
        "hp.drop(['yearremodadd','yearbuilt'],axis=1,inplace=True)"
      ],
      "execution_count": 0,
      "outputs": []
    },
    {
      "cell_type": "code",
      "metadata": {
        "id": "ISsVQYjIEpos",
        "colab_type": "code",
        "colab": {}
      },
      "source": [
        "nol=list(hp.select_dtypes(exclude='object').columns)"
      ],
      "execution_count": 0,
      "outputs": []
    },
    {
      "cell_type": "code",
      "metadata": {
        "id": "NZqwsQmdEwOJ",
        "colab_type": "code",
        "outputId": "777891dc-0980-4dcb-bf05-d498804905b0",
        "colab": {
          "base_uri": "https://localhost:8080/",
          "height": 34
        }
      },
      "source": [
        "len(nol)"
      ],
      "execution_count": 30,
      "outputs": [
        {
          "output_type": "execute_result",
          "data": {
            "text/plain": [
              "24"
            ]
          },
          "metadata": {
            "tags": []
          },
          "execution_count": 30
        }
      ]
    },
    {
      "cell_type": "markdown",
      "metadata": {
        "id": "9_R_J92tjOC4",
        "colab_type": "text"
      },
      "source": [
        "**USE Z-SCORE TO CHECK FOR OUTLIERS**"
      ]
    },
    {
      "cell_type": "code",
      "metadata": {
        "id": "SYfLUvnlmdgu",
        "colab_type": "code",
        "colab": {}
      },
      "source": [
        "from scipy import stats\n",
        "import numpy as np\n",
        "z = np.abs(stats.zscore(hp[nol]))\n",
        "\n",
        "z1=(z>1)\n",
        "z2=(z>2)\n",
        "\n"
      ],
      "execution_count": 0,
      "outputs": []
    },
    {
      "cell_type": "code",
      "metadata": {
        "id": "2hT_aVgAoZmw",
        "colab_type": "code",
        "outputId": "ad987c3f-77ad-41c2-cb85-0029e53511c1",
        "colab": {
          "base_uri": "https://localhost:8080/",
          "height": 134
        }
      },
      "source": [
        "z1"
      ],
      "execution_count": 32,
      "outputs": [
        {
          "output_type": "execute_result",
          "data": {
            "text/plain": [
              "array([[False, False, False, ..., False, False, False],\n",
              "       [False, False, False, ...,  True, False, False],\n",
              "       [False, False, False, ..., False, False, False],\n",
              "       ...,\n",
              "       [False, False, False, ..., False, False, False],\n",
              "       [False, False, False, ...,  True, False, False],\n",
              "       [False, False, False, ...,  True, False, False]])"
            ]
          },
          "metadata": {
            "tags": []
          },
          "execution_count": 32
        }
      ]
    },
    {
      "cell_type": "markdown",
      "metadata": {
        "id": "Do8Qkx8Uoc5H",
        "colab_type": "text"
      },
      "source": [
        "**SOME VALUES GREATER THAN ONE STD AWAY**\n",
        "\n"
      ]
    },
    {
      "cell_type": "markdown",
      "metadata": {
        "id": "rCC-cgtz1i39",
        "colab_type": "text"
      },
      "source": [
        "**HISTOGRAMS OF THE 7 CONITNUOUS VARIABLES**"
      ]
    },
    {
      "cell_type": "code",
      "metadata": {
        "id": "3qcB8BXdIyeT",
        "colab_type": "code",
        "outputId": "e335d675-75ae-460e-db39-8e4c599caddf",
        "colab": {
          "base_uri": "https://localhost:8080/",
          "height": 153
        }
      },
      "source": [
        "plt.figure(figsize=(10,2))\n",
        "#plt.rcParams[\"figure.figsize\"] = [5,4]\n",
        "plt.subplot(1,7,1)\n",
        "plt.hist(hp['lotarea'])\n",
        "plt.title('lotarea')\n",
        "\n",
        "plt.subplot(1,7,2)\n",
        "plt.hist(hp['masvnrarea'])\n",
        "plt.title('masvnrarea')\n",
        "\n",
        "plt.subplot(1,7,3)\n",
        "plt.hist(hp['bsmtfinsf1'])\n",
        "plt.title('bsmtfinsf1')\n",
        "\n",
        "plt.subplot(1,7,4)\n",
        "plt.hist(hp['firstflrsf'])\n",
        "plt.title('firstflrsf')\n",
        "\n",
        "plt.subplot(1,7,5)\n",
        "plt.hist(hp['grlivarea'])\n",
        "plt.title('grlivarea')\n",
        "\n",
        "plt.subplot(1,7,6)\n",
        "plt.hist(hp['garagearea'])\n",
        "plt.title('garagearea')\n",
        "\n",
        "plt.subplot(1,7,7)\n",
        "plt.hist(hp['openporchsf'])\n",
        "plt.title('openporchsf')\n",
        "\n",
        "plt.tight_layout()"
      ],
      "execution_count": 33,
      "outputs": [
        {
          "output_type": "display_data",
          "data": {
            "image/png": "[encoded data removed]",
            "text/plain": [
              "<Figure size 720x144 with 7 Axes>"
            ]
          },
          "metadata": {
            "tags": []
          }
        }
      ]
    },
    {
      "cell_type": "markdown",
      "metadata": {
        "id": "HfMgyVek3GM0",
        "colab_type": "text"
      },
      "source": [
        "**BOXPLOTS FOR 7 CONTINUOUS VARIABLES**"
      ]
    },
    {
      "cell_type": "code",
      "metadata": {
        "id": "pGiUFSroU4OE",
        "colab_type": "code",
        "outputId": "cdc841dc-1ce5-4885-8281-0bad19b7ada0",
        "colab": {
          "base_uri": "https://localhost:8080/",
          "height": 153
        }
      },
      "source": [
        "\n",
        "plt.figure(figsize=(10,2))\n",
        "\n",
        "plt.subplot(1,7,1)\n",
        "plt.boxplot(hp['lotarea'])\n",
        "plt.title('lotarea')\n",
        "\n",
        "plt.subplot(1,7,2)\n",
        "plt.boxplot(hp['masvnrarea'])\n",
        "plt.title('masvnrarea')\n",
        "\n",
        "plt.subplot(1,7,3)\n",
        "plt.boxplot(hp['bsmtfinsf1'])\n",
        "plt.title('bsmtfinsf1')\n",
        "\n",
        "plt.subplot(1,7,4)\n",
        "plt.boxplot(hp['firstflrsf'])\n",
        "plt.title('firstflrsf')\n",
        "\n",
        "plt.subplot(1,7,5)\n",
        "plt.boxplot(hp['grlivarea'])\n",
        "plt.title('grlivarea')\n",
        "\n",
        "plt.subplot(1,7,6)\n",
        "plt.boxplot(hp['garagearea'])\n",
        "plt.title('garagearea')\n",
        "\n",
        "plt.subplot(1,7,7)\n",
        "plt.boxplot(hp['openporchsf'])\n",
        "plt.title('openporchsf')\n",
        "\n",
        "plt.tight_layout()"
      ],
      "execution_count": 34,
      "outputs": [
        {
          "output_type": "display_data",
          "data": {
            "image/png": "[encoded data removed]",
            "text/plain": [
              "<Figure size 720x144 with 7 Axes>"
            ]
          },
          "metadata": {
            "tags": []
          }
        }
      ]
    },
    {
      "cell_type": "code",
      "metadata": {
        "id": "2bgXTEm8xew8",
        "colab_type": "code",
        "colab": {}
      },
      "source": [
        "from scipy.stats.mstats import winsorize"
      ],
      "execution_count": 0,
      "outputs": []
    },
    {
      "cell_type": "code",
      "metadata": {
        "id": "CiUT9JnDx_mM",
        "colab_type": "code",
        "colab": {}
      },
      "source": [
        "hp['lotarea'] = winsorize(hp[\"lotarea\"], (.05,.10))\n",
        "hp['masvnrarea'] = winsorize(hp[\"masvnrarea\"], (.05,.10))\n",
        "hp['bsmtfinsf1'] = winsorize(hp[\"bsmtfinsf1\"], (.05,.10))\n",
        "hp['firstflrsf'] = winsorize(hp[\"firstflrsf\"], (.05,.10))\n",
        "hp['grlivarea'] = winsorize(hp[\"grlivarea\"], (.05,.10))\n",
        "hp['garagearea'] = winsorize(hp[\"garagearea\"], (.05,.10))\n",
        "hp['totalbsmtsf'] = winsorize(hp[\"totalbsmtsf\"], (.05,.10))\n"
      ],
      "execution_count": 0,
      "outputs": []
    },
    {
      "cell_type": "markdown",
      "metadata": {
        "id": "oz_RVkj8XWe0",
        "colab_type": "text"
      },
      "source": [
        "**AFTER WINSORIZING**"
      ]
    },
    {
      "cell_type": "code",
      "metadata": {
        "id": "M0C2A2RByGMK",
        "colab_type": "code",
        "outputId": "8f6202a2-855b-4060-cae9-3f3e6ffef3d0",
        "colab": {
          "base_uri": "https://localhost:8080/",
          "height": 153
        }
      },
      "source": [
        "\n",
        "plt.figure(figsize=(10,2))\n",
        "\n",
        "plt.subplot(1,7,1)\n",
        "plt.boxplot(hp['lotarea'])\n",
        "plt.title('lotarea')\n",
        "\n",
        "plt.subplot(1,7,2)\n",
        "plt.boxplot(hp['masvnrarea'])\n",
        "plt.title('masvnrarea')\n",
        "\n",
        "plt.subplot(1,7,3)\n",
        "plt.boxplot(hp['bsmtfinsf1'])\n",
        "plt.title('bsmtfinsf1')\n",
        "\n",
        "plt.subplot(1,7,4)\n",
        "plt.boxplot(hp['firstflrsf'])\n",
        "plt.title('firstflrsf')\n",
        "\n",
        "plt.subplot(1,7,5)\n",
        "plt.boxplot(hp['grlivarea'])\n",
        "plt.title('grlivarea')\n",
        "\n",
        "plt.subplot(1,7,6)\n",
        "plt.boxplot(hp['garagearea'])\n",
        "plt.title('garagearea')\n",
        "\n",
        "plt.subplot(1,7,7)\n",
        "plt.boxplot(hp['openporchsf'])\n",
        "plt.title('openporchsf')\n",
        "\n",
        "plt.tight_layout()"
      ],
      "execution_count": 37,
      "outputs": [
        {
          "output_type": "display_data",
          "data": {
            "image/png": "[encoded data removed]",
            "text/plain": [
              "<Figure size 720x144 with 7 Axes>"
            ]
          },
          "metadata": {
            "tags": []
          }
        }
      ]
    },
    {
      "cell_type": "code",
      "metadata": {
        "id": "fV0X4aamkLiC",
        "colab_type": "code",
        "outputId": "ec6f5612-cfff-4b94-e69a-4a2d894a927b",
        "colab": {
          "base_uri": "https://localhost:8080/",
          "height": 778
        }
      },
      "source": [
        "hp[nol].corr()"
      ],
      "execution_count": 38,
      "outputs": [
        {
          "output_type": "execute_result",
          "data": {
            "text/html": [
              "<div>\n",
              "<style scoped>\n",
              "    .dataframe tbody tr th:only-of-type {\n",
              "        vertical-align: middle;\n",
              "    }\n",
              "\n",
              "    .dataframe tbody tr th {\n",
              "        vertical-align: top;\n",
              "    }\n",
              "\n",
              "    .dataframe thead th {\n",
              "        text-align: right;\n",
              "    }\n",
              "</style>\n",
              "<table border=\"1\" class=\"dataframe\">\n",
              "  <thead>\n",
              "    <tr style=\"text-align: right;\">\n",
              "      <th></th>\n",
              "      <th>mssubclass</th>\n",
              "      <th>lotfrontage</th>\n",
              "      <th>lotarea</th>\n",
              "      <th>overallqual</th>\n",
              "      <th>overallcond</th>\n",
              "      <th>masvnrarea</th>\n",
              "      <th>bsmtfinsf1</th>\n",
              "      <th>bsmtunfsf</th>\n",
              "      <th>totalbsmtsf</th>\n",
              "      <th>firstflrsf</th>\n",
              "      <th>secondflrsf</th>\n",
              "      <th>grlivarea</th>\n",
              "      <th>bsmtfullbath</th>\n",
              "      <th>fullbath</th>\n",
              "      <th>halfbath</th>\n",
              "      <th>bedroomabvgr</th>\n",
              "      <th>kitchenabvgr</th>\n",
              "      <th>totrmsabvgrd</th>\n",
              "      <th>fireplaces</th>\n",
              "      <th>garagecars</th>\n",
              "      <th>garagearea</th>\n",
              "      <th>wooddecksf</th>\n",
              "      <th>openporchsf</th>\n",
              "      <th>saleprice</th>\n",
              "    </tr>\n",
              "  </thead>\n",
              "  <tbody>\n",
              "    <tr>\n",
              "      <th>mssubclass</th>\n",
              "      <td>1.000000</td>\n",
              "      <td>-0.389466</td>\n",
              "      <td>-0.426530</td>\n",
              "      <td>0.031639</td>\n",
              "      <td>-0.085553</td>\n",
              "      <td>0.032962</td>\n",
              "      <td>-0.063586</td>\n",
              "      <td>-0.147155</td>\n",
              "      <td>-0.287352</td>\n",
              "      <td>-0.254363</td>\n",
              "      <td>0.319176</td>\n",
              "      <td>0.079602</td>\n",
              "      <td>-0.013040</td>\n",
              "      <td>0.119495</td>\n",
              "      <td>0.206259</td>\n",
              "      <td>-0.044628</td>\n",
              "      <td>0.258401</td>\n",
              "      <td>0.038180</td>\n",
              "      <td>-0.029575</td>\n",
              "      <td>-0.031638</td>\n",
              "      <td>-0.089676</td>\n",
              "      <td>-0.018514</td>\n",
              "      <td>0.006799</td>\n",
              "      <td>-0.089478</td>\n",
              "    </tr>\n",
              "    <tr>\n",
              "      <th>lotfrontage</th>\n",
              "      <td>-0.389466</td>\n",
              "      <td>1.000000</td>\n",
              "      <td>0.637413</td>\n",
              "      <td>0.241169</td>\n",
              "      <td>-0.047132</td>\n",
              "      <td>0.178447</td>\n",
              "      <td>0.142635</td>\n",
              "      <td>0.111368</td>\n",
              "      <td>0.315014</td>\n",
              "      <td>0.367326</td>\n",
              "      <td>0.074953</td>\n",
              "      <td>0.336630</td>\n",
              "      <td>0.115151</td>\n",
              "      <td>0.189692</td>\n",
              "      <td>0.043414</td>\n",
              "      <td>0.277136</td>\n",
              "      <td>0.007411</td>\n",
              "      <td>0.354714</td>\n",
              "      <td>0.260293</td>\n",
              "      <td>0.285748</td>\n",
              "      <td>0.331937</td>\n",
              "      <td>0.081338</td>\n",
              "      <td>0.160862</td>\n",
              "      <td>0.343978</td>\n",
              "    </tr>\n",
              "    <tr>\n",
              "      <th>lotarea</th>\n",
              "      <td>-0.426530</td>\n",
              "      <td>0.637413</td>\n",
              "      <td>1.000000</td>\n",
              "      <td>0.274060</td>\n",
              "      <td>-0.054600</td>\n",
              "      <td>0.167429</td>\n",
              "      <td>0.163560</td>\n",
              "      <td>0.125686</td>\n",
              "      <td>0.368633</td>\n",
              "      <td>0.417041</td>\n",
              "      <td>0.139744</td>\n",
              "      <td>0.437549</td>\n",
              "      <td>0.112432</td>\n",
              "      <td>0.215836</td>\n",
              "      <td>0.114722</td>\n",
              "      <td>0.325751</td>\n",
              "      <td>-0.001508</td>\n",
              "      <td>0.432048</td>\n",
              "      <td>0.331395</td>\n",
              "      <td>0.321557</td>\n",
              "      <td>0.355146</td>\n",
              "      <td>0.181634</td>\n",
              "      <td>0.156881</td>\n",
              "      <td>0.450580</td>\n",
              "    </tr>\n",
              "    <tr>\n",
              "      <th>overallqual</th>\n",
              "      <td>0.031639</td>\n",
              "      <td>0.241169</td>\n",
              "      <td>0.274060</td>\n",
              "      <td>1.000000</td>\n",
              "      <td>-0.189587</td>\n",
              "      <td>0.428763</td>\n",
              "      <td>0.152125</td>\n",
              "      <td>0.297384</td>\n",
              "      <td>0.531136</td>\n",
              "      <td>0.507843</td>\n",
              "      <td>0.265906</td>\n",
              "      <td>0.614685</td>\n",
              "      <td>0.107138</td>\n",
              "      <td>0.597881</td>\n",
              "      <td>0.239893</td>\n",
              "      <td>0.091462</td>\n",
              "      <td>-0.141071</td>\n",
              "      <td>0.465733</td>\n",
              "      <td>0.409725</td>\n",
              "      <td>0.605466</td>\n",
              "      <td>0.565910</td>\n",
              "      <td>0.273652</td>\n",
              "      <td>0.335884</td>\n",
              "      <td>0.795437</td>\n",
              "    </tr>\n",
              "    <tr>\n",
              "      <th>overallcond</th>\n",
              "      <td>-0.085553</td>\n",
              "      <td>-0.047132</td>\n",
              "      <td>-0.054600</td>\n",
              "      <td>-0.189587</td>\n",
              "      <td>1.000000</td>\n",
              "      <td>-0.199550</td>\n",
              "      <td>-0.053571</td>\n",
              "      <td>-0.169743</td>\n",
              "      <td>-0.265898</td>\n",
              "      <td>-0.183313</td>\n",
              "      <td>0.004047</td>\n",
              "      <td>-0.146608</td>\n",
              "      <td>-0.072778</td>\n",
              "      <td>-0.225995</td>\n",
              "      <td>-0.089625</td>\n",
              "      <td>0.012300</td>\n",
              "      <td>-0.070660</td>\n",
              "      <td>-0.093309</td>\n",
              "      <td>-0.030731</td>\n",
              "      <td>-0.269616</td>\n",
              "      <td>-0.238099</td>\n",
              "      <td>-0.018856</td>\n",
              "      <td>-0.084405</td>\n",
              "      <td>-0.138511</td>\n",
              "    </tr>\n",
              "    <tr>\n",
              "      <th>masvnrarea</th>\n",
              "      <td>0.032962</td>\n",
              "      <td>0.178447</td>\n",
              "      <td>0.167429</td>\n",
              "      <td>0.428763</td>\n",
              "      <td>-0.199550</td>\n",
              "      <td>1.000000</td>\n",
              "      <td>0.231086</td>\n",
              "      <td>0.109811</td>\n",
              "      <td>0.381187</td>\n",
              "      <td>0.362573</td>\n",
              "      <td>0.126594</td>\n",
              "      <td>0.368642</td>\n",
              "      <td>0.124334</td>\n",
              "      <td>0.287195</td>\n",
              "      <td>0.186042</td>\n",
              "      <td>0.136143</td>\n",
              "      <td>-0.000276</td>\n",
              "      <td>0.324837</td>\n",
              "      <td>0.239993</td>\n",
              "      <td>0.401501</td>\n",
              "      <td>0.383951</td>\n",
              "      <td>0.172131</td>\n",
              "      <td>0.150360</td>\n",
              "      <td>0.455809</td>\n",
              "    </tr>\n",
              "    <tr>\n",
              "      <th>bsmtfinsf1</th>\n",
              "      <td>-0.063586</td>\n",
              "      <td>0.142635</td>\n",
              "      <td>0.163560</td>\n",
              "      <td>0.152125</td>\n",
              "      <td>-0.053571</td>\n",
              "      <td>0.231086</td>\n",
              "      <td>1.000000</td>\n",
              "      <td>-0.623696</td>\n",
              "      <td>0.371106</td>\n",
              "      <td>0.343094</td>\n",
              "      <td>-0.162873</td>\n",
              "      <td>0.085751</td>\n",
              "      <td>0.664908</td>\n",
              "      <td>0.017283</td>\n",
              "      <td>-0.025696</td>\n",
              "      <td>-0.098887</td>\n",
              "      <td>-0.030362</td>\n",
              "      <td>0.013285</td>\n",
              "      <td>0.215134</td>\n",
              "      <td>0.155248</td>\n",
              "      <td>0.214926</td>\n",
              "      <td>0.180689</td>\n",
              "      <td>0.066155</td>\n",
              "      <td>0.321754</td>\n",
              "    </tr>\n",
              "    <tr>\n",
              "      <th>bsmtunfsf</th>\n",
              "      <td>-0.147155</td>\n",
              "      <td>0.111368</td>\n",
              "      <td>0.125686</td>\n",
              "      <td>0.297384</td>\n",
              "      <td>-0.169743</td>\n",
              "      <td>0.109811</td>\n",
              "      <td>-0.623696</td>\n",
              "      <td>1.000000</td>\n",
              "      <td>0.390728</td>\n",
              "      <td>0.334115</td>\n",
              "      <td>-0.020506</td>\n",
              "      <td>0.244998</td>\n",
              "      <td>-0.470766</td>\n",
              "      <td>0.314788</td>\n",
              "      <td>-0.080332</td>\n",
              "      <td>0.141845</td>\n",
              "      <td>0.060984</td>\n",
              "      <td>0.228538</td>\n",
              "      <td>0.040166</td>\n",
              "      <td>0.277398</td>\n",
              "      <td>0.229311</td>\n",
              "      <td>-0.012039</td>\n",
              "      <td>0.140096</td>\n",
              "      <td>0.191247</td>\n",
              "    </tr>\n",
              "    <tr>\n",
              "      <th>totalbsmtsf</th>\n",
              "      <td>-0.287352</td>\n",
              "      <td>0.315014</td>\n",
              "      <td>0.368633</td>\n",
              "      <td>0.531136</td>\n",
              "      <td>-0.265898</td>\n",
              "      <td>0.381187</td>\n",
              "      <td>0.371106</td>\n",
              "      <td>0.390728</td>\n",
              "      <td>1.000000</td>\n",
              "      <td>0.893414</td>\n",
              "      <td>-0.279439</td>\n",
              "      <td>0.386377</td>\n",
              "      <td>0.275385</td>\n",
              "      <td>0.380760</td>\n",
              "      <td>-0.160436</td>\n",
              "      <td>0.031032</td>\n",
              "      <td>0.036754</td>\n",
              "      <td>0.266787</td>\n",
              "      <td>0.319825</td>\n",
              "      <td>0.515239</td>\n",
              "      <td>0.537565</td>\n",
              "      <td>0.226965</td>\n",
              "      <td>0.255743</td>\n",
              "      <td>0.616908</td>\n",
              "    </tr>\n",
              "    <tr>\n",
              "      <th>firstflrsf</th>\n",
              "      <td>-0.254363</td>\n",
              "      <td>0.367326</td>\n",
              "      <td>0.417041</td>\n",
              "      <td>0.507843</td>\n",
              "      <td>-0.183313</td>\n",
              "      <td>0.362573</td>\n",
              "      <td>0.343094</td>\n",
              "      <td>0.334115</td>\n",
              "      <td>0.893414</td>\n",
              "      <td>1.000000</td>\n",
              "      <td>-0.254861</td>\n",
              "      <td>0.481899</td>\n",
              "      <td>0.248245</td>\n",
              "      <td>0.382373</td>\n",
              "      <td>-0.176946</td>\n",
              "      <td>0.096597</td>\n",
              "      <td>0.067476</td>\n",
              "      <td>0.365753</td>\n",
              "      <td>0.389586</td>\n",
              "      <td>0.479504</td>\n",
              "      <td>0.513008</td>\n",
              "      <td>0.241716</td>\n",
              "      <td>0.222000</td>\n",
              "      <td>0.601982</td>\n",
              "    </tr>\n",
              "    <tr>\n",
              "      <th>secondflrsf</th>\n",
              "      <td>0.319176</td>\n",
              "      <td>0.074953</td>\n",
              "      <td>0.139744</td>\n",
              "      <td>0.265906</td>\n",
              "      <td>0.004047</td>\n",
              "      <td>0.126594</td>\n",
              "      <td>-0.162873</td>\n",
              "      <td>-0.020506</td>\n",
              "      <td>-0.279439</td>\n",
              "      <td>-0.254861</td>\n",
              "      <td>1.000000</td>\n",
              "      <td>0.655987</td>\n",
              "      <td>-0.161825</td>\n",
              "      <td>0.405006</td>\n",
              "      <td>0.608758</td>\n",
              "      <td>0.509930</td>\n",
              "      <td>0.077066</td>\n",
              "      <td>0.624553</td>\n",
              "      <td>0.198020</td>\n",
              "      <td>0.181391</td>\n",
              "      <td>0.124485</td>\n",
              "      <td>0.107529</td>\n",
              "      <td>0.201882</td>\n",
              "      <td>0.302569</td>\n",
              "    </tr>\n",
              "    <tr>\n",
              "      <th>grlivarea</th>\n",
              "      <td>0.079602</td>\n",
              "      <td>0.336630</td>\n",
              "      <td>0.437549</td>\n",
              "      <td>0.614685</td>\n",
              "      <td>-0.146608</td>\n",
              "      <td>0.368642</td>\n",
              "      <td>0.085751</td>\n",
              "      <td>0.244998</td>\n",
              "      <td>0.386377</td>\n",
              "      <td>0.481899</td>\n",
              "      <td>0.655987</td>\n",
              "      <td>1.000000</td>\n",
              "      <td>0.026644</td>\n",
              "      <td>0.637376</td>\n",
              "      <td>0.421701</td>\n",
              "      <td>0.503365</td>\n",
              "      <td>0.136286</td>\n",
              "      <td>0.815776</td>\n",
              "      <td>0.466753</td>\n",
              "      <td>0.511919</td>\n",
              "      <td>0.479424</td>\n",
              "      <td>0.250210</td>\n",
              "      <td>0.335212</td>\n",
              "      <td>0.678643</td>\n",
              "    </tr>\n",
              "    <tr>\n",
              "      <th>bsmtfullbath</th>\n",
              "      <td>-0.013040</td>\n",
              "      <td>0.115151</td>\n",
              "      <td>0.112432</td>\n",
              "      <td>0.107138</td>\n",
              "      <td>-0.072778</td>\n",
              "      <td>0.124334</td>\n",
              "      <td>0.664908</td>\n",
              "      <td>-0.470766</td>\n",
              "      <td>0.275385</td>\n",
              "      <td>0.248245</td>\n",
              "      <td>-0.161825</td>\n",
              "      <td>0.026644</td>\n",
              "      <td>1.000000</td>\n",
              "      <td>-0.056500</td>\n",
              "      <td>-0.036559</td>\n",
              "      <td>-0.130607</td>\n",
              "      <td>0.003264</td>\n",
              "      <td>-0.016941</td>\n",
              "      <td>0.127270</td>\n",
              "      <td>0.132004</td>\n",
              "      <td>0.188195</td>\n",
              "      <td>0.149507</td>\n",
              "      <td>0.073655</td>\n",
              "      <td>0.223948</td>\n",
              "    </tr>\n",
              "    <tr>\n",
              "      <th>fullbath</th>\n",
              "      <td>0.119495</td>\n",
              "      <td>0.189692</td>\n",
              "      <td>0.215836</td>\n",
              "      <td>0.597881</td>\n",
              "      <td>-0.225995</td>\n",
              "      <td>0.287195</td>\n",
              "      <td>0.017283</td>\n",
              "      <td>0.314788</td>\n",
              "      <td>0.380760</td>\n",
              "      <td>0.382373</td>\n",
              "      <td>0.405006</td>\n",
              "      <td>0.637376</td>\n",
              "      <td>-0.056500</td>\n",
              "      <td>1.000000</td>\n",
              "      <td>0.109244</td>\n",
              "      <td>0.339986</td>\n",
              "      <td>0.077175</td>\n",
              "      <td>0.544151</td>\n",
              "      <td>0.249766</td>\n",
              "      <td>0.523285</td>\n",
              "      <td>0.474588</td>\n",
              "      <td>0.221316</td>\n",
              "      <td>0.294123</td>\n",
              "      <td>0.578299</td>\n",
              "    </tr>\n",
              "    <tr>\n",
              "      <th>halfbath</th>\n",
              "      <td>0.206259</td>\n",
              "      <td>0.043414</td>\n",
              "      <td>0.114722</td>\n",
              "      <td>0.239893</td>\n",
              "      <td>-0.089625</td>\n",
              "      <td>0.186042</td>\n",
              "      <td>-0.025696</td>\n",
              "      <td>-0.080332</td>\n",
              "      <td>-0.160436</td>\n",
              "      <td>-0.176946</td>\n",
              "      <td>0.608758</td>\n",
              "      <td>0.421701</td>\n",
              "      <td>-0.036559</td>\n",
              "      <td>0.109244</td>\n",
              "      <td>1.000000</td>\n",
              "      <td>0.238613</td>\n",
              "      <td>-0.072822</td>\n",
              "      <td>0.353993</td>\n",
              "      <td>0.201655</td>\n",
              "      <td>0.189744</td>\n",
              "      <td>0.120037</td>\n",
              "      <td>0.103908</td>\n",
              "      <td>0.186768</td>\n",
              "      <td>0.259469</td>\n",
              "    </tr>\n",
              "    <tr>\n",
              "      <th>bedroomabvgr</th>\n",
              "      <td>-0.044628</td>\n",
              "      <td>0.277136</td>\n",
              "      <td>0.325751</td>\n",
              "      <td>0.091462</td>\n",
              "      <td>0.012300</td>\n",
              "      <td>0.136143</td>\n",
              "      <td>-0.098887</td>\n",
              "      <td>0.141845</td>\n",
              "      <td>0.031032</td>\n",
              "      <td>0.096597</td>\n",
              "      <td>0.509930</td>\n",
              "      <td>0.503365</td>\n",
              "      <td>-0.130607</td>\n",
              "      <td>0.339986</td>\n",
              "      <td>0.238613</td>\n",
              "      <td>1.000000</td>\n",
              "      <td>0.168206</td>\n",
              "      <td>0.641668</td>\n",
              "      <td>0.130874</td>\n",
              "      <td>0.134139</td>\n",
              "      <td>0.115233</td>\n",
              "      <td>0.076403</td>\n",
              "      <td>0.084842</td>\n",
              "      <td>0.168489</td>\n",
              "    </tr>\n",
              "    <tr>\n",
              "      <th>kitchenabvgr</th>\n",
              "      <td>0.258401</td>\n",
              "      <td>0.007411</td>\n",
              "      <td>-0.001508</td>\n",
              "      <td>-0.141071</td>\n",
              "      <td>-0.070660</td>\n",
              "      <td>-0.000276</td>\n",
              "      <td>-0.030362</td>\n",
              "      <td>0.060984</td>\n",
              "      <td>0.036754</td>\n",
              "      <td>0.067476</td>\n",
              "      <td>0.077066</td>\n",
              "      <td>0.136286</td>\n",
              "      <td>0.003264</td>\n",
              "      <td>0.077175</td>\n",
              "      <td>-0.072822</td>\n",
              "      <td>0.168206</td>\n",
              "      <td>1.000000</td>\n",
              "      <td>0.235814</td>\n",
              "      <td>-0.090142</td>\n",
              "      <td>0.055798</td>\n",
              "      <td>0.043751</td>\n",
              "      <td>-0.081044</td>\n",
              "      <td>-0.031902</td>\n",
              "      <td>-0.115382</td>\n",
              "    </tr>\n",
              "    <tr>\n",
              "      <th>totrmsabvgrd</th>\n",
              "      <td>0.038180</td>\n",
              "      <td>0.354714</td>\n",
              "      <td>0.432048</td>\n",
              "      <td>0.465733</td>\n",
              "      <td>-0.093309</td>\n",
              "      <td>0.324837</td>\n",
              "      <td>0.013285</td>\n",
              "      <td>0.228538</td>\n",
              "      <td>0.266787</td>\n",
              "      <td>0.365753</td>\n",
              "      <td>0.624553</td>\n",
              "      <td>0.815776</td>\n",
              "      <td>-0.016941</td>\n",
              "      <td>0.544151</td>\n",
              "      <td>0.353993</td>\n",
              "      <td>0.641668</td>\n",
              "      <td>0.235814</td>\n",
              "      <td>1.000000</td>\n",
              "      <td>0.356587</td>\n",
              "      <td>0.430742</td>\n",
              "      <td>0.386505</td>\n",
              "      <td>0.192011</td>\n",
              "      <td>0.257247</td>\n",
              "      <td>0.560521</td>\n",
              "    </tr>\n",
              "    <tr>\n",
              "      <th>fireplaces</th>\n",
              "      <td>-0.029575</td>\n",
              "      <td>0.260293</td>\n",
              "      <td>0.331395</td>\n",
              "      <td>0.409725</td>\n",
              "      <td>-0.030731</td>\n",
              "      <td>0.239993</td>\n",
              "      <td>0.215134</td>\n",
              "      <td>0.040166</td>\n",
              "      <td>0.319825</td>\n",
              "      <td>0.389586</td>\n",
              "      <td>0.198020</td>\n",
              "      <td>0.466753</td>\n",
              "      <td>0.127270</td>\n",
              "      <td>0.249766</td>\n",
              "      <td>0.201655</td>\n",
              "      <td>0.130874</td>\n",
              "      <td>-0.090142</td>\n",
              "      <td>0.356587</td>\n",
              "      <td>1.000000</td>\n",
              "      <td>0.255846</td>\n",
              "      <td>0.207263</td>\n",
              "      <td>0.173996</td>\n",
              "      <td>0.182061</td>\n",
              "      <td>0.458182</td>\n",
              "    </tr>\n",
              "    <tr>\n",
              "      <th>garagecars</th>\n",
              "      <td>-0.031638</td>\n",
              "      <td>0.285748</td>\n",
              "      <td>0.321557</td>\n",
              "      <td>0.605466</td>\n",
              "      <td>-0.269616</td>\n",
              "      <td>0.401501</td>\n",
              "      <td>0.155248</td>\n",
              "      <td>0.277398</td>\n",
              "      <td>0.515239</td>\n",
              "      <td>0.479504</td>\n",
              "      <td>0.181391</td>\n",
              "      <td>0.511919</td>\n",
              "      <td>0.132004</td>\n",
              "      <td>0.523285</td>\n",
              "      <td>0.189744</td>\n",
              "      <td>0.134139</td>\n",
              "      <td>0.055798</td>\n",
              "      <td>0.430742</td>\n",
              "      <td>0.255846</td>\n",
              "      <td>1.000000</td>\n",
              "      <td>0.861381</td>\n",
              "      <td>0.237785</td>\n",
              "      <td>0.260375</td>\n",
              "      <td>0.652103</td>\n",
              "    </tr>\n",
              "    <tr>\n",
              "      <th>garagearea</th>\n",
              "      <td>-0.089676</td>\n",
              "      <td>0.331937</td>\n",
              "      <td>0.355146</td>\n",
              "      <td>0.565910</td>\n",
              "      <td>-0.238099</td>\n",
              "      <td>0.383951</td>\n",
              "      <td>0.214926</td>\n",
              "      <td>0.229311</td>\n",
              "      <td>0.537565</td>\n",
              "      <td>0.513008</td>\n",
              "      <td>0.124485</td>\n",
              "      <td>0.479424</td>\n",
              "      <td>0.188195</td>\n",
              "      <td>0.474588</td>\n",
              "      <td>0.120037</td>\n",
              "      <td>0.115233</td>\n",
              "      <td>0.043751</td>\n",
              "      <td>0.386505</td>\n",
              "      <td>0.207263</td>\n",
              "      <td>0.861381</td>\n",
              "      <td>1.000000</td>\n",
              "      <td>0.238289</td>\n",
              "      <td>0.296528</td>\n",
              "      <td>0.628815</td>\n",
              "    </tr>\n",
              "    <tr>\n",
              "      <th>wooddecksf</th>\n",
              "      <td>-0.018514</td>\n",
              "      <td>0.081338</td>\n",
              "      <td>0.181634</td>\n",
              "      <td>0.273652</td>\n",
              "      <td>-0.018856</td>\n",
              "      <td>0.172131</td>\n",
              "      <td>0.180689</td>\n",
              "      <td>-0.012039</td>\n",
              "      <td>0.226965</td>\n",
              "      <td>0.241716</td>\n",
              "      <td>0.107529</td>\n",
              "      <td>0.250210</td>\n",
              "      <td>0.149507</td>\n",
              "      <td>0.221316</td>\n",
              "      <td>0.103908</td>\n",
              "      <td>0.076403</td>\n",
              "      <td>-0.081044</td>\n",
              "      <td>0.192011</td>\n",
              "      <td>0.173996</td>\n",
              "      <td>0.237785</td>\n",
              "      <td>0.238289</td>\n",
              "      <td>1.000000</td>\n",
              "      <td>0.068327</td>\n",
              "      <td>0.330286</td>\n",
              "    </tr>\n",
              "    <tr>\n",
              "      <th>openporchsf</th>\n",
              "      <td>0.006799</td>\n",
              "      <td>0.160862</td>\n",
              "      <td>0.156881</td>\n",
              "      <td>0.335884</td>\n",
              "      <td>-0.084405</td>\n",
              "      <td>0.150360</td>\n",
              "      <td>0.066155</td>\n",
              "      <td>0.140096</td>\n",
              "      <td>0.255743</td>\n",
              "      <td>0.222000</td>\n",
              "      <td>0.201882</td>\n",
              "      <td>0.335212</td>\n",
              "      <td>0.073655</td>\n",
              "      <td>0.294123</td>\n",
              "      <td>0.186768</td>\n",
              "      <td>0.084842</td>\n",
              "      <td>-0.031902</td>\n",
              "      <td>0.257247</td>\n",
              "      <td>0.182061</td>\n",
              "      <td>0.260375</td>\n",
              "      <td>0.296528</td>\n",
              "      <td>0.068327</td>\n",
              "      <td>1.000000</td>\n",
              "      <td>0.338600</td>\n",
              "    </tr>\n",
              "    <tr>\n",
              "      <th>saleprice</th>\n",
              "      <td>-0.089478</td>\n",
              "      <td>0.343978</td>\n",
              "      <td>0.450580</td>\n",
              "      <td>0.795437</td>\n",
              "      <td>-0.138511</td>\n",
              "      <td>0.455809</td>\n",
              "      <td>0.321754</td>\n",
              "      <td>0.191247</td>\n",
              "      <td>0.616908</td>\n",
              "      <td>0.601982</td>\n",
              "      <td>0.302569</td>\n",
              "      <td>0.678643</td>\n",
              "      <td>0.223948</td>\n",
              "      <td>0.578299</td>\n",
              "      <td>0.259469</td>\n",
              "      <td>0.168489</td>\n",
              "      <td>-0.115382</td>\n",
              "      <td>0.560521</td>\n",
              "      <td>0.458182</td>\n",
              "      <td>0.652103</td>\n",
              "      <td>0.628815</td>\n",
              "      <td>0.330286</td>\n",
              "      <td>0.338600</td>\n",
              "      <td>1.000000</td>\n",
              "    </tr>\n",
              "  </tbody>\n",
              "</table>\n",
              "</div>"
            ],
            "text/plain": [
              "              mssubclass  lotfrontage  ...  openporchsf  saleprice\n",
              "mssubclass      1.000000    -0.389466  ...     0.006799  -0.089478\n",
              "lotfrontage    -0.389466     1.000000  ...     0.160862   0.343978\n",
              "lotarea        -0.426530     0.637413  ...     0.156881   0.450580\n",
              "overallqual     0.031639     0.241169  ...     0.335884   0.795437\n",
              "overallcond    -0.085553    -0.047132  ...    -0.084405  -0.138511\n",
              "masvnrarea      0.032962     0.178447  ...     0.150360   0.455809\n",
              "bsmtfinsf1     -0.063586     0.142635  ...     0.066155   0.321754\n",
              "bsmtunfsf      -0.147155     0.111368  ...     0.140096   0.191247\n",
              "totalbsmtsf    -0.287352     0.315014  ...     0.255743   0.616908\n",
              "firstflrsf     -0.254363     0.367326  ...     0.222000   0.601982\n",
              "secondflrsf     0.319176     0.074953  ...     0.201882   0.302569\n",
              "grlivarea       0.079602     0.336630  ...     0.335212   0.678643\n",
              "bsmtfullbath   -0.013040     0.115151  ...     0.073655   0.223948\n",
              "fullbath        0.119495     0.189692  ...     0.294123   0.578299\n",
              "halfbath        0.206259     0.043414  ...     0.186768   0.259469\n",
              "bedroomabvgr   -0.044628     0.277136  ...     0.084842   0.168489\n",
              "kitchenabvgr    0.258401     0.007411  ...    -0.031902  -0.115382\n",
              "totrmsabvgrd    0.038180     0.354714  ...     0.257247   0.560521\n",
              "fireplaces     -0.029575     0.260293  ...     0.182061   0.458182\n",
              "garagecars     -0.031638     0.285748  ...     0.260375   0.652103\n",
              "garagearea     -0.089676     0.331937  ...     0.296528   0.628815\n",
              "wooddecksf     -0.018514     0.081338  ...     0.068327   0.330286\n",
              "openporchsf     0.006799     0.160862  ...     1.000000   0.338600\n",
              "saleprice      -0.089478     0.343978  ...     0.338600   1.000000\n",
              "\n",
              "[24 rows x 24 columns]"
            ]
          },
          "metadata": {
            "tags": []
          },
          "execution_count": 38
        }
      ]
    },
    {
      "cell_type": "code",
      "metadata": {
        "id": "sGoXELT_kZ-p",
        "colab_type": "code",
        "outputId": "8f6d28dc-fbc6-4ecb-f3fb-15a710fec90b",
        "colab": {
          "base_uri": "https://localhost:8080/",
          "height": 34
        }
      },
      "source": [
        "hp[nol].corr().size"
      ],
      "execution_count": 39,
      "outputs": [
        {
          "output_type": "execute_result",
          "data": {
            "text/plain": [
              "576"
            ]
          },
          "metadata": {
            "tags": []
          },
          "execution_count": 39
        }
      ]
    },
    {
      "cell_type": "markdown",
      "metadata": {
        "id": "1-ZJsV33gi_x",
        "colab_type": "text"
      },
      "source": [
        "**HEAT MAP**"
      ]
    },
    {
      "cell_type": "code",
      "metadata": {
        "id": "20is7Rqo4XfQ",
        "colab_type": "code",
        "outputId": "a630af61-a882-4878-8658-6f68b9810740",
        "colab": {
          "base_uri": "https://localhost:8080/",
          "height": 1000
        }
      },
      "source": [
        "plt.figure(figsize=(19,19))\n",
        "sns.heatmap(hp[nol].corr(),annot=True,linewidth=0.5,cmap='coolwarm')"
      ],
      "execution_count": 40,
      "outputs": [
        {
          "output_type": "execute_result",
          "data": {
            "text/plain": [
              "<matplotlib.axes._subplots.AxesSubplot at 0x7f93007a82e8>"
            ]
          },
          "metadata": {
            "tags": []
          },
          "execution_count": 40
        },
        {
          "output_type": "display_data",
          "data": {
            "image/png": "[encoded data removed]",
            "text/plain": [
              "<Figure size 1368x1368 with 2 Axes>"
            ]
          },
          "metadata": {
            "tags": []
          }
        }
      ]
    },
    {
      "cell_type": "markdown",
      "metadata": {
        "id": "I-TGUMqV4j1t",
        "colab_type": "text"
      },
      "source": [
        "ONLY ONE HIGH CORRELATIONS  FURSTFLSF/TOTALBSMTSF \n",
        "\n",
        "**DROP TOTALBSMTSF**"
      ]
    },
    {
      "cell_type": "code",
      "metadata": {
        "id": "Lheh6SucNKDm",
        "colab_type": "code",
        "colab": {}
      },
      "source": [
        "hp.drop(['totalbsmtsf'],axis=1,inplace=True)"
      ],
      "execution_count": 0,
      "outputs": []
    },
    {
      "cell_type": "code",
      "metadata": {
        "id": "u4Gi3hZbGmpy",
        "colab_type": "code",
        "colab": {}
      },
      "source": [
        "nol=list(hp.select_dtypes(exclude='object').columns)"
      ],
      "execution_count": 0,
      "outputs": []
    },
    {
      "cell_type": "markdown",
      "metadata": {
        "id": "zoLnxD8fj6eQ",
        "colab_type": "text"
      },
      "source": [
        "**CREATE LIST OF OBJECT FEATURES**"
      ]
    },
    {
      "cell_type": "code",
      "metadata": {
        "colab_type": "code",
        "id": "fWmqHXM0NK0b",
        "colab": {}
      },
      "source": [
        "object_list=list(hp.select_dtypes(['object']).columns)"
      ],
      "execution_count": 0,
      "outputs": []
    },
    {
      "cell_type": "code",
      "metadata": {
        "id": "nMySQRl8NaNZ",
        "colab_type": "code",
        "colab": {}
      },
      "source": [
        "hp_object=hp[object_list]"
      ],
      "execution_count": 0,
      "outputs": []
    },
    {
      "cell_type": "code",
      "metadata": {
        "id": "CTBp4HvdNiDH",
        "colab_type": "code",
        "outputId": "2439128f-e727-4fd5-8ed9-ea8e3a6ce45a",
        "colab": {
          "base_uri": "https://localhost:8080/",
          "height": 156
        }
      },
      "source": [
        "hp_object.head(3)"
      ],
      "execution_count": 45,
      "outputs": [
        {
          "output_type": "execute_result",
          "data": {
            "text/html": [
              "<div>\n",
              "<style scoped>\n",
              "    .dataframe tbody tr th:only-of-type {\n",
              "        vertical-align: middle;\n",
              "    }\n",
              "\n",
              "    .dataframe tbody tr th {\n",
              "        vertical-align: top;\n",
              "    }\n",
              "\n",
              "    .dataframe thead th {\n",
              "        text-align: right;\n",
              "    }\n",
              "</style>\n",
              "<table border=\"1\" class=\"dataframe\">\n",
              "  <thead>\n",
              "    <tr style=\"text-align: right;\">\n",
              "      <th></th>\n",
              "      <th>mszoning</th>\n",
              "      <th>street</th>\n",
              "      <th>lotshape</th>\n",
              "      <th>landcontour</th>\n",
              "      <th>utilities</th>\n",
              "      <th>lotconfig</th>\n",
              "      <th>landslope</th>\n",
              "      <th>neighborhood</th>\n",
              "      <th>condition1</th>\n",
              "      <th>condition2</th>\n",
              "      <th>bldgtype</th>\n",
              "      <th>housestyle</th>\n",
              "      <th>roofstyle</th>\n",
              "      <th>roofmatl</th>\n",
              "      <th>exterior1st</th>\n",
              "      <th>exterior2nd</th>\n",
              "      <th>masvnrtype</th>\n",
              "      <th>exterqual</th>\n",
              "      <th>extercond</th>\n",
              "      <th>foundation</th>\n",
              "      <th>bsmtqual</th>\n",
              "      <th>bsmtcond</th>\n",
              "      <th>bsmtexposure</th>\n",
              "      <th>bsmtfintype1</th>\n",
              "      <th>bsmtfintype2</th>\n",
              "      <th>heating</th>\n",
              "      <th>heatingqc</th>\n",
              "      <th>centralair</th>\n",
              "      <th>electrical</th>\n",
              "      <th>kitchenqual</th>\n",
              "      <th>functional</th>\n",
              "      <th>garagetype</th>\n",
              "      <th>garagefinish</th>\n",
              "      <th>garagequal</th>\n",
              "      <th>garagecond</th>\n",
              "      <th>paveddrive</th>\n",
              "      <th>saletype</th>\n",
              "      <th>salecondition</th>\n",
              "    </tr>\n",
              "  </thead>\n",
              "  <tbody>\n",
              "    <tr>\n",
              "      <th>0</th>\n",
              "      <td>RL</td>\n",
              "      <td>Pave</td>\n",
              "      <td>Reg</td>\n",
              "      <td>Lvl</td>\n",
              "      <td>AllPub</td>\n",
              "      <td>Inside</td>\n",
              "      <td>Gtl</td>\n",
              "      <td>CollgCr</td>\n",
              "      <td>Norm</td>\n",
              "      <td>Norm</td>\n",
              "      <td>1Fam</td>\n",
              "      <td>2Story</td>\n",
              "      <td>Gable</td>\n",
              "      <td>CompShg</td>\n",
              "      <td>VinylSd</td>\n",
              "      <td>VinylSd</td>\n",
              "      <td>BrkFace</td>\n",
              "      <td>Gd</td>\n",
              "      <td>TA</td>\n",
              "      <td>PConc</td>\n",
              "      <td>Gd</td>\n",
              "      <td>TA</td>\n",
              "      <td>No</td>\n",
              "      <td>GLQ</td>\n",
              "      <td>Unf</td>\n",
              "      <td>GasA</td>\n",
              "      <td>Ex</td>\n",
              "      <td>Y</td>\n",
              "      <td>SBrkr</td>\n",
              "      <td>Gd</td>\n",
              "      <td>Typ</td>\n",
              "      <td>Attchd</td>\n",
              "      <td>RFn</td>\n",
              "      <td>TA</td>\n",
              "      <td>TA</td>\n",
              "      <td>Y</td>\n",
              "      <td>WD</td>\n",
              "      <td>Normal</td>\n",
              "    </tr>\n",
              "    <tr>\n",
              "      <th>1</th>\n",
              "      <td>RL</td>\n",
              "      <td>Pave</td>\n",
              "      <td>Reg</td>\n",
              "      <td>Lvl</td>\n",
              "      <td>AllPub</td>\n",
              "      <td>FR2</td>\n",
              "      <td>Gtl</td>\n",
              "      <td>Veenker</td>\n",
              "      <td>Feedr</td>\n",
              "      <td>Norm</td>\n",
              "      <td>1Fam</td>\n",
              "      <td>1Story</td>\n",
              "      <td>Gable</td>\n",
              "      <td>CompShg</td>\n",
              "      <td>MetalSd</td>\n",
              "      <td>MetalSd</td>\n",
              "      <td>None</td>\n",
              "      <td>TA</td>\n",
              "      <td>TA</td>\n",
              "      <td>CBlock</td>\n",
              "      <td>Gd</td>\n",
              "      <td>TA</td>\n",
              "      <td>Gd</td>\n",
              "      <td>ALQ</td>\n",
              "      <td>Unf</td>\n",
              "      <td>GasA</td>\n",
              "      <td>Ex</td>\n",
              "      <td>Y</td>\n",
              "      <td>SBrkr</td>\n",
              "      <td>TA</td>\n",
              "      <td>Typ</td>\n",
              "      <td>Attchd</td>\n",
              "      <td>RFn</td>\n",
              "      <td>TA</td>\n",
              "      <td>TA</td>\n",
              "      <td>Y</td>\n",
              "      <td>WD</td>\n",
              "      <td>Normal</td>\n",
              "    </tr>\n",
              "    <tr>\n",
              "      <th>2</th>\n",
              "      <td>RL</td>\n",
              "      <td>Pave</td>\n",
              "      <td>IR1</td>\n",
              "      <td>Lvl</td>\n",
              "      <td>AllPub</td>\n",
              "      <td>Inside</td>\n",
              "      <td>Gtl</td>\n",
              "      <td>CollgCr</td>\n",
              "      <td>Norm</td>\n",
              "      <td>Norm</td>\n",
              "      <td>1Fam</td>\n",
              "      <td>2Story</td>\n",
              "      <td>Gable</td>\n",
              "      <td>CompShg</td>\n",
              "      <td>VinylSd</td>\n",
              "      <td>VinylSd</td>\n",
              "      <td>BrkFace</td>\n",
              "      <td>Gd</td>\n",
              "      <td>TA</td>\n",
              "      <td>PConc</td>\n",
              "      <td>Gd</td>\n",
              "      <td>TA</td>\n",
              "      <td>Mn</td>\n",
              "      <td>GLQ</td>\n",
              "      <td>Unf</td>\n",
              "      <td>GasA</td>\n",
              "      <td>Ex</td>\n",
              "      <td>Y</td>\n",
              "      <td>SBrkr</td>\n",
              "      <td>Gd</td>\n",
              "      <td>Typ</td>\n",
              "      <td>Attchd</td>\n",
              "      <td>RFn</td>\n",
              "      <td>TA</td>\n",
              "      <td>TA</td>\n",
              "      <td>Y</td>\n",
              "      <td>WD</td>\n",
              "      <td>Normal</td>\n",
              "    </tr>\n",
              "  </tbody>\n",
              "</table>\n",
              "</div>"
            ],
            "text/plain": [
              "  mszoning street lotshape  ... paveddrive saletype salecondition\n",
              "0       RL   Pave      Reg  ...          Y       WD        Normal\n",
              "1       RL   Pave      Reg  ...          Y       WD        Normal\n",
              "2       RL   Pave      IR1  ...          Y       WD        Normal\n",
              "\n",
              "[3 rows x 38 columns]"
            ]
          },
          "metadata": {
            "tags": []
          },
          "execution_count": 45
        }
      ]
    },
    {
      "cell_type": "markdown",
      "metadata": {
        "id": "1zWSt6klkTzb",
        "colab_type": "text"
      },
      "source": [
        "**PLOT CATEGORICAL SUBFEATURES IN ORDER OF IMPORTANCE**"
      ]
    },
    {
      "cell_type": "code",
      "metadata": {
        "id": "WJa4Wi16PTO7",
        "colab_type": "code",
        "outputId": "0fd28ecb-35bc-4ca4-d049-e03554eb2339",
        "colab": {
          "base_uri": "https://localhost:8080/",
          "height": 575
        }
      },
      "source": [
        "cat_data = hp.select_dtypes(exclude=[np.number])\n",
        "plt.rcParams['figure.figsize'] = (10.0, 8.0)\n",
        "cat = [f for f in hp.columns if hp.dtypes[f] == 'object']\n",
        "def anova(frame):\n",
        "    anv = pd.DataFrame()\n",
        "    anv['features'] = cat\n",
        "    pvals = []\n",
        "    for c in cat:\n",
        "           samples = []\n",
        "           for cls in frame[c].unique():\n",
        "                  s = frame[frame[c] == cls]['saleprice'].values\n",
        "                  samples.append(s)\n",
        "           pval = stats.f_oneway(*samples)[1]\n",
        "           pvals.append(pval)\n",
        "    anv['pval'] = pvals\n",
        "    return anv.sort_values('pval')\n",
        "\n",
        "cat_data['saleprice'] = hp.saleprice.values\n",
        "k = anova(cat_data) \n",
        "k['disparity'] = np.log(1./k['pval'].values) \n",
        "sns.barplot(data=k, x = 'features', y='disparity') \n",
        "plt.xticks(rotation=90) \n",
        "\n",
        "plt "
      ],
      "execution_count": 46,
      "outputs": [
        {
          "output_type": "execute_result",
          "data": {
            "text/plain": [
              "<module 'matplotlib.pyplot' from '/usr/local/lib/python3.6/dist-packages/matplotlib/pyplot.py'>"
            ]
          },
          "metadata": {
            "tags": []
          },
          "execution_count": 46
        },
        {
          "output_type": "display_data",
          "data": {
            "image/png": "[encoded data removed]",
            "text/plain": [
              "<Figure size 720x576 with 1 Axes>"
            ]
          },
          "metadata": {
            "tags": []
          }
        }
      ]
    },
    {
      "cell_type": "markdown",
      "metadata": {
        "id": "WDRfvm7cUDav",
        "colab_type": "text"
      },
      "source": [
        "**KEEP THE TOP 4 FEATURES -- KITCHENQUAL,EXTERQUAL,BSMTQUAL,NEIGHBORHOOD**"
      ]
    },
    {
      "cell_type": "code",
      "metadata": {
        "id": "Za0SSj5CUYZt",
        "colab_type": "code",
        "colab": {}
      },
      "source": [
        "hp_cats=hp[['kitchenqual','exterqual',\"bsmtqual\",'neighborhood']]"
      ],
      "execution_count": 0,
      "outputs": []
    },
    {
      "cell_type": "code",
      "metadata": {
        "id": "NCwLDQsQeaot",
        "colab_type": "code",
        "outputId": "c1cbb473-41a1-4f02-bfcb-1476e934cd9b",
        "colab": {
          "base_uri": "https://localhost:8080/",
          "height": 195
        }
      },
      "source": [
        "hp_cats.head()"
      ],
      "execution_count": 48,
      "outputs": [
        {
          "output_type": "execute_result",
          "data": {
            "text/html": [
              "<div>\n",
              "<style scoped>\n",
              "    .dataframe tbody tr th:only-of-type {\n",
              "        vertical-align: middle;\n",
              "    }\n",
              "\n",
              "    .dataframe tbody tr th {\n",
              "        vertical-align: top;\n",
              "    }\n",
              "\n",
              "    .dataframe thead th {\n",
              "        text-align: right;\n",
              "    }\n",
              "</style>\n",
              "<table border=\"1\" class=\"dataframe\">\n",
              "  <thead>\n",
              "    <tr style=\"text-align: right;\">\n",
              "      <th></th>\n",
              "      <th>kitchenqual</th>\n",
              "      <th>exterqual</th>\n",
              "      <th>bsmtqual</th>\n",
              "      <th>neighborhood</th>\n",
              "    </tr>\n",
              "  </thead>\n",
              "  <tbody>\n",
              "    <tr>\n",
              "      <th>0</th>\n",
              "      <td>Gd</td>\n",
              "      <td>Gd</td>\n",
              "      <td>Gd</td>\n",
              "      <td>CollgCr</td>\n",
              "    </tr>\n",
              "    <tr>\n",
              "      <th>1</th>\n",
              "      <td>TA</td>\n",
              "      <td>TA</td>\n",
              "      <td>Gd</td>\n",
              "      <td>Veenker</td>\n",
              "    </tr>\n",
              "    <tr>\n",
              "      <th>2</th>\n",
              "      <td>Gd</td>\n",
              "      <td>Gd</td>\n",
              "      <td>Gd</td>\n",
              "      <td>CollgCr</td>\n",
              "    </tr>\n",
              "    <tr>\n",
              "      <th>3</th>\n",
              "      <td>Gd</td>\n",
              "      <td>TA</td>\n",
              "      <td>TA</td>\n",
              "      <td>Crawfor</td>\n",
              "    </tr>\n",
              "    <tr>\n",
              "      <th>4</th>\n",
              "      <td>Gd</td>\n",
              "      <td>Gd</td>\n",
              "      <td>Gd</td>\n",
              "      <td>NoRidge</td>\n",
              "    </tr>\n",
              "  </tbody>\n",
              "</table>\n",
              "</div>"
            ],
            "text/plain": [
              "  kitchenqual exterqual bsmtqual neighborhood\n",
              "0          Gd        Gd       Gd      CollgCr\n",
              "1          TA        TA       Gd      Veenker\n",
              "2          Gd        Gd       Gd      CollgCr\n",
              "3          Gd        TA       TA      Crawfor\n",
              "4          Gd        Gd       Gd      NoRidge"
            ]
          },
          "metadata": {
            "tags": []
          },
          "execution_count": 48
        }
      ]
    },
    {
      "cell_type": "markdown",
      "metadata": {
        "id": "AiDopXdblEv6",
        "colab_type": "text"
      },
      "source": [
        "**CONCATENATE TOP 4 CATEGORICALS AND CONTINUOUS FEATURES**"
      ]
    },
    {
      "cell_type": "code",
      "metadata": {
        "id": "NR5-u6gne0MV",
        "colab_type": "code",
        "colab": {}
      },
      "source": [
        "super = pd.concat([hp[nol], hp_cats], axis=1, join='inner')\n",
        "super.drop('saleprice',axis=1,inplace=True)"
      ],
      "execution_count": 0,
      "outputs": []
    },
    {
      "cell_type": "code",
      "metadata": {
        "id": "6Mb5qVrte6m4",
        "colab_type": "code",
        "outputId": "d4b6a864-75c1-4762-f5b3-dc10470ef02e",
        "colab": {
          "base_uri": "https://localhost:8080/",
          "height": 215
        }
      },
      "source": [
        "super.head()"
      ],
      "execution_count": 50,
      "outputs": [
        {
          "output_type": "execute_result",
          "data": {
            "text/html": [
              "<div>\n",
              "<style scoped>\n",
              "    .dataframe tbody tr th:only-of-type {\n",
              "        vertical-align: middle;\n",
              "    }\n",
              "\n",
              "    .dataframe tbody tr th {\n",
              "        vertical-align: top;\n",
              "    }\n",
              "\n",
              "    .dataframe thead th {\n",
              "        text-align: right;\n",
              "    }\n",
              "</style>\n",
              "<table border=\"1\" class=\"dataframe\">\n",
              "  <thead>\n",
              "    <tr style=\"text-align: right;\">\n",
              "      <th></th>\n",
              "      <th>mssubclass</th>\n",
              "      <th>lotfrontage</th>\n",
              "      <th>lotarea</th>\n",
              "      <th>overallqual</th>\n",
              "      <th>overallcond</th>\n",
              "      <th>masvnrarea</th>\n",
              "      <th>bsmtfinsf1</th>\n",
              "      <th>bsmtunfsf</th>\n",
              "      <th>firstflrsf</th>\n",
              "      <th>secondflrsf</th>\n",
              "      <th>grlivarea</th>\n",
              "      <th>bsmtfullbath</th>\n",
              "      <th>fullbath</th>\n",
              "      <th>halfbath</th>\n",
              "      <th>bedroomabvgr</th>\n",
              "      <th>kitchenabvgr</th>\n",
              "      <th>totrmsabvgrd</th>\n",
              "      <th>fireplaces</th>\n",
              "      <th>garagecars</th>\n",
              "      <th>garagearea</th>\n",
              "      <th>wooddecksf</th>\n",
              "      <th>openporchsf</th>\n",
              "      <th>kitchenqual</th>\n",
              "      <th>exterqual</th>\n",
              "      <th>bsmtqual</th>\n",
              "      <th>neighborhood</th>\n",
              "    </tr>\n",
              "  </thead>\n",
              "  <tbody>\n",
              "    <tr>\n",
              "      <th>0</th>\n",
              "      <td>60</td>\n",
              "      <td>65.0</td>\n",
              "      <td>8450</td>\n",
              "      <td>7</td>\n",
              "      <td>5</td>\n",
              "      <td>196.0</td>\n",
              "      <td>706</td>\n",
              "      <td>150</td>\n",
              "      <td>856</td>\n",
              "      <td>854</td>\n",
              "      <td>1710</td>\n",
              "      <td>1</td>\n",
              "      <td>2</td>\n",
              "      <td>1</td>\n",
              "      <td>3</td>\n",
              "      <td>1</td>\n",
              "      <td>8</td>\n",
              "      <td>0</td>\n",
              "      <td>2</td>\n",
              "      <td>548</td>\n",
              "      <td>0</td>\n",
              "      <td>61</td>\n",
              "      <td>Gd</td>\n",
              "      <td>Gd</td>\n",
              "      <td>Gd</td>\n",
              "      <td>CollgCr</td>\n",
              "    </tr>\n",
              "    <tr>\n",
              "      <th>1</th>\n",
              "      <td>20</td>\n",
              "      <td>80.0</td>\n",
              "      <td>9600</td>\n",
              "      <td>6</td>\n",
              "      <td>8</td>\n",
              "      <td>0.0</td>\n",
              "      <td>978</td>\n",
              "      <td>284</td>\n",
              "      <td>1262</td>\n",
              "      <td>0</td>\n",
              "      <td>1262</td>\n",
              "      <td>0</td>\n",
              "      <td>2</td>\n",
              "      <td>0</td>\n",
              "      <td>3</td>\n",
              "      <td>1</td>\n",
              "      <td>6</td>\n",
              "      <td>1</td>\n",
              "      <td>2</td>\n",
              "      <td>460</td>\n",
              "      <td>298</td>\n",
              "      <td>0</td>\n",
              "      <td>TA</td>\n",
              "      <td>TA</td>\n",
              "      <td>Gd</td>\n",
              "      <td>Veenker</td>\n",
              "    </tr>\n",
              "    <tr>\n",
              "      <th>2</th>\n",
              "      <td>60</td>\n",
              "      <td>68.0</td>\n",
              "      <td>11250</td>\n",
              "      <td>7</td>\n",
              "      <td>5</td>\n",
              "      <td>162.0</td>\n",
              "      <td>486</td>\n",
              "      <td>434</td>\n",
              "      <td>920</td>\n",
              "      <td>866</td>\n",
              "      <td>1786</td>\n",
              "      <td>1</td>\n",
              "      <td>2</td>\n",
              "      <td>1</td>\n",
              "      <td>3</td>\n",
              "      <td>1</td>\n",
              "      <td>6</td>\n",
              "      <td>1</td>\n",
              "      <td>2</td>\n",
              "      <td>608</td>\n",
              "      <td>0</td>\n",
              "      <td>42</td>\n",
              "      <td>Gd</td>\n",
              "      <td>Gd</td>\n",
              "      <td>Gd</td>\n",
              "      <td>CollgCr</td>\n",
              "    </tr>\n",
              "    <tr>\n",
              "      <th>3</th>\n",
              "      <td>70</td>\n",
              "      <td>60.0</td>\n",
              "      <td>9550</td>\n",
              "      <td>7</td>\n",
              "      <td>5</td>\n",
              "      <td>0.0</td>\n",
              "      <td>216</td>\n",
              "      <td>540</td>\n",
              "      <td>961</td>\n",
              "      <td>756</td>\n",
              "      <td>1717</td>\n",
              "      <td>1</td>\n",
              "      <td>1</td>\n",
              "      <td>0</td>\n",
              "      <td>3</td>\n",
              "      <td>1</td>\n",
              "      <td>7</td>\n",
              "      <td>1</td>\n",
              "      <td>3</td>\n",
              "      <td>642</td>\n",
              "      <td>0</td>\n",
              "      <td>35</td>\n",
              "      <td>Gd</td>\n",
              "      <td>TA</td>\n",
              "      <td>TA</td>\n",
              "      <td>Crawfor</td>\n",
              "    </tr>\n",
              "    <tr>\n",
              "      <th>4</th>\n",
              "      <td>60</td>\n",
              "      <td>84.0</td>\n",
              "      <td>14000</td>\n",
              "      <td>8</td>\n",
              "      <td>5</td>\n",
              "      <td>340.0</td>\n",
              "      <td>655</td>\n",
              "      <td>490</td>\n",
              "      <td>1145</td>\n",
              "      <td>1053</td>\n",
              "      <td>2161</td>\n",
              "      <td>1</td>\n",
              "      <td>2</td>\n",
              "      <td>1</td>\n",
              "      <td>4</td>\n",
              "      <td>1</td>\n",
              "      <td>9</td>\n",
              "      <td>1</td>\n",
              "      <td>3</td>\n",
              "      <td>786</td>\n",
              "      <td>192</td>\n",
              "      <td>84</td>\n",
              "      <td>Gd</td>\n",
              "      <td>Gd</td>\n",
              "      <td>Gd</td>\n",
              "      <td>NoRidge</td>\n",
              "    </tr>\n",
              "  </tbody>\n",
              "</table>\n",
              "</div>"
            ],
            "text/plain": [
              "   mssubclass  lotfrontage  lotarea  ...  exterqual  bsmtqual  neighborhood\n",
              "0          60         65.0     8450  ...         Gd        Gd       CollgCr\n",
              "1          20         80.0     9600  ...         TA        Gd       Veenker\n",
              "2          60         68.0    11250  ...         Gd        Gd       CollgCr\n",
              "3          70         60.0     9550  ...         TA        TA       Crawfor\n",
              "4          60         84.0    14000  ...         Gd        Gd       NoRidge\n",
              "\n",
              "[5 rows x 26 columns]"
            ]
          },
          "metadata": {
            "tags": []
          },
          "execution_count": 50
        }
      ]
    },
    {
      "cell_type": "code",
      "metadata": {
        "id": "W315i15uZteO",
        "colab_type": "code",
        "outputId": "82850b36-a42c-4526-c653-b378e7876a8e",
        "colab": {
          "base_uri": "https://localhost:8080/",
          "height": 34
        }
      },
      "source": [
        "super.shape"
      ],
      "execution_count": 51,
      "outputs": [
        {
          "output_type": "execute_result",
          "data": {
            "text/plain": [
              "(1094, 26)"
            ]
          },
          "metadata": {
            "tags": []
          },
          "execution_count": 51
        }
      ]
    },
    {
      "cell_type": "markdown",
      "metadata": {
        "id": "lp1FDx_qlXOa",
        "colab_type": "text"
      },
      "source": [
        "**ONE-HOT ENCODE**"
      ]
    },
    {
      "cell_type": "code",
      "metadata": {
        "id": "vWYuTYnzTIbT",
        "colab_type": "code",
        "colab": {}
      },
      "source": [
        "super_dummy=pd.get_dummies(super,drop_first=True)"
      ],
      "execution_count": 0,
      "outputs": []
    },
    {
      "cell_type": "code",
      "metadata": {
        "id": "3wZEIjxcTQSC",
        "colab_type": "code",
        "outputId": "ad370e32-014e-48b5-851d-cb9afdb80cdb",
        "colab": {
          "base_uri": "https://localhost:8080/",
          "height": 215
        }
      },
      "source": [
        "super_dummy.head()"
      ],
      "execution_count": 0,
      "outputs": [
        {
          "output_type": "execute_result",
          "data": {
            "text/html": [
              "<div>\n",
              "<style scoped>\n",
              "    .dataframe tbody tr th:only-of-type {\n",
              "        vertical-align: middle;\n",
              "    }\n",
              "\n",
              "    .dataframe tbody tr th {\n",
              "        vertical-align: top;\n",
              "    }\n",
              "\n",
              "    .dataframe thead th {\n",
              "        text-align: right;\n",
              "    }\n",
              "</style>\n",
              "<table border=\"1\" class=\"dataframe\">\n",
              "  <thead>\n",
              "    <tr style=\"text-align: right;\">\n",
              "      <th></th>\n",
              "      <th>mssubclass</th>\n",
              "      <th>lotfrontage</th>\n",
              "      <th>lotarea</th>\n",
              "      <th>overallqual</th>\n",
              "      <th>overallcond</th>\n",
              "      <th>masvnrarea</th>\n",
              "      <th>bsmtfinsf1</th>\n",
              "      <th>bsmtunfsf</th>\n",
              "      <th>firstflrsf</th>\n",
              "      <th>secondflrsf</th>\n",
              "      <th>grlivarea</th>\n",
              "      <th>bsmtfullbath</th>\n",
              "      <th>fullbath</th>\n",
              "      <th>halfbath</th>\n",
              "      <th>bedroomabvgr</th>\n",
              "      <th>kitchenabvgr</th>\n",
              "      <th>totrmsabvgrd</th>\n",
              "      <th>fireplaces</th>\n",
              "      <th>garagecars</th>\n",
              "      <th>garagearea</th>\n",
              "      <th>wooddecksf</th>\n",
              "      <th>openporchsf</th>\n",
              "      <th>kitchenqual_Fa</th>\n",
              "      <th>kitchenqual_Gd</th>\n",
              "      <th>kitchenqual_TA</th>\n",
              "      <th>exterqual_Fa</th>\n",
              "      <th>exterqual_Gd</th>\n",
              "      <th>exterqual_TA</th>\n",
              "      <th>bsmtqual_Fa</th>\n",
              "      <th>bsmtqual_Gd</th>\n",
              "      <th>bsmtqual_TA</th>\n",
              "      <th>neighborhood_Blueste</th>\n",
              "      <th>neighborhood_BrDale</th>\n",
              "      <th>neighborhood_BrkSide</th>\n",
              "      <th>neighborhood_ClearCr</th>\n",
              "      <th>neighborhood_CollgCr</th>\n",
              "      <th>neighborhood_Crawfor</th>\n",
              "      <th>neighborhood_Edwards</th>\n",
              "      <th>neighborhood_Gilbert</th>\n",
              "      <th>neighborhood_IDOTRR</th>\n",
              "      <th>neighborhood_MeadowV</th>\n",
              "      <th>neighborhood_Mitchel</th>\n",
              "      <th>neighborhood_NAmes</th>\n",
              "      <th>neighborhood_NPkVill</th>\n",
              "      <th>neighborhood_NWAmes</th>\n",
              "      <th>neighborhood_NoRidge</th>\n",
              "      <th>neighborhood_NridgHt</th>\n",
              "      <th>neighborhood_OldTown</th>\n",
              "      <th>neighborhood_SWISU</th>\n",
              "      <th>neighborhood_Sawyer</th>\n",
              "      <th>neighborhood_SawyerW</th>\n",
              "      <th>neighborhood_Somerst</th>\n",
              "      <th>neighborhood_StoneBr</th>\n",
              "      <th>neighborhood_Timber</th>\n",
              "      <th>neighborhood_Veenker</th>\n",
              "    </tr>\n",
              "  </thead>\n",
              "  <tbody>\n",
              "    <tr>\n",
              "      <th>0</th>\n",
              "      <td>60</td>\n",
              "      <td>65.0</td>\n",
              "      <td>8450</td>\n",
              "      <td>7</td>\n",
              "      <td>5</td>\n",
              "      <td>196.0</td>\n",
              "      <td>706</td>\n",
              "      <td>150</td>\n",
              "      <td>856</td>\n",
              "      <td>854</td>\n",
              "      <td>1710</td>\n",
              "      <td>1</td>\n",
              "      <td>2</td>\n",
              "      <td>1</td>\n",
              "      <td>3</td>\n",
              "      <td>1</td>\n",
              "      <td>8</td>\n",
              "      <td>0</td>\n",
              "      <td>2</td>\n",
              "      <td>548</td>\n",
              "      <td>0</td>\n",
              "      <td>61</td>\n",
              "      <td>0</td>\n",
              "      <td>1</td>\n",
              "      <td>0</td>\n",
              "      <td>0</td>\n",
              "      <td>1</td>\n",
              "      <td>0</td>\n",
              "      <td>0</td>\n",
              "      <td>1</td>\n",
              "      <td>0</td>\n",
              "      <td>0</td>\n",
              "      <td>0</td>\n",
              "      <td>0</td>\n",
              "      <td>0</td>\n",
              "      <td>1</td>\n",
              "      <td>0</td>\n",
              "      <td>0</td>\n",
              "      <td>0</td>\n",
              "      <td>0</td>\n",
              "      <td>0</td>\n",
              "      <td>0</td>\n",
              "      <td>0</td>\n",
              "      <td>0</td>\n",
              "      <td>0</td>\n",
              "      <td>0</td>\n",
              "      <td>0</td>\n",
              "      <td>0</td>\n",
              "      <td>0</td>\n",
              "      <td>0</td>\n",
              "      <td>0</td>\n",
              "      <td>0</td>\n",
              "      <td>0</td>\n",
              "      <td>0</td>\n",
              "      <td>0</td>\n",
              "    </tr>\n",
              "    <tr>\n",
              "      <th>1</th>\n",
              "      <td>20</td>\n",
              "      <td>80.0</td>\n",
              "      <td>9600</td>\n",
              "      <td>6</td>\n",
              "      <td>8</td>\n",
              "      <td>0.0</td>\n",
              "      <td>978</td>\n",
              "      <td>284</td>\n",
              "      <td>1262</td>\n",
              "      <td>0</td>\n",
              "      <td>1262</td>\n",
              "      <td>0</td>\n",
              "      <td>2</td>\n",
              "      <td>0</td>\n",
              "      <td>3</td>\n",
              "      <td>1</td>\n",
              "      <td>6</td>\n",
              "      <td>1</td>\n",
              "      <td>2</td>\n",
              "      <td>460</td>\n",
              "      <td>298</td>\n",
              "      <td>0</td>\n",
              "      <td>0</td>\n",
              "      <td>0</td>\n",
              "      <td>1</td>\n",
              "      <td>0</td>\n",
              "      <td>0</td>\n",
              "      <td>1</td>\n",
              "      <td>0</td>\n",
              "      <td>1</td>\n",
              "      <td>0</td>\n",
              "      <td>0</td>\n",
              "      <td>0</td>\n",
              "      <td>0</td>\n",
              "      <td>0</td>\n",
              "      <td>0</td>\n",
              "      <td>0</td>\n",
              "      <td>0</td>\n",
              "      <td>0</td>\n",
              "      <td>0</td>\n",
              "      <td>0</td>\n",
              "      <td>0</td>\n",
              "      <td>0</td>\n",
              "      <td>0</td>\n",
              "      <td>0</td>\n",
              "      <td>0</td>\n",
              "      <td>0</td>\n",
              "      <td>0</td>\n",
              "      <td>0</td>\n",
              "      <td>0</td>\n",
              "      <td>0</td>\n",
              "      <td>0</td>\n",
              "      <td>0</td>\n",
              "      <td>0</td>\n",
              "      <td>1</td>\n",
              "    </tr>\n",
              "    <tr>\n",
              "      <th>2</th>\n",
              "      <td>60</td>\n",
              "      <td>68.0</td>\n",
              "      <td>11250</td>\n",
              "      <td>7</td>\n",
              "      <td>5</td>\n",
              "      <td>162.0</td>\n",
              "      <td>486</td>\n",
              "      <td>434</td>\n",
              "      <td>920</td>\n",
              "      <td>866</td>\n",
              "      <td>1786</td>\n",
              "      <td>1</td>\n",
              "      <td>2</td>\n",
              "      <td>1</td>\n",
              "      <td>3</td>\n",
              "      <td>1</td>\n",
              "      <td>6</td>\n",
              "      <td>1</td>\n",
              "      <td>2</td>\n",
              "      <td>608</td>\n",
              "      <td>0</td>\n",
              "      <td>42</td>\n",
              "      <td>0</td>\n",
              "      <td>1</td>\n",
              "      <td>0</td>\n",
              "      <td>0</td>\n",
              "      <td>1</td>\n",
              "      <td>0</td>\n",
              "      <td>0</td>\n",
              "      <td>1</td>\n",
              "      <td>0</td>\n",
              "      <td>0</td>\n",
              "      <td>0</td>\n",
              "      <td>0</td>\n",
              "      <td>0</td>\n",
              "      <td>1</td>\n",
              "      <td>0</td>\n",
              "      <td>0</td>\n",
              "      <td>0</td>\n",
              "      <td>0</td>\n",
              "      <td>0</td>\n",
              "      <td>0</td>\n",
              "      <td>0</td>\n",
              "      <td>0</td>\n",
              "      <td>0</td>\n",
              "      <td>0</td>\n",
              "      <td>0</td>\n",
              "      <td>0</td>\n",
              "      <td>0</td>\n",
              "      <td>0</td>\n",
              "      <td>0</td>\n",
              "      <td>0</td>\n",
              "      <td>0</td>\n",
              "      <td>0</td>\n",
              "      <td>0</td>\n",
              "    </tr>\n",
              "    <tr>\n",
              "      <th>3</th>\n",
              "      <td>70</td>\n",
              "      <td>60.0</td>\n",
              "      <td>9550</td>\n",
              "      <td>7</td>\n",
              "      <td>5</td>\n",
              "      <td>0.0</td>\n",
              "      <td>216</td>\n",
              "      <td>540</td>\n",
              "      <td>961</td>\n",
              "      <td>756</td>\n",
              "      <td>1717</td>\n",
              "      <td>1</td>\n",
              "      <td>1</td>\n",
              "      <td>0</td>\n",
              "      <td>3</td>\n",
              "      <td>1</td>\n",
              "      <td>7</td>\n",
              "      <td>1</td>\n",
              "      <td>3</td>\n",
              "      <td>642</td>\n",
              "      <td>0</td>\n",
              "      <td>35</td>\n",
              "      <td>0</td>\n",
              "      <td>1</td>\n",
              "      <td>0</td>\n",
              "      <td>0</td>\n",
              "      <td>0</td>\n",
              "      <td>1</td>\n",
              "      <td>0</td>\n",
              "      <td>0</td>\n",
              "      <td>1</td>\n",
              "      <td>0</td>\n",
              "      <td>0</td>\n",
              "      <td>0</td>\n",
              "      <td>0</td>\n",
              "      <td>0</td>\n",
              "      <td>1</td>\n",
              "      <td>0</td>\n",
              "      <td>0</td>\n",
              "      <td>0</td>\n",
              "      <td>0</td>\n",
              "      <td>0</td>\n",
              "      <td>0</td>\n",
              "      <td>0</td>\n",
              "      <td>0</td>\n",
              "      <td>0</td>\n",
              "      <td>0</td>\n",
              "      <td>0</td>\n",
              "      <td>0</td>\n",
              "      <td>0</td>\n",
              "      <td>0</td>\n",
              "      <td>0</td>\n",
              "      <td>0</td>\n",
              "      <td>0</td>\n",
              "      <td>0</td>\n",
              "    </tr>\n",
              "    <tr>\n",
              "      <th>4</th>\n",
              "      <td>60</td>\n",
              "      <td>84.0</td>\n",
              "      <td>14260</td>\n",
              "      <td>8</td>\n",
              "      <td>5</td>\n",
              "      <td>350.0</td>\n",
              "      <td>655</td>\n",
              "      <td>490</td>\n",
              "      <td>1145</td>\n",
              "      <td>1053</td>\n",
              "      <td>2198</td>\n",
              "      <td>1</td>\n",
              "      <td>2</td>\n",
              "      <td>1</td>\n",
              "      <td>4</td>\n",
              "      <td>1</td>\n",
              "      <td>9</td>\n",
              "      <td>1</td>\n",
              "      <td>3</td>\n",
              "      <td>836</td>\n",
              "      <td>192</td>\n",
              "      <td>84</td>\n",
              "      <td>0</td>\n",
              "      <td>1</td>\n",
              "      <td>0</td>\n",
              "      <td>0</td>\n",
              "      <td>1</td>\n",
              "      <td>0</td>\n",
              "      <td>0</td>\n",
              "      <td>1</td>\n",
              "      <td>0</td>\n",
              "      <td>0</td>\n",
              "      <td>0</td>\n",
              "      <td>0</td>\n",
              "      <td>0</td>\n",
              "      <td>0</td>\n",
              "      <td>0</td>\n",
              "      <td>0</td>\n",
              "      <td>0</td>\n",
              "      <td>0</td>\n",
              "      <td>0</td>\n",
              "      <td>0</td>\n",
              "      <td>0</td>\n",
              "      <td>0</td>\n",
              "      <td>0</td>\n",
              "      <td>1</td>\n",
              "      <td>0</td>\n",
              "      <td>0</td>\n",
              "      <td>0</td>\n",
              "      <td>0</td>\n",
              "      <td>0</td>\n",
              "      <td>0</td>\n",
              "      <td>0</td>\n",
              "      <td>0</td>\n",
              "      <td>0</td>\n",
              "    </tr>\n",
              "  </tbody>\n",
              "</table>\n",
              "</div>"
            ],
            "text/plain": [
              "   mssubclass  lotfrontage  ...  neighborhood_Timber  neighborhood_Veenker\n",
              "0          60         65.0  ...                    0                     0\n",
              "1          20         80.0  ...                    0                     1\n",
              "2          60         68.0  ...                    0                     0\n",
              "3          70         60.0  ...                    0                     0\n",
              "4          60         84.0  ...                    0                     0\n",
              "\n",
              "[5 rows x 55 columns]"
            ]
          },
          "metadata": {
            "tags": []
          },
          "execution_count": 590
        }
      ]
    },
    {
      "cell_type": "code",
      "metadata": {
        "id": "H-vQPA0vYSKv",
        "colab_type": "code",
        "colab": {}
      },
      "source": [
        "target=hp['saleprice']\n",
        "y=target"
      ],
      "execution_count": 0,
      "outputs": []
    },
    {
      "cell_type": "code",
      "metadata": {
        "id": "DscHFu7j3pwV",
        "colab_type": "code",
        "colab": {}
      },
      "source": [
        "X_train, X_test, y_train, y_test = train_test_split(super_dummy, y, test_size = 0.2, random_state = 465)"
      ],
      "execution_count": 0,
      "outputs": []
    },
    {
      "cell_type": "code",
      "metadata": {
        "id": "yZmTchPgfxp5",
        "colab_type": "code",
        "outputId": "e4d9d50f-f2d5-405a-94eb-1d83bf66324e",
        "colab": {
          "base_uri": "https://localhost:8080/",
          "height": 34
        }
      },
      "source": [
        "super_dummy.shape"
      ],
      "execution_count": 58,
      "outputs": [
        {
          "output_type": "execute_result",
          "data": {
            "text/plain": [
              "(1094, 55)"
            ]
          },
          "metadata": {
            "tags": []
          },
          "execution_count": 58
        }
      ]
    },
    {
      "cell_type": "markdown",
      "metadata": {
        "id": "nePwbSXu_9Jq",
        "colab_type": "text"
      },
      "source": [
        "\\\\\\\\\\\\\\\\\\\\\\\\\\\\\\\\\\\\\\\\\\\\\\\\\\\\\\\\\\\\\\\\\\\\\\\\\\\\\\\\\\\\\\\\\\\\\\\\\\\\\\\\\\\\\\\\\\\\\\\\\\\\\\\\\\\\\\\\\\\\\\\\\\\\\\\\\\\\\\\\\\\\\\\\\\\\\\\\\\\\\\\\\\\\\\\\\\\\\\\\\\\\\\\\\\\\\\\\\\\\\\\\\\\\\\\\\\\\\\\\\\\\\\\\\\\\\\\\\\\\\\\\"
      ]
    },
    {
      "cell_type": "markdown",
      "metadata": {
        "id": "AUuG1Z249eak",
        "colab_type": "text"
      },
      "source": [
        "////////////////////////////////////////////////////////////////////////"
      ]
    },
    {
      "cell_type": "markdown",
      "metadata": {
        "id": "srNeGYDO9g7F",
        "colab_type": "text"
      },
      "source": [
        " ## **RIDGE REGRESSION**"
      ]
    },
    {
      "cell_type": "code",
      "metadata": {
        "id": "-b4L4_Hh9pyn",
        "colab_type": "code",
        "colab": {}
      },
      "source": [
        "from sklearn.linear_model import LinearRegression\n",
        "from sklearn.linear_model import Ridge\n",
        "from sklearn.metrics import r2_score"
      ],
      "execution_count": 0,
      "outputs": []
    },
    {
      "cell_type": "code",
      "metadata": {
        "id": "kuYL95-gkuEx",
        "colab_type": "code",
        "colab": {
          "base_uri": "https://localhost:8080/",
          "height": 84
        },
        "outputId": "46427bb9-2777-4218-ed74-40b6cd193f05"
      },
      "source": [
        "rr = Ridge(alpha=0.01)\n",
        "rr.fit(X_train, y_train) \n",
        "pred_train_rr= rr.predict(X_train)\n",
        "print(np.sqrt(mean_squared_error(y_train,pred_train_rr)),\"Mean Squared Error Train\")\n",
        "print(r2_score(y_train, pred_train_rr),\"R_Squared Train\")\n",
        "\n",
        "pred_test_rr= rr.predict(X_test)\n",
        "print(np.sqrt(mean_squared_error(y_test,pred_test_rr))) \n",
        "print(r2_score(y_test, pred_test_rr))"
      ],
      "execution_count": 70,
      "outputs": [
        {
          "output_type": "stream",
          "text": [
            "30848.090235788157 Mean Squared Error Train\n",
            "0.8635573082239052 R_Squared Train\n",
            "27480.72138232048\n",
            "0.8864956786447588\n"
          ],
          "name": "stdout"
        }
      ]
    },
    {
      "cell_type": "code",
      "metadata": {
        "id": "jfXf3wgF9g_L",
        "colab_type": "code",
        "colab": {
          "base_uri": "https://localhost:8080/",
          "height": 34
        },
        "outputId": "91c064ef-e56d-494b-f82a-a926d1ea85e4"
      },
      "source": [
        "lr = LinearRegression()\n",
        "lr.fit(X_train, y_train)"
      ],
      "execution_count": 71,
      "outputs": [
        {
          "output_type": "execute_result",
          "data": {
            "text/plain": [
              "LinearRegression(copy_X=True, fit_intercept=True, n_jobs=None, normalize=False)"
            ]
          },
          "metadata": {
            "tags": []
          },
          "execution_count": 71
        }
      ]
    },
    {
      "cell_type": "code",
      "metadata": {
        "id": "h1EUowEqTbmm",
        "colab_type": "code",
        "outputId": "53e9b958-0c47-4690-d039-09874a754852",
        "colab": {
          "base_uri": "https://localhost:8080/",
          "height": 34
        }
      },
      "source": [
        "feature_difference = set(X_train) - set(X_test)\n",
        "feature_difference"
      ],
      "execution_count": 72,
      "outputs": [
        {
          "output_type": "execute_result",
          "data": {
            "text/plain": [
              "set()"
            ]
          },
          "metadata": {
            "tags": []
          },
          "execution_count": 72
        }
      ]
    },
    {
      "cell_type": "code",
      "metadata": {
        "id": "zPlPVfk29hDV",
        "colab_type": "code",
        "outputId": "a523c4b0-757b-4216-bfb1-753b8b9df9a4",
        "colab": {
          "base_uri": "https://localhost:8080/",
          "height": 50
        }
      },
      "source": [
        "rr = Ridge(alpha=0.01)\n",
        "rr.fit(X_train, y_train)"
      ],
      "execution_count": 73,
      "outputs": [
        {
          "output_type": "execute_result",
          "data": {
            "text/plain": [
              "Ridge(alpha=0.01, copy_X=True, fit_intercept=True, max_iter=None,\n",
              "      normalize=False, random_state=None, solver='auto', tol=0.001)"
            ]
          },
          "metadata": {
            "tags": []
          },
          "execution_count": 73
        }
      ]
    },
    {
      "cell_type": "code",
      "metadata": {
        "id": "ZwyxO4JL9hGb",
        "colab_type": "code",
        "outputId": "d79b670d-ead0-4763-e3f1-e9dc20f7e99e",
        "colab": {
          "base_uri": "https://localhost:8080/",
          "height": 50
        }
      },
      "source": [
        "rr100 = Ridge(alpha=100) \n",
        "rr100.fit(X_train, y_train)"
      ],
      "execution_count": 74,
      "outputs": [
        {
          "output_type": "execute_result",
          "data": {
            "text/plain": [
              "Ridge(alpha=100, copy_X=True, fit_intercept=True, max_iter=None,\n",
              "      normalize=False, random_state=None, solver='auto', tol=0.001)"
            ]
          },
          "metadata": {
            "tags": []
          },
          "execution_count": 74
        }
      ]
    },
    {
      "cell_type": "code",
      "metadata": {
        "id": "1xOHSTk29hJp",
        "colab_type": "code",
        "colab": {}
      },
      "source": [
        "train_score=lr.score(X_train, y_train)\n",
        "test_score=lr.score(X_test, y_test)"
      ],
      "execution_count": 0,
      "outputs": []
    },
    {
      "cell_type": "code",
      "metadata": {
        "id": "nQm3eobLTyJ4",
        "colab_type": "code",
        "outputId": "166f476c-44de-4066-9dcf-12661169f351",
        "colab": {
          "base_uri": "https://localhost:8080/",
          "height": 34
        }
      },
      "source": [
        "train_score"
      ],
      "execution_count": 78,
      "outputs": [
        {
          "output_type": "execute_result",
          "data": {
            "text/plain": [
              "0.8635573560619435"
            ]
          },
          "metadata": {
            "tags": []
          },
          "execution_count": 78
        }
      ]
    },
    {
      "cell_type": "code",
      "metadata": {
        "id": "kfDMiE8sXRFs",
        "colab_type": "code",
        "outputId": "d4914fc2-925a-490c-8c0e-fba264202f41",
        "colab": {
          "base_uri": "https://localhost:8080/",
          "height": 34
        }
      },
      "source": [
        "test_score"
      ],
      "execution_count": 79,
      "outputs": [
        {
          "output_type": "execute_result",
          "data": {
            "text/plain": [
              "0.8864784156896117"
            ]
          },
          "metadata": {
            "tags": []
          },
          "execution_count": 79
        }
      ]
    },
    {
      "cell_type": "code",
      "metadata": {
        "id": "DRJ9_IHp9hOA",
        "colab_type": "code",
        "colab": {}
      },
      "source": [
        "Ridge_train_score = rr.score(X_train,y_train)\n",
        "Ridge_test_score = rr.score(X_test, y_test)"
      ],
      "execution_count": 0,
      "outputs": []
    },
    {
      "cell_type": "code",
      "metadata": {
        "id": "o4Xxy11wXcw1",
        "colab_type": "code",
        "outputId": "c55f7615-a86b-4fe7-8067-43ab735a8fea",
        "colab": {
          "base_uri": "https://localhost:8080/",
          "height": 34
        }
      },
      "source": [
        "Ridge_train_score"
      ],
      "execution_count": 81,
      "outputs": [
        {
          "output_type": "execute_result",
          "data": {
            "text/plain": [
              "0.8635573082239052"
            ]
          },
          "metadata": {
            "tags": []
          },
          "execution_count": 81
        }
      ]
    },
    {
      "cell_type": "code",
      "metadata": {
        "id": "55kHZjPLXhO1",
        "colab_type": "code",
        "outputId": "14bc14d8-81f1-46b8-c89f-dd54cfd8a015",
        "colab": {
          "base_uri": "https://localhost:8080/",
          "height": 34
        }
      },
      "source": [
        "Ridge_test_score"
      ],
      "execution_count": 82,
      "outputs": [
        {
          "output_type": "execute_result",
          "data": {
            "text/plain": [
              "0.8864956786447588"
            ]
          },
          "metadata": {
            "tags": []
          },
          "execution_count": 82
        }
      ]
    },
    {
      "cell_type": "code",
      "metadata": {
        "id": "IRl1HJp69hSU",
        "colab_type": "code",
        "colab": {}
      },
      "source": [
        "Ridge_train_score100 = rr100.score(X_train,y_train)\n",
        "Ridge_test_score100 = rr100.score(X_test, y_test)"
      ],
      "execution_count": 0,
      "outputs": []
    },
    {
      "cell_type": "code",
      "metadata": {
        "id": "HniCnuZcXkZl",
        "colab_type": "code",
        "outputId": "08653b1b-3736-42a1-f45a-3f25544016a0",
        "colab": {
          "base_uri": "https://localhost:8080/",
          "height": 34
        }
      },
      "source": [
        "Ridge_train_score100"
      ],
      "execution_count": 84,
      "outputs": [
        {
          "output_type": "execute_result",
          "data": {
            "text/plain": [
              "0.8264115589604945"
            ]
          },
          "metadata": {
            "tags": []
          },
          "execution_count": 84
        }
      ]
    },
    {
      "cell_type": "code",
      "metadata": {
        "id": "pu_T6d-SXnOW",
        "colab_type": "code",
        "outputId": "b92a58ff-a808-45e6-9d34-a460a5815f50",
        "colab": {
          "base_uri": "https://localhost:8080/",
          "height": 34
        }
      },
      "source": [
        "Ridge_test_score100"
      ],
      "execution_count": 85,
      "outputs": [
        {
          "output_type": "execute_result",
          "data": {
            "text/plain": [
              "0.8548695053568351"
            ]
          },
          "metadata": {
            "tags": []
          },
          "execution_count": 85
        }
      ]
    },
    {
      "cell_type": "markdown",
      "metadata": {
        "id": "KVFDi3qd9hVY",
        "colab_type": "text"
      },
      "source": [
        "**RIDGE WITH CROSS-VALIDATION-- slight improvement**"
      ]
    },
    {
      "cell_type": "code",
      "metadata": {
        "id": "kQVwVJjHZ-1S",
        "colab_type": "code",
        "colab": {}
      },
      "source": [
        "from sklearn.linear_model import RidgeCV\n",
        "\n",
        "clf = RidgeCV(alphas=[1e-3, 1e-2, 1e-1, 1]).fit(X_train, y_train)"
      ],
      "execution_count": 0,
      "outputs": []
    },
    {
      "cell_type": "code",
      "metadata": {
        "id": "Pfy89N-yaJJ5",
        "colab_type": "code",
        "outputId": "ef58ffd0-6520-44ee-cbb1-89f479e56e53",
        "colab": {
          "base_uri": "https://localhost:8080/",
          "height": 34
        }
      },
      "source": [
        "clf.score(X_test, y_test)"
      ],
      "execution_count": 87,
      "outputs": [
        {
          "output_type": "execute_result",
          "data": {
            "text/plain": [
              "0.8876180911751539"
            ]
          },
          "metadata": {
            "tags": []
          },
          "execution_count": 87
        }
      ]
    },
    {
      "cell_type": "markdown",
      "metadata": {
        "id": "WIZTLvR09hY7",
        "colab_type": "text"
      },
      "source": [
        "##**LASSO**"
      ]
    },
    {
      "cell_type": "code",
      "metadata": {
        "id": "C3a2NlIx9hcU",
        "colab_type": "code",
        "colab": {}
      },
      "source": [
        "from sklearn.linear_model import Lasso"
      ],
      "execution_count": 0,
      "outputs": []
    },
    {
      "cell_type": "code",
      "metadata": {
        "id": "k3XG2k3IlLXQ",
        "colab_type": "code",
        "colab": {
          "base_uri": "https://localhost:8080/",
          "height": 84
        },
        "outputId": "06373486-a326-4a2d-b6ae-1caeb1483083"
      },
      "source": [
        "model_lasso = Lasso(alpha=0.01)\n",
        "model_lasso.fit(X_train, y_train) \n",
        "pred_train_lasso= model_lasso.predict(X_train)\n",
        "print(np.sqrt(mean_squared_error(y_train,pred_train_lasso)),'Mean Squared Error Train')\n",
        "print(r2_score(y_train, pred_train_lasso), 'R Squared')\n",
        "\n",
        "pred_test_lasso= model_lasso.predict(X_test)\n",
        "print(np.sqrt(mean_squared_error(y_test,pred_test_lasso))) \n",
        "print(r2_score(y_test, pred_test_lasso))"
      ],
      "execution_count": 90,
      "outputs": [
        {
          "output_type": "stream",
          "text": [
            "30848.08484986103 Mean Squared Error Train\n",
            "0.8635573558683671 R Squared\n",
            "27482.798793295817\n",
            "0.8864785172295148\n"
          ],
          "name": "stdout"
        }
      ]
    },
    {
      "cell_type": "code",
      "metadata": {
        "id": "KUCYMkeE9hfy",
        "colab_type": "code",
        "outputId": "de3c6171-b26b-4ef2-d475-8b449f990f95",
        "colab": {
          "base_uri": "https://localhost:8080/",
          "height": 67
        }
      },
      "source": [
        "lasso = Lasso()\n",
        "lasso.fit(X_train,y_train)\n",
        "train_score=lasso.score(X_train,y_train)\n",
        "test_score=lasso.score(X_test,y_test)\n",
        "coeff_used = np.sum(lasso.coef_!=0)\n",
        "print (\"training score:\", train_score )\n",
        "print (\"test score: \", test_score)\n",
        "print( \"number of features used: \", coeff_used)"
      ],
      "execution_count": 91,
      "outputs": [
        {
          "output_type": "stream",
          "text": [
            "training score: 0.8635554202989489\n",
            "test score:  0.8864864060180669\n",
            "number of features used:  55\n"
          ],
          "name": "stdout"
        }
      ]
    },
    {
      "cell_type": "code",
      "metadata": {
        "id": "4hmu_Pv7Q5n-",
        "colab_type": "code",
        "outputId": "9a97a481-debb-46b1-c361-91fbbbc83d0e",
        "colab": {
          "base_uri": "https://localhost:8080/",
          "height": 34
        }
      },
      "source": [
        "train_score=lasso.score(X_train,y_train)\n",
        "train_score"
      ],
      "execution_count": 92,
      "outputs": [
        {
          "output_type": "execute_result",
          "data": {
            "text/plain": [
              "0.8635554202989489"
            ]
          },
          "metadata": {
            "tags": []
          },
          "execution_count": 92
        }
      ]
    },
    {
      "cell_type": "markdown",
      "metadata": {
        "id": "zjqMS-0PfsdI",
        "colab_type": "text"
      },
      "source": [
        "**GRID SEARCH**"
      ]
    },
    {
      "cell_type": "code",
      "metadata": {
        "id": "aGfbWWXTfxV8",
        "colab_type": "code",
        "colab": {}
      },
      "source": [
        "lasso = Lasso()"
      ],
      "execution_count": 0,
      "outputs": []
    },
    {
      "cell_type": "code",
      "metadata": {
        "id": "jvd3LUrxgCxb",
        "colab_type": "code",
        "colab": {}
      },
      "source": [
        "parameters={'alpha':[1e-15,1e-10,1e-5,1e-2,1,5,10,120]}"
      ],
      "execution_count": 0,
      "outputs": []
    },
    {
      "cell_type": "code",
      "metadata": {
        "id": "gGNy7DG9gdxC",
        "colab_type": "code",
        "colab": {}
      },
      "source": [
        "lasso_reg=GridSearchCV(lasso,parameters,cv=5)"
      ],
      "execution_count": 0,
      "outputs": []
    },
    {
      "cell_type": "code",
      "metadata": {
        "id": "UTfHIgS4gvqI",
        "colab_type": "code",
        "outputId": "40fa168d-1635-4984-d6ea-ca251b69d30f",
        "colab": {
          "base_uri": "https://localhost:8080/",
          "height": 168
        }
      },
      "source": [
        "lasso_reg.fit(X_train,y_train)"
      ],
      "execution_count": 96,
      "outputs": [
        {
          "output_type": "execute_result",
          "data": {
            "text/plain": [
              "GridSearchCV(cv=5, error_score=nan,\n",
              "             estimator=Lasso(alpha=1.0, copy_X=True, fit_intercept=True,\n",
              "                             max_iter=1000, normalize=False, positive=False,\n",
              "                             precompute=False, random_state=None,\n",
              "                             selection='cyclic', tol=0.0001, warm_start=False),\n",
              "             iid='deprecated', n_jobs=None,\n",
              "             param_grid={'alpha': [1e-15, 1e-10, 1e-05, 0.01, 1, 5, 10, 120]},\n",
              "             pre_dispatch='2*n_jobs', refit=True, return_train_score=False,\n",
              "             scoring=None, verbose=0)"
            ]
          },
          "metadata": {
            "tags": []
          },
          "execution_count": 96
        }
      ]
    },
    {
      "cell_type": "code",
      "metadata": {
        "id": "aog8ykiIg76K",
        "colab_type": "code",
        "outputId": "63ed5d46-f7ff-4e0e-b75c-6872a6b63d15",
        "colab": {
          "base_uri": "https://localhost:8080/",
          "height": 34
        }
      },
      "source": [
        "lasso_reg.best_params_"
      ],
      "execution_count": 97,
      "outputs": [
        {
          "output_type": "execute_result",
          "data": {
            "text/plain": [
              "{'alpha': 120}"
            ]
          },
          "metadata": {
            "tags": []
          },
          "execution_count": 97
        }
      ]
    },
    {
      "cell_type": "code",
      "metadata": {
        "id": "jlfSeOIohFR7",
        "colab_type": "code",
        "outputId": "ee636cd4-fd59-4a18-b775-01d33b86e96a",
        "colab": {
          "base_uri": "https://localhost:8080/",
          "height": 34
        }
      },
      "source": [
        "lasso_reg.best_score_"
      ],
      "execution_count": 98,
      "outputs": [
        {
          "output_type": "execute_result",
          "data": {
            "text/plain": [
              "0.8250240944229524"
            ]
          },
          "metadata": {
            "tags": []
          },
          "execution_count": 98
        }
      ]
    },
    {
      "cell_type": "markdown",
      "metadata": {
        "id": "uR_ADLYscD3j",
        "colab_type": "text"
      },
      "source": [
        "**ANOTHER CROSS-VALIDATION**"
      ]
    },
    {
      "cell_type": "code",
      "metadata": {
        "id": "g59XhshBbsa1",
        "colab_type": "code",
        "colab": {}
      },
      "source": [
        "from sklearn.model_selection import cross_val_score"
      ],
      "execution_count": 0,
      "outputs": []
    },
    {
      "cell_type": "code",
      "metadata": {
        "id": "WO3Mg3kcb3kl",
        "colab_type": "code",
        "outputId": "33113d00-64fd-4fae-b45c-5138d757ab97",
        "colab": {
          "base_uri": "https://localhost:8080/",
          "height": 34
        }
      },
      "source": [
        "scores = cross_val_score(lasso, X_test, y_test, cv=5)\n",
        "scores"
      ],
      "execution_count": 100,
      "outputs": [
        {
          "output_type": "execute_result",
          "data": {
            "text/plain": [
              "array([0.89880759, 0.81952824, 0.91300647, 0.83880284, 0.84719365])"
            ]
          },
          "metadata": {
            "tags": []
          },
          "execution_count": 100
        }
      ]
    },
    {
      "cell_type": "code",
      "metadata": {
        "id": "Wc1Yr8H2cWan",
        "colab_type": "code",
        "outputId": "5bef954a-448d-4684-9d28-b3fac8a8992f",
        "colab": {
          "base_uri": "https://localhost:8080/",
          "height": 34
        }
      },
      "source": [
        "print(\"Accuracy: %0.2f (+/- %0.2f)\" % (scores.mean(), scores.std() * 2))"
      ],
      "execution_count": 101,
      "outputs": [
        {
          "output_type": "stream",
          "text": [
            "Accuracy: 0.86 (+/- 0.07)\n"
          ],
          "name": "stdout"
        }
      ]
    },
    {
      "cell_type": "markdown",
      "metadata": {
        "id": "u4yXmzgfclp3",
        "colab_type": "text"
      },
      "source": [
        "**ANTOHER CROOS-VALIDATOR -- PICKS ITS OWN LAMNDA -- not very good?**"
      ]
    },
    {
      "cell_type": "code",
      "metadata": {
        "id": "gySULMCmcv7e",
        "colab_type": "code",
        "colab": {}
      },
      "source": [
        "lasso = linear_model.LassoCV()"
      ],
      "execution_count": 0,
      "outputs": []
    },
    {
      "cell_type": "code",
      "metadata": {
        "id": "k4DXgww0c3lN",
        "colab_type": "code",
        "outputId": "e96977f6-29f9-4dfc-f97d-e7249f48286c",
        "colab": {
          "base_uri": "https://localhost:8080/",
          "height": 34
        }
      },
      "source": [
        "lasso.fit(X_train, y_train)\n",
        "# The estimator chose automatically its lambda:\n",
        "lasso.alpha_"
      ],
      "execution_count": 103,
      "outputs": [
        {
          "output_type": "execute_result",
          "data": {
            "text/plain": [
              "231521.550937265"
            ]
          },
          "metadata": {
            "tags": []
          },
          "execution_count": 103
        }
      ]
    },
    {
      "cell_type": "code",
      "metadata": {
        "id": "OxN84QgPdQ0h",
        "colab_type": "code",
        "outputId": "2763c704-1090-4f98-db36-c2c9f5d19154",
        "colab": {
          "base_uri": "https://localhost:8080/",
          "height": 34
        }
      },
      "source": [
        "train_score=lasso.score(X_train,y_train)\n",
        "train_score"
      ],
      "execution_count": 104,
      "outputs": [
        {
          "output_type": "execute_result",
          "data": {
            "text/plain": [
              "0.6844704035271184"
            ]
          },
          "metadata": {
            "tags": []
          },
          "execution_count": 104
        }
      ]
    },
    {
      "cell_type": "code",
      "metadata": {
        "id": "F0RR5iscdY7y",
        "colab_type": "code",
        "outputId": "c6360a8e-bbc2-448c-d22f-bb2f31da2c20",
        "colab": {
          "base_uri": "https://localhost:8080/",
          "height": 34
        }
      },
      "source": [
        "test_score=lasso.score(X_test,y_test)\n",
        "test_score"
      ],
      "execution_count": 105,
      "outputs": [
        {
          "output_type": "execute_result",
          "data": {
            "text/plain": [
              "0.7031134241451137"
            ]
          },
          "metadata": {
            "tags": []
          },
          "execution_count": 105
        }
      ]
    },
    {
      "cell_type": "markdown",
      "metadata": {
        "id": "aYxVtiLpunao",
        "colab_type": "text"
      },
      "source": [
        "/////////////////////////////////////////////////////////////////////////////"
      ]
    },
    {
      "cell_type": "markdown",
      "metadata": {
        "id": "Z-RX-txXupEz",
        "colab_type": "text"
      },
      "source": [
        "**RIDGE WITH CV = BEST SCORE**"
      ]
    },
    {
      "cell_type": "markdown",
      "metadata": {
        "id": "skj5NEbLP3K2",
        "colab_type": "text"
      },
      "source": [
        "///////////////////////////////////////////////////////////////////////////////////////////////"
      ]
    },
    {
      "cell_type": "markdown",
      "metadata": {
        "id": "xLPeE40EbYtl",
        "colab_type": "text"
      },
      "source": [
        "**ELASTICNET**"
      ]
    },
    {
      "cell_type": "code",
      "metadata": {
        "id": "yqM4YT40lhOz",
        "colab_type": "code",
        "colab": {
          "base_uri": "https://localhost:8080/",
          "height": 84
        },
        "outputId": "eb218560-3816-4600-ab94-8b4ea359e2cb"
      },
      "source": [
        " from sklearn.linear_model import ElasticNet\n",
        " #Elaic Net\n",
        "model_enet = ElasticNet(alpha = 0.01)\n",
        "model_enet.fit(X_train, y_train) \n",
        "pred_train_enet= model_enet.predict(X_train)\n",
        "print(np.sqrt(mean_squared_error(y_train,pred_train_enet)),\"Mean Squared Error Train\")\n",
        "print(r2_score(y_train, pred_train_enet),'R Squared Train')\n",
        "\n",
        "pred_test_enet= model_enet.predict(X_test)\n",
        "print(np.sqrt(mean_squared_error(y_test,pred_test_enet)))\n",
        "print(r2_score(y_test, pred_test_enet))"
      ],
      "execution_count": 110,
      "outputs": [
        {
          "output_type": "stream",
          "text": [
            "31124.547898599547 Mean Squared Error Train\n",
            "0.8611007767671633 R Squared Train\n",
            "27261.807423593244\n",
            "0.8882968475821172\n"
          ],
          "name": "stdout"
        }
      ]
    },
    {
      "cell_type": "markdown",
      "metadata": {
        "id": "WUt4jsYtP67T",
        "colab_type": "text"
      },
      "source": [
        "////////////////////////////////////////////////////////////////////////////////////////////////"
      ]
    }
  ]
}