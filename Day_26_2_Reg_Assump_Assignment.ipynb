{
  "nbformat": 4,
  "nbformat_minor": 0,
  "metadata": {
    "kernelspec": {
      "display_name": "Python 3",
      "language": "python",
      "name": "python3"
    },
    "language_info": {
      "codemirror_mode": {
        "name": "ipython",
        "version": 3
      },
      "file_extension": ".py",
      "mimetype": "text/x-python",
      "name": "python",
      "nbconvert_exporter": "python",
      "pygments_lexer": "ipython3",
      "version": "3.7.0"
    },
    "colab": {
      "name": "Day 26 -- 2 --  Reg Assump Assignment.ipynb",
      "provenance": [],
      "collapsed_sections": [],
      "include_colab_link": true
    }
  },
  "cells": [
    {
      "cell_type": "markdown",
      "metadata": {
        "id": "view-in-github",
        "colab_type": "text"
      },
      "source": [
        "<a href=\"https://colab.research.google.com/github/AlexBB999/Classwork/blob/master/Day_26_2_Reg_Assump_Assignment.ipynb\" target=\"_parent\"><img src=\"https://colab.research.google.com/assets/colab-badge.svg\" alt=\"Open In Colab\"/></a>"
      ]
    },
    {
      "cell_type": "markdown",
      "metadata": {
        "id": "wPSVmCwSczg3",
        "colab_type": "text"
      },
      "source": [
        "## Day 26 Lecture 2 Assignment\n",
        "\n",
        "In this assignment, we will learn about linear regression model assumptions"
      ]
    },
    {
      "cell_type": "code",
      "metadata": {
        "id": "hoKSIe-kczg6",
        "colab_type": "code",
        "colab": {}
      },
      "source": [
        "%matplotlib inline\n",
        "\n",
        "import matplotlib.pyplot as plt\n",
        "import numpy as np\n",
        "import pandas as pd"
      ],
      "execution_count": 0,
      "outputs": []
    },
    {
      "cell_type": "markdown",
      "metadata": {
        "id": "FJvdNDzuczg_",
        "colab_type": "text"
      },
      "source": [
        "We will load the dataset below that describes the antioxidant quality of lager.\n",
        "\n",
        "The variables are as follows:\n",
        "    \n",
        "The dataset contains 7 variables :\n",
        "\n",
        "- tpc - Total phenolic content\n",
        "- ma - melanoidin content\n",
        "- dsa - DPPH radical scavenging activity\n",
        "- asa - ABTS radical cation scavenging activity\n",
        "- orac - Oxygen radical absorbance activity\n",
        "- rp - Reducing Power\n",
        "- mca - Metal Chelaing Activity"
      ]
    },
    {
      "cell_type": "code",
      "metadata": {
        "id": "0yzed_sgczhA",
        "colab_type": "code",
        "outputId": "02468059-939b-4bd6-f931-c263773e5632",
        "colab": {
          "base_uri": "https://localhost:8080/",
          "height": 195
        }
      },
      "source": [
        "lager = pd.read_csv('https://tf-assets-prod.s3.amazonaws.com/tf-curric/data-science/lager_antioxidant_reg.csv')\n",
        "\n",
        "lager.head()"
      ],
      "execution_count": 0,
      "outputs": [
        {
          "output_type": "execute_result",
          "data": {
            "text/html": [
              "<div>\n",
              "<style scoped>\n",
              "    .dataframe tbody tr th:only-of-type {\n",
              "        vertical-align: middle;\n",
              "    }\n",
              "\n",
              "    .dataframe tbody tr th {\n",
              "        vertical-align: top;\n",
              "    }\n",
              "\n",
              "    .dataframe thead th {\n",
              "        text-align: right;\n",
              "    }\n",
              "</style>\n",
              "<table border=\"1\" class=\"dataframe\">\n",
              "  <thead>\n",
              "    <tr style=\"text-align: right;\">\n",
              "      <th></th>\n",
              "      <th>beer</th>\n",
              "      <th>tpc</th>\n",
              "      <th>ma</th>\n",
              "      <th>dsa</th>\n",
              "      <th>asa</th>\n",
              "      <th>orac</th>\n",
              "      <th>rp</th>\n",
              "      <th>mca</th>\n",
              "    </tr>\n",
              "  </thead>\n",
              "  <tbody>\n",
              "    <tr>\n",
              "      <th>0</th>\n",
              "      <td>1</td>\n",
              "      <td>148.23</td>\n",
              "      <td>13.37</td>\n",
              "      <td>0.66</td>\n",
              "      <td>0.81</td>\n",
              "      <td>3.81</td>\n",
              "      <td>0.45</td>\n",
              "      <td>10.65</td>\n",
              "    </tr>\n",
              "    <tr>\n",
              "      <th>1</th>\n",
              "      <td>2</td>\n",
              "      <td>160.38</td>\n",
              "      <td>10.96</td>\n",
              "      <td>0.63</td>\n",
              "      <td>0.64</td>\n",
              "      <td>2.85</td>\n",
              "      <td>0.41</td>\n",
              "      <td>15.47</td>\n",
              "    </tr>\n",
              "    <tr>\n",
              "      <th>2</th>\n",
              "      <td>3</td>\n",
              "      <td>170.41</td>\n",
              "      <td>9.22</td>\n",
              "      <td>0.62</td>\n",
              "      <td>0.81</td>\n",
              "      <td>3.34</td>\n",
              "      <td>0.48</td>\n",
              "      <td>15.70</td>\n",
              "    </tr>\n",
              "    <tr>\n",
              "      <th>3</th>\n",
              "      <td>4</td>\n",
              "      <td>208.65</td>\n",
              "      <td>9.65</td>\n",
              "      <td>0.90</td>\n",
              "      <td>1.01</td>\n",
              "      <td>3.34</td>\n",
              "      <td>0.50</td>\n",
              "      <td>76.65</td>\n",
              "    </tr>\n",
              "    <tr>\n",
              "      <th>4</th>\n",
              "      <td>5</td>\n",
              "      <td>146.03</td>\n",
              "      <td>11.72</td>\n",
              "      <td>0.64</td>\n",
              "      <td>0.90</td>\n",
              "      <td>3.18</td>\n",
              "      <td>0.47</td>\n",
              "      <td>9.39</td>\n",
              "    </tr>\n",
              "  </tbody>\n",
              "</table>\n",
              "</div>"
            ],
            "text/plain": [
              "   beer     tpc     ma   dsa   asa  orac    rp    mca\n",
              "0     1  148.23  13.37  0.66  0.81  3.81  0.45  10.65\n",
              "1     2  160.38  10.96  0.63  0.64  2.85  0.41  15.47\n",
              "2     3  170.41   9.22  0.62  0.81  3.34  0.48  15.70\n",
              "3     4  208.65   9.65  0.90  1.01  3.34  0.50  76.65\n",
              "4     5  146.03  11.72  0.64  0.90  3.18  0.47   9.39"
            ]
          },
          "metadata": {
            "tags": []
          },
          "execution_count": 5
        }
      ]
    },
    {
      "cell_type": "markdown",
      "metadata": {
        "id": "Waw8-_pDczhF",
        "colab_type": "text"
      },
      "source": [
        "We would like to predict the level of total phenolic content using the remaining 6 variables.\n",
        "\n",
        "Start by removing the beer column since this column is the id for the observations."
      ]
    },
    {
      "cell_type": "code",
      "metadata": {
        "id": "VRoUslHsczhG",
        "colab_type": "code",
        "colab": {}
      },
      "source": [
        "#answer below:\n",
        "lager.drop(['beer'],axis=1,inplace=True)\n",
        "\n"
      ],
      "execution_count": 0,
      "outputs": []
    },
    {
      "cell_type": "markdown",
      "metadata": {
        "id": "tS6PojFZczhJ",
        "colab_type": "text"
      },
      "source": [
        "Split the data into train and test subsets. Select 25% of the data to be in the test subset. Use `tpc` as the y variable."
      ]
    },
    {
      "cell_type": "code",
      "metadata": {
        "id": "2kzFQzvlczhK",
        "colab_type": "code",
        "colab": {}
      },
      "source": [
        "# answer below:\n",
        "from sklearn.model_selection import train_test_split\n",
        "\n",
        "y=lager['tpc']\n",
        "X=lager.drop(['tpc'],axis=1)\n",
        "X_train, X_test, y_train, y_test = train_test_split(X, y, test_size=0.25, random_state=42)"
      ],
      "execution_count": 0,
      "outputs": []
    },
    {
      "cell_type": "markdown",
      "metadata": {
        "id": "k8h1CBAhczhN",
        "colab_type": "text"
      },
      "source": [
        "Next, we'll generate a linear model and plot the residual vs. fit plot.\n",
        "\n",
        "What are the coefficients, and what are their significance?"
      ]
    },
    {
      "cell_type": "code",
      "metadata": {
        "id": "oRWk_B0tczhO",
        "colab_type": "code",
        "outputId": "c266ef80-fccb-4cbe-8845-2373bf88623b",
        "colab": {
          "base_uri": "https://localhost:8080/",
          "height": 504
        }
      },
      "source": [
        "#answer below:\n",
        "import statsmodels.api as sm\n",
        "#X_train = sm.OLS(X_train)\n",
        "results = sm.OLS(y_train, X_train).fit()\n",
        "\n",
        "# We print the summary results\n",
        "print(results.summary())\n",
        "\n"
      ],
      "execution_count": 0,
      "outputs": [
        {
          "output_type": "stream",
          "text": [
            "                                 OLS Regression Results                                \n",
            "=======================================================================================\n",
            "Dep. Variable:                    tpc   R-squared (uncentered):                   0.987\n",
            "Model:                            OLS   Adj. R-squared (uncentered):              0.984\n",
            "Method:                 Least Squares   F-statistic:                              309.8\n",
            "Date:                Tue, 18 Feb 2020   Prob (F-statistic):                    1.64e-21\n",
            "Time:                        02:41:49   Log-Likelihood:                         -131.81\n",
            "No. Observations:                  30   AIC:                                      275.6\n",
            "Df Residuals:                      24   BIC:                                      284.0\n",
            "Df Model:                           6                                                  \n",
            "Covariance Type:            nonrobust                                                  \n",
            "==============================================================================\n",
            "                 coef    std err          t      P>|t|      [0.025      0.975]\n",
            "------------------------------------------------------------------------------\n",
            "ma             2.4640      1.513      1.628      0.117      -0.659       5.587\n",
            "dsa          132.1776     37.856      3.492      0.002      54.047     210.308\n",
            "asa            4.6173     12.752      0.362      0.720     -21.701      30.935\n",
            "orac          -1.7770      2.082     -0.854      0.402      -6.073       2.519\n",
            "rp            74.9642     34.633      2.165      0.041       3.486     146.442\n",
            "mca            0.3463      0.206      1.680      0.106      -0.079       0.772\n",
            "==============================================================================\n",
            "Omnibus:                       19.417   Durbin-Watson:                   1.839\n",
            "Prob(Omnibus):                  0.000   Jarque-Bera (JB):               28.348\n",
            "Skew:                          -1.526   Prob(JB):                     6.99e-07\n",
            "Kurtosis:                       6.655   Cond. No.                         421.\n",
            "==============================================================================\n",
            "\n",
            "Warnings:\n",
            "[1] Standard Errors assume that the covariance matrix of the errors is correctly specified.\n"
          ],
          "name": "stdout"
        }
      ]
    },
    {
      "cell_type": "markdown",
      "metadata": {
        "id": "yKU4XK0YczhS",
        "colab_type": "text"
      },
      "source": [
        "Compute the VIF for all features in the model"
      ]
    },
    {
      "cell_type": "code",
      "metadata": {
        "id": "K2GX2UrTczhT",
        "colab_type": "code",
        "colab": {}
      },
      "source": [
        "# answer below:\n",
        "\n",
        "from statsmodels.stats.outliers_influence import variance_inflation_factor"
      ],
      "execution_count": 0,
      "outputs": []
    },
    {
      "cell_type": "code",
      "metadata": {
        "id": "8oGltC3KIfV-",
        "colab_type": "code",
        "outputId": "04138902-2d74-42c2-f2de-6a905875deb3",
        "colab": {
          "base_uri": "https://localhost:8080/",
          "height": 225
        }
      },
      "source": [
        "# For each X, calculate VIF and save in dataframe\n",
        "\n",
        "vif = pd.DataFrame()\n",
        "vif[\"VIF Factor\"] = [variance_inflation_factor(X.values, i) for i in range(X.shape[1])]\n",
        "vif[\"features\"] = X.columns\n",
        "vif"
      ],
      "execution_count": 0,
      "outputs": [
        {
          "output_type": "execute_result",
          "data": {
            "text/html": [
              "<div>\n",
              "<style scoped>\n",
              "    .dataframe tbody tr th:only-of-type {\n",
              "        vertical-align: middle;\n",
              "    }\n",
              "\n",
              "    .dataframe tbody tr th {\n",
              "        vertical-align: top;\n",
              "    }\n",
              "\n",
              "    .dataframe thead th {\n",
              "        text-align: right;\n",
              "    }\n",
              "</style>\n",
              "<table border=\"1\" class=\"dataframe\">\n",
              "  <thead>\n",
              "    <tr style=\"text-align: right;\">\n",
              "      <th></th>\n",
              "      <th>VIF Factor</th>\n",
              "      <th>features</th>\n",
              "    </tr>\n",
              "  </thead>\n",
              "  <tbody>\n",
              "    <tr>\n",
              "      <th>0</th>\n",
              "      <td>16.522289</td>\n",
              "      <td>ma</td>\n",
              "    </tr>\n",
              "    <tr>\n",
              "      <th>1</th>\n",
              "      <td>36.447367</td>\n",
              "      <td>dsa</td>\n",
              "    </tr>\n",
              "    <tr>\n",
              "      <th>2</th>\n",
              "      <td>21.531330</td>\n",
              "      <td>asa</td>\n",
              "    </tr>\n",
              "    <tr>\n",
              "      <th>3</th>\n",
              "      <td>5.219167</td>\n",
              "      <td>orac</td>\n",
              "    </tr>\n",
              "    <tr>\n",
              "      <th>4</th>\n",
              "      <td>35.593090</td>\n",
              "      <td>rp</td>\n",
              "    </tr>\n",
              "    <tr>\n",
              "      <th>5</th>\n",
              "      <td>3.960262</td>\n",
              "      <td>mca</td>\n",
              "    </tr>\n",
              "  </tbody>\n",
              "</table>\n",
              "</div>"
            ],
            "text/plain": [
              "   VIF Factor features\n",
              "0   16.522289       ma\n",
              "1   36.447367      dsa\n",
              "2   21.531330      asa\n",
              "3    5.219167     orac\n",
              "4   35.593090       rp\n",
              "5    3.960262      mca"
            ]
          },
          "metadata": {
            "tags": []
          },
          "execution_count": 14
        }
      ]
    },
    {
      "cell_type": "markdown",
      "metadata": {
        "id": "SVZ5Rz4GJ_Us",
        "colab_type": "text"
      },
      "source": [
        "#**The Variance Inflation Factor (VIF) is a measure of colinearity among predictor variables within a multiple regression. It is calculated by taking the the ratio of the variance of all a given model's betas divide by the variane of a single beta if it were fit alone**."
      ]
    },
    {
      "cell_type": "code",
      "metadata": {
        "id": "UWzmiyQXI4ak",
        "colab_type": "code",
        "colab": {}
      },
      "source": [
        "vif = pd.DataFrame()\n",
        "\n",
        "vif[\"VIF Factor\"] = [variance_inflation_factor(X.values, i) for i in range(X.shape[1])]\n",
        "\n",
        "vif[\"features\"] = X.columns"
      ],
      "execution_count": 0,
      "outputs": []
    },
    {
      "cell_type": "markdown",
      "metadata": {
        "id": "rA4NpURkczhW",
        "colab_type": "text"
      },
      "source": [
        "Plot the qq-plot for our errors (make sure to standardize the errors to compare to the standard normal distribtion):"
      ]
    },
    {
      "cell_type": "code",
      "metadata": {
        "id": "Hr0UpQs8czhX",
        "colab_type": "code",
        "outputId": "0bf52e5d-2b26-4a9c-9055-d72c321ea9f7",
        "colab": {
          "base_uri": "https://localhost:8080/",
          "height": 279
        }
      },
      "source": [
        "# answer below:\n",
        "res = results.resid\n",
        "fig = sm.qqplot(res)\n",
        "plt.show()\n"
      ],
      "execution_count": 0,
      "outputs": [
        {
          "output_type": "display_data",
          "data": {
            "image/png": "[encoded data removed]",
            "text/plain": [
              "<Figure size 432x288 with 1 Axes>"
            ]
          },
          "metadata": {
            "tags": []
          }
        }
      ]
    },
    {
      "cell_type": "code",
      "metadata": {
        "id": "HGwW7uZ2czha",
        "colab_type": "code",
        "outputId": "12687dc2-f939-4f13-fb6a-928df0a2abe5",
        "colab": {
          "base_uri": "https://localhost:8080/",
          "height": 279
        }
      },
      "source": [
        "import scipy.stats as stats\n",
        "fig = sm.qqplot(res, stats.t, distargs=(4,))\n",
        "plt.show()"
      ],
      "execution_count": 0,
      "outputs": [
        {
          "output_type": "display_data",
          "data": {
            "image/png": "[encoded data removed]",
            "text/plain": [
              "<Figure size 432x288 with 1 Axes>"
            ]
          },
          "metadata": {
            "tags": []
          }
        }
      ]
    }
  ]
}