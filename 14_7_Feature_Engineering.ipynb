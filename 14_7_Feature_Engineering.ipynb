{
  "nbformat": 4,
  "nbformat_minor": 0,
  "metadata": {
    "colab": {
      "name": " 14.7 Feature Engineering.ipynb",
      "provenance": [],
      "collapsed_sections": [],
      "authorship_tag": "ABX9TyO1ONu2LzWZLd79IHXg8V7x",
      "include_colab_link": true
    },
    "kernelspec": {
      "name": "python3",
      "display_name": "Python 3"
    }
  },
  "cells": [
    {
      "cell_type": "markdown",
      "metadata": {
        "id": "view-in-github",
        "colab_type": "text"
      },
      "source": [
        "<a href=\"https://colab.research.google.com/github/AlexBB999/Classwork/blob/master/14_7_Feature_Engineering.ipynb\" target=\"_parent\"><img src=\"https://colab.research.google.com/assets/colab-badge.svg\" alt=\"Open In Colab\"/></a>"
      ]
    },
    {
      "cell_type": "code",
      "metadata": {
        "id": "RRW-eJTQuvU0",
        "colab_type": "code",
        "colab": {}
      },
      "source": [
        "# Import the SQL ALchemy engine\n",
        "from sqlalchemy import create_engine"
      ],
      "execution_count": 0,
      "outputs": []
    },
    {
      "cell_type": "code",
      "metadata": {
        "id": "VA4m1Twuuwc4",
        "colab_type": "code",
        "colab": {}
      },
      "source": [
        "import matplotlib.pyplot as plt\n",
        "import seaborn as sns\n",
        "import numpy as np\n",
        "import pandas as pd\n",
        "import seaborn as sns\n",
        "import scipy.stats as stats\n",
        "from scipy.stats.mstats import winsorize\n",
        "from sqlalchemy import create_engine\n",
        "import warnings"
      ],
      "execution_count": 0,
      "outputs": []
    },
    {
      "cell_type": "code",
      "metadata": {
        "id": "zYUnlYS1wk1g",
        "colab_type": "code",
        "colab": {}
      },
      "source": [
        "warnings.filterwarnings('ignore')\n",
        "#sns.set(style=\"whitegrid\")"
      ],
      "execution_count": 0,
      "outputs": []
    },
    {
      "cell_type": "code",
      "metadata": {
        "id": "_0wOvuH6u_6G",
        "colab_type": "code",
        "colab": {}
      },
      "source": [
        "postgres_user = 'dsbc_student'\n",
        "postgres_pw = '7*.8G9QH21'\n",
        "postgres_host = '142.93.121.174'\n",
        "postgres_port = '5432'\n",
        "postgres_db =  'studentsperformance'"
      ],
      "execution_count": 0,
      "outputs": []
    },
    {
      "cell_type": "code",
      "metadata": {
        "id": "gC5NgGp8vTsf",
        "colab_type": "code",
        "colab": {}
      },
      "source": [
        "engine = create_engine('postgresql://{}:{}@{}:{}/{}'.format(\n",
        "    postgres_user, postgres_pw, postgres_host, postgres_port, postgres_db))"
      ],
      "execution_count": 0,
      "outputs": []
    },
    {
      "cell_type": "code",
      "metadata": {
        "id": "ufU3mUqVvZ2j",
        "colab_type": "code",
        "colab": {}
      },
      "source": [
        "sp1 = pd.read_sql_query('select * FROM studentsperformance',con=engine)\n",
        "#educate= engine.execute('SELECT * FROM student performance' )\n",
        "engine.dispose()"
      ],
      "execution_count": 0,
      "outputs": []
    },
    {
      "cell_type": "code",
      "metadata": {
        "id": "m-2LAryWVBtk",
        "colab_type": "code",
        "colab": {}
      },
      "source": [
        "sp2=sp1.copy()"
      ],
      "execution_count": 0,
      "outputs": []
    },
    {
      "cell_type": "code",
      "metadata": {
        "id": "WeTedLmZv1jl",
        "colab_type": "code",
        "outputId": "13ab4593-90a4-4f43-9300-fb4b20a5d868",
        "colab": {
          "base_uri": "https://localhost:8080/",
          "height": 195
        }
      },
      "source": [
        "\n",
        "sp2.head()"
      ],
      "execution_count": 0,
      "outputs": [
        {
          "output_type": "execute_result",
          "data": {
            "text/html": [
              "<div>\n",
              "<style scoped>\n",
              "    .dataframe tbody tr th:only-of-type {\n",
              "        vertical-align: middle;\n",
              "    }\n",
              "\n",
              "    .dataframe tbody tr th {\n",
              "        vertical-align: top;\n",
              "    }\n",
              "\n",
              "    .dataframe thead th {\n",
              "        text-align: right;\n",
              "    }\n",
              "</style>\n",
              "<table border=\"1\" class=\"dataframe\">\n",
              "  <thead>\n",
              "    <tr style=\"text-align: right;\">\n",
              "      <th></th>\n",
              "      <th>gender</th>\n",
              "      <th>race/ethnicity</th>\n",
              "      <th>parental level of education</th>\n",
              "      <th>lunch</th>\n",
              "      <th>test preparation course</th>\n",
              "      <th>math score</th>\n",
              "      <th>reading score</th>\n",
              "      <th>writing score</th>\n",
              "    </tr>\n",
              "  </thead>\n",
              "  <tbody>\n",
              "    <tr>\n",
              "      <th>0</th>\n",
              "      <td>female</td>\n",
              "      <td>group B</td>\n",
              "      <td>bachelor's degree</td>\n",
              "      <td>standard</td>\n",
              "      <td>none</td>\n",
              "      <td>72</td>\n",
              "      <td>72</td>\n",
              "      <td>74</td>\n",
              "    </tr>\n",
              "    <tr>\n",
              "      <th>1</th>\n",
              "      <td>female</td>\n",
              "      <td>group C</td>\n",
              "      <td>some college</td>\n",
              "      <td>standard</td>\n",
              "      <td>completed</td>\n",
              "      <td>69</td>\n",
              "      <td>90</td>\n",
              "      <td>88</td>\n",
              "    </tr>\n",
              "    <tr>\n",
              "      <th>2</th>\n",
              "      <td>female</td>\n",
              "      <td>group B</td>\n",
              "      <td>master's degree</td>\n",
              "      <td>standard</td>\n",
              "      <td>none</td>\n",
              "      <td>90</td>\n",
              "      <td>95</td>\n",
              "      <td>93</td>\n",
              "    </tr>\n",
              "    <tr>\n",
              "      <th>3</th>\n",
              "      <td>male</td>\n",
              "      <td>group A</td>\n",
              "      <td>associate's degree</td>\n",
              "      <td>free/reduced</td>\n",
              "      <td>none</td>\n",
              "      <td>47</td>\n",
              "      <td>57</td>\n",
              "      <td>44</td>\n",
              "    </tr>\n",
              "    <tr>\n",
              "      <th>4</th>\n",
              "      <td>male</td>\n",
              "      <td>group C</td>\n",
              "      <td>some college</td>\n",
              "      <td>standard</td>\n",
              "      <td>none</td>\n",
              "      <td>76</td>\n",
              "      <td>78</td>\n",
              "      <td>75</td>\n",
              "    </tr>\n",
              "  </tbody>\n",
              "</table>\n",
              "</div>"
            ],
            "text/plain": [
              "   gender race/ethnicity  ... reading score writing score\n",
              "0  female        group B  ...            72            74\n",
              "1  female        group C  ...            90            88\n",
              "2  female        group B  ...            95            93\n",
              "3    male        group A  ...            57            44\n",
              "4    male        group C  ...            78            75\n",
              "\n",
              "[5 rows x 8 columns]"
            ]
          },
          "metadata": {
            "tags": []
          },
          "execution_count": 195
        }
      ]
    },
    {
      "cell_type": "markdown",
      "metadata": {
        "id": "4Y4CCVS8Q_aD",
        "colab_type": "text"
      },
      "source": [
        "Are the exam score variables normally distributed? If not, apply a Box-Cox transformation. Does anything change?\n",
        "\n",
        "Say we want to use a single variable for the exam scores as our target. For this purpose, create a new variable by taking a weighted average of the exam scores. Check whether this new variable is normally distributed. If it's not normally distributed, apply a Box-Cox transformation and check whether or not the transformed variable is normally distributed.\n",
        "\n",
        "Which variables seem related to the target variable (the newly created variable in the previous question)? If our goal is to explain the determinants of success in exams, which variables in our dataset might be useful?"
      ]
    },
    {
      "cell_type": "markdown",
      "metadata": {
        "id": "rTIjr8RdRNXb",
        "colab_type": "text"
      },
      "source": [
        "1 - **Are the exam score variables normally distributed? If not, apply a Box-Cox transformation. Does anything change?**"
      ]
    },
    {
      "cell_type": "code",
      "metadata": {
        "id": "Kmt_yKZNTkB9",
        "colab_type": "code",
        "colab": {}
      },
      "source": [
        "sp2['winsorized math score'] = winsorized_views = winsorize(sp2['math score'], (0, 0.10))\n",
        "sp2['winzorized reading score'] = winsorized_views = winsorize(sp2['reading score'], (0, 0.10))\n",
        "sp2['winsorized writing score'] = winsorized_views = winsorize(sp2['writing score'], (0, 0.10))\n"
      ],
      "execution_count": 0,
      "outputs": []
    },
    {
      "cell_type": "code",
      "metadata": {
        "id": "Y-P3_8Gpl1Fz",
        "colab_type": "code",
        "colab": {}
      },
      "source": [
        "from scipy.stats import boxcox\n",
        "#video_uploads_boxcox,_ = boxcox(youtube_df[\"Video Uploads\"])\n",
        "\n",
        "#sp2['boxcox math score'],_ = boxcox(sp2['math score'])\n",
        "sp2['boxcox reading reading'],_ = boxcox(sp2['reading score'])\n",
        "sp2['boxcox writing reading'],_ = boxcox(sp2['writing score'])\n"
      ],
      "execution_count": 0,
      "outputs": []
    },
    {
      "cell_type": "code",
      "metadata": {
        "id": "dZFZkfHWRbKf",
        "colab_type": "code",
        "outputId": "f09e0fc5-6e6f-43ce-acea-540223695f0f",
        "colab": {
          "base_uri": "https://localhost:8080/",
          "height": 1000
        }
      },
      "source": [
        "plt.figure(figsize=(18,18))\n",
        "\n",
        "plt.subplot(3,3,1)\n",
        "plt.hist(sp2['math score'])\n",
        "plt.title(\"MATH SCORE\")\n",
        "\n",
        "plt.subplot(3,3,2)\n",
        "plt.hist(sp2['reading score'])\n",
        "plt.title(\"READING SCORE\")\n",
        "\n",
        "plt.subplot(3,3,3)\n",
        "plt.hist(sp2['writing score'])\n",
        "plt.title(\"WRITING SCORE\")\n",
        "\n",
        "plt.subplot(3,3,4)\n",
        "plt.hist(sp2['winsorized math score'])\n",
        "plt.title(\"WINZORIZED MATH SCORE\")\n",
        "\n",
        "plt.subplot(3,3,5)\n",
        "plt.hist(sp2['winzorized reading score'])\n",
        "plt.title(\"WINZORIZED READING SCORE\")\n",
        "\n",
        "plt.subplot(3,3,6)\n",
        "plt.hist(sp2['winsorized writing score'])\n",
        "plt.title(\"WINZORIZED WRITING SCORE\")\n",
        "\n",
        "plt.subplot(3,3,7)\n",
        "plt.hist(np.log(sp2['math score']),range=(0,4.7))\n",
        "plt.title(\"histogram of MATH (log transformed)\")\n",
        "\n",
        "plt.subplot(3,3,8)\n",
        "plt.hist(np.log(sp2['reading score']))\n",
        "plt.title(\"histogram of READING (log transformed)\")\n",
        "\n",
        "plt.subplot(3,3,9)\n",
        "plt.hist(np.log(sp2['writing score']))\n",
        "plt.title(\"histogram of WRITING(log transformed)\")\n",
        "\n",
        "\n",
        "\n",
        "plt.show\n"
      ],
      "execution_count": 0,
      "outputs": [
        {
          "output_type": "execute_result",
          "data": {
            "text/plain": [
              "<function matplotlib.pyplot.show>"
            ]
          },
          "metadata": {
            "tags": []
          },
          "execution_count": 198
        },
        {
          "output_type": "display_data",
          "data": {
            "image/png": "[encoded data removed]",
            "text/plain": [
              "<Figure size 1296x1296 with 9 Axes>"
            ]
          },
          "metadata": {
            "tags": []
          }
        }
      ]
    },
    {
      "cell_type": "code",
      "metadata": {
        "id": "xRjILCFIohRE",
        "colab_type": "code",
        "outputId": "240f26de-58e4-4671-e687-a0aace024228",
        "colab": {
          "base_uri": "https://localhost:8080/",
          "height": 281
        }
      },
      "source": [
        "\n",
        "\n",
        "plt.hist(sp2['boxcox reading reading'])\n",
        "plt.title(\"boxcox READING\")\n",
        "plt.show()"
      ],
      "execution_count": 0,
      "outputs": [
        {
          "output_type": "display_data",
          "data": {
            "image/png": "[encoded data removed]",
            "text/plain": [
              "<Figure size 432x288 with 1 Axes>"
            ]
          },
          "metadata": {
            "tags": []
          }
        }
      ]
    },
    {
      "cell_type": "code",
      "metadata": {
        "id": "MkMxTAxdoyTX",
        "colab_type": "code",
        "colab": {}
      },
      "source": [
        "norm_stats3 = normaltest(sp2['boxcox reading reading'])\n",
        "\n",
        "jb_stats3 = jarque_bera(sp2['boxcox reading reading'])"
      ],
      "execution_count": 0,
      "outputs": []
    },
    {
      "cell_type": "markdown",
      "metadata": {
        "id": "t_4c4szVpRP7",
        "colab_type": "text"
      },
      "source": [
        "**BOXCOX NORMALIZES** -- positive values only"
      ]
    },
    {
      "cell_type": "code",
      "metadata": {
        "id": "ZIUvsxnYo--B",
        "colab_type": "code",
        "outputId": "1d766b46-cb13-48cf-b603-75dca0e87876",
        "colab": {
          "base_uri": "https://localhost:8080/",
          "height": 34
        }
      },
      "source": [
        "norm_stats3"
      ],
      "execution_count": 0,
      "outputs": [
        {
          "output_type": "execute_result",
          "data": {
            "text/plain": [
              "NormaltestResult(statistic=5.282274606965809, pvalue=0.07128015626992971)"
            ]
          },
          "metadata": {
            "tags": []
          },
          "execution_count": 201
        }
      ]
    },
    {
      "cell_type": "code",
      "metadata": {
        "id": "df0xYU1Lpjkf",
        "colab_type": "code",
        "outputId": "2aafa1bf-10ea-48d0-81be-792f4a7dace8",
        "colab": {
          "base_uri": "https://localhost:8080/",
          "height": 34
        }
      },
      "source": [
        "jb_stats3"
      ],
      "execution_count": 0,
      "outputs": [
        {
          "output_type": "execute_result",
          "data": {
            "text/plain": [
              "(4.119778573559666, 0.127468081515408)"
            ]
          },
          "metadata": {
            "tags": []
          },
          "execution_count": 202
        }
      ]
    },
    {
      "cell_type": "code",
      "metadata": {
        "id": "s4ielBZLkJsn",
        "colab_type": "code",
        "colab": {}
      },
      "source": [
        "from scipy.stats import jarque_bera\n",
        "from scipy.stats import normaltest\n",
        "\n",
        "jb_stats = jarque_bera(np.log(sp2['math score']))\n",
        "norm_stats = normaltest(np.log(sp2['math score']))"
      ],
      "execution_count": 0,
      "outputs": []
    },
    {
      "cell_type": "code",
      "metadata": {
        "id": "_KI0q3Ghkad-",
        "colab_type": "code",
        "outputId": "30785b6e-8605-4610-8256-f622e3901788",
        "colab": {
          "base_uri": "https://localhost:8080/",
          "height": 34
        }
      },
      "source": [
        "jb_stats"
      ],
      "execution_count": 0,
      "outputs": [
        {
          "output_type": "execute_result",
          "data": {
            "text/plain": [
              "(nan, nan)"
            ]
          },
          "metadata": {
            "tags": []
          },
          "execution_count": 66
        }
      ]
    },
    {
      "cell_type": "code",
      "metadata": {
        "id": "Dpg8053AkdiV",
        "colab_type": "code",
        "outputId": "c85b7d59-33fa-4ae9-c256-64e9ea103e35",
        "colab": {
          "base_uri": "https://localhost:8080/",
          "height": 34
        }
      },
      "source": [
        "norm_stats"
      ],
      "execution_count": 0,
      "outputs": [
        {
          "output_type": "execute_result",
          "data": {
            "text/plain": [
              "NormaltestResult(statistic=nan, pvalue=nan)"
            ]
          },
          "metadata": {
            "tags": []
          },
          "execution_count": 67
        }
      ]
    },
    {
      "cell_type": "code",
      "metadata": {
        "id": "fm4JJ_fZklF7",
        "colab_type": "code",
        "colab": {}
      },
      "source": [
        "jb_stats2 = jarque_bera(np.log(sp2['reading score']))\n",
        "norm_stats2 = normaltest(np.log(sp2['reading score']))"
      ],
      "execution_count": 0,
      "outputs": []
    },
    {
      "cell_type": "code",
      "metadata": {
        "id": "-r-x5Oc9k1Jr",
        "colab_type": "code",
        "outputId": "6872b9ba-46f7-4f5c-95a8-27a53387d1f8",
        "colab": {
          "base_uri": "https://localhost:8080/",
          "height": 34
        }
      },
      "source": [
        "jb_stats2"
      ],
      "execution_count": 0,
      "outputs": [
        {
          "output_type": "execute_result",
          "data": {
            "text/plain": [
              "(495.1273179446674, 0.0)"
            ]
          },
          "metadata": {
            "tags": []
          },
          "execution_count": 71
        }
      ]
    },
    {
      "cell_type": "code",
      "metadata": {
        "id": "sWIhc9k_k4rE",
        "colab_type": "code",
        "outputId": "af2aeeb4-8afc-4493-ebad-10234fe064a4",
        "colab": {
          "base_uri": "https://localhost:8080/",
          "height": 34
        }
      },
      "source": [
        "norm_stats2"
      ],
      "execution_count": 0,
      "outputs": [
        {
          "output_type": "execute_result",
          "data": {
            "text/plain": [
              "NormaltestResult(statistic=209.7715093472919, pvalue=2.8099300901335873e-46)"
            ]
          },
          "metadata": {
            "tags": []
          },
          "execution_count": 72
        }
      ]
    },
    {
      "cell_type": "markdown",
      "metadata": {
        "id": "A9p-h9dOp3lI",
        "colab_type": "text"
      },
      "source": [
        "2 -**Say we want to use a single variable for the exam scores as our target.** \n",
        "\n",
        "**For this purpose, create a new variable by taking a weighted average of the exam scores. Check whether this new variable is normally distributed.**\n",
        "\n",
        "**If it's not normally distributed, apply a Box-Cox transformation and check whether or not the transformed variable is normally distributed.**"
      ]
    },
    {
      "cell_type": "markdown",
      "metadata": {
        "id": "pHi_v7m5rNrP",
        "colab_type": "text"
      },
      "source": [
        "CREATE WEIGHTED AVERAGE EXAM SCORE VARIABLE"
      ]
    },
    {
      "cell_type": "code",
      "metadata": {
        "id": "9m1V6UaBrlmz",
        "colab_type": "code",
        "colab": {}
      },
      "source": [
        "bottom=sp2['math score']+sp2['reading score']+sp2['writing score']"
      ],
      "execution_count": 0,
      "outputs": []
    },
    {
      "cell_type": "code",
      "metadata": {
        "id": "OfVZrHLosAgu",
        "colab_type": "code",
        "colab": {}
      },
      "source": [
        "sp2['weighted']=(sp2['math score']+sp2['reading score']+sp2['writing score']/bottom)"
      ],
      "execution_count": 0,
      "outputs": []
    },
    {
      "cell_type": "code",
      "metadata": {
        "id": "BDhJkkVhsZYz",
        "colab_type": "code",
        "outputId": "1eb541f5-c853-46ad-ef35-3f244c1e92f2",
        "colab": {
          "base_uri": "https://localhost:8080/",
          "height": 218
        }
      },
      "source": [
        "sp2['weighted']"
      ],
      "execution_count": 0,
      "outputs": [
        {
          "output_type": "execute_result",
          "data": {
            "text/plain": [
              "0      144.339450\n",
              "1      159.356275\n",
              "2      185.334532\n",
              "3      104.297297\n",
              "4      154.327511\n",
              "          ...    \n",
              "995    187.336879\n",
              "996    117.319767\n",
              "997    130.333333\n",
              "998    146.345291\n",
              "999    163.345382\n",
              "Name: weighted, Length: 1000, dtype: float64"
            ]
          },
          "metadata": {
            "tags": []
          },
          "execution_count": 205
        }
      ]
    },
    {
      "cell_type": "code",
      "metadata": {
        "id": "-yvgXT9wVPOD",
        "colab_type": "code",
        "outputId": "e8a82c89-a192-4863-ef9f-b13f91d9b3ac",
        "colab": {
          "base_uri": "https://localhost:8080/",
          "height": 229
        }
      },
      "source": [
        "sp2.head()"
      ],
      "execution_count": 0,
      "outputs": [
        {
          "output_type": "execute_result",
          "data": {
            "text/html": [
              "<div>\n",
              "<style scoped>\n",
              "    .dataframe tbody tr th:only-of-type {\n",
              "        vertical-align: middle;\n",
              "    }\n",
              "\n",
              "    .dataframe tbody tr th {\n",
              "        vertical-align: top;\n",
              "    }\n",
              "\n",
              "    .dataframe thead th {\n",
              "        text-align: right;\n",
              "    }\n",
              "</style>\n",
              "<table border=\"1\" class=\"dataframe\">\n",
              "  <thead>\n",
              "    <tr style=\"text-align: right;\">\n",
              "      <th></th>\n",
              "      <th>gender</th>\n",
              "      <th>race/ethnicity</th>\n",
              "      <th>parental level of education</th>\n",
              "      <th>lunch</th>\n",
              "      <th>test preparation course</th>\n",
              "      <th>math score</th>\n",
              "      <th>reading score</th>\n",
              "      <th>writing score</th>\n",
              "      <th>winsorized math score</th>\n",
              "      <th>winzorized reading score</th>\n",
              "      <th>winsorized writing score</th>\n",
              "      <th>boxcox reading reading</th>\n",
              "      <th>boxcox writing reading</th>\n",
              "      <th>weighted</th>\n",
              "    </tr>\n",
              "  </thead>\n",
              "  <tbody>\n",
              "    <tr>\n",
              "      <th>0</th>\n",
              "      <td>female</td>\n",
              "      <td>group B</td>\n",
              "      <td>bachelor's degree</td>\n",
              "      <td>standard</td>\n",
              "      <td>none</td>\n",
              "      <td>72</td>\n",
              "      <td>72</td>\n",
              "      <td>74</td>\n",
              "      <td>72</td>\n",
              "      <td>72</td>\n",
              "      <td>74</td>\n",
              "      <td>252.608698</td>\n",
              "      <td>271.189141</td>\n",
              "      <td>144.339450</td>\n",
              "    </tr>\n",
              "    <tr>\n",
              "      <th>1</th>\n",
              "      <td>female</td>\n",
              "      <td>group C</td>\n",
              "      <td>some college</td>\n",
              "      <td>standard</td>\n",
              "      <td>completed</td>\n",
              "      <td>69</td>\n",
              "      <td>90</td>\n",
              "      <td>88</td>\n",
              "      <td>69</td>\n",
              "      <td>87</td>\n",
              "      <td>87</td>\n",
              "      <td>342.993742</td>\n",
              "      <td>344.439015</td>\n",
              "      <td>159.356275</td>\n",
              "    </tr>\n",
              "    <tr>\n",
              "      <th>2</th>\n",
              "      <td>female</td>\n",
              "      <td>group B</td>\n",
              "      <td>master's degree</td>\n",
              "      <td>standard</td>\n",
              "      <td>none</td>\n",
              "      <td>90</td>\n",
              "      <td>95</td>\n",
              "      <td>93</td>\n",
              "      <td>86</td>\n",
              "      <td>87</td>\n",
              "      <td>87</td>\n",
              "      <td>369.367302</td>\n",
              "      <td>371.722711</td>\n",
              "      <td>185.334532</td>\n",
              "    </tr>\n",
              "    <tr>\n",
              "      <th>3</th>\n",
              "      <td>male</td>\n",
              "      <td>group A</td>\n",
              "      <td>associate's degree</td>\n",
              "      <td>free/reduced</td>\n",
              "      <td>none</td>\n",
              "      <td>47</td>\n",
              "      <td>57</td>\n",
              "      <td>44</td>\n",
              "      <td>47</td>\n",
              "      <td>57</td>\n",
              "      <td>44</td>\n",
              "      <td>183.336686</td>\n",
              "      <td>132.202142</td>\n",
              "      <td>104.297297</td>\n",
              "    </tr>\n",
              "    <tr>\n",
              "      <th>4</th>\n",
              "      <td>male</td>\n",
              "      <td>group C</td>\n",
              "      <td>some college</td>\n",
              "      <td>standard</td>\n",
              "      <td>none</td>\n",
              "      <td>76</td>\n",
              "      <td>78</td>\n",
              "      <td>75</td>\n",
              "      <td>76</td>\n",
              "      <td>78</td>\n",
              "      <td>75</td>\n",
              "      <td>281.909487</td>\n",
              "      <td>276.260478</td>\n",
              "      <td>154.327511</td>\n",
              "    </tr>\n",
              "  </tbody>\n",
              "</table>\n",
              "</div>"
            ],
            "text/plain": [
              "   gender race/ethnicity  ... boxcox writing reading    weighted\n",
              "0  female        group B  ...             271.189141  144.339450\n",
              "1  female        group C  ...             344.439015  159.356275\n",
              "2  female        group B  ...             371.722711  185.334532\n",
              "3    male        group A  ...             132.202142  104.297297\n",
              "4    male        group C  ...             276.260478  154.327511\n",
              "\n",
              "[5 rows x 14 columns]"
            ]
          },
          "metadata": {
            "tags": []
          },
          "execution_count": 206
        }
      ]
    },
    {
      "cell_type": "markdown",
      "metadata": {
        "id": "ouu6dfZNuStC",
        "colab_type": "text"
      },
      "source": [
        "**New Variable is normal**"
      ]
    },
    {
      "cell_type": "code",
      "metadata": {
        "id": "etqSu62Xskum",
        "colab_type": "code",
        "colab": {}
      },
      "source": [
        "jb_stats2w = jarque_bera((sp2['weighted']))\n",
        "\n",
        "norm_stats2w = normaltest(sp2['weighted'])"
      ],
      "execution_count": 0,
      "outputs": []
    },
    {
      "cell_type": "code",
      "metadata": {
        "id": "QGboDWURst7r",
        "colab_type": "code",
        "outputId": "4aadcd84-57f9-4b7d-fb7a-e0b913bbd2d0",
        "colab": {
          "base_uri": "https://localhost:8080/",
          "height": 34
        }
      },
      "source": [
        "norm_stats2w"
      ],
      "execution_count": 0,
      "outputs": [
        {
          "output_type": "execute_result",
          "data": {
            "text/plain": [
              "NormaltestResult(statistic=13.735117674014473, pvalue=0.0010410152531998408)"
            ]
          },
          "metadata": {
            "tags": []
          },
          "execution_count": 208
        }
      ]
    },
    {
      "cell_type": "code",
      "metadata": {
        "id": "VESSxDY0uNnt",
        "colab_type": "code",
        "outputId": "bb450b5c-9333-4d99-abaf-aed4207b6cc6",
        "colab": {
          "base_uri": "https://localhost:8080/",
          "height": 34
        }
      },
      "source": [
        "jb_stats2w"
      ],
      "execution_count": 0,
      "outputs": [
        {
          "output_type": "execute_result",
          "data": {
            "text/plain": [
              "(13.899273327421412, 0.0009589835239175448)"
            ]
          },
          "metadata": {
            "tags": []
          },
          "execution_count": 209
        }
      ]
    },
    {
      "cell_type": "code",
      "metadata": {
        "id": "rq0sys7hs0oT",
        "colab_type": "code",
        "outputId": "1638d79b-3260-4be6-906e-b9ad708f3675",
        "colab": {
          "base_uri": "https://localhost:8080/",
          "height": 34
        }
      },
      "source": [
        "jb_stats2w"
      ],
      "execution_count": 0,
      "outputs": [
        {
          "output_type": "execute_result",
          "data": {
            "text/plain": [
              "(13.899273327421412, 0.0009589835239175448)"
            ]
          },
          "metadata": {
            "tags": []
          },
          "execution_count": 210
        }
      ]
    },
    {
      "cell_type": "markdown",
      "metadata": {
        "id": "3n7ZQDJyul_t",
        "colab_type": "text"
      },
      "source": [
        "3 - **Which variables seem related to the target variable (the newly created variable in the previous question)? If our goal is to explain the determinants of success in exams, which variables in our dataset might be useful?**"
      ]
    },
    {
      "cell_type": "code",
      "metadata": {
        "id": "JXHNb6FUu347",
        "colab_type": "code",
        "outputId": "8687ed72-025c-48e6-cc1c-2829d9b38940",
        "colab": {
          "base_uri": "https://localhost:8080/",
          "height": 252
        }
      },
      "source": [
        "list(sp2)"
      ],
      "execution_count": 0,
      "outputs": [
        {
          "output_type": "execute_result",
          "data": {
            "text/plain": [
              "['gender',\n",
              " 'race/ethnicity',\n",
              " 'parental level of education',\n",
              " 'lunch',\n",
              " 'test preparation course',\n",
              " 'math score',\n",
              " 'reading score',\n",
              " 'writing score',\n",
              " 'winsorized math score',\n",
              " 'winzorized reading score',\n",
              " 'winsorized writing score',\n",
              " 'boxcox reading reading',\n",
              " 'boxcox writing reading',\n",
              " 'weighted']"
            ]
          },
          "metadata": {
            "tags": []
          },
          "execution_count": 211
        }
      ]
    },
    {
      "cell_type": "markdown",
      "metadata": {
        "id": "YFBWJqtQyESl",
        "colab_type": "text"
      },
      "source": [
        "# label encoding the data \n",
        "from sklearn.preprocessing import LabelEncoder \n",
        "le = LabelEncoder() \n",
        "data['Gender']= le.fit_transform(data['Gender'])"
      ]
    },
    {
      "cell_type": "code",
      "metadata": {
        "id": "8mAqf5IhyK20",
        "colab_type": "code",
        "colab": {}
      },
      "source": [
        "# label encoding the data \n",
        "from sklearn.preprocessing import LabelEncoder \n",
        "le = LabelEncoder() \n",
        "sp2['gender']= le.fit_transform(sp2['gender'])"
      ],
      "execution_count": 0,
      "outputs": []
    },
    {
      "cell_type": "code",
      "metadata": {
        "id": "JyGvJ8bgyVqL",
        "colab_type": "code",
        "outputId": "b2951196-84bf-43f1-b33c-4e5305eff33b",
        "colab": {
          "base_uri": "https://localhost:8080/",
          "height": 229
        }
      },
      "source": [
        "sp2.head()"
      ],
      "execution_count": 0,
      "outputs": [
        {
          "output_type": "execute_result",
          "data": {
            "text/html": [
              "<div>\n",
              "<style scoped>\n",
              "    .dataframe tbody tr th:only-of-type {\n",
              "        vertical-align: middle;\n",
              "    }\n",
              "\n",
              "    .dataframe tbody tr th {\n",
              "        vertical-align: top;\n",
              "    }\n",
              "\n",
              "    .dataframe thead th {\n",
              "        text-align: right;\n",
              "    }\n",
              "</style>\n",
              "<table border=\"1\" class=\"dataframe\">\n",
              "  <thead>\n",
              "    <tr style=\"text-align: right;\">\n",
              "      <th></th>\n",
              "      <th>gender</th>\n",
              "      <th>race/ethnicity</th>\n",
              "      <th>parental level of education</th>\n",
              "      <th>lunch</th>\n",
              "      <th>test preparation course</th>\n",
              "      <th>math score</th>\n",
              "      <th>reading score</th>\n",
              "      <th>writing score</th>\n",
              "      <th>winsorized math score</th>\n",
              "      <th>winzorized reading score</th>\n",
              "      <th>winsorized writing score</th>\n",
              "      <th>boxcox reading reading</th>\n",
              "      <th>boxcox writing reading</th>\n",
              "      <th>weighted</th>\n",
              "    </tr>\n",
              "  </thead>\n",
              "  <tbody>\n",
              "    <tr>\n",
              "      <th>0</th>\n",
              "      <td>0</td>\n",
              "      <td>group B</td>\n",
              "      <td>bachelor's degree</td>\n",
              "      <td>standard</td>\n",
              "      <td>none</td>\n",
              "      <td>72</td>\n",
              "      <td>72</td>\n",
              "      <td>74</td>\n",
              "      <td>72</td>\n",
              "      <td>72</td>\n",
              "      <td>74</td>\n",
              "      <td>252.608698</td>\n",
              "      <td>271.189141</td>\n",
              "      <td>144.339450</td>\n",
              "    </tr>\n",
              "    <tr>\n",
              "      <th>1</th>\n",
              "      <td>0</td>\n",
              "      <td>group C</td>\n",
              "      <td>some college</td>\n",
              "      <td>standard</td>\n",
              "      <td>completed</td>\n",
              "      <td>69</td>\n",
              "      <td>90</td>\n",
              "      <td>88</td>\n",
              "      <td>69</td>\n",
              "      <td>87</td>\n",
              "      <td>87</td>\n",
              "      <td>342.993742</td>\n",
              "      <td>344.439015</td>\n",
              "      <td>159.356275</td>\n",
              "    </tr>\n",
              "    <tr>\n",
              "      <th>2</th>\n",
              "      <td>0</td>\n",
              "      <td>group B</td>\n",
              "      <td>master's degree</td>\n",
              "      <td>standard</td>\n",
              "      <td>none</td>\n",
              "      <td>90</td>\n",
              "      <td>95</td>\n",
              "      <td>93</td>\n",
              "      <td>86</td>\n",
              "      <td>87</td>\n",
              "      <td>87</td>\n",
              "      <td>369.367302</td>\n",
              "      <td>371.722711</td>\n",
              "      <td>185.334532</td>\n",
              "    </tr>\n",
              "    <tr>\n",
              "      <th>3</th>\n",
              "      <td>1</td>\n",
              "      <td>group A</td>\n",
              "      <td>associate's degree</td>\n",
              "      <td>free/reduced</td>\n",
              "      <td>none</td>\n",
              "      <td>47</td>\n",
              "      <td>57</td>\n",
              "      <td>44</td>\n",
              "      <td>47</td>\n",
              "      <td>57</td>\n",
              "      <td>44</td>\n",
              "      <td>183.336686</td>\n",
              "      <td>132.202142</td>\n",
              "      <td>104.297297</td>\n",
              "    </tr>\n",
              "    <tr>\n",
              "      <th>4</th>\n",
              "      <td>1</td>\n",
              "      <td>group C</td>\n",
              "      <td>some college</td>\n",
              "      <td>standard</td>\n",
              "      <td>none</td>\n",
              "      <td>76</td>\n",
              "      <td>78</td>\n",
              "      <td>75</td>\n",
              "      <td>76</td>\n",
              "      <td>78</td>\n",
              "      <td>75</td>\n",
              "      <td>281.909487</td>\n",
              "      <td>276.260478</td>\n",
              "      <td>154.327511</td>\n",
              "    </tr>\n",
              "  </tbody>\n",
              "</table>\n",
              "</div>"
            ],
            "text/plain": [
              "   gender race/ethnicity  ... boxcox writing reading    weighted\n",
              "0       0        group B  ...             271.189141  144.339450\n",
              "1       0        group C  ...             344.439015  159.356275\n",
              "2       0        group B  ...             371.722711  185.334532\n",
              "3       1        group A  ...             132.202142  104.297297\n",
              "4       1        group C  ...             276.260478  154.327511\n",
              "\n",
              "[5 rows x 14 columns]"
            ]
          },
          "metadata": {
            "tags": []
          },
          "execution_count": 216
        }
      ]
    },
    {
      "cell_type": "code",
      "metadata": {
        "id": "iRB8kdJBykyJ",
        "colab_type": "code",
        "outputId": "9643fa1b-581b-456d-b2ff-0b6efa68352e",
        "colab": {
          "base_uri": "https://localhost:8080/",
          "height": 195
        }
      },
      "source": [
        "new_df=sp2[['gender','weighted']]\n",
        "new_df.head()"
      ],
      "execution_count": 0,
      "outputs": [
        {
          "output_type": "execute_result",
          "data": {
            "text/html": [
              "<div>\n",
              "<style scoped>\n",
              "    .dataframe tbody tr th:only-of-type {\n",
              "        vertical-align: middle;\n",
              "    }\n",
              "\n",
              "    .dataframe tbody tr th {\n",
              "        vertical-align: top;\n",
              "    }\n",
              "\n",
              "    .dataframe thead th {\n",
              "        text-align: right;\n",
              "    }\n",
              "</style>\n",
              "<table border=\"1\" class=\"dataframe\">\n",
              "  <thead>\n",
              "    <tr style=\"text-align: right;\">\n",
              "      <th></th>\n",
              "      <th>gender</th>\n",
              "      <th>weighted</th>\n",
              "    </tr>\n",
              "  </thead>\n",
              "  <tbody>\n",
              "    <tr>\n",
              "      <th>0</th>\n",
              "      <td>0</td>\n",
              "      <td>144.339450</td>\n",
              "    </tr>\n",
              "    <tr>\n",
              "      <th>1</th>\n",
              "      <td>0</td>\n",
              "      <td>159.356275</td>\n",
              "    </tr>\n",
              "    <tr>\n",
              "      <th>2</th>\n",
              "      <td>0</td>\n",
              "      <td>185.334532</td>\n",
              "    </tr>\n",
              "    <tr>\n",
              "      <th>3</th>\n",
              "      <td>1</td>\n",
              "      <td>104.297297</td>\n",
              "    </tr>\n",
              "    <tr>\n",
              "      <th>4</th>\n",
              "      <td>1</td>\n",
              "      <td>154.327511</td>\n",
              "    </tr>\n",
              "  </tbody>\n",
              "</table>\n",
              "</div>"
            ],
            "text/plain": [
              "   gender    weighted\n",
              "0       0  144.339450\n",
              "1       0  159.356275\n",
              "2       0  185.334532\n",
              "3       1  104.297297\n",
              "4       1  154.327511"
            ]
          },
          "metadata": {
            "tags": []
          },
          "execution_count": 229
        }
      ]
    },
    {
      "cell_type": "code",
      "metadata": {
        "id": "Msls1v2iuqCa",
        "colab_type": "code",
        "outputId": "b8dcfa6d-a9c5-44e7-ae6e-3284ae97d847",
        "colab": {
          "base_uri": "https://localhost:8080/",
          "height": 134
        }
      },
      "source": [
        "new_df.info()"
      ],
      "execution_count": 0,
      "outputs": [
        {
          "output_type": "stream",
          "text": [
            "<class 'pandas.core.frame.DataFrame'>\n",
            "RangeIndex: 1000 entries, 0 to 999\n",
            "Data columns (total 2 columns):\n",
            "gender      1000 non-null int64\n",
            "weighted    1000 non-null float64\n",
            "dtypes: float64(1), int64(1)\n",
            "memory usage: 15.8 KB\n"
          ],
          "name": "stdout"
        }
      ]
    },
    {
      "cell_type": "markdown",
      "metadata": {
        "id": "FmNVlDxGxYFG",
        "colab_type": "text"
      },
      "source": [
        "**CONVERT OBJECT TO NUMERIC**"
      ]
    },
    {
      "cell_type": "code",
      "metadata": {
        "id": "-bJWU_dcvyMr",
        "colab_type": "code",
        "outputId": "cbee7ac0-59a9-47b0-f410-9860e5f7fb29",
        "colab": {
          "base_uri": "https://localhost:8080/",
          "height": 218
        }
      },
      "source": [
        "pd.to_numeric(new_df['gender'])"
      ],
      "execution_count": 0,
      "outputs": [
        {
          "output_type": "execute_result",
          "data": {
            "text/plain": [
              "0      0\n",
              "1      0\n",
              "2      0\n",
              "3      1\n",
              "4      1\n",
              "      ..\n",
              "995    0\n",
              "996    1\n",
              "997    0\n",
              "998    0\n",
              "999    0\n",
              "Name: gender, Length: 1000, dtype: int64"
            ]
          },
          "metadata": {
            "tags": []
          },
          "execution_count": 231
        }
      ]
    },
    {
      "cell_type": "code",
      "metadata": {
        "id": "9_CXC5tzkicu",
        "colab_type": "code",
        "outputId": "4a38d6a8-52a3-4689-b1d2-bba774d2c59a",
        "colab": {
          "base_uri": "https://localhost:8080/",
          "height": 106
        }
      },
      "source": [
        "new_df.corr()"
      ],
      "execution_count": 0,
      "outputs": [
        {
          "output_type": "execute_result",
          "data": {
            "text/html": [
              "<div>\n",
              "<style scoped>\n",
              "    .dataframe tbody tr th:only-of-type {\n",
              "        vertical-align: middle;\n",
              "    }\n",
              "\n",
              "    .dataframe tbody tr th {\n",
              "        vertical-align: top;\n",
              "    }\n",
              "\n",
              "    .dataframe thead th {\n",
              "        text-align: right;\n",
              "    }\n",
              "</style>\n",
              "<table border=\"1\" class=\"dataframe\">\n",
              "  <thead>\n",
              "    <tr style=\"text-align: right;\">\n",
              "      <th></th>\n",
              "      <th>gender</th>\n",
              "      <th>weighted</th>\n",
              "    </tr>\n",
              "  </thead>\n",
              "  <tbody>\n",
              "    <tr>\n",
              "      <th>gender</th>\n",
              "      <td>1.000000</td>\n",
              "      <td>-0.036441</td>\n",
              "    </tr>\n",
              "    <tr>\n",
              "      <th>weighted</th>\n",
              "      <td>-0.036441</td>\n",
              "      <td>1.000000</td>\n",
              "    </tr>\n",
              "  </tbody>\n",
              "</table>\n",
              "</div>"
            ],
            "text/plain": [
              "            gender  weighted\n",
              "gender    1.000000 -0.036441\n",
              "weighted -0.036441  1.000000"
            ]
          },
          "metadata": {
            "tags": []
          },
          "execution_count": 235
        }
      ]
    },
    {
      "cell_type": "code",
      "metadata": {
        "id": "C7rIpDguxr_q",
        "colab_type": "code",
        "outputId": "3887bdce-3e7d-4c95-88fe-a0048f7df6b3",
        "colab": {
          "base_uri": "https://localhost:8080/",
          "height": 402
        }
      },
      "source": [
        "pd.get_dummies(new_df['gender'])"
      ],
      "execution_count": 0,
      "outputs": [
        {
          "output_type": "execute_result",
          "data": {
            "text/html": [
              "<div>\n",
              "<style scoped>\n",
              "    .dataframe tbody tr th:only-of-type {\n",
              "        vertical-align: middle;\n",
              "    }\n",
              "\n",
              "    .dataframe tbody tr th {\n",
              "        vertical-align: top;\n",
              "    }\n",
              "\n",
              "    .dataframe thead th {\n",
              "        text-align: right;\n",
              "    }\n",
              "</style>\n",
              "<table border=\"1\" class=\"dataframe\">\n",
              "  <thead>\n",
              "    <tr style=\"text-align: right;\">\n",
              "      <th></th>\n",
              "      <th>0</th>\n",
              "      <th>1</th>\n",
              "    </tr>\n",
              "  </thead>\n",
              "  <tbody>\n",
              "    <tr>\n",
              "      <th>0</th>\n",
              "      <td>1</td>\n",
              "      <td>0</td>\n",
              "    </tr>\n",
              "    <tr>\n",
              "      <th>1</th>\n",
              "      <td>1</td>\n",
              "      <td>0</td>\n",
              "    </tr>\n",
              "    <tr>\n",
              "      <th>2</th>\n",
              "      <td>1</td>\n",
              "      <td>0</td>\n",
              "    </tr>\n",
              "    <tr>\n",
              "      <th>3</th>\n",
              "      <td>0</td>\n",
              "      <td>1</td>\n",
              "    </tr>\n",
              "    <tr>\n",
              "      <th>4</th>\n",
              "      <td>0</td>\n",
              "      <td>1</td>\n",
              "    </tr>\n",
              "    <tr>\n",
              "      <th>...</th>\n",
              "      <td>...</td>\n",
              "      <td>...</td>\n",
              "    </tr>\n",
              "    <tr>\n",
              "      <th>995</th>\n",
              "      <td>1</td>\n",
              "      <td>0</td>\n",
              "    </tr>\n",
              "    <tr>\n",
              "      <th>996</th>\n",
              "      <td>0</td>\n",
              "      <td>1</td>\n",
              "    </tr>\n",
              "    <tr>\n",
              "      <th>997</th>\n",
              "      <td>1</td>\n",
              "      <td>0</td>\n",
              "    </tr>\n",
              "    <tr>\n",
              "      <th>998</th>\n",
              "      <td>1</td>\n",
              "      <td>0</td>\n",
              "    </tr>\n",
              "    <tr>\n",
              "      <th>999</th>\n",
              "      <td>1</td>\n",
              "      <td>0</td>\n",
              "    </tr>\n",
              "  </tbody>\n",
              "</table>\n",
              "<p>1000 rows × 2 columns</p>\n",
              "</div>"
            ],
            "text/plain": [
              "     0  1\n",
              "0    1  0\n",
              "1    1  0\n",
              "2    1  0\n",
              "3    0  1\n",
              "4    0  1\n",
              "..  .. ..\n",
              "995  1  0\n",
              "996  0  1\n",
              "997  1  0\n",
              "998  1  0\n",
              "999  1  0\n",
              "\n",
              "[1000 rows x 2 columns]"
            ]
          },
          "metadata": {
            "tags": []
          },
          "execution_count": 236
        }
      ]
    },
    {
      "cell_type": "markdown",
      "metadata": {
        "id": "YFOhoAfizPbb",
        "colab_type": "text"
      },
      "source": [
        "female=0  male= 1"
      ]
    },
    {
      "cell_type": "code",
      "metadata": {
        "id": "hqyDoIrjx_-n",
        "colab_type": "code",
        "colab": {}
      },
      "source": [
        "df3 = pd.concat([new_df, pd.get_dummies(new_df['gender'])], axis=1)\n"
      ],
      "execution_count": 0,
      "outputs": []
    },
    {
      "cell_type": "code",
      "metadata": {
        "id": "WPThzayHyOPx",
        "colab_type": "code",
        "outputId": "79a53d94-52ab-4aac-c25d-98cd3c737668",
        "colab": {
          "base_uri": "https://localhost:8080/",
          "height": 195
        }
      },
      "source": [
        "df3.head()"
      ],
      "execution_count": 0,
      "outputs": [
        {
          "output_type": "execute_result",
          "data": {
            "text/html": [
              "<div>\n",
              "<style scoped>\n",
              "    .dataframe tbody tr th:only-of-type {\n",
              "        vertical-align: middle;\n",
              "    }\n",
              "\n",
              "    .dataframe tbody tr th {\n",
              "        vertical-align: top;\n",
              "    }\n",
              "\n",
              "    .dataframe thead th {\n",
              "        text-align: right;\n",
              "    }\n",
              "</style>\n",
              "<table border=\"1\" class=\"dataframe\">\n",
              "  <thead>\n",
              "    <tr style=\"text-align: right;\">\n",
              "      <th></th>\n",
              "      <th>gender</th>\n",
              "      <th>weighted</th>\n",
              "      <th>0</th>\n",
              "      <th>1</th>\n",
              "    </tr>\n",
              "  </thead>\n",
              "  <tbody>\n",
              "    <tr>\n",
              "      <th>0</th>\n",
              "      <td>0</td>\n",
              "      <td>144.339450</td>\n",
              "      <td>1</td>\n",
              "      <td>0</td>\n",
              "    </tr>\n",
              "    <tr>\n",
              "      <th>1</th>\n",
              "      <td>0</td>\n",
              "      <td>159.356275</td>\n",
              "      <td>1</td>\n",
              "      <td>0</td>\n",
              "    </tr>\n",
              "    <tr>\n",
              "      <th>2</th>\n",
              "      <td>0</td>\n",
              "      <td>185.334532</td>\n",
              "      <td>1</td>\n",
              "      <td>0</td>\n",
              "    </tr>\n",
              "    <tr>\n",
              "      <th>3</th>\n",
              "      <td>1</td>\n",
              "      <td>104.297297</td>\n",
              "      <td>0</td>\n",
              "      <td>1</td>\n",
              "    </tr>\n",
              "    <tr>\n",
              "      <th>4</th>\n",
              "      <td>1</td>\n",
              "      <td>154.327511</td>\n",
              "      <td>0</td>\n",
              "      <td>1</td>\n",
              "    </tr>\n",
              "  </tbody>\n",
              "</table>\n",
              "</div>"
            ],
            "text/plain": [
              "   gender    weighted  0  1\n",
              "0       0  144.339450  1  0\n",
              "1       0  159.356275  1  0\n",
              "2       0  185.334532  1  0\n",
              "3       1  104.297297  0  1\n",
              "4       1  154.327511  0  1"
            ]
          },
          "metadata": {
            "tags": []
          },
          "execution_count": 238
        }
      ]
    },
    {
      "cell_type": "code",
      "metadata": {
        "id": "JxtJCc07yUBq",
        "colab_type": "code",
        "outputId": "0fde4671-3f53-47f2-be95-da047d51e13d",
        "colab": {
          "base_uri": "https://localhost:8080/",
          "height": 166
        }
      },
      "source": [
        "df3.corr()"
      ],
      "execution_count": 0,
      "outputs": [
        {
          "output_type": "execute_result",
          "data": {
            "text/html": [
              "<div>\n",
              "<style scoped>\n",
              "    .dataframe tbody tr th:only-of-type {\n",
              "        vertical-align: middle;\n",
              "    }\n",
              "\n",
              "    .dataframe tbody tr th {\n",
              "        vertical-align: top;\n",
              "    }\n",
              "\n",
              "    .dataframe thead th {\n",
              "        text-align: right;\n",
              "    }\n",
              "</style>\n",
              "<table border=\"1\" class=\"dataframe\">\n",
              "  <thead>\n",
              "    <tr style=\"text-align: right;\">\n",
              "      <th></th>\n",
              "      <th>gender</th>\n",
              "      <th>weighted</th>\n",
              "      <th>0</th>\n",
              "      <th>1</th>\n",
              "    </tr>\n",
              "  </thead>\n",
              "  <tbody>\n",
              "    <tr>\n",
              "      <th>gender</th>\n",
              "      <td>1.000000</td>\n",
              "      <td>-0.036441</td>\n",
              "      <td>-1.000000</td>\n",
              "      <td>1.000000</td>\n",
              "    </tr>\n",
              "    <tr>\n",
              "      <th>weighted</th>\n",
              "      <td>-0.036441</td>\n",
              "      <td>1.000000</td>\n",
              "      <td>0.036441</td>\n",
              "      <td>-0.036441</td>\n",
              "    </tr>\n",
              "    <tr>\n",
              "      <th>0</th>\n",
              "      <td>-1.000000</td>\n",
              "      <td>0.036441</td>\n",
              "      <td>1.000000</td>\n",
              "      <td>-1.000000</td>\n",
              "    </tr>\n",
              "    <tr>\n",
              "      <th>1</th>\n",
              "      <td>1.000000</td>\n",
              "      <td>-0.036441</td>\n",
              "      <td>-1.000000</td>\n",
              "      <td>1.000000</td>\n",
              "    </tr>\n",
              "  </tbody>\n",
              "</table>\n",
              "</div>"
            ],
            "text/plain": [
              "            gender  weighted         0         1\n",
              "gender    1.000000 -0.036441 -1.000000  1.000000\n",
              "weighted -0.036441  1.000000  0.036441 -0.036441\n",
              "0        -1.000000  0.036441  1.000000 -1.000000\n",
              "1         1.000000 -0.036441 -1.000000  1.000000"
            ]
          },
          "metadata": {
            "tags": []
          },
          "execution_count": 239
        }
      ]
    },
    {
      "cell_type": "markdown",
      "metadata": {
        "id": "MvKDDcKlxGWs",
        "colab_type": "text"
      },
      "source": [
        "///////////////////////////////////////////////////////////////////////////////////////////////////////////////////////////////////////////////////"
      ]
    },
    {
      "cell_type": "code",
      "metadata": {
        "id": "QRc0L2Puy9ir",
        "colab_type": "code",
        "outputId": "080b2167-fe22-40af-9a02-1f763479ebba",
        "colab": {
          "base_uri": "https://localhost:8080/",
          "height": 402
        }
      },
      "source": [
        "pd.get_dummies(sp2['gender'])"
      ],
      "execution_count": 0,
      "outputs": [
        {
          "output_type": "execute_result",
          "data": {
            "text/html": [
              "<div>\n",
              "<style scoped>\n",
              "    .dataframe tbody tr th:only-of-type {\n",
              "        vertical-align: middle;\n",
              "    }\n",
              "\n",
              "    .dataframe tbody tr th {\n",
              "        vertical-align: top;\n",
              "    }\n",
              "\n",
              "    .dataframe thead th {\n",
              "        text-align: right;\n",
              "    }\n",
              "</style>\n",
              "<table border=\"1\" class=\"dataframe\">\n",
              "  <thead>\n",
              "    <tr style=\"text-align: right;\">\n",
              "      <th></th>\n",
              "      <th>0</th>\n",
              "      <th>1</th>\n",
              "    </tr>\n",
              "  </thead>\n",
              "  <tbody>\n",
              "    <tr>\n",
              "      <th>0</th>\n",
              "      <td>1</td>\n",
              "      <td>0</td>\n",
              "    </tr>\n",
              "    <tr>\n",
              "      <th>1</th>\n",
              "      <td>1</td>\n",
              "      <td>0</td>\n",
              "    </tr>\n",
              "    <tr>\n",
              "      <th>2</th>\n",
              "      <td>1</td>\n",
              "      <td>0</td>\n",
              "    </tr>\n",
              "    <tr>\n",
              "      <th>3</th>\n",
              "      <td>0</td>\n",
              "      <td>1</td>\n",
              "    </tr>\n",
              "    <tr>\n",
              "      <th>4</th>\n",
              "      <td>0</td>\n",
              "      <td>1</td>\n",
              "    </tr>\n",
              "    <tr>\n",
              "      <th>...</th>\n",
              "      <td>...</td>\n",
              "      <td>...</td>\n",
              "    </tr>\n",
              "    <tr>\n",
              "      <th>995</th>\n",
              "      <td>1</td>\n",
              "      <td>0</td>\n",
              "    </tr>\n",
              "    <tr>\n",
              "      <th>996</th>\n",
              "      <td>0</td>\n",
              "      <td>1</td>\n",
              "    </tr>\n",
              "    <tr>\n",
              "      <th>997</th>\n",
              "      <td>1</td>\n",
              "      <td>0</td>\n",
              "    </tr>\n",
              "    <tr>\n",
              "      <th>998</th>\n",
              "      <td>1</td>\n",
              "      <td>0</td>\n",
              "    </tr>\n",
              "    <tr>\n",
              "      <th>999</th>\n",
              "      <td>1</td>\n",
              "      <td>0</td>\n",
              "    </tr>\n",
              "  </tbody>\n",
              "</table>\n",
              "<p>1000 rows × 2 columns</p>\n",
              "</div>"
            ],
            "text/plain": [
              "     0  1\n",
              "0    1  0\n",
              "1    1  0\n",
              "2    1  0\n",
              "3    0  1\n",
              "4    0  1\n",
              "..  .. ..\n",
              "995  1  0\n",
              "996  0  1\n",
              "997  1  0\n",
              "998  1  0\n",
              "999  1  0\n",
              "\n",
              "[1000 rows x 2 columns]"
            ]
          },
          "metadata": {
            "tags": []
          },
          "execution_count": 241
        }
      ]
    },
    {
      "cell_type": "code",
      "metadata": {
        "id": "WOklC75L0-Ck",
        "colab_type": "code",
        "colab": {}
      },
      "source": [
        "test=pd.get_dummies(sp2)"
      ],
      "execution_count": 0,
      "outputs": []
    },
    {
      "cell_type": "code",
      "metadata": {
        "id": "3jktaLK41aLN",
        "colab_type": "code",
        "outputId": "e225f65d-f91c-410d-f82a-6d9092196644",
        "colab": {
          "base_uri": "https://localhost:8080/",
          "height": 1000
        }
      },
      "source": [
        "test.corr()"
      ],
      "execution_count": 0,
      "outputs": [
        {
          "output_type": "execute_result",
          "data": {
            "text/html": [
              "<div>\n",
              "<style scoped>\n",
              "    .dataframe tbody tr th:only-of-type {\n",
              "        vertical-align: middle;\n",
              "    }\n",
              "\n",
              "    .dataframe tbody tr th {\n",
              "        vertical-align: top;\n",
              "    }\n",
              "\n",
              "    .dataframe thead th {\n",
              "        text-align: right;\n",
              "    }\n",
              "</style>\n",
              "<table border=\"1\" class=\"dataframe\">\n",
              "  <thead>\n",
              "    <tr style=\"text-align: right;\">\n",
              "      <th></th>\n",
              "      <th>math score</th>\n",
              "      <th>reading score</th>\n",
              "      <th>writing score</th>\n",
              "      <th>weighted</th>\n",
              "      <th>gender_female</th>\n",
              "      <th>gender_male</th>\n",
              "      <th>race/ethnicity_group A</th>\n",
              "      <th>race/ethnicity_group B</th>\n",
              "      <th>race/ethnicity_group C</th>\n",
              "      <th>race/ethnicity_group D</th>\n",
              "      <th>race/ethnicity_group E</th>\n",
              "      <th>parental level of education_associate's degree</th>\n",
              "      <th>parental level of education_bachelor's degree</th>\n",
              "      <th>parental level of education_high school</th>\n",
              "      <th>parental level of education_master's degree</th>\n",
              "      <th>parental level of education_some college</th>\n",
              "      <th>parental level of education_some high school</th>\n",
              "      <th>lunch_free/reduced</th>\n",
              "      <th>lunch_standard</th>\n",
              "      <th>test preparation course_completed</th>\n",
              "      <th>test preparation course_none</th>\n",
              "    </tr>\n",
              "  </thead>\n",
              "  <tbody>\n",
              "    <tr>\n",
              "      <th>math score</th>\n",
              "      <td>1.000000</td>\n",
              "      <td>0.817580</td>\n",
              "      <td>0.802642</td>\n",
              "      <td>0.954954</td>\n",
              "      <td>-0.167982</td>\n",
              "      <td>0.167982</td>\n",
              "      <td>-0.091977</td>\n",
              "      <td>-0.084250</td>\n",
              "      <td>-0.073387</td>\n",
              "      <td>0.050071</td>\n",
              "      <td>0.205855</td>\n",
              "      <td>0.063228</td>\n",
              "      <td>0.079664</td>\n",
              "      <td>-0.128725</td>\n",
              "      <td>0.060417</td>\n",
              "      <td>0.037056</td>\n",
              "      <td>-0.079852</td>\n",
              "      <td>-0.350877</td>\n",
              "      <td>0.350877</td>\n",
              "      <td>0.177702</td>\n",
              "      <td>-0.177702</td>\n",
              "    </tr>\n",
              "    <tr>\n",
              "      <th>reading score</th>\n",
              "      <td>0.817580</td>\n",
              "      <td>1.000000</td>\n",
              "      <td>0.954598</td>\n",
              "      <td>0.951626</td>\n",
              "      <td>0.244313</td>\n",
              "      <td>-0.244313</td>\n",
              "      <td>-0.096274</td>\n",
              "      <td>-0.060283</td>\n",
              "      <td>-0.003074</td>\n",
              "      <td>0.035177</td>\n",
              "      <td>0.106712</td>\n",
              "      <td>0.064386</td>\n",
              "      <td>0.096024</td>\n",
              "      <td>-0.151068</td>\n",
              "      <td>0.106452</td>\n",
              "      <td>0.010782</td>\n",
              "      <td>-0.071369</td>\n",
              "      <td>-0.229560</td>\n",
              "      <td>0.229560</td>\n",
              "      <td>0.241780</td>\n",
              "      <td>-0.241780</td>\n",
              "    </tr>\n",
              "    <tr>\n",
              "      <th>writing score</th>\n",
              "      <td>0.802642</td>\n",
              "      <td>0.954598</td>\n",
              "      <td>1.000000</td>\n",
              "      <td>0.920416</td>\n",
              "      <td>0.301225</td>\n",
              "      <td>-0.301225</td>\n",
              "      <td>-0.110714</td>\n",
              "      <td>-0.078254</td>\n",
              "      <td>-0.010203</td>\n",
              "      <td>0.082032</td>\n",
              "      <td>0.089077</td>\n",
              "      <td>0.064799</td>\n",
              "      <td>0.128297</td>\n",
              "      <td>-0.182211</td>\n",
              "      <td>0.125693</td>\n",
              "      <td>0.027989</td>\n",
              "      <td>-0.097326</td>\n",
              "      <td>-0.245769</td>\n",
              "      <td>0.245769</td>\n",
              "      <td>0.312946</td>\n",
              "      <td>-0.312946</td>\n",
              "    </tr>\n",
              "    <tr>\n",
              "      <th>weighted</th>\n",
              "      <td>0.954954</td>\n",
              "      <td>0.951626</td>\n",
              "      <td>0.920416</td>\n",
              "      <td>1.000000</td>\n",
              "      <td>0.036441</td>\n",
              "      <td>-0.036441</td>\n",
              "      <td>-0.098735</td>\n",
              "      <td>-0.076060</td>\n",
              "      <td>-0.040750</td>\n",
              "      <td>0.044929</td>\n",
              "      <td>0.164817</td>\n",
              "      <td>0.066932</td>\n",
              "      <td>0.092059</td>\n",
              "      <td>-0.146609</td>\n",
              "      <td>0.087146</td>\n",
              "      <td>0.025349</td>\n",
              "      <td>-0.079436</td>\n",
              "      <td>-0.305559</td>\n",
              "      <td>0.305559</td>\n",
              "      <td>0.219579</td>\n",
              "      <td>-0.219579</td>\n",
              "    </tr>\n",
              "    <tr>\n",
              "      <th>gender_female</th>\n",
              "      <td>-0.167982</td>\n",
              "      <td>0.244313</td>\n",
              "      <td>0.301225</td>\n",
              "      <td>0.036441</td>\n",
              "      <td>1.000000</td>\n",
              "      <td>-1.000000</td>\n",
              "      <td>-0.071001</td>\n",
              "      <td>0.028466</td>\n",
              "      <td>0.063368</td>\n",
              "      <td>-0.030566</td>\n",
              "      <td>-0.020302</td>\n",
              "      <td>0.004835</td>\n",
              "      <td>0.011638</td>\n",
              "      <td>-0.037952</td>\n",
              "      <td>0.046188</td>\n",
              "      <td>0.004460</td>\n",
              "      <td>-0.008990</td>\n",
              "      <td>0.021372</td>\n",
              "      <td>-0.021372</td>\n",
              "      <td>-0.006028</td>\n",
              "      <td>0.006028</td>\n",
              "    </tr>\n",
              "    <tr>\n",
              "      <th>gender_male</th>\n",
              "      <td>0.167982</td>\n",
              "      <td>-0.244313</td>\n",
              "      <td>-0.301225</td>\n",
              "      <td>-0.036441</td>\n",
              "      <td>-1.000000</td>\n",
              "      <td>1.000000</td>\n",
              "      <td>0.071001</td>\n",
              "      <td>-0.028466</td>\n",
              "      <td>-0.063368</td>\n",
              "      <td>0.030566</td>\n",
              "      <td>0.020302</td>\n",
              "      <td>-0.004835</td>\n",
              "      <td>-0.011638</td>\n",
              "      <td>0.037952</td>\n",
              "      <td>-0.046188</td>\n",
              "      <td>-0.004460</td>\n",
              "      <td>0.008990</td>\n",
              "      <td>-0.021372</td>\n",
              "      <td>0.021372</td>\n",
              "      <td>0.006028</td>\n",
              "      <td>-0.006028</td>\n",
              "    </tr>\n",
              "    <tr>\n",
              "      <th>race/ethnicity_group A</th>\n",
              "      <td>-0.091977</td>\n",
              "      <td>-0.096274</td>\n",
              "      <td>-0.110714</td>\n",
              "      <td>-0.098735</td>\n",
              "      <td>-0.071001</td>\n",
              "      <td>0.071001</td>\n",
              "      <td>1.000000</td>\n",
              "      <td>-0.151381</td>\n",
              "      <td>-0.213923</td>\n",
              "      <td>-0.186234</td>\n",
              "      <td>-0.126110</td>\n",
              "      <td>-0.048658</td>\n",
              "      <td>0.016307</td>\n",
              "      <td>0.004919</td>\n",
              "      <td>-0.033551</td>\n",
              "      <td>-0.017751</td>\n",
              "      <td>0.073921</td>\n",
              "      <td>0.032329</td>\n",
              "      <td>-0.032329</td>\n",
              "      <td>-0.006315</td>\n",
              "      <td>0.006315</td>\n",
              "    </tr>\n",
              "    <tr>\n",
              "      <th>race/ethnicity_group B</th>\n",
              "      <td>-0.084250</td>\n",
              "      <td>-0.060283</td>\n",
              "      <td>-0.078254</td>\n",
              "      <td>-0.076060</td>\n",
              "      <td>0.028466</td>\n",
              "      <td>-0.028466</td>\n",
              "      <td>-0.151381</td>\n",
              "      <td>1.000000</td>\n",
              "      <td>-0.331479</td>\n",
              "      <td>-0.288574</td>\n",
              "      <td>-0.195411</td>\n",
              "      <td>-0.007238</td>\n",
              "      <td>-0.019121</td>\n",
              "      <td>0.069093</td>\n",
              "      <td>-0.056363</td>\n",
              "      <td>-0.036203</td>\n",
              "      <td>0.026531</td>\n",
              "      <td>0.008257</td>\n",
              "      <td>-0.008257</td>\n",
              "      <td>-0.000106</td>\n",
              "      <td>0.000106</td>\n",
              "    </tr>\n",
              "    <tr>\n",
              "      <th>race/ethnicity_group C</th>\n",
              "      <td>-0.073387</td>\n",
              "      <td>-0.003074</td>\n",
              "      <td>-0.010203</td>\n",
              "      <td>-0.040750</td>\n",
              "      <td>0.063368</td>\n",
              "      <td>-0.063368</td>\n",
              "      <td>-0.213923</td>\n",
              "      <td>-0.331479</td>\n",
              "      <td>1.000000</td>\n",
              "      <td>-0.407797</td>\n",
              "      <td>-0.276145</td>\n",
              "      <td>0.037077</td>\n",
              "      <td>0.015682</td>\n",
              "      <td>0.007977</td>\n",
              "      <td>0.001630</td>\n",
              "      <td>-0.015872</td>\n",
              "      <td>-0.045339</td>\n",
              "      <td>0.003385</td>\n",
              "      <td>-0.003385</td>\n",
              "      <td>0.012522</td>\n",
              "      <td>-0.012522</td>\n",
              "    </tr>\n",
              "    <tr>\n",
              "      <th>race/ethnicity_group D</th>\n",
              "      <td>0.050071</td>\n",
              "      <td>0.035177</td>\n",
              "      <td>0.082032</td>\n",
              "      <td>0.044929</td>\n",
              "      <td>-0.030566</td>\n",
              "      <td>0.030566</td>\n",
              "      <td>-0.186234</td>\n",
              "      <td>-0.288574</td>\n",
              "      <td>-0.407797</td>\n",
              "      <td>1.000000</td>\n",
              "      <td>-0.240402</td>\n",
              "      <td>-0.044674</td>\n",
              "      <td>-0.020556</td>\n",
              "      <td>-0.042118</td>\n",
              "      <td>0.072793</td>\n",
              "      <td>0.042347</td>\n",
              "      <td>0.018402</td>\n",
              "      <td>0.009458</td>\n",
              "      <td>-0.009458</td>\n",
              "      <td>-0.055956</td>\n",
              "      <td>0.055956</td>\n",
              "    </tr>\n",
              "    <tr>\n",
              "      <th>race/ethnicity_group E</th>\n",
              "      <td>0.205855</td>\n",
              "      <td>0.106712</td>\n",
              "      <td>0.089077</td>\n",
              "      <td>0.164817</td>\n",
              "      <td>-0.020302</td>\n",
              "      <td>0.020302</td>\n",
              "      <td>-0.126110</td>\n",
              "      <td>-0.195411</td>\n",
              "      <td>-0.276145</td>\n",
              "      <td>-0.240402</td>\n",
              "      <td>1.000000</td>\n",
              "      <td>0.054922</td>\n",
              "      <td>0.013221</td>\n",
              "      <td>-0.039494</td>\n",
              "      <td>-0.003180</td>\n",
              "      <td>0.023153</td>\n",
              "      <td>-0.053075</td>\n",
              "      <td>-0.052398</td>\n",
              "      <td>0.052398</td>\n",
              "      <td>0.059393</td>\n",
              "      <td>-0.059393</td>\n",
              "    </tr>\n",
              "    <tr>\n",
              "      <th>parental level of education_associate's degree</th>\n",
              "      <td>0.063228</td>\n",
              "      <td>0.064386</td>\n",
              "      <td>0.064799</td>\n",
              "      <td>0.066932</td>\n",
              "      <td>0.004835</td>\n",
              "      <td>-0.004835</td>\n",
              "      <td>-0.048658</td>\n",
              "      <td>-0.007238</td>\n",
              "      <td>0.037077</td>\n",
              "      <td>-0.044674</td>\n",
              "      <td>0.054922</td>\n",
              "      <td>1.000000</td>\n",
              "      <td>-0.195386</td>\n",
              "      <td>-0.263746</td>\n",
              "      <td>-0.133757</td>\n",
              "      <td>-0.288649</td>\n",
              "      <td>-0.249426</td>\n",
              "      <td>-0.009102</td>\n",
              "      <td>0.009102</td>\n",
              "      <td>0.012668</td>\n",
              "      <td>-0.012668</td>\n",
              "    </tr>\n",
              "    <tr>\n",
              "      <th>parental level of education_bachelor's degree</th>\n",
              "      <td>0.079664</td>\n",
              "      <td>0.096024</td>\n",
              "      <td>0.128297</td>\n",
              "      <td>0.092059</td>\n",
              "      <td>0.011638</td>\n",
              "      <td>-0.011638</td>\n",
              "      <td>0.016307</td>\n",
              "      <td>-0.019121</td>\n",
              "      <td>0.015682</td>\n",
              "      <td>-0.020556</td>\n",
              "      <td>0.013221</td>\n",
              "      <td>-0.195386</td>\n",
              "      <td>1.000000</td>\n",
              "      <td>-0.180595</td>\n",
              "      <td>-0.091588</td>\n",
              "      <td>-0.197647</td>\n",
              "      <td>-0.170790</td>\n",
              "      <td>0.013668</td>\n",
              "      <td>-0.013668</td>\n",
              "      <td>0.024285</td>\n",
              "      <td>-0.024285</td>\n",
              "    </tr>\n",
              "    <tr>\n",
              "      <th>parental level of education_high school</th>\n",
              "      <td>-0.128725</td>\n",
              "      <td>-0.151068</td>\n",
              "      <td>-0.182211</td>\n",
              "      <td>-0.146609</td>\n",
              "      <td>-0.037952</td>\n",
              "      <td>0.037952</td>\n",
              "      <td>0.004919</td>\n",
              "      <td>0.069093</td>\n",
              "      <td>0.007977</td>\n",
              "      <td>-0.042118</td>\n",
              "      <td>-0.039494</td>\n",
              "      <td>-0.263746</td>\n",
              "      <td>-0.180595</td>\n",
              "      <td>1.000000</td>\n",
              "      <td>-0.123632</td>\n",
              "      <td>-0.266799</td>\n",
              "      <td>-0.230545</td>\n",
              "      <td>0.002211</td>\n",
              "      <td>-0.002211</td>\n",
              "      <td>-0.074446</td>\n",
              "      <td>0.074446</td>\n",
              "    </tr>\n",
              "    <tr>\n",
              "      <th>parental level of education_master's degree</th>\n",
              "      <td>0.060417</td>\n",
              "      <td>0.106452</td>\n",
              "      <td>0.125693</td>\n",
              "      <td>0.087146</td>\n",
              "      <td>0.046188</td>\n",
              "      <td>-0.046188</td>\n",
              "      <td>-0.033551</td>\n",
              "      <td>-0.056363</td>\n",
              "      <td>0.001630</td>\n",
              "      <td>0.072793</td>\n",
              "      <td>-0.003180</td>\n",
              "      <td>-0.133757</td>\n",
              "      <td>-0.091588</td>\n",
              "      <td>-0.123632</td>\n",
              "      <td>1.000000</td>\n",
              "      <td>-0.135305</td>\n",
              "      <td>-0.116919</td>\n",
              "      <td>0.027095</td>\n",
              "      <td>-0.027095</td>\n",
              "      <td>-0.009933</td>\n",
              "      <td>0.009933</td>\n",
              "    </tr>\n",
              "    <tr>\n",
              "      <th>parental level of education_some college</th>\n",
              "      <td>0.037056</td>\n",
              "      <td>0.010782</td>\n",
              "      <td>0.027989</td>\n",
              "      <td>0.025349</td>\n",
              "      <td>0.004460</td>\n",
              "      <td>-0.004460</td>\n",
              "      <td>-0.017751</td>\n",
              "      <td>-0.036203</td>\n",
              "      <td>-0.015872</td>\n",
              "      <td>0.042347</td>\n",
              "      <td>0.023153</td>\n",
              "      <td>-0.288649</td>\n",
              "      <td>-0.197647</td>\n",
              "      <td>-0.266799</td>\n",
              "      <td>-0.135305</td>\n",
              "      <td>1.000000</td>\n",
              "      <td>-0.252312</td>\n",
              "      <td>-0.006146</td>\n",
              "      <td>0.006146</td>\n",
              "      <td>-0.019490</td>\n",
              "      <td>0.019490</td>\n",
              "    </tr>\n",
              "    <tr>\n",
              "      <th>parental level of education_some high school</th>\n",
              "      <td>-0.079852</td>\n",
              "      <td>-0.071369</td>\n",
              "      <td>-0.097326</td>\n",
              "      <td>-0.079436</td>\n",
              "      <td>-0.008990</td>\n",
              "      <td>0.008990</td>\n",
              "      <td>0.073921</td>\n",
              "      <td>0.026531</td>\n",
              "      <td>-0.045339</td>\n",
              "      <td>0.018402</td>\n",
              "      <td>-0.053075</td>\n",
              "      <td>-0.249426</td>\n",
              "      <td>-0.170790</td>\n",
              "      <td>-0.230545</td>\n",
              "      <td>-0.116919</td>\n",
              "      <td>-0.252312</td>\n",
              "      <td>1.000000</td>\n",
              "      <td>-0.013874</td>\n",
              "      <td>0.013874</td>\n",
              "      <td>0.070289</td>\n",
              "      <td>-0.070289</td>\n",
              "    </tr>\n",
              "    <tr>\n",
              "      <th>lunch_free/reduced</th>\n",
              "      <td>-0.350877</td>\n",
              "      <td>-0.229560</td>\n",
              "      <td>-0.245769</td>\n",
              "      <td>-0.305559</td>\n",
              "      <td>0.021372</td>\n",
              "      <td>-0.021372</td>\n",
              "      <td>0.032329</td>\n",
              "      <td>0.008257</td>\n",
              "      <td>0.003385</td>\n",
              "      <td>0.009458</td>\n",
              "      <td>-0.052398</td>\n",
              "      <td>-0.009102</td>\n",
              "      <td>0.013668</td>\n",
              "      <td>0.002211</td>\n",
              "      <td>0.027095</td>\n",
              "      <td>-0.006146</td>\n",
              "      <td>-0.013874</td>\n",
              "      <td>1.000000</td>\n",
              "      <td>-1.000000</td>\n",
              "      <td>0.017044</td>\n",
              "      <td>-0.017044</td>\n",
              "    </tr>\n",
              "    <tr>\n",
              "      <th>lunch_standard</th>\n",
              "      <td>0.350877</td>\n",
              "      <td>0.229560</td>\n",
              "      <td>0.245769</td>\n",
              "      <td>0.305559</td>\n",
              "      <td>-0.021372</td>\n",
              "      <td>0.021372</td>\n",
              "      <td>-0.032329</td>\n",
              "      <td>-0.008257</td>\n",
              "      <td>-0.003385</td>\n",
              "      <td>-0.009458</td>\n",
              "      <td>0.052398</td>\n",
              "      <td>0.009102</td>\n",
              "      <td>-0.013668</td>\n",
              "      <td>-0.002211</td>\n",
              "      <td>-0.027095</td>\n",
              "      <td>0.006146</td>\n",
              "      <td>0.013874</td>\n",
              "      <td>-1.000000</td>\n",
              "      <td>1.000000</td>\n",
              "      <td>-0.017044</td>\n",
              "      <td>0.017044</td>\n",
              "    </tr>\n",
              "    <tr>\n",
              "      <th>test preparation course_completed</th>\n",
              "      <td>0.177702</td>\n",
              "      <td>0.241780</td>\n",
              "      <td>0.312946</td>\n",
              "      <td>0.219579</td>\n",
              "      <td>-0.006028</td>\n",
              "      <td>0.006028</td>\n",
              "      <td>-0.006315</td>\n",
              "      <td>-0.000106</td>\n",
              "      <td>0.012522</td>\n",
              "      <td>-0.055956</td>\n",
              "      <td>0.059393</td>\n",
              "      <td>0.012668</td>\n",
              "      <td>0.024285</td>\n",
              "      <td>-0.074446</td>\n",
              "      <td>-0.009933</td>\n",
              "      <td>-0.019490</td>\n",
              "      <td>0.070289</td>\n",
              "      <td>0.017044</td>\n",
              "      <td>-0.017044</td>\n",
              "      <td>1.000000</td>\n",
              "      <td>-1.000000</td>\n",
              "    </tr>\n",
              "    <tr>\n",
              "      <th>test preparation course_none</th>\n",
              "      <td>-0.177702</td>\n",
              "      <td>-0.241780</td>\n",
              "      <td>-0.312946</td>\n",
              "      <td>-0.219579</td>\n",
              "      <td>0.006028</td>\n",
              "      <td>-0.006028</td>\n",
              "      <td>0.006315</td>\n",
              "      <td>0.000106</td>\n",
              "      <td>-0.012522</td>\n",
              "      <td>0.055956</td>\n",
              "      <td>-0.059393</td>\n",
              "      <td>-0.012668</td>\n",
              "      <td>-0.024285</td>\n",
              "      <td>0.074446</td>\n",
              "      <td>0.009933</td>\n",
              "      <td>0.019490</td>\n",
              "      <td>-0.070289</td>\n",
              "      <td>-0.017044</td>\n",
              "      <td>0.017044</td>\n",
              "      <td>-1.000000</td>\n",
              "      <td>1.000000</td>\n",
              "    </tr>\n",
              "  </tbody>\n",
              "</table>\n",
              "</div>"
            ],
            "text/plain": [
              "                                                math score  ...  test preparation course_none\n",
              "math score                                        1.000000  ...                     -0.177702\n",
              "reading score                                     0.817580  ...                     -0.241780\n",
              "writing score                                     0.802642  ...                     -0.312946\n",
              "weighted                                          0.954954  ...                     -0.219579\n",
              "gender_female                                    -0.167982  ...                      0.006028\n",
              "gender_male                                       0.167982  ...                     -0.006028\n",
              "race/ethnicity_group A                           -0.091977  ...                      0.006315\n",
              "race/ethnicity_group B                           -0.084250  ...                      0.000106\n",
              "race/ethnicity_group C                           -0.073387  ...                     -0.012522\n",
              "race/ethnicity_group D                            0.050071  ...                      0.055956\n",
              "race/ethnicity_group E                            0.205855  ...                     -0.059393\n",
              "parental level of education_associate's degree    0.063228  ...                     -0.012668\n",
              "parental level of education_bachelor's degree     0.079664  ...                     -0.024285\n",
              "parental level of education_high school          -0.128725  ...                      0.074446\n",
              "parental level of education_master's degree       0.060417  ...                      0.009933\n",
              "parental level of education_some college          0.037056  ...                      0.019490\n",
              "parental level of education_some high school     -0.079852  ...                     -0.070289\n",
              "lunch_free/reduced                               -0.350877  ...                     -0.017044\n",
              "lunch_standard                                    0.350877  ...                      0.017044\n",
              "test preparation course_completed                 0.177702  ...                     -1.000000\n",
              "test preparation course_none                     -0.177702  ...                      1.000000\n",
              "\n",
              "[21 rows x 21 columns]"
            ]
          },
          "metadata": {
            "tags": []
          },
          "execution_count": 251
        }
      ]
    },
    {
      "cell_type": "markdown",
      "metadata": {
        "id": "eo2tvzF92D1E",
        "colab_type": "text"
      },
      "source": [
        "  **LUNCH HAS HIGHEST CORRELATION -- YES**"
      ]
    },
    {
      "cell_type": "code",
      "metadata": {
        "id": "pB1TPl8378fQ",
        "colab_type": "code",
        "colab": {}
      },
      "source": [
        "h=list(test)"
      ],
      "execution_count": 0,
      "outputs": []
    },
    {
      "cell_type": "code",
      "metadata": {
        "id": "E8appoQa8MRy",
        "colab_type": "code",
        "outputId": "61a23d16-d8b8-4e80-f642-6f53f81eef7d",
        "colab": {
          "base_uri": "https://localhost:8080/",
          "height": 370
        }
      },
      "source": [
        "h"
      ],
      "execution_count": 0,
      "outputs": [
        {
          "output_type": "execute_result",
          "data": {
            "text/plain": [
              "['math score',\n",
              " 'reading score',\n",
              " 'writing score',\n",
              " 'weighted',\n",
              " 'gender_female',\n",
              " 'gender_male',\n",
              " 'race/ethnicity_group A',\n",
              " 'race/ethnicity_group B',\n",
              " 'race/ethnicity_group C',\n",
              " 'race/ethnicity_group D',\n",
              " 'race/ethnicity_group E',\n",
              " \"parental level of education_associate's degree\",\n",
              " \"parental level of education_bachelor's degree\",\n",
              " 'parental level of education_high school',\n",
              " \"parental level of education_master's degree\",\n",
              " 'parental level of education_some college',\n",
              " 'parental level of education_some high school',\n",
              " 'lunch_free/reduced',\n",
              " 'lunch_standard',\n",
              " 'test preparation course_completed',\n",
              " 'test preparation course_none']"
            ]
          },
          "metadata": {
            "tags": []
          },
          "execution_count": 255
        }
      ]
    },
    {
      "cell_type": "code",
      "metadata": {
        "id": "frB4HNyU8QYr",
        "colab_type": "code",
        "colab": {}
      },
      "source": [
        "h2=h[3:]"
      ],
      "execution_count": 0,
      "outputs": []
    },
    {
      "cell_type": "code",
      "metadata": {
        "id": "EaKDt7La8fJh",
        "colab_type": "code",
        "colab": {}
      },
      "source": [
        "test2=test[h2]"
      ],
      "execution_count": 0,
      "outputs": []
    },
    {
      "cell_type": "code",
      "metadata": {
        "id": "H_0GY5Ll8jYS",
        "colab_type": "code",
        "outputId": "be0270dd-db1d-4aaf-9e77-82791d6844ab",
        "colab": {
          "base_uri": "https://localhost:8080/",
          "height": 266
        }
      },
      "source": [
        "test2.head()"
      ],
      "execution_count": 0,
      "outputs": [
        {
          "output_type": "execute_result",
          "data": {
            "text/html": [
              "<div>\n",
              "<style scoped>\n",
              "    .dataframe tbody tr th:only-of-type {\n",
              "        vertical-align: middle;\n",
              "    }\n",
              "\n",
              "    .dataframe tbody tr th {\n",
              "        vertical-align: top;\n",
              "    }\n",
              "\n",
              "    .dataframe thead th {\n",
              "        text-align: right;\n",
              "    }\n",
              "</style>\n",
              "<table border=\"1\" class=\"dataframe\">\n",
              "  <thead>\n",
              "    <tr style=\"text-align: right;\">\n",
              "      <th></th>\n",
              "      <th>weighted</th>\n",
              "      <th>gender_female</th>\n",
              "      <th>gender_male</th>\n",
              "      <th>race/ethnicity_group A</th>\n",
              "      <th>race/ethnicity_group B</th>\n",
              "      <th>race/ethnicity_group C</th>\n",
              "      <th>race/ethnicity_group D</th>\n",
              "      <th>race/ethnicity_group E</th>\n",
              "      <th>parental level of education_associate's degree</th>\n",
              "      <th>parental level of education_bachelor's degree</th>\n",
              "      <th>parental level of education_high school</th>\n",
              "      <th>parental level of education_master's degree</th>\n",
              "      <th>parental level of education_some college</th>\n",
              "      <th>parental level of education_some high school</th>\n",
              "      <th>lunch_free/reduced</th>\n",
              "      <th>lunch_standard</th>\n",
              "      <th>test preparation course_completed</th>\n",
              "      <th>test preparation course_none</th>\n",
              "    </tr>\n",
              "  </thead>\n",
              "  <tbody>\n",
              "    <tr>\n",
              "      <th>0</th>\n",
              "      <td>144.339450</td>\n",
              "      <td>1</td>\n",
              "      <td>0</td>\n",
              "      <td>0</td>\n",
              "      <td>1</td>\n",
              "      <td>0</td>\n",
              "      <td>0</td>\n",
              "      <td>0</td>\n",
              "      <td>0</td>\n",
              "      <td>1</td>\n",
              "      <td>0</td>\n",
              "      <td>0</td>\n",
              "      <td>0</td>\n",
              "      <td>0</td>\n",
              "      <td>0</td>\n",
              "      <td>1</td>\n",
              "      <td>0</td>\n",
              "      <td>1</td>\n",
              "    </tr>\n",
              "    <tr>\n",
              "      <th>1</th>\n",
              "      <td>159.356275</td>\n",
              "      <td>1</td>\n",
              "      <td>0</td>\n",
              "      <td>0</td>\n",
              "      <td>0</td>\n",
              "      <td>1</td>\n",
              "      <td>0</td>\n",
              "      <td>0</td>\n",
              "      <td>0</td>\n",
              "      <td>0</td>\n",
              "      <td>0</td>\n",
              "      <td>0</td>\n",
              "      <td>1</td>\n",
              "      <td>0</td>\n",
              "      <td>0</td>\n",
              "      <td>1</td>\n",
              "      <td>1</td>\n",
              "      <td>0</td>\n",
              "    </tr>\n",
              "    <tr>\n",
              "      <th>2</th>\n",
              "      <td>185.334532</td>\n",
              "      <td>1</td>\n",
              "      <td>0</td>\n",
              "      <td>0</td>\n",
              "      <td>1</td>\n",
              "      <td>0</td>\n",
              "      <td>0</td>\n",
              "      <td>0</td>\n",
              "      <td>0</td>\n",
              "      <td>0</td>\n",
              "      <td>0</td>\n",
              "      <td>1</td>\n",
              "      <td>0</td>\n",
              "      <td>0</td>\n",
              "      <td>0</td>\n",
              "      <td>1</td>\n",
              "      <td>0</td>\n",
              "      <td>1</td>\n",
              "    </tr>\n",
              "    <tr>\n",
              "      <th>3</th>\n",
              "      <td>104.297297</td>\n",
              "      <td>0</td>\n",
              "      <td>1</td>\n",
              "      <td>1</td>\n",
              "      <td>0</td>\n",
              "      <td>0</td>\n",
              "      <td>0</td>\n",
              "      <td>0</td>\n",
              "      <td>1</td>\n",
              "      <td>0</td>\n",
              "      <td>0</td>\n",
              "      <td>0</td>\n",
              "      <td>0</td>\n",
              "      <td>0</td>\n",
              "      <td>1</td>\n",
              "      <td>0</td>\n",
              "      <td>0</td>\n",
              "      <td>1</td>\n",
              "    </tr>\n",
              "    <tr>\n",
              "      <th>4</th>\n",
              "      <td>154.327511</td>\n",
              "      <td>0</td>\n",
              "      <td>1</td>\n",
              "      <td>0</td>\n",
              "      <td>0</td>\n",
              "      <td>1</td>\n",
              "      <td>0</td>\n",
              "      <td>0</td>\n",
              "      <td>0</td>\n",
              "      <td>0</td>\n",
              "      <td>0</td>\n",
              "      <td>0</td>\n",
              "      <td>1</td>\n",
              "      <td>0</td>\n",
              "      <td>0</td>\n",
              "      <td>1</td>\n",
              "      <td>0</td>\n",
              "      <td>1</td>\n",
              "    </tr>\n",
              "  </tbody>\n",
              "</table>\n",
              "</div>"
            ],
            "text/plain": [
              "     weighted  ...  test preparation course_none\n",
              "0  144.339450  ...                             1\n",
              "1  159.356275  ...                             0\n",
              "2  185.334532  ...                             1\n",
              "3  104.297297  ...                             1\n",
              "4  154.327511  ...                             1\n",
              "\n",
              "[5 rows x 18 columns]"
            ]
          },
          "metadata": {
            "tags": []
          },
          "execution_count": 260
        }
      ]
    },
    {
      "cell_type": "code",
      "metadata": {
        "id": "V3dbRjSV8p_c",
        "colab_type": "code",
        "outputId": "9f4a02d1-dbd1-4c43-d578-8d85d99d6b98",
        "colab": {
          "base_uri": "https://localhost:8080/",
          "height": 1000
        }
      },
      "source": [
        "plt.figure(figsize=(14,14))\n",
        "sns.heatmap(test2.corr(),linewidth=1.0,cmap='coolwarm',annot=True, robust=True)"
      ],
      "execution_count": 0,
      "outputs": [
        {
          "output_type": "execute_result",
          "data": {
            "text/plain": [
              "<matplotlib.axes._subplots.AxesSubplot at 0x7fe486d300f0>"
            ]
          },
          "metadata": {
            "tags": []
          },
          "execution_count": 272
        },
        {
          "output_type": "display_data",
          "data": {
            "image/png": "[encoded data removed]",
            "text/plain": [
              "<Figure size 1008x1008 with 2 Axes>"
            ]
          },
          "metadata": {
            "tags": []
          }
        }
      ]
    },
    {
      "cell_type": "markdown",
      "metadata": {
        "id": "3NPgFjPgxLHy",
        "colab_type": "text"
      },
      "source": [
        "//////////////////////////////////////////////////////////////////////////////////////////////////////////////////////////"
      ]
    },
    {
      "cell_type": "code",
      "metadata": {
        "id": "kF9tntuCY8ZT",
        "colab_type": "code",
        "colab": {}
      },
      "source": [
        "q=np.log(sp2['math score'])"
      ],
      "execution_count": 0,
      "outputs": []
    },
    {
      "cell_type": "code",
      "metadata": {
        "id": "PJOEK4XHhzi6",
        "colab_type": "code",
        "outputId": "94c3793c-71c5-486b-8780-5a065eef62b1",
        "colab": {
          "base_uri": "https://localhost:8080/",
          "height": 34
        }
      },
      "source": [
        "(q==0).count()"
      ],
      "execution_count": 0,
      "outputs": [
        {
          "output_type": "execute_result",
          "data": {
            "text/plain": [
              "1000"
            ]
          },
          "metadata": {
            "tags": []
          },
          "execution_count": 59
        }
      ]
    },
    {
      "cell_type": "code",
      "metadata": {
        "id": "_Fg89kc0Znsh",
        "colab_type": "code",
        "outputId": "020a1633-9753-46bc-d922-fc33be4ceb07",
        "colab": {
          "base_uri": "https://localhost:8080/",
          "height": 34
        }
      },
      "source": [
        "q.max()"
      ],
      "execution_count": 0,
      "outputs": [
        {
          "output_type": "execute_result",
          "data": {
            "text/plain": [
              "4.605170185988092"
            ]
          },
          "metadata": {
            "tags": []
          },
          "execution_count": 52
        }
      ]
    },
    {
      "cell_type": "code",
      "metadata": {
        "id": "7KPgwxtrZ27T",
        "colab_type": "code",
        "outputId": "082ce5d8-eb3d-4607-9ed4-6fb2a023d7f5",
        "colab": {
          "base_uri": "https://localhost:8080/",
          "height": 34
        }
      },
      "source": [
        "q.min()"
      ],
      "execution_count": 0,
      "outputs": [
        {
          "output_type": "execute_result",
          "data": {
            "text/plain": [
              "-inf"
            ]
          },
          "metadata": {
            "tags": []
          },
          "execution_count": 53
        }
      ]
    },
    {
      "cell_type": "code",
      "metadata": {
        "id": "tfYXmwWEZrfH",
        "colab_type": "code",
        "outputId": "81279c70-67e1-4bd4-8b5c-e3aa546c7389",
        "colab": {
          "base_uri": "https://localhost:8080/",
          "height": 34
        }
      },
      "source": [
        "q.isnull().sum()"
      ],
      "execution_count": 0,
      "outputs": [
        {
          "output_type": "execute_result",
          "data": {
            "text/plain": [
              "0"
            ]
          },
          "metadata": {
            "tags": []
          },
          "execution_count": 37
        }
      ]
    },
    {
      "cell_type": "markdown",
      "metadata": {
        "id": "nxglfkImS_jR",
        "colab_type": "text"
      },
      "source": [
        "not so normal"
      ]
    },
    {
      "cell_type": "code",
      "metadata": {
        "id": "W2ndjGTw8e9A",
        "colab_type": "code",
        "colab": {}
      },
      "source": [
        "spe=sp1.copy()"
      ],
      "execution_count": 0,
      "outputs": []
    },
    {
      "cell_type": "code",
      "metadata": {
        "id": "_oqwqIwy8wNb",
        "colab_type": "code",
        "colab": {}
      },
      "source": [
        "spe.set_index(['race/ethnicity'],inplace=True)"
      ],
      "execution_count": 0,
      "outputs": []
    },
    {
      "cell_type": "code",
      "metadata": {
        "id": "2fIIsaAoBKLG",
        "colab_type": "code",
        "colab": {}
      },
      "source": [
        "#list(df.index.values) \n",
        "#list(spe.index.values) "
      ],
      "execution_count": 0,
      "outputs": []
    },
    {
      "cell_type": "code",
      "metadata": {
        "id": "TiJ0B63Q9Fij",
        "colab_type": "code",
        "outputId": "55bf5b9c-53f3-4001-dde4-ebedf47afb01",
        "colab": {
          "base_uri": "https://localhost:8080/",
          "height": 431
        }
      },
      "source": [
        "spe.loc[['group B','group C'],:]"
      ],
      "execution_count": 0,
      "outputs": [
        {
          "output_type": "execute_result",
          "data": {
            "text/html": [
              "<div>\n",
              "<style scoped>\n",
              "    .dataframe tbody tr th:only-of-type {\n",
              "        vertical-align: middle;\n",
              "    }\n",
              "\n",
              "    .dataframe tbody tr th {\n",
              "        vertical-align: top;\n",
              "    }\n",
              "\n",
              "    .dataframe thead th {\n",
              "        text-align: right;\n",
              "    }\n",
              "</style>\n",
              "<table border=\"1\" class=\"dataframe\">\n",
              "  <thead>\n",
              "    <tr style=\"text-align: right;\">\n",
              "      <th></th>\n",
              "      <th>gender</th>\n",
              "      <th>parental level of education</th>\n",
              "      <th>lunch</th>\n",
              "      <th>test preparation course</th>\n",
              "      <th>math score</th>\n",
              "      <th>reading score</th>\n",
              "      <th>writing score</th>\n",
              "    </tr>\n",
              "    <tr>\n",
              "      <th>race/ethnicity</th>\n",
              "      <th></th>\n",
              "      <th></th>\n",
              "      <th></th>\n",
              "      <th></th>\n",
              "      <th></th>\n",
              "      <th></th>\n",
              "      <th></th>\n",
              "    </tr>\n",
              "  </thead>\n",
              "  <tbody>\n",
              "    <tr>\n",
              "      <th>group B</th>\n",
              "      <td>female</td>\n",
              "      <td>bachelor's degree</td>\n",
              "      <td>standard</td>\n",
              "      <td>none</td>\n",
              "      <td>72</td>\n",
              "      <td>72</td>\n",
              "      <td>74</td>\n",
              "    </tr>\n",
              "    <tr>\n",
              "      <th>group B</th>\n",
              "      <td>female</td>\n",
              "      <td>master's degree</td>\n",
              "      <td>standard</td>\n",
              "      <td>none</td>\n",
              "      <td>90</td>\n",
              "      <td>95</td>\n",
              "      <td>93</td>\n",
              "    </tr>\n",
              "    <tr>\n",
              "      <th>group B</th>\n",
              "      <td>female</td>\n",
              "      <td>associate's degree</td>\n",
              "      <td>standard</td>\n",
              "      <td>none</td>\n",
              "      <td>71</td>\n",
              "      <td>83</td>\n",
              "      <td>78</td>\n",
              "    </tr>\n",
              "    <tr>\n",
              "      <th>group B</th>\n",
              "      <td>female</td>\n",
              "      <td>some college</td>\n",
              "      <td>standard</td>\n",
              "      <td>completed</td>\n",
              "      <td>88</td>\n",
              "      <td>95</td>\n",
              "      <td>92</td>\n",
              "    </tr>\n",
              "    <tr>\n",
              "      <th>group B</th>\n",
              "      <td>male</td>\n",
              "      <td>some college</td>\n",
              "      <td>free/reduced</td>\n",
              "      <td>none</td>\n",
              "      <td>40</td>\n",
              "      <td>43</td>\n",
              "      <td>39</td>\n",
              "    </tr>\n",
              "    <tr>\n",
              "      <th>...</th>\n",
              "      <td>...</td>\n",
              "      <td>...</td>\n",
              "      <td>...</td>\n",
              "      <td>...</td>\n",
              "      <td>...</td>\n",
              "      <td>...</td>\n",
              "      <td>...</td>\n",
              "    </tr>\n",
              "    <tr>\n",
              "      <th>group C</th>\n",
              "      <td>female</td>\n",
              "      <td>associate's degree</td>\n",
              "      <td>standard</td>\n",
              "      <td>none</td>\n",
              "      <td>91</td>\n",
              "      <td>95</td>\n",
              "      <td>94</td>\n",
              "    </tr>\n",
              "    <tr>\n",
              "      <th>group C</th>\n",
              "      <td>female</td>\n",
              "      <td>some high school</td>\n",
              "      <td>standard</td>\n",
              "      <td>none</td>\n",
              "      <td>74</td>\n",
              "      <td>75</td>\n",
              "      <td>82</td>\n",
              "    </tr>\n",
              "    <tr>\n",
              "      <th>group C</th>\n",
              "      <td>female</td>\n",
              "      <td>associate's degree</td>\n",
              "      <td>standard</td>\n",
              "      <td>none</td>\n",
              "      <td>40</td>\n",
              "      <td>59</td>\n",
              "      <td>51</td>\n",
              "    </tr>\n",
              "    <tr>\n",
              "      <th>group C</th>\n",
              "      <td>male</td>\n",
              "      <td>high school</td>\n",
              "      <td>free/reduced</td>\n",
              "      <td>none</td>\n",
              "      <td>62</td>\n",
              "      <td>55</td>\n",
              "      <td>55</td>\n",
              "    </tr>\n",
              "    <tr>\n",
              "      <th>group C</th>\n",
              "      <td>female</td>\n",
              "      <td>high school</td>\n",
              "      <td>free/reduced</td>\n",
              "      <td>completed</td>\n",
              "      <td>59</td>\n",
              "      <td>71</td>\n",
              "      <td>65</td>\n",
              "    </tr>\n",
              "  </tbody>\n",
              "</table>\n",
              "<p>509 rows × 7 columns</p>\n",
              "</div>"
            ],
            "text/plain": [
              "                gender  ... writing score\n",
              "race/ethnicity          ...              \n",
              "group B         female  ...            74\n",
              "group B         female  ...            93\n",
              "group B         female  ...            78\n",
              "group B         female  ...            92\n",
              "group B           male  ...            39\n",
              "...                ...  ...           ...\n",
              "group C         female  ...            94\n",
              "group C         female  ...            82\n",
              "group C         female  ...            51\n",
              "group C           male  ...            55\n",
              "group C         female  ...            65\n",
              "\n",
              "[509 rows x 7 columns]"
            ]
          },
          "metadata": {
            "tags": []
          },
          "execution_count": 10
        }
      ]
    },
    {
      "cell_type": "code",
      "metadata": {
        "id": "lK-huAEGSgs6",
        "colab_type": "code",
        "outputId": "29d8a9b2-c1a9-4513-d277-e0870aade426",
        "colab": {
          "base_uri": "https://localhost:8080/",
          "height": 431
        }
      },
      "source": [
        "spe.loc[d,['math score','reading score','writing score']]"
      ],
      "execution_count": 0,
      "outputs": [
        {
          "output_type": "execute_result",
          "data": {
            "text/html": [
              "<div>\n",
              "<style scoped>\n",
              "    .dataframe tbody tr th:only-of-type {\n",
              "        vertical-align: middle;\n",
              "    }\n",
              "\n",
              "    .dataframe tbody tr th {\n",
              "        vertical-align: top;\n",
              "    }\n",
              "\n",
              "    .dataframe thead th {\n",
              "        text-align: right;\n",
              "    }\n",
              "</style>\n",
              "<table border=\"1\" class=\"dataframe\">\n",
              "  <thead>\n",
              "    <tr style=\"text-align: right;\">\n",
              "      <th></th>\n",
              "      <th>math score</th>\n",
              "      <th>reading score</th>\n",
              "      <th>writing score</th>\n",
              "    </tr>\n",
              "    <tr>\n",
              "      <th>race/ethnicity</th>\n",
              "      <th></th>\n",
              "      <th></th>\n",
              "      <th></th>\n",
              "    </tr>\n",
              "  </thead>\n",
              "  <tbody>\n",
              "    <tr>\n",
              "      <th>group B</th>\n",
              "      <td>72</td>\n",
              "      <td>72</td>\n",
              "      <td>74</td>\n",
              "    </tr>\n",
              "    <tr>\n",
              "      <th>group B</th>\n",
              "      <td>90</td>\n",
              "      <td>95</td>\n",
              "      <td>93</td>\n",
              "    </tr>\n",
              "    <tr>\n",
              "      <th>group B</th>\n",
              "      <td>71</td>\n",
              "      <td>83</td>\n",
              "      <td>78</td>\n",
              "    </tr>\n",
              "    <tr>\n",
              "      <th>group B</th>\n",
              "      <td>88</td>\n",
              "      <td>95</td>\n",
              "      <td>92</td>\n",
              "    </tr>\n",
              "    <tr>\n",
              "      <th>group B</th>\n",
              "      <td>40</td>\n",
              "      <td>43</td>\n",
              "      <td>39</td>\n",
              "    </tr>\n",
              "    <tr>\n",
              "      <th>...</th>\n",
              "      <td>...</td>\n",
              "      <td>...</td>\n",
              "      <td>...</td>\n",
              "    </tr>\n",
              "    <tr>\n",
              "      <th>group E</th>\n",
              "      <td>100</td>\n",
              "      <td>100</td>\n",
              "      <td>100</td>\n",
              "    </tr>\n",
              "    <tr>\n",
              "      <th>group E</th>\n",
              "      <td>68</td>\n",
              "      <td>76</td>\n",
              "      <td>67</td>\n",
              "    </tr>\n",
              "    <tr>\n",
              "      <th>group E</th>\n",
              "      <td>81</td>\n",
              "      <td>75</td>\n",
              "      <td>76</td>\n",
              "    </tr>\n",
              "    <tr>\n",
              "      <th>group E</th>\n",
              "      <td>86</td>\n",
              "      <td>81</td>\n",
              "      <td>75</td>\n",
              "    </tr>\n",
              "    <tr>\n",
              "      <th>group E</th>\n",
              "      <td>88</td>\n",
              "      <td>99</td>\n",
              "      <td>95</td>\n",
              "    </tr>\n",
              "  </tbody>\n",
              "</table>\n",
              "<p>1000 rows × 3 columns</p>\n",
              "</div>"
            ],
            "text/plain": [
              "                math score  reading score  writing score\n",
              "race/ethnicity                                          \n",
              "group B                 72             72             74\n",
              "group B                 90             95             93\n",
              "group B                 71             83             78\n",
              "group B                 88             95             92\n",
              "group B                 40             43             39\n",
              "...                    ...            ...            ...\n",
              "group E                100            100            100\n",
              "group E                 68             76             67\n",
              "group E                 81             75             76\n",
              "group E                 86             81             75\n",
              "group E                 88             99             95\n",
              "\n",
              "[1000 rows x 3 columns]"
            ]
          },
          "metadata": {
            "tags": []
          },
          "execution_count": 14
        }
      ]
    },
    {
      "cell_type": "markdown",
      "metadata": {
        "id": "q6W3jQu7KDPz",
        "colab_type": "text"
      },
      "source": [
        ""
      ]
    },
    {
      "cell_type": "code",
      "metadata": {
        "id": "XbYdUZkPKETp",
        "colab_type": "code",
        "colab": {}
      },
      "source": [
        "d=sp2['race/ethnicity'].unique()"
      ],
      "execution_count": 0,
      "outputs": []
    },
    {
      "cell_type": "code",
      "metadata": {
        "id": "PEHupeTvKKSO",
        "colab_type": "code",
        "colab": {}
      },
      "source": [
        "d4=d"
      ],
      "execution_count": 0,
      "outputs": []
    },
    {
      "cell_type": "code",
      "metadata": {
        "id": "CMsDns_6S7mU",
        "colab_type": "code",
        "outputId": "e2bdaf6f-f958-41a4-9252-62bf35dfb85d",
        "colab": {
          "base_uri": "https://localhost:8080/",
          "height": 34
        }
      },
      "source": [
        "stats.ttest_ind(spe.loc[['group A'],['math score','reading score','writing score']],spe.loc[d3,['math score','reading score','writing score']])"
      ],
      "execution_count": 0,
      "outputs": [
        {
          "output_type": "execute_result",
          "data": {
            "text/plain": [
              "Ttest_indResult(statistic=array([-3.0348354 , -3.0285393 , -3.53481986]), pvalue=array([0.00247611, 0.00252776, 0.00042892]))"
            ]
          },
          "metadata": {
            "tags": []
          },
          "execution_count": 180
        }
      ]
    },
    {
      "cell_type": "code",
      "metadata": {
        "id": "zC92BOsBYBo-",
        "colab_type": "code",
        "outputId": "c4fd2594-8366-4e90-b223-c9f78d5001db",
        "colab": {
          "base_uri": "https://localhost:8080/",
          "height": 34
        }
      },
      "source": [
        "stats.ttest_ind(spe.loc[['group A'],['math score','reading score','writing score']],spe.loc[['group B'],['math score','reading score','writing score']])"
      ],
      "execution_count": 0,
      "outputs": [
        {
          "output_type": "execute_result",
          "data": {
            "text/plain": [
              "Ttest_indResult(statistic=array([-0.93550763, -1.36336823, -1.46244206]), pvalue=array([0.3503416 , 0.17387355, 0.14475374]))"
            ]
          },
          "metadata": {
            "tags": []
          },
          "execution_count": 181
        }
      ]
    },
    {
      "cell_type": "code",
      "metadata": {
        "id": "NEcu8SY5YmhF",
        "colab_type": "code",
        "outputId": "8e9cdc58-5108-4f74-b444-aabc1f74578c",
        "colab": {
          "base_uri": "https://localhost:8080/",
          "height": 34
        }
      },
      "source": [
        "stats.ttest_ind(spe.loc[['group A','group B'],['math score','reading score','writing score']],spe.loc[['group C','group D'],['math score','reading score','writing score']])"
      ],
      "execution_count": 0,
      "outputs": [
        {
          "output_type": "execute_result",
          "data": {
            "text/plain": [
              "Ttest_indResult(statistic=array([-2.71279058, -2.88132655, -3.84253393]), pvalue=array([0.00680555, 0.00405879, 0.00013075]))"
            ]
          },
          "metadata": {
            "tags": []
          },
          "execution_count": 182
        }
      ]
    },
    {
      "cell_type": "code",
      "metadata": {
        "id": "EgKuGUoJZVTB",
        "colab_type": "code",
        "colab": {}
      },
      "source": [
        "d4=d"
      ],
      "execution_count": 0,
      "outputs": []
    },
    {
      "cell_type": "code",
      "metadata": {
        "id": "Y-zBw0IGZZMq",
        "colab_type": "code",
        "outputId": "a5986037-dd60-4478-87a7-80584a106b67",
        "colab": {
          "base_uri": "https://localhost:8080/",
          "height": 437
        }
      },
      "source": [
        "count=0\n",
        "limit=len(d)*(len(d4)-1)/2\n",
        "for a in d:\n",
        "  for b in d4:\n",
        "    if a!=b:\n",
        "     count=count+1\n",
        "     \n",
        "     #if count<=limit:\n",
        "    print( stats.ttest_ind(spe.loc[[a],['math score','reading score','writing score']],spe.loc[[b],['math score','reading score','writing score']]), a,b,count)\n",
        "     #count=count+1"
      ],
      "execution_count": 0,
      "outputs": [
        {
          "output_type": "stream",
          "text": [
            "Ttest_indResult(statistic=array([0., 0., 0.]), pvalue=array([1., 1., 1.])) group B group B 0\n",
            "Ttest_indResult(statistic=array([-0.73156699, -1.32231562, -1.59649634]), pvalue=array([0.46477089, 0.18665928, 0.1110011 ])) group B group C 1\n",
            "Ttest_indResult(statistic=array([0.93550763, 1.36336823, 1.46244206]), pvalue=array([0.3503416 , 0.17387355, 0.14475374])) group B group A 2\n",
            "Ttest_indResult(statistic=array([-2.8284554 , -1.94515636, -3.19929333]), pvalue=array([0.0048862 , 0.05237862, 0.001475  ])) group B group D 3\n",
            "Ttest_indResult(statistic=array([-6.00739705, -3.38606695, -3.38319783]), pvalue=array([5.00794605e-09, 7.95161850e-04, 8.03230049e-04])) group B group E 4\n",
            "Ttest_indResult(statistic=array([0.73156699, 1.32231562, 1.59649634]), pvalue=array([0.46477089, 0.18665928, 0.1110011 ])) group C group B 5\n",
            "Ttest_indResult(statistic=array([0., 0., 0.]), pvalue=array([1., 1., 1.])) group C group C 5\n",
            "Ttest_indResult(statistic=array([1.59972203, 2.57543222, 2.8488724 ]), pvalue=array([0.11043811, 0.0103644 , 0.00461069])) group C group A 6\n",
            "Ttest_indResult(statistic=array([-2.41858625, -0.79701093, -1.88966315]), pvalue=array([0.01588835, 0.42577138, 0.05930233])) group C group D 7\n",
            "Ttest_indResult(statistic=array([-6.12764252, -2.71330186, -2.35028119]), pvalue=array([1.92723885e-09, 6.91328428e-03, 1.91835390e-02])) group C group E 8\n",
            "Ttest_indResult(statistic=array([-0.93550763, -1.36336823, -1.46244206]), pvalue=array([0.3503416 , 0.17387355, 0.14475374])) group A group B 9\n",
            "Ttest_indResult(statistic=array([-1.59972203, -2.57543222, -2.8488724 ]), pvalue=array([0.11043811, 0.0103644 , 0.00461069])) group A group C 10\n",
            "Ttest_indResult(statistic=array([0., 0., 0.]), pvalue=array([1., 1., 1.])) group A group A 10\n",
            "Ttest_indResult(statistic=array([-3.34669824, -3.04685486, -4.15563164]), pvalue=array([9.06863605e-04, 2.48865446e-03, 4.08480573e-05])) group A group D 11\n",
            "Ttest_indResult(statistic=array([-5.93614103, -4.07110623, -4.22347366]), pvalue=array([1.08355912e-08, 6.46339593e-05, 3.48327806e-05])) group A group E 12\n",
            "Ttest_indResult(statistic=array([2.8284554 , 1.94515636, 3.19929333]), pvalue=array([0.0048862 , 0.05237862, 0.001475  ])) group D group B 13\n",
            "Ttest_indResult(statistic=array([2.41858625, 0.79701093, 1.88966315]), pvalue=array([0.01588835, 0.42577138, 0.05930233])) group D group C 14\n",
            "Ttest_indResult(statistic=array([3.34669824, 3.04685486, 4.15563164]), pvalue=array([9.06863605e-04, 2.48865446e-03, 4.08480573e-05])) group D group A 15\n",
            "Ttest_indResult(statistic=array([0., 0., 0.]), pvalue=array([1., 1., 1.])) group D group D 15\n",
            "Ttest_indResult(statistic=array([-4.28228721, -2.01064794, -0.82397366]), pvalue=array([2.31876403e-05, 4.50333064e-02, 4.10445552e-01])) group D group E 16\n",
            "Ttest_indResult(statistic=array([6.00739705, 3.38606695, 3.38319783]), pvalue=array([5.00794605e-09, 7.95161850e-04, 8.03230049e-04])) group E group B 17\n",
            "Ttest_indResult(statistic=array([6.12764252, 2.71330186, 2.35028119]), pvalue=array([1.92723885e-09, 6.91328428e-03, 1.91835390e-02])) group E group C 18\n",
            "Ttest_indResult(statistic=array([5.93614103, 4.07110623, 4.22347366]), pvalue=array([1.08355912e-08, 6.46339593e-05, 3.48327806e-05])) group E group A 19\n",
            "Ttest_indResult(statistic=array([4.28228721, 2.01064794, 0.82397366]), pvalue=array([2.31876403e-05, 4.50333064e-02, 4.10445552e-01])) group E group D 20\n",
            "Ttest_indResult(statistic=array([0., 0., 0.]), pvalue=array([1., 1., 1.])) group E group E 20\n"
          ],
          "name": "stdout"
        }
      ]
    },
    {
      "cell_type": "code",
      "metadata": {
        "id": "ye1h_niuedi9",
        "colab_type": "code",
        "outputId": "1a913a41-9111-4678-88e6-fa10f5e41d9d",
        "colab": {
          "base_uri": "https://localhost:8080/",
          "height": 50
        }
      },
      "source": [
        "d"
      ],
      "execution_count": 0,
      "outputs": [
        {
          "output_type": "execute_result",
          "data": {
            "text/plain": [
              "array(['group B', 'group C', 'group A', 'group D', 'group E'],\n",
              "      dtype=object)"
            ]
          },
          "metadata": {
            "tags": []
          },
          "execution_count": 204
        }
      ]
    },
    {
      "cell_type": "code",
      "metadata": {
        "id": "d_7mGf5ebyN8",
        "colab_type": "code",
        "outputId": "836f5663-9ca6-4713-d15e-91ad68763f58",
        "colab": {
          "base_uri": "https://localhost:8080/",
          "height": 34
        }
      },
      "source": [
        "limit=len(a)*(len(b)-1)/2\n",
        "limit"
      ],
      "execution_count": 0,
      "outputs": [
        {
          "output_type": "execute_result",
          "data": {
            "text/plain": [
              "21.0"
            ]
          },
          "metadata": {
            "tags": []
          },
          "execution_count": 197
        }
      ]
    },
    {
      "cell_type": "code",
      "metadata": {
        "id": "YnVmHLjRSX-r",
        "colab_type": "code",
        "outputId": "8fce5778-d478-4c1f-e28e-edc17645abc5",
        "colab": {
          "base_uri": "https://localhost:8080/",
          "height": 34
        }
      },
      "source": [
        "d2=d[::-1]\n",
        "d3=d2[0:4]\n",
        "d3"
      ],
      "execution_count": 0,
      "outputs": [
        {
          "output_type": "execute_result",
          "data": {
            "text/plain": [
              "array(['group E', 'group D', 'group A', 'group C'], dtype=object)"
            ]
          },
          "metadata": {
            "tags": []
          },
          "execution_count": 177
        }
      ]
    },
    {
      "cell_type": "code",
      "metadata": {
        "id": "s0iJleS_Co6b",
        "colab_type": "code",
        "outputId": "6a2ae769-1008-40e8-f193-a0b558654dda",
        "colab": {
          "base_uri": "https://localhost:8080/",
          "height": 134
        }
      },
      "source": [
        "list(spe)"
      ],
      "execution_count": 0,
      "outputs": [
        {
          "output_type": "execute_result",
          "data": {
            "text/plain": [
              "['gender',\n",
              " 'parental level of education',\n",
              " 'lunch',\n",
              " 'test preparation course',\n",
              " 'math score',\n",
              " 'reading score',\n",
              " 'writing score']"
            ]
          },
          "metadata": {
            "tags": []
          },
          "execution_count": 134
        }
      ]
    },
    {
      "cell_type": "code",
      "metadata": {
        "id": "Nf0mdcTACwFS",
        "colab_type": "code",
        "outputId": "d11e1e20-a5a1-4fa6-fcaa-2347772b3fd1",
        "colab": {
          "base_uri": "https://localhost:8080/",
          "height": 235
        }
      },
      "source": [
        "spe.loc['group B','math score']"
      ],
      "execution_count": 0,
      "outputs": [
        {
          "output_type": "execute_result",
          "data": {
            "text/plain": [
              "race/ethnicity\n",
              "group B    72\n",
              "group B    90\n",
              "group B    71\n",
              "group B    88\n",
              "group B    40\n",
              "           ..\n",
              "group B    75\n",
              "group B    60\n",
              "group B     8\n",
              "group B    79\n",
              "group B    65\n",
              "Name: math score, Length: 190, dtype: int64"
            ]
          },
          "metadata": {
            "tags": []
          },
          "execution_count": 136
        }
      ]
    },
    {
      "cell_type": "code",
      "metadata": {
        "id": "xrpAl-kyDW92",
        "colab_type": "code",
        "outputId": "0507579a-c9f2-4f8f-cfdf-ed449def59b6",
        "colab": {
          "base_uri": "https://localhost:8080/",
          "height": 235
        }
      },
      "source": [
        "spe.loc[:,'math score']"
      ],
      "execution_count": 0,
      "outputs": [
        {
          "output_type": "execute_result",
          "data": {
            "text/plain": [
              "race/ethnicity\n",
              "group B    72\n",
              "group C    69\n",
              "group B    90\n",
              "group A    47\n",
              "group C    76\n",
              "           ..\n",
              "group E    88\n",
              "group C    62\n",
              "group C    59\n",
              "group D    68\n",
              "group D    77\n",
              "Name: math score, Length: 1000, dtype: int64"
            ]
          },
          "metadata": {
            "tags": []
          },
          "execution_count": 137
        }
      ]
    },
    {
      "cell_type": "code",
      "metadata": {
        "id": "ltMY7n7oDa4z",
        "colab_type": "code",
        "colab": {}
      },
      "source": [
        "stats.ttest_ind()"
      ],
      "execution_count": 0,
      "outputs": []
    },
    {
      "cell_type": "code",
      "metadata": {
        "id": "zQuFxbSpxPsg",
        "colab_type": "code",
        "outputId": "a2226583-7151-4cd2-f1b7-23aa23b5a2f9",
        "colab": {
          "base_uri": "https://localhost:8080/",
          "height": 195
        }
      },
      "source": [
        "sp2.tail()"
      ],
      "execution_count": 0,
      "outputs": [
        {
          "output_type": "execute_result",
          "data": {
            "text/html": [
              "<div>\n",
              "<style scoped>\n",
              "    .dataframe tbody tr th:only-of-type {\n",
              "        vertical-align: middle;\n",
              "    }\n",
              "\n",
              "    .dataframe tbody tr th {\n",
              "        vertical-align: top;\n",
              "    }\n",
              "\n",
              "    .dataframe thead th {\n",
              "        text-align: right;\n",
              "    }\n",
              "</style>\n",
              "<table border=\"1\" class=\"dataframe\">\n",
              "  <thead>\n",
              "    <tr style=\"text-align: right;\">\n",
              "      <th></th>\n",
              "      <th>gender</th>\n",
              "      <th>race/ethnicity</th>\n",
              "      <th>parental level of education</th>\n",
              "      <th>lunch</th>\n",
              "      <th>test preparation course</th>\n",
              "      <th>math score</th>\n",
              "      <th>reading score</th>\n",
              "      <th>writing score</th>\n",
              "    </tr>\n",
              "  </thead>\n",
              "  <tbody>\n",
              "    <tr>\n",
              "      <th>995</th>\n",
              "      <td>female</td>\n",
              "      <td>group E</td>\n",
              "      <td>master's degree</td>\n",
              "      <td>standard</td>\n",
              "      <td>completed</td>\n",
              "      <td>88</td>\n",
              "      <td>99</td>\n",
              "      <td>95</td>\n",
              "    </tr>\n",
              "    <tr>\n",
              "      <th>996</th>\n",
              "      <td>male</td>\n",
              "      <td>group C</td>\n",
              "      <td>high school</td>\n",
              "      <td>free/reduced</td>\n",
              "      <td>none</td>\n",
              "      <td>62</td>\n",
              "      <td>55</td>\n",
              "      <td>55</td>\n",
              "    </tr>\n",
              "    <tr>\n",
              "      <th>997</th>\n",
              "      <td>female</td>\n",
              "      <td>group C</td>\n",
              "      <td>high school</td>\n",
              "      <td>free/reduced</td>\n",
              "      <td>completed</td>\n",
              "      <td>59</td>\n",
              "      <td>71</td>\n",
              "      <td>65</td>\n",
              "    </tr>\n",
              "    <tr>\n",
              "      <th>998</th>\n",
              "      <td>female</td>\n",
              "      <td>group D</td>\n",
              "      <td>some college</td>\n",
              "      <td>standard</td>\n",
              "      <td>completed</td>\n",
              "      <td>68</td>\n",
              "      <td>78</td>\n",
              "      <td>77</td>\n",
              "    </tr>\n",
              "    <tr>\n",
              "      <th>999</th>\n",
              "      <td>female</td>\n",
              "      <td>group D</td>\n",
              "      <td>some college</td>\n",
              "      <td>free/reduced</td>\n",
              "      <td>none</td>\n",
              "      <td>77</td>\n",
              "      <td>86</td>\n",
              "      <td>86</td>\n",
              "    </tr>\n",
              "  </tbody>\n",
              "</table>\n",
              "</div>"
            ],
            "text/plain": [
              "     gender race/ethnicity  ... reading score writing score\n",
              "995  female        group E  ...            99            95\n",
              "996    male        group C  ...            55            55\n",
              "997  female        group C  ...            71            65\n",
              "998  female        group D  ...            78            77\n",
              "999  female        group D  ...            86            86\n",
              "\n",
              "[5 rows x 8 columns]"
            ]
          },
          "metadata": {
            "tags": []
          },
          "execution_count": 101
        }
      ]
    },
    {
      "cell_type": "code",
      "metadata": {
        "id": "ePM2kHAxwJ6J",
        "colab_type": "code",
        "outputId": "c3b30341-2193-4554-a2cd-94ec5adc16aa",
        "colab": {
          "base_uri": "https://localhost:8080/",
          "height": 284
        }
      },
      "source": [
        "sp2.describe()"
      ],
      "execution_count": 0,
      "outputs": [
        {
          "output_type": "execute_result",
          "data": {
            "text/html": [
              "<div>\n",
              "<style scoped>\n",
              "    .dataframe tbody tr th:only-of-type {\n",
              "        vertical-align: middle;\n",
              "    }\n",
              "\n",
              "    .dataframe tbody tr th {\n",
              "        vertical-align: top;\n",
              "    }\n",
              "\n",
              "    .dataframe thead th {\n",
              "        text-align: right;\n",
              "    }\n",
              "</style>\n",
              "<table border=\"1\" class=\"dataframe\">\n",
              "  <thead>\n",
              "    <tr style=\"text-align: right;\">\n",
              "      <th></th>\n",
              "      <th>math score</th>\n",
              "      <th>reading score</th>\n",
              "      <th>writing score</th>\n",
              "    </tr>\n",
              "  </thead>\n",
              "  <tbody>\n",
              "    <tr>\n",
              "      <th>count</th>\n",
              "      <td>1000.00000</td>\n",
              "      <td>1000.000000</td>\n",
              "      <td>1000.000000</td>\n",
              "    </tr>\n",
              "    <tr>\n",
              "      <th>mean</th>\n",
              "      <td>66.08900</td>\n",
              "      <td>69.169000</td>\n",
              "      <td>68.054000</td>\n",
              "    </tr>\n",
              "    <tr>\n",
              "      <th>std</th>\n",
              "      <td>15.16308</td>\n",
              "      <td>14.600192</td>\n",
              "      <td>15.195657</td>\n",
              "    </tr>\n",
              "    <tr>\n",
              "      <th>min</th>\n",
              "      <td>0.00000</td>\n",
              "      <td>17.000000</td>\n",
              "      <td>10.000000</td>\n",
              "    </tr>\n",
              "    <tr>\n",
              "      <th>25%</th>\n",
              "      <td>57.00000</td>\n",
              "      <td>59.000000</td>\n",
              "      <td>57.750000</td>\n",
              "    </tr>\n",
              "    <tr>\n",
              "      <th>50%</th>\n",
              "      <td>66.00000</td>\n",
              "      <td>70.000000</td>\n",
              "      <td>69.000000</td>\n",
              "    </tr>\n",
              "    <tr>\n",
              "      <th>75%</th>\n",
              "      <td>77.00000</td>\n",
              "      <td>79.000000</td>\n",
              "      <td>79.000000</td>\n",
              "    </tr>\n",
              "    <tr>\n",
              "      <th>max</th>\n",
              "      <td>100.00000</td>\n",
              "      <td>100.000000</td>\n",
              "      <td>100.000000</td>\n",
              "    </tr>\n",
              "  </tbody>\n",
              "</table>\n",
              "</div>"
            ],
            "text/plain": [
              "       math score  reading score  writing score\n",
              "count  1000.00000    1000.000000    1000.000000\n",
              "mean     66.08900      69.169000      68.054000\n",
              "std      15.16308      14.600192      15.195657\n",
              "min       0.00000      17.000000      10.000000\n",
              "25%      57.00000      59.000000      57.750000\n",
              "50%      66.00000      70.000000      69.000000\n",
              "75%      77.00000      79.000000      79.000000\n",
              "max     100.00000     100.000000     100.000000"
            ]
          },
          "metadata": {
            "tags": []
          },
          "execution_count": 73
        }
      ]
    },
    {
      "cell_type": "code",
      "metadata": {
        "id": "dlGVIpTqwOx8",
        "colab_type": "code",
        "outputId": "546a59db-c424-4bf6-e3a3-3f3e40d4801b",
        "colab": {
          "base_uri": "https://localhost:8080/",
          "height": 235
        }
      },
      "source": [
        "sp2.info()"
      ],
      "execution_count": 0,
      "outputs": [
        {
          "output_type": "stream",
          "text": [
            "<class 'pandas.core.frame.DataFrame'>\n",
            "RangeIndex: 1000 entries, 0 to 999\n",
            "Data columns (total 8 columns):\n",
            "gender                         1000 non-null object\n",
            "race/ethnicity                 1000 non-null object\n",
            "parental level of education    1000 non-null object\n",
            "lunch                          1000 non-null object\n",
            "test preparation course        1000 non-null object\n",
            "math score                     1000 non-null int64\n",
            "reading score                  1000 non-null int64\n",
            "writing score                  1000 non-null int64\n",
            "dtypes: int64(3), object(5)\n",
            "memory usage: 62.6+ KB\n"
          ],
          "name": "stdout"
        }
      ]
    },
    {
      "cell_type": "code",
      "metadata": {
        "id": "Frn1pNvFxETI",
        "colab_type": "code",
        "outputId": "bf8719a4-c8f0-4171-88c7-fcfe894761d4",
        "colab": {
          "base_uri": "https://localhost:8080/",
          "height": 168
        }
      },
      "source": [
        "sp2.isnull().sum()"
      ],
      "execution_count": 0,
      "outputs": [
        {
          "output_type": "execute_result",
          "data": {
            "text/plain": [
              "gender                         0\n",
              "race/ethnicity                 0\n",
              "parental level of education    0\n",
              "lunch                          0\n",
              "test preparation course        0\n",
              "math score                     0\n",
              "reading score                  0\n",
              "writing score                  0\n",
              "dtype: int64"
            ]
          },
          "metadata": {
            "tags": []
          },
          "execution_count": 75
        }
      ]
    },
    {
      "cell_type": "markdown",
      "metadata": {
        "id": "_-02B-p2w5Us",
        "colab_type": "text"
      },
      "source": [
        "Are there any differences between the genders, ethnicities, and parental level of education with respect to their performances in exams?\n",
        "\n",
        "\n",
        "Are there any differences between the lunch types with respect to their performances in exams? If there are, how do you explain this?\n",
        "\n",
        "\n",
        "Does the test preparation course seem to have an effect on the exam performances?\n",
        "\n",
        "\n",
        "Which 2 exam scores are most correlated with each other?"
      ]
    },
    {
      "cell_type": "code",
      "metadata": {
        "id": "w3mukje1w-vc",
        "colab_type": "code",
        "colab": {}
      },
      "source": [
        ""
      ],
      "execution_count": 0,
      "outputs": []
    },
    {
      "cell_type": "markdown",
      "metadata": {
        "id": "8XpyTZsIxbag",
        "colab_type": "text"
      },
      "source": [
        "1 -**Are there any differences between the genders, ethnicities, and parental level of education with respect to their performances in exams?**"
      ]
    },
    {
      "cell_type": "markdown",
      "metadata": {
        "id": "uTNffojWxgCA",
        "colab_type": "text"
      },
      "source": [
        "so compare exam performance to gender -- ethnicity -- parental level of education"
      ]
    },
    {
      "cell_type": "markdown",
      "metadata": {
        "id": "94PqtBwyx6OU",
        "colab_type": "text"
      },
      "source": [
        "exams are continuous -- others categorical"
      ]
    },
    {
      "cell_type": "code",
      "metadata": {
        "id": "DJr3rZcQyGdZ",
        "colab_type": "code",
        "colab": {}
      },
      "source": [
        "sp_male=sp2[sp2['gender']=='male']"
      ],
      "execution_count": 0,
      "outputs": []
    },
    {
      "cell_type": "code",
      "metadata": {
        "id": "bT_oH1oeypzZ",
        "colab_type": "code",
        "outputId": "8845088d-54b7-401c-bcfb-f04775b020ba",
        "colab": {
          "base_uri": "https://localhost:8080/",
          "height": 195
        }
      },
      "source": [
        "sp_male.head()\n"
      ],
      "execution_count": 0,
      "outputs": [
        {
          "output_type": "execute_result",
          "data": {
            "text/html": [
              "<div>\n",
              "<style scoped>\n",
              "    .dataframe tbody tr th:only-of-type {\n",
              "        vertical-align: middle;\n",
              "    }\n",
              "\n",
              "    .dataframe tbody tr th {\n",
              "        vertical-align: top;\n",
              "    }\n",
              "\n",
              "    .dataframe thead th {\n",
              "        text-align: right;\n",
              "    }\n",
              "</style>\n",
              "<table border=\"1\" class=\"dataframe\">\n",
              "  <thead>\n",
              "    <tr style=\"text-align: right;\">\n",
              "      <th></th>\n",
              "      <th>gender</th>\n",
              "      <th>race/ethnicity</th>\n",
              "      <th>parental level of education</th>\n",
              "      <th>lunch</th>\n",
              "      <th>test preparation course</th>\n",
              "      <th>math score</th>\n",
              "      <th>reading score</th>\n",
              "      <th>writing score</th>\n",
              "    </tr>\n",
              "  </thead>\n",
              "  <tbody>\n",
              "    <tr>\n",
              "      <th>3</th>\n",
              "      <td>male</td>\n",
              "      <td>group A</td>\n",
              "      <td>associate's degree</td>\n",
              "      <td>free/reduced</td>\n",
              "      <td>none</td>\n",
              "      <td>47</td>\n",
              "      <td>57</td>\n",
              "      <td>44</td>\n",
              "    </tr>\n",
              "    <tr>\n",
              "      <th>4</th>\n",
              "      <td>male</td>\n",
              "      <td>group C</td>\n",
              "      <td>some college</td>\n",
              "      <td>standard</td>\n",
              "      <td>none</td>\n",
              "      <td>76</td>\n",
              "      <td>78</td>\n",
              "      <td>75</td>\n",
              "    </tr>\n",
              "    <tr>\n",
              "      <th>7</th>\n",
              "      <td>male</td>\n",
              "      <td>group B</td>\n",
              "      <td>some college</td>\n",
              "      <td>free/reduced</td>\n",
              "      <td>none</td>\n",
              "      <td>40</td>\n",
              "      <td>43</td>\n",
              "      <td>39</td>\n",
              "    </tr>\n",
              "    <tr>\n",
              "      <th>8</th>\n",
              "      <td>male</td>\n",
              "      <td>group D</td>\n",
              "      <td>high school</td>\n",
              "      <td>free/reduced</td>\n",
              "      <td>completed</td>\n",
              "      <td>64</td>\n",
              "      <td>64</td>\n",
              "      <td>67</td>\n",
              "    </tr>\n",
              "    <tr>\n",
              "      <th>10</th>\n",
              "      <td>male</td>\n",
              "      <td>group C</td>\n",
              "      <td>associate's degree</td>\n",
              "      <td>standard</td>\n",
              "      <td>none</td>\n",
              "      <td>58</td>\n",
              "      <td>54</td>\n",
              "      <td>52</td>\n",
              "    </tr>\n",
              "  </tbody>\n",
              "</table>\n",
              "</div>"
            ],
            "text/plain": [
              "   gender race/ethnicity  ... reading score writing score\n",
              "3    male        group A  ...            57            44\n",
              "4    male        group C  ...            78            75\n",
              "7    male        group B  ...            43            39\n",
              "8    male        group D  ...            64            67\n",
              "10   male        group C  ...            54            52\n",
              "\n",
              "[5 rows x 8 columns]"
            ]
          },
          "metadata": {
            "tags": []
          },
          "execution_count": 77
        }
      ]
    },
    {
      "cell_type": "code",
      "metadata": {
        "id": "4YOiqObHwm8b",
        "colab_type": "code",
        "colab": {}
      },
      "source": [
        "sp_female=sp2[sp2['gender']=='female']"
      ],
      "execution_count": 0,
      "outputs": []
    },
    {
      "cell_type": "code",
      "metadata": {
        "id": "MlDUkBvewyF_",
        "colab_type": "code",
        "outputId": "1121c1fc-d12b-449d-c17d-9bacbaec600c",
        "colab": {
          "base_uri": "https://localhost:8080/",
          "height": 34
        }
      },
      "source": [
        "stats.ttest_ind(sp_male['math score'],sp_female['math score'])"
      ],
      "execution_count": 0,
      "outputs": [
        {
          "output_type": "execute_result",
          "data": {
            "text/plain": [
              "Ttest_indResult(statistic=5.383245869828983, pvalue=9.120185549328822e-08)"
            ]
          },
          "metadata": {
            "tags": []
          },
          "execution_count": 86
        }
      ]
    },
    {
      "cell_type": "code",
      "metadata": {
        "id": "WG7bEWBBxaaQ",
        "colab_type": "code",
        "colab": {}
      },
      "source": [
        "stats.ttest_ind(sp_male[['math score','reading score','writing score']],sp_female[['math score','reading score','writing score']])"
      ],
      "execution_count": 0,
      "outputs": []
    },
    {
      "cell_type": "markdown",
      "metadata": {
        "id": "wPK8iG1q41Zr",
        "colab_type": "text"
      },
      "source": [
        "/////////////////////////////////////////////////////////////////////////////////////////////////////////////////////////////////////////////////////////////"
      ]
    },
    {
      "cell_type": "code",
      "metadata": {
        "id": "QHywEQZ2yV0e",
        "colab_type": "code",
        "outputId": "c7ea08a5-3fdf-4e09-edd0-9495f604c6ec",
        "colab": {
          "base_uri": "https://localhost:8080/",
          "height": 195
        }
      },
      "source": [
        "sp_male[['math score','reading score','writing score']].head()"
      ],
      "execution_count": 0,
      "outputs": [
        {
          "output_type": "execute_result",
          "data": {
            "text/html": [
              "<div>\n",
              "<style scoped>\n",
              "    .dataframe tbody tr th:only-of-type {\n",
              "        vertical-align: middle;\n",
              "    }\n",
              "\n",
              "    .dataframe tbody tr th {\n",
              "        vertical-align: top;\n",
              "    }\n",
              "\n",
              "    .dataframe thead th {\n",
              "        text-align: right;\n",
              "    }\n",
              "</style>\n",
              "<table border=\"1\" class=\"dataframe\">\n",
              "  <thead>\n",
              "    <tr style=\"text-align: right;\">\n",
              "      <th></th>\n",
              "      <th>math score</th>\n",
              "      <th>reading score</th>\n",
              "      <th>writing score</th>\n",
              "    </tr>\n",
              "  </thead>\n",
              "  <tbody>\n",
              "    <tr>\n",
              "      <th>3</th>\n",
              "      <td>47</td>\n",
              "      <td>57</td>\n",
              "      <td>44</td>\n",
              "    </tr>\n",
              "    <tr>\n",
              "      <th>4</th>\n",
              "      <td>76</td>\n",
              "      <td>78</td>\n",
              "      <td>75</td>\n",
              "    </tr>\n",
              "    <tr>\n",
              "      <th>7</th>\n",
              "      <td>40</td>\n",
              "      <td>43</td>\n",
              "      <td>39</td>\n",
              "    </tr>\n",
              "    <tr>\n",
              "      <th>8</th>\n",
              "      <td>64</td>\n",
              "      <td>64</td>\n",
              "      <td>67</td>\n",
              "    </tr>\n",
              "    <tr>\n",
              "      <th>10</th>\n",
              "      <td>58</td>\n",
              "      <td>54</td>\n",
              "      <td>52</td>\n",
              "    </tr>\n",
              "  </tbody>\n",
              "</table>\n",
              "</div>"
            ],
            "text/plain": [
              "    math score  reading score  writing score\n",
              "3           47             57             44\n",
              "4           76             78             75\n",
              "7           40             43             39\n",
              "8           64             64             67\n",
              "10          58             54             52"
            ]
          },
          "metadata": {
            "tags": []
          },
          "execution_count": 89
        }
      ]
    },
    {
      "cell_type": "markdown",
      "metadata": {
        "id": "ZV9Ox6RR0BjT",
        "colab_type": "text"
      },
      "source": [
        "another way\n"
      ]
    },
    {
      "cell_type": "code",
      "metadata": {
        "id": "rGUf3vp20D4e",
        "colab_type": "code",
        "colab": {}
      },
      "source": [
        "#temp.loc[1,:]\n",
        "#sp2.loc[:,'gender']"
      ],
      "execution_count": 0,
      "outputs": []
    },
    {
      "cell_type": "markdown",
      "metadata": {
        "id": "mffISqAG0Ymx",
        "colab_type": "text"
      },
      "source": [
        "does not work because gender is not the key"
      ]
    },
    {
      "cell_type": "code",
      "metadata": {
        "id": "SMEXWLbk0lTm",
        "colab_type": "code",
        "outputId": "e1f560a6-825c-4dc1-b62c-04691fa436d4",
        "colab": {
          "base_uri": "https://localhost:8080/",
          "height": 136
        }
      },
      "source": [
        "sp2.groupby('gender').mean()"
      ],
      "execution_count": 0,
      "outputs": [
        {
          "output_type": "execute_result",
          "data": {
            "text/html": [
              "<div>\n",
              "<style scoped>\n",
              "    .dataframe tbody tr th:only-of-type {\n",
              "        vertical-align: middle;\n",
              "    }\n",
              "\n",
              "    .dataframe tbody tr th {\n",
              "        vertical-align: top;\n",
              "    }\n",
              "\n",
              "    .dataframe thead th {\n",
              "        text-align: right;\n",
              "    }\n",
              "</style>\n",
              "<table border=\"1\" class=\"dataframe\">\n",
              "  <thead>\n",
              "    <tr style=\"text-align: right;\">\n",
              "      <th></th>\n",
              "      <th>math score</th>\n",
              "      <th>reading score</th>\n",
              "      <th>writing score</th>\n",
              "    </tr>\n",
              "    <tr>\n",
              "      <th>gender</th>\n",
              "      <th></th>\n",
              "      <th></th>\n",
              "      <th></th>\n",
              "    </tr>\n",
              "  </thead>\n",
              "  <tbody>\n",
              "    <tr>\n",
              "      <th>female</th>\n",
              "      <td>63.633205</td>\n",
              "      <td>72.608108</td>\n",
              "      <td>72.467181</td>\n",
              "    </tr>\n",
              "    <tr>\n",
              "      <th>male</th>\n",
              "      <td>68.728216</td>\n",
              "      <td>65.473029</td>\n",
              "      <td>63.311203</td>\n",
              "    </tr>\n",
              "  </tbody>\n",
              "</table>\n",
              "</div>"
            ],
            "text/plain": [
              "        math score  reading score  writing score\n",
              "gender                                          \n",
              "female   63.633205      72.608108      72.467181\n",
              "male     68.728216      65.473029      63.311203"
            ]
          },
          "metadata": {
            "tags": []
          },
          "execution_count": 84
        }
      ]
    },
    {
      "cell_type": "code",
      "metadata": {
        "id": "BtLHL95Pvuq4",
        "colab_type": "code",
        "colab": {}
      },
      "source": [
        "ttest_ind()"
      ],
      "execution_count": 0,
      "outputs": []
    },
    {
      "cell_type": "code",
      "metadata": {
        "id": "nq88EIzc1Bjq",
        "colab_type": "code",
        "colab": {}
      },
      "source": [
        "sg=sp2.groupby('race/ethnicity').mean()"
      ],
      "execution_count": 0,
      "outputs": []
    },
    {
      "cell_type": "code",
      "metadata": {
        "id": "3kq8owAe5F2H",
        "colab_type": "code",
        "outputId": "cd9f8006-5752-4830-e3bf-5468187f2ef4",
        "colab": {
          "base_uri": "https://localhost:8080/",
          "height": 134
        }
      },
      "source": [
        "sg['math score']"
      ],
      "execution_count": 0,
      "outputs": [
        {
          "output_type": "execute_result",
          "data": {
            "text/plain": [
              "race/ethnicity\n",
              "group A    61.629213\n",
              "group B    63.452632\n",
              "group C    64.463950\n",
              "group D    67.362595\n",
              "group E    73.821429\n",
              "Name: math score, dtype: float64"
            ]
          },
          "metadata": {
            "tags": []
          },
          "execution_count": 93
        }
      ]
    },
    {
      "cell_type": "code",
      "metadata": {
        "id": "HcugbWIk5AW6",
        "colab_type": "code",
        "colab": {}
      },
      "source": [
        "sp"
      ],
      "execution_count": 0,
      "outputs": []
    },
    {
      "cell_type": "code",
      "metadata": {
        "id": "QiYzVoRQ1MPR",
        "colab_type": "code",
        "outputId": "25ca8bbc-6184-4f6c-a7eb-632098240731",
        "colab": {
          "base_uri": "https://localhost:8080/",
          "height": 254
        }
      },
      "source": [
        "sp2.groupby('parental level of education').mean()"
      ],
      "execution_count": 0,
      "outputs": [
        {
          "output_type": "execute_result",
          "data": {
            "text/html": [
              "<div>\n",
              "<style scoped>\n",
              "    .dataframe tbody tr th:only-of-type {\n",
              "        vertical-align: middle;\n",
              "    }\n",
              "\n",
              "    .dataframe tbody tr th {\n",
              "        vertical-align: top;\n",
              "    }\n",
              "\n",
              "    .dataframe thead th {\n",
              "        text-align: right;\n",
              "    }\n",
              "</style>\n",
              "<table border=\"1\" class=\"dataframe\">\n",
              "  <thead>\n",
              "    <tr style=\"text-align: right;\">\n",
              "      <th></th>\n",
              "      <th>math score</th>\n",
              "      <th>reading score</th>\n",
              "      <th>writing score</th>\n",
              "    </tr>\n",
              "    <tr>\n",
              "      <th>parental level of education</th>\n",
              "      <th></th>\n",
              "      <th></th>\n",
              "      <th></th>\n",
              "    </tr>\n",
              "  </thead>\n",
              "  <tbody>\n",
              "    <tr>\n",
              "      <th>associate's degree</th>\n",
              "      <td>67.882883</td>\n",
              "      <td>70.927928</td>\n",
              "      <td>69.896396</td>\n",
              "    </tr>\n",
              "    <tr>\n",
              "      <th>bachelor's degree</th>\n",
              "      <td>69.389831</td>\n",
              "      <td>73.000000</td>\n",
              "      <td>73.381356</td>\n",
              "    </tr>\n",
              "    <tr>\n",
              "      <th>high school</th>\n",
              "      <td>62.137755</td>\n",
              "      <td>64.704082</td>\n",
              "      <td>62.448980</td>\n",
              "    </tr>\n",
              "    <tr>\n",
              "      <th>master's degree</th>\n",
              "      <td>69.745763</td>\n",
              "      <td>75.372881</td>\n",
              "      <td>75.677966</td>\n",
              "    </tr>\n",
              "    <tr>\n",
              "      <th>some college</th>\n",
              "      <td>67.128319</td>\n",
              "      <td>69.460177</td>\n",
              "      <td>68.840708</td>\n",
              "    </tr>\n",
              "    <tr>\n",
              "      <th>some high school</th>\n",
              "      <td>63.497207</td>\n",
              "      <td>66.938547</td>\n",
              "      <td>64.888268</td>\n",
              "    </tr>\n",
              "  </tbody>\n",
              "</table>\n",
              "</div>"
            ],
            "text/plain": [
              "                             math score  reading score  writing score\n",
              "parental level of education                                          \n",
              "associate's degree            67.882883      70.927928      69.896396\n",
              "bachelor's degree             69.389831      73.000000      73.381356\n",
              "high school                   62.137755      64.704082      62.448980\n",
              "master's degree               69.745763      75.372881      75.677966\n",
              "some college                  67.128319      69.460177      68.840708\n",
              "some high school              63.497207      66.938547      64.888268"
            ]
          },
          "metadata": {
            "tags": []
          },
          "execution_count": 16
        }
      ]
    },
    {
      "cell_type": "markdown",
      "metadata": {
        "id": "4pmRTJ2u1fK2",
        "colab_type": "text"
      },
      "source": [
        "**Are there any differences between the lunch types with respect to their performances in exams? If there are, how do you explain this?**"
      ]
    },
    {
      "cell_type": "code",
      "metadata": {
        "id": "fgIc6o0G1iau",
        "colab_type": "code",
        "outputId": "c43eaf25-0d9b-4593-8b87-10fdc94a20f4",
        "colab": {
          "base_uri": "https://localhost:8080/",
          "height": 136
        }
      },
      "source": [
        "sp2.groupby('lunch').mean()"
      ],
      "execution_count": 0,
      "outputs": [
        {
          "output_type": "execute_result",
          "data": {
            "text/html": [
              "<div>\n",
              "<style scoped>\n",
              "    .dataframe tbody tr th:only-of-type {\n",
              "        vertical-align: middle;\n",
              "    }\n",
              "\n",
              "    .dataframe tbody tr th {\n",
              "        vertical-align: top;\n",
              "    }\n",
              "\n",
              "    .dataframe thead th {\n",
              "        text-align: right;\n",
              "    }\n",
              "</style>\n",
              "<table border=\"1\" class=\"dataframe\">\n",
              "  <thead>\n",
              "    <tr style=\"text-align: right;\">\n",
              "      <th></th>\n",
              "      <th>math score</th>\n",
              "      <th>reading score</th>\n",
              "      <th>writing score</th>\n",
              "    </tr>\n",
              "    <tr>\n",
              "      <th>lunch</th>\n",
              "      <th></th>\n",
              "      <th></th>\n",
              "      <th></th>\n",
              "    </tr>\n",
              "  </thead>\n",
              "  <tbody>\n",
              "    <tr>\n",
              "      <th>free/reduced</th>\n",
              "      <td>58.921127</td>\n",
              "      <td>64.653521</td>\n",
              "      <td>63.022535</td>\n",
              "    </tr>\n",
              "    <tr>\n",
              "      <th>standard</th>\n",
              "      <td>70.034109</td>\n",
              "      <td>71.654264</td>\n",
              "      <td>70.823256</td>\n",
              "    </tr>\n",
              "  </tbody>\n",
              "</table>\n",
              "</div>"
            ],
            "text/plain": [
              "              math score  reading score  writing score\n",
              "lunch                                                 \n",
              "free/reduced   58.921127      64.653521      63.022535\n",
              "standard       70.034109      71.654264      70.823256"
            ]
          },
          "metadata": {
            "tags": []
          },
          "execution_count": 17
        }
      ]
    },
    {
      "cell_type": "markdown",
      "metadata": {
        "id": "mZR2h-tX1zyC",
        "colab_type": "text"
      },
      "source": [
        "yes\n",
        "\n",
        "explanation -- students with free/reduced came from poorer homes"
      ]
    },
    {
      "cell_type": "markdown",
      "metadata": {
        "id": "6uLnUyNZ19ra",
        "colab_type": "text"
      },
      "source": [
        "**Does the test preparation course seem to have an effect on the exam performances?**"
      ]
    },
    {
      "cell_type": "markdown",
      "metadata": {
        "id": "YV3KJvFc2esC",
        "colab_type": "text"
      },
      "source": [
        ""
      ]
    },
    {
      "cell_type": "code",
      "metadata": {
        "id": "Cq0gazcl2AZB",
        "colab_type": "code",
        "outputId": "c88743ac-a6de-43f6-8866-81d8da312dd9",
        "colab": {
          "base_uri": "https://localhost:8080/",
          "height": 136
        }
      },
      "source": [
        "sp2.groupby('test preparation course').mean()"
      ],
      "execution_count": 0,
      "outputs": [
        {
          "output_type": "execute_result",
          "data": {
            "text/html": [
              "<div>\n",
              "<style scoped>\n",
              "    .dataframe tbody tr th:only-of-type {\n",
              "        vertical-align: middle;\n",
              "    }\n",
              "\n",
              "    .dataframe tbody tr th {\n",
              "        vertical-align: top;\n",
              "    }\n",
              "\n",
              "    .dataframe thead th {\n",
              "        text-align: right;\n",
              "    }\n",
              "</style>\n",
              "<table border=\"1\" class=\"dataframe\">\n",
              "  <thead>\n",
              "    <tr style=\"text-align: right;\">\n",
              "      <th></th>\n",
              "      <th>math score</th>\n",
              "      <th>reading score</th>\n",
              "      <th>writing score</th>\n",
              "    </tr>\n",
              "    <tr>\n",
              "      <th>test preparation course</th>\n",
              "      <th></th>\n",
              "      <th></th>\n",
              "      <th></th>\n",
              "    </tr>\n",
              "  </thead>\n",
              "  <tbody>\n",
              "    <tr>\n",
              "      <th>completed</th>\n",
              "      <td>69.695531</td>\n",
              "      <td>73.893855</td>\n",
              "      <td>74.418994</td>\n",
              "    </tr>\n",
              "    <tr>\n",
              "      <th>none</th>\n",
              "      <td>64.077882</td>\n",
              "      <td>66.534268</td>\n",
              "      <td>64.504673</td>\n",
              "    </tr>\n",
              "  </tbody>\n",
              "</table>\n",
              "</div>"
            ],
            "text/plain": [
              "                         math score  reading score  writing score\n",
              "test preparation course                                          \n",
              "completed                 69.695531      73.893855      74.418994\n",
              "none                      64.077882      66.534268      64.504673"
            ]
          },
          "metadata": {
            "tags": []
          },
          "execution_count": 31
        }
      ]
    },
    {
      "cell_type": "markdown",
      "metadata": {
        "id": "jn8Y88bX2Pm9",
        "colab_type": "text"
      },
      "source": [
        "**Which 2 exam scores are most correlated with each other?**"
      ]
    },
    {
      "cell_type": "code",
      "metadata": {
        "id": "irL1PSgi2Tr_",
        "colab_type": "code",
        "outputId": "1fcb4d7b-d0a2-4e47-a931-51d7c27f87f2",
        "colab": {
          "base_uri": "https://localhost:8080/",
          "height": 295
        }
      },
      "source": [
        "sns.heatmap([sp2['math score'],sp2['reading score'],sp2['writing score']],annot=True)"
      ],
      "execution_count": 0,
      "outputs": [
        {
          "output_type": "execute_result",
          "data": {
            "text/plain": [
              "<matplotlib.axes._subplots.AxesSubplot at 0x7fc637e830f0>"
            ]
          },
          "metadata": {
            "tags": []
          },
          "execution_count": 18
        },
        {
          "output_type": "display_data",
          "data": {
            "image/png": "[encoded data removed]",
            "text/plain": [
              "<Figure size 432x288 with 2 Axes>"
            ]
          },
          "metadata": {
            "tags": []
          }
        }
      ]
    },
    {
      "cell_type": "code",
      "metadata": {
        "id": "FLPQkOIk4ocF",
        "colab_type": "code",
        "colab": {}
      },
      "source": [
        "sp_subset=sp2[['math score','reading score','writing score']]"
      ],
      "execution_count": 0,
      "outputs": []
    },
    {
      "cell_type": "code",
      "metadata": {
        "id": "CxALpuMg4-41",
        "colab_type": "code",
        "outputId": "84ee31a8-404f-4a3f-b49b-a49a52ad6630",
        "colab": {
          "base_uri": "https://localhost:8080/",
          "height": 195
        }
      },
      "source": [
        "sp_subset.head()"
      ],
      "execution_count": 0,
      "outputs": [
        {
          "output_type": "execute_result",
          "data": {
            "text/html": [
              "<div>\n",
              "<style scoped>\n",
              "    .dataframe tbody tr th:only-of-type {\n",
              "        vertical-align: middle;\n",
              "    }\n",
              "\n",
              "    .dataframe tbody tr th {\n",
              "        vertical-align: top;\n",
              "    }\n",
              "\n",
              "    .dataframe thead th {\n",
              "        text-align: right;\n",
              "    }\n",
              "</style>\n",
              "<table border=\"1\" class=\"dataframe\">\n",
              "  <thead>\n",
              "    <tr style=\"text-align: right;\">\n",
              "      <th></th>\n",
              "      <th>math score</th>\n",
              "      <th>reading score</th>\n",
              "      <th>writing score</th>\n",
              "    </tr>\n",
              "  </thead>\n",
              "  <tbody>\n",
              "    <tr>\n",
              "      <th>0</th>\n",
              "      <td>72</td>\n",
              "      <td>72</td>\n",
              "      <td>74</td>\n",
              "    </tr>\n",
              "    <tr>\n",
              "      <th>1</th>\n",
              "      <td>69</td>\n",
              "      <td>90</td>\n",
              "      <td>88</td>\n",
              "    </tr>\n",
              "    <tr>\n",
              "      <th>2</th>\n",
              "      <td>90</td>\n",
              "      <td>95</td>\n",
              "      <td>93</td>\n",
              "    </tr>\n",
              "    <tr>\n",
              "      <th>3</th>\n",
              "      <td>47</td>\n",
              "      <td>57</td>\n",
              "      <td>44</td>\n",
              "    </tr>\n",
              "    <tr>\n",
              "      <th>4</th>\n",
              "      <td>76</td>\n",
              "      <td>78</td>\n",
              "      <td>75</td>\n",
              "    </tr>\n",
              "  </tbody>\n",
              "</table>\n",
              "</div>"
            ],
            "text/plain": [
              "   math score  reading score  writing score\n",
              "0          72             72             74\n",
              "1          69             90             88\n",
              "2          90             95             93\n",
              "3          47             57             44\n",
              "4          76             78             75"
            ]
          },
          "metadata": {
            "tags": []
          },
          "execution_count": 21
        }
      ]
    },
    {
      "cell_type": "code",
      "metadata": {
        "id": "wHQr3Yq65Guz",
        "colab_type": "code",
        "outputId": "578142d7-0ed0-4ae0-f117-8bc3ba7b9ac5",
        "colab": {
          "base_uri": "https://localhost:8080/",
          "height": 136
        }
      },
      "source": [
        "sp_subset.corr()"
      ],
      "execution_count": 0,
      "outputs": [
        {
          "output_type": "execute_result",
          "data": {
            "text/html": [
              "<div>\n",
              "<style scoped>\n",
              "    .dataframe tbody tr th:only-of-type {\n",
              "        vertical-align: middle;\n",
              "    }\n",
              "\n",
              "    .dataframe tbody tr th {\n",
              "        vertical-align: top;\n",
              "    }\n",
              "\n",
              "    .dataframe thead th {\n",
              "        text-align: right;\n",
              "    }\n",
              "</style>\n",
              "<table border=\"1\" class=\"dataframe\">\n",
              "  <thead>\n",
              "    <tr style=\"text-align: right;\">\n",
              "      <th></th>\n",
              "      <th>math score</th>\n",
              "      <th>reading score</th>\n",
              "      <th>writing score</th>\n",
              "    </tr>\n",
              "  </thead>\n",
              "  <tbody>\n",
              "    <tr>\n",
              "      <th>math score</th>\n",
              "      <td>1.000000</td>\n",
              "      <td>0.817580</td>\n",
              "      <td>0.802642</td>\n",
              "    </tr>\n",
              "    <tr>\n",
              "      <th>reading score</th>\n",
              "      <td>0.817580</td>\n",
              "      <td>1.000000</td>\n",
              "      <td>0.954598</td>\n",
              "    </tr>\n",
              "    <tr>\n",
              "      <th>writing score</th>\n",
              "      <td>0.802642</td>\n",
              "      <td>0.954598</td>\n",
              "      <td>1.000000</td>\n",
              "    </tr>\n",
              "  </tbody>\n",
              "</table>\n",
              "</div>"
            ],
            "text/plain": [
              "               math score  reading score  writing score\n",
              "math score       1.000000       0.817580       0.802642\n",
              "reading score    0.817580       1.000000       0.954598\n",
              "writing score    0.802642       0.954598       1.000000"
            ]
          },
          "metadata": {
            "tags": []
          },
          "execution_count": 22
        }
      ]
    },
    {
      "cell_type": "markdown",
      "metadata": {
        "id": "ShkKnXZz5Qe7",
        "colab_type": "text"
      },
      "source": [
        "reading + writing  highest correlation"
      ]
    }
  ]
}