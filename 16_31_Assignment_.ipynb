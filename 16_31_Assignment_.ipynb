{
  "nbformat": 4,
  "nbformat_minor": 0,
  "metadata": {
    "colab": {
      "name": "16.31 Assignment .ipynb",
      "provenance": [],
      "collapsed_sections": [],
      "machine_shape": "hm",
      "authorship_tag": "ABX9TyM9dg0GK509BS/xAQUiw4iO",
      "include_colab_link": true
    },
    "kernelspec": {
      "name": "python3",
      "display_name": "Python 3"
    }
  },
  "cells": [
    {
      "cell_type": "markdown",
      "metadata": {
        "id": "view-in-github",
        "colab_type": "text"
      },
      "source": [
        "<a href=\"https://colab.research.google.com/github/AlexBB999/Classwork/blob/master/16_31_Assignment_.ipynb\" target=\"_parent\"><img src=\"https://colab.research.google.com/assets/colab-badge.svg\" alt=\"Open In Colab\"/></a>"
      ]
    },
    {
      "cell_type": "markdown",
      "metadata": {
        "id": "_D49z7z_HBVJ",
        "colab_type": "text"
      },
      "source": [
        "**Assignments**\n",
        "\n",
        "To close out this checkpoint, you'll do two assignments. Both require you to create Jupyter notebooks. Please submit links to your notebooks below\n",
        "\n",
        "#**Predicting temperature**\n",
        "\n",
        "In this exercise, you'll work with historical temperature data from the Szeged, Hungary area. The dataset you'll use is a Postgres database version of this dataset from Kaggle. To complete this assignment, submit a Jupyter notebook containing your solutions to the following tasks:\n",
        "\n",
        "First, load the dataset from the weatherinszeged table from Thinkful's database.\n",
        "\n",
        "Build a regression model where the target variable is temperature.\n",
        "\n",
        "As explanatory variables, use humidity, windspeed, windbearing, and pressure. \n",
        "\n",
        "Estimate the model using OLS.\n",
        "\n",
        "Now, check if your model meets the Gauss-Markov Conditions above. If some of the assumptions are not met, discuss the implications of the violations for the correctness of your model.\n",
        "\n",
        "Here are the credentials you can use to connect to the database:\n",
        "\n",
        "postgres_user = 'dsbc_student'\n",
        "\n",
        "postgres_pw = '7*.8G9QH21'\n",
        "\n",
        "postgres_host = '142.93.121.174'\n",
        "\n",
        "postgres_port = '5432'\n",
        "\n",
        "postgres_db = 'weatherinszeged'\n",
        "\n",
        "As in earlier assignments, be sure to close the database connection after initially pulling in your data."
      ]
    },
    {
      "cell_type": "code",
      "metadata": {
        "id": "8go2P3OpHaL5",
        "colab_type": "code",
        "colab": {}
      },
      "source": [
        "import matplotlib.pyplot as plt\n",
        "import numpy as np\n",
        "import pandas as pd\n",
        "from sklearn import linear_model\n",
        "import statsmodels.formula.api as smf\n",
        "from sqlalchemy import create_engine"
      ],
      "execution_count": 0,
      "outputs": []
    },
    {
      "cell_type": "code",
      "metadata": {
        "id": "9pjK5uXOInWc",
        "colab_type": "code",
        "colab": {}
      },
      "source": [
        "# Display preferences.\n",
        "%matplotlib inline\n",
        "pd.options.display.float_format = '{:.3f}'.format\n",
        "\n",
        "import warnings\n",
        "warnings.filterwarnings(action=\"ignore\")"
      ],
      "execution_count": 0,
      "outputs": []
    },
    {
      "cell_type": "code",
      "metadata": {
        "id": "CifvHVQ4IsP1",
        "colab_type": "code",
        "colab": {}
      },
      "source": [
        "postgres_user = 'dsbc_student'\n",
        "postgres_pw = '7*.8G9QH21'\n",
        "postgres_host = '142.93.121.174'\n",
        "postgres_port = '5432'\n",
        "postgres_db = 'weatherinszeged'\n",
        "\n",
        "engine = create_engine('postgresql://{}:{}@{}:{}/{}'.format(\n",
        "    postgres_user, postgres_pw, postgres_host, postgres_port, postgres_db))\n",
        "\n",
        "w= pd.read_sql_query('select * from weatherinszeged',con=engine)"
      ],
      "execution_count": 0,
      "outputs": []
    },
    {
      "cell_type": "code",
      "metadata": {
        "id": "maiHuZE4JBiE",
        "colab_type": "code",
        "outputId": "45f08a03-4b74-47ca-e034-e5d65f3c1592",
        "colab": {
          "base_uri": "https://localhost:8080/",
          "height": 195
        }
      },
      "source": [
        "w.head()"
      ],
      "execution_count": 0,
      "outputs": [
        {
          "output_type": "execute_result",
          "data": {
            "text/html": [
              "<div>\n",
              "<style scoped>\n",
              "    .dataframe tbody tr th:only-of-type {\n",
              "        vertical-align: middle;\n",
              "    }\n",
              "\n",
              "    .dataframe tbody tr th {\n",
              "        vertical-align: top;\n",
              "    }\n",
              "\n",
              "    .dataframe thead th {\n",
              "        text-align: right;\n",
              "    }\n",
              "</style>\n",
              "<table border=\"1\" class=\"dataframe\">\n",
              "  <thead>\n",
              "    <tr style=\"text-align: right;\">\n",
              "      <th></th>\n",
              "      <th>date</th>\n",
              "      <th>summary</th>\n",
              "      <th>preciptype</th>\n",
              "      <th>temperature</th>\n",
              "      <th>apparenttemperature</th>\n",
              "      <th>humidity</th>\n",
              "      <th>windspeed</th>\n",
              "      <th>windbearing</th>\n",
              "      <th>visibility</th>\n",
              "      <th>loudcover</th>\n",
              "      <th>pressure</th>\n",
              "      <th>dailysummary</th>\n",
              "    </tr>\n",
              "  </thead>\n",
              "  <tbody>\n",
              "    <tr>\n",
              "      <th>0</th>\n",
              "      <td>2006-03-31 22:00:00+00:00</td>\n",
              "      <td>Partly Cloudy</td>\n",
              "      <td>rain</td>\n",
              "      <td>9.472</td>\n",
              "      <td>7.389</td>\n",
              "      <td>0.890</td>\n",
              "      <td>14.120</td>\n",
              "      <td>251.000</td>\n",
              "      <td>15.826</td>\n",
              "      <td>0.000</td>\n",
              "      <td>1015.130</td>\n",
              "      <td>Partly cloudy throughout the day.</td>\n",
              "    </tr>\n",
              "    <tr>\n",
              "      <th>1</th>\n",
              "      <td>2006-03-31 23:00:00+00:00</td>\n",
              "      <td>Partly Cloudy</td>\n",
              "      <td>rain</td>\n",
              "      <td>9.356</td>\n",
              "      <td>7.228</td>\n",
              "      <td>0.860</td>\n",
              "      <td>14.265</td>\n",
              "      <td>259.000</td>\n",
              "      <td>15.826</td>\n",
              "      <td>0.000</td>\n",
              "      <td>1015.630</td>\n",
              "      <td>Partly cloudy throughout the day.</td>\n",
              "    </tr>\n",
              "    <tr>\n",
              "      <th>2</th>\n",
              "      <td>2006-04-01 00:00:00+00:00</td>\n",
              "      <td>Mostly Cloudy</td>\n",
              "      <td>rain</td>\n",
              "      <td>9.378</td>\n",
              "      <td>9.378</td>\n",
              "      <td>0.890</td>\n",
              "      <td>3.928</td>\n",
              "      <td>204.000</td>\n",
              "      <td>14.957</td>\n",
              "      <td>0.000</td>\n",
              "      <td>1015.940</td>\n",
              "      <td>Partly cloudy throughout the day.</td>\n",
              "    </tr>\n",
              "    <tr>\n",
              "      <th>3</th>\n",
              "      <td>2006-04-01 01:00:00+00:00</td>\n",
              "      <td>Partly Cloudy</td>\n",
              "      <td>rain</td>\n",
              "      <td>8.289</td>\n",
              "      <td>5.944</td>\n",
              "      <td>0.830</td>\n",
              "      <td>14.104</td>\n",
              "      <td>269.000</td>\n",
              "      <td>15.826</td>\n",
              "      <td>0.000</td>\n",
              "      <td>1016.410</td>\n",
              "      <td>Partly cloudy throughout the day.</td>\n",
              "    </tr>\n",
              "    <tr>\n",
              "      <th>4</th>\n",
              "      <td>2006-04-01 02:00:00+00:00</td>\n",
              "      <td>Mostly Cloudy</td>\n",
              "      <td>rain</td>\n",
              "      <td>8.756</td>\n",
              "      <td>6.978</td>\n",
              "      <td>0.830</td>\n",
              "      <td>11.045</td>\n",
              "      <td>259.000</td>\n",
              "      <td>15.826</td>\n",
              "      <td>0.000</td>\n",
              "      <td>1016.510</td>\n",
              "      <td>Partly cloudy throughout the day.</td>\n",
              "    </tr>\n",
              "  </tbody>\n",
              "</table>\n",
              "</div>"
            ],
            "text/plain": [
              "                       date  ...                       dailysummary\n",
              "0 2006-03-31 22:00:00+00:00  ...  Partly cloudy throughout the day.\n",
              "1 2006-03-31 23:00:00+00:00  ...  Partly cloudy throughout the day.\n",
              "2 2006-04-01 00:00:00+00:00  ...  Partly cloudy throughout the day.\n",
              "3 2006-04-01 01:00:00+00:00  ...  Partly cloudy throughout the day.\n",
              "4 2006-04-01 02:00:00+00:00  ...  Partly cloudy throughout the day.\n",
              "\n",
              "[5 rows x 12 columns]"
            ]
          },
          "metadata": {
            "tags": []
          },
          "execution_count": 4
        }
      ]
    },
    {
      "cell_type": "code",
      "metadata": {
        "id": "7MVN7uvoJGNq",
        "colab_type": "code",
        "outputId": "32b7a963-09bc-4306-80f0-65e5e20e0631",
        "colab": {
          "base_uri": "https://localhost:8080/",
          "height": 302
        }
      },
      "source": [
        "w.info()"
      ],
      "execution_count": 0,
      "outputs": [
        {
          "output_type": "stream",
          "text": [
            "<class 'pandas.core.frame.DataFrame'>\n",
            "RangeIndex: 96453 entries, 0 to 96452\n",
            "Data columns (total 12 columns):\n",
            "date                   96453 non-null datetime64[ns, UTC]\n",
            "summary                96453 non-null object\n",
            "preciptype             96453 non-null object\n",
            "temperature            96453 non-null float64\n",
            "apparenttemperature    96453 non-null float64\n",
            "humidity               96453 non-null float64\n",
            "windspeed              96453 non-null float64\n",
            "windbearing            96453 non-null float64\n",
            "visibility             96453 non-null float64\n",
            "loudcover              96453 non-null float64\n",
            "pressure               96453 non-null float64\n",
            "dailysummary           96453 non-null object\n",
            "dtypes: datetime64[ns, UTC](1), float64(8), object(3)\n",
            "memory usage: 8.8+ MB\n"
          ],
          "name": "stdout"
        }
      ]
    },
    {
      "cell_type": "code",
      "metadata": {
        "id": "PIWL23FgJM12",
        "colab_type": "code",
        "outputId": "7058fe8a-f887-45b2-e96c-b13dac76c1af",
        "colab": {
          "base_uri": "https://localhost:8080/",
          "height": 235
        }
      },
      "source": [
        "w.isnull().sum()"
      ],
      "execution_count": 0,
      "outputs": [
        {
          "output_type": "execute_result",
          "data": {
            "text/plain": [
              "date                   0\n",
              "summary                0\n",
              "preciptype             0\n",
              "temperature            0\n",
              "apparenttemperature    0\n",
              "humidity               0\n",
              "windspeed              0\n",
              "windbearing            0\n",
              "visibility             0\n",
              "loudcover              0\n",
              "pressure               0\n",
              "dailysummary           0\n",
              "dtype: int64"
            ]
          },
          "metadata": {
            "tags": []
          },
          "execution_count": 6
        }
      ]
    },
    {
      "cell_type": "code",
      "metadata": {
        "id": "98FR-YEhJUyv",
        "colab_type": "code",
        "colab": {}
      },
      "source": [
        "Y=w['temperature']"
      ],
      "execution_count": 0,
      "outputs": []
    },
    {
      "cell_type": "code",
      "metadata": {
        "id": "7xKZdGjiZxXN",
        "colab_type": "code",
        "colab": {}
      },
      "source": [
        "y=w['temperature']"
      ],
      "execution_count": 0,
      "outputs": []
    },
    {
      "cell_type": "code",
      "metadata": {
        "id": "EJTA0r4IJX2n",
        "colab_type": "code",
        "colab": {}
      },
      "source": [
        "X=w[['humidity','windspeed','windbearing','pressure']]"
      ],
      "execution_count": 0,
      "outputs": []
    },
    {
      "cell_type": "code",
      "metadata": {
        "id": "8n9O6cqLaLFC",
        "colab_type": "code",
        "colab": {}
      },
      "source": [
        "x=w[['humidity','windspeed','windbearing','pressure']]"
      ],
      "execution_count": 0,
      "outputs": []
    },
    {
      "cell_type": "code",
      "metadata": {
        "id": "gkbo-qIaJ3TY",
        "colab_type": "code",
        "outputId": "63f21e9a-bdce-49db-cd38-685bea0ab520",
        "colab": {
          "base_uri": "https://localhost:8080/",
          "height": 195
        }
      },
      "source": [
        "X.head()"
      ],
      "execution_count": 0,
      "outputs": [
        {
          "output_type": "execute_result",
          "data": {
            "text/html": [
              "<div>\n",
              "<style scoped>\n",
              "    .dataframe tbody tr th:only-of-type {\n",
              "        vertical-align: middle;\n",
              "    }\n",
              "\n",
              "    .dataframe tbody tr th {\n",
              "        vertical-align: top;\n",
              "    }\n",
              "\n",
              "    .dataframe thead th {\n",
              "        text-align: right;\n",
              "    }\n",
              "</style>\n",
              "<table border=\"1\" class=\"dataframe\">\n",
              "  <thead>\n",
              "    <tr style=\"text-align: right;\">\n",
              "      <th></th>\n",
              "      <th>humidity</th>\n",
              "      <th>windspeed</th>\n",
              "      <th>windbearing</th>\n",
              "      <th>pressure</th>\n",
              "    </tr>\n",
              "  </thead>\n",
              "  <tbody>\n",
              "    <tr>\n",
              "      <th>0</th>\n",
              "      <td>0.890</td>\n",
              "      <td>14.120</td>\n",
              "      <td>251.000</td>\n",
              "      <td>1015.130</td>\n",
              "    </tr>\n",
              "    <tr>\n",
              "      <th>1</th>\n",
              "      <td>0.860</td>\n",
              "      <td>14.265</td>\n",
              "      <td>259.000</td>\n",
              "      <td>1015.630</td>\n",
              "    </tr>\n",
              "    <tr>\n",
              "      <th>2</th>\n",
              "      <td>0.890</td>\n",
              "      <td>3.928</td>\n",
              "      <td>204.000</td>\n",
              "      <td>1015.940</td>\n",
              "    </tr>\n",
              "    <tr>\n",
              "      <th>3</th>\n",
              "      <td>0.830</td>\n",
              "      <td>14.104</td>\n",
              "      <td>269.000</td>\n",
              "      <td>1016.410</td>\n",
              "    </tr>\n",
              "    <tr>\n",
              "      <th>4</th>\n",
              "      <td>0.830</td>\n",
              "      <td>11.045</td>\n",
              "      <td>259.000</td>\n",
              "      <td>1016.510</td>\n",
              "    </tr>\n",
              "  </tbody>\n",
              "</table>\n",
              "</div>"
            ],
            "text/plain": [
              "   humidity  windspeed  windbearing  pressure\n",
              "0     0.890     14.120      251.000  1015.130\n",
              "1     0.860     14.265      259.000  1015.630\n",
              "2     0.890      3.928      204.000  1015.940\n",
              "3     0.830     14.104      269.000  1016.410\n",
              "4     0.830     11.045      259.000  1016.510"
            ]
          },
          "metadata": {
            "tags": []
          },
          "execution_count": 11
        }
      ]
    },
    {
      "cell_type": "code",
      "metadata": {
        "id": "mROQSM-zNBiw",
        "colab_type": "code",
        "outputId": "c6cabb48-c4bb-4e64-ff31-872410364875",
        "colab": {
          "base_uri": "https://localhost:8080/",
          "height": 225
        }
      },
      "source": [
        "plt.figure(figsize=(15,3))\n",
        "#plt.subplots_adjust(right=1,top=1,bottom=.2,wspace=2)\n",
        "\n",
        "plt.subplot(1,4,1)\n",
        "plt.boxplot(w['humidity'])\n",
        "plt.title(\"Humidity\")\n",
        "\n",
        "plt.subplot(1,4,2)\n",
        "plt.boxplot(w['windspeed'])\n",
        "plt.title(\"Windspeed\")\n",
        "\n",
        "plt.subplot(1,4,3)\n",
        "plt.boxplot(w['windbearing'])\n",
        "plt.title(\"Windbearing\")\n",
        "\n",
        "plt.subplot(1,4,4)\n",
        "plt.boxplot(w['pressure'])\n",
        "plt.title(\"Pressure\")\n",
        "\n",
        "\n",
        "plt.tight_layout()\n",
        "plt.show()\n"
      ],
      "execution_count": 0,
      "outputs": [
        {
          "output_type": "display_data",
          "data": {
            "image/png": "[encoded data removed]",
            "text/plain": [
              "<Figure size 1080x216 with 4 Axes>"
            ]
          },
          "metadata": {
            "tags": []
          }
        }
      ]
    },
    {
      "cell_type": "markdown",
      "metadata": {
        "id": "niGGn1c7T_Jq",
        "colab_type": "text"
      },
      "source": [
        "**WINSORIZE**"
      ]
    },
    {
      "cell_type": "code",
      "metadata": {
        "id": "SMxK0CqmMkSE",
        "colab_type": "code",
        "colab": {}
      },
      "source": [
        "from scipy.stats.mstats import winsorize"
      ],
      "execution_count": 0,
      "outputs": []
    },
    {
      "cell_type": "code",
      "metadata": {
        "id": "rG5NfbZhMpPo",
        "colab_type": "code",
        "colab": {}
      },
      "source": [
        "w['humidity'] = winsorize(w['humidity'],(.1,.05))\n",
        "w['windspeed'] = winsorize(w['windspeed'],(.0,.05))\n",
        "w['windbearing'] = winsorize(w['windbearing'],(.0,.05))\n",
        "w['pressure'] = winsorize(w['pressure'],(.1,.07))\n"
      ],
      "execution_count": 0,
      "outputs": []
    },
    {
      "cell_type": "code",
      "metadata": {
        "id": "hLx_CO2vT6u4",
        "colab_type": "code",
        "outputId": "dfa77035-eb33-4d1f-e1ae-7d4634fc03cb",
        "colab": {
          "base_uri": "https://localhost:8080/",
          "height": 225
        }
      },
      "source": [
        "plt.figure(figsize=(15,3))\n",
        "#plt.subplots_adjust(right=1,top=1,bottom=.2,wspace=2)\n",
        "\n",
        "plt.subplot(1,4,1)\n",
        "plt.boxplot(w['humidity'])\n",
        "plt.title(\"Humidity\")\n",
        "\n",
        "plt.subplot(1,4,2)\n",
        "plt.boxplot(w['windspeed'])\n",
        "plt.title(\"Windspeed\")\n",
        "\n",
        "plt.subplot(1,4,3)\n",
        "plt.boxplot(w['windbearing'])\n",
        "plt.title(\"Windbearing\")\n",
        "\n",
        "plt.subplot(1,4,4)\n",
        "plt.boxplot(w['pressure'])\n",
        "plt.title(\"Pressure\")\n",
        "\n",
        "\n",
        "plt.tight_layout()\n",
        "plt.show()\n"
      ],
      "execution_count": 0,
      "outputs": [
        {
          "output_type": "display_data",
          "data": {
            "image/png": "[encoded data removed]",
            "text/plain": [
              "<Figure size 1080x216 with 4 Axes>"
            ]
          },
          "metadata": {
            "tags": []
          }
        }
      ]
    },
    {
      "cell_type": "code",
      "metadata": {
        "id": "le7TntorLpBR",
        "colab_type": "code",
        "outputId": "e2a6b9ea-9764-47cf-e239-3a01a54c4d07",
        "colab": {
          "base_uri": "https://localhost:8080/",
          "height": 519
        }
      },
      "source": [
        "import statsmodels.api as sm\n",
        "\n",
        "# We need to manually add a constant\n",
        "# in statsmodels' sm\n",
        "X = sm.add_constant(X)\n",
        "\n",
        "results = sm.OLS(Y, X).fit()\n",
        "\n",
        "results.summary()"
      ],
      "execution_count": 0,
      "outputs": [
        {
          "output_type": "execute_result",
          "data": {
            "text/html": [
              "<table class=\"simpletable\">\n",
              "<caption>OLS Regression Results</caption>\n",
              "<tr>\n",
              "  <th>Dep. Variable:</th>       <td>temperature</td>   <th>  R-squared:         </th>  <td>   0.421</td>  \n",
              "</tr>\n",
              "<tr>\n",
              "  <th>Model:</th>                   <td>OLS</td>       <th>  Adj. R-squared:    </th>  <td>   0.421</td>  \n",
              "</tr>\n",
              "<tr>\n",
              "  <th>Method:</th>             <td>Least Squares</td>  <th>  F-statistic:       </th>  <td>1.750e+04</td> \n",
              "</tr>\n",
              "<tr>\n",
              "  <th>Date:</th>             <td>Mon, 10 Feb 2020</td> <th>  Prob (F-statistic):</th>   <td>  0.00</td>   \n",
              "</tr>\n",
              "<tr>\n",
              "  <th>Time:</th>                 <td>06:13:03</td>     <th>  Log-Likelihood:    </th> <td>-3.2821e+05</td>\n",
              "</tr>\n",
              "<tr>\n",
              "  <th>No. Observations:</th>      <td> 96453</td>      <th>  AIC:               </th>  <td>6.564e+05</td> \n",
              "</tr>\n",
              "<tr>\n",
              "  <th>Df Residuals:</th>          <td> 96448</td>      <th>  BIC:               </th>  <td>6.565e+05</td> \n",
              "</tr>\n",
              "<tr>\n",
              "  <th>Df Model:</th>              <td>     4</td>      <th>                     </th>      <td> </td>     \n",
              "</tr>\n",
              "<tr>\n",
              "  <th>Covariance Type:</th>      <td>nonrobust</td>    <th>                     </th>      <td> </td>     \n",
              "</tr>\n",
              "</table>\n",
              "<table class=\"simpletable\">\n",
              "<tr>\n",
              "       <td></td>          <th>coef</th>     <th>std err</th>      <th>t</th>      <th>P>|t|</th>  <th>[0.025</th>    <th>0.975]</th>  \n",
              "</tr>\n",
              "<tr>\n",
              "  <th>const</th>       <td>   37.9264</td> <td>    0.233</td> <td>  162.709</td> <td> 0.000</td> <td>   37.470</td> <td>   38.383</td>\n",
              "</tr>\n",
              "<tr>\n",
              "  <th>humidity</th>    <td>  -32.4962</td> <td>    0.123</td> <td> -264.288</td> <td> 0.000</td> <td>  -32.737</td> <td>  -32.255</td>\n",
              "</tr>\n",
              "<tr>\n",
              "  <th>windspeed</th>   <td>   -0.2014</td> <td>    0.003</td> <td>  -57.557</td> <td> 0.000</td> <td>   -0.208</td> <td>   -0.195</td>\n",
              "</tr>\n",
              "<tr>\n",
              "  <th>windbearing</th> <td>    0.0040</td> <td>    0.000</td> <td>   18.463</td> <td> 0.000</td> <td>    0.004</td> <td>    0.004</td>\n",
              "</tr>\n",
              "<tr>\n",
              "  <th>pressure</th>    <td>   -0.0007</td> <td>    0.000</td> <td>   -3.452</td> <td> 0.001</td> <td>   -0.001</td> <td>   -0.000</td>\n",
              "</tr>\n",
              "</table>\n",
              "<table class=\"simpletable\">\n",
              "<tr>\n",
              "  <th>Omnibus:</th>       <td>3375.432</td> <th>  Durbin-Watson:     </th> <td>   0.059</td>\n",
              "</tr>\n",
              "<tr>\n",
              "  <th>Prob(Omnibus):</th>  <td> 0.000</td>  <th>  Jarque-Bera (JB):  </th> <td>3793.297</td>\n",
              "</tr>\n",
              "<tr>\n",
              "  <th>Skew:</th>           <td>-0.455</td>  <th>  Prob(JB):          </th> <td>    0.00</td>\n",
              "</tr>\n",
              "<tr>\n",
              "  <th>Kurtosis:</th>       <td> 3.339</td>  <th>  Cond. No.          </th> <td>1.06e+04</td>\n",
              "</tr>\n",
              "</table><br/><br/>Warnings:<br/>[1] Standard Errors assume that the covariance matrix of the errors is correctly specified.<br/>[2] The condition number is large, 1.06e+04. This might indicate that there are<br/>strong multicollinearity or other numerical problems."
            ],
            "text/plain": [
              "<class 'statsmodels.iolib.summary.Summary'>\n",
              "\"\"\"\n",
              "                            OLS Regression Results                            \n",
              "==============================================================================\n",
              "Dep. Variable:            temperature   R-squared:                       0.421\n",
              "Model:                            OLS   Adj. R-squared:                  0.421\n",
              "Method:                 Least Squares   F-statistic:                 1.750e+04\n",
              "Date:                Mon, 10 Feb 2020   Prob (F-statistic):               0.00\n",
              "Time:                        06:13:03   Log-Likelihood:            -3.2821e+05\n",
              "No. Observations:               96453   AIC:                         6.564e+05\n",
              "Df Residuals:                   96448   BIC:                         6.565e+05\n",
              "Df Model:                           4                                         \n",
              "Covariance Type:            nonrobust                                         \n",
              "===============================================================================\n",
              "                  coef    std err          t      P>|t|      [0.025      0.975]\n",
              "-------------------------------------------------------------------------------\n",
              "const          37.9264      0.233    162.709      0.000      37.470      38.383\n",
              "humidity      -32.4962      0.123   -264.288      0.000     -32.737     -32.255\n",
              "windspeed      -0.2014      0.003    -57.557      0.000      -0.208      -0.195\n",
              "windbearing     0.0040      0.000     18.463      0.000       0.004       0.004\n",
              "pressure       -0.0007      0.000     -3.452      0.001      -0.001      -0.000\n",
              "==============================================================================\n",
              "Omnibus:                     3375.432   Durbin-Watson:                   0.059\n",
              "Prob(Omnibus):                  0.000   Jarque-Bera (JB):             3793.297\n",
              "Skew:                          -0.455   Prob(JB):                         0.00\n",
              "Kurtosis:                       3.339   Cond. No.                     1.06e+04\n",
              "==============================================================================\n",
              "\n",
              "Warnings:\n",
              "[1] Standard Errors assume that the covariance matrix of the errors is correctly specified.\n",
              "[2] The condition number is large, 1.06e+04. This might indicate that there are\n",
              "strong multicollinearity or other numerical problems.\n",
              "\"\"\""
            ]
          },
          "metadata": {
            "tags": []
          },
          "execution_count": 16
        }
      ]
    }
  ]
}