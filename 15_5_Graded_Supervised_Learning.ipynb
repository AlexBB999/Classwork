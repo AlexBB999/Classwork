{
  "nbformat": 4,
  "nbformat_minor": 0,
  "metadata": {
    "colab": {
      "name": "15.5 Graded-- Supervised Learning.ipynb",
      "provenance": [],
      "collapsed_sections": [],
      "authorship_tag": "ABX9TyNHk/uFzD5w/Mfu/4z0PR1J",
      "include_colab_link": true
    },
    "kernelspec": {
      "name": "python3",
      "display_name": "Python 3"
    }
  },
  "cells": [
    {
      "cell_type": "markdown",
      "metadata": {
        "id": "view-in-github",
        "colab_type": "text"
      },
      "source": [
        "<a href=\"https://colab.research.google.com/github/AlexBB999/Classwork/blob/master/15_5_Graded_Supervised_Learning.ipynb\" target=\"_parent\"><img src=\"https://colab.research.google.com/assets/colab-badge.svg\" alt=\"Open In Colab\"/></a>"
      ]
    },
    {
      "cell_type": "markdown",
      "metadata": {
        "id": "lOyML461qKLi",
        "colab_type": "text"
      },
      "source": [
        "Multiclass Classifiers\n",
        "In this assignment you will load a dataset and train two models to perform multiclass classification and compare the results of the models. The dataset is the digits dataset available from the sklearn's datasets library. This dataset contain 1797 samples of written digits. The goal is to correctly identify digits from 0 to 9."
      ]
    },
    {
      "cell_type": "markdown",
      "metadata": {
        "id": "I9dVBb0Zqfmf",
        "colab_type": "text"
      },
      "source": [
        "\n",
        "Load the data\n",
        "\n",
        "import the load_digits function from the sklearn.datasets library\n",
        "\n",
        "invoke load_digits with the return_X_y parameter set to true and store the returned dataset in variable X and y."
      ]
    },
    {
      "cell_type": "code",
      "metadata": {
        "id": "uVcliNjDq5Qr",
        "colab_type": "code",
        "colab": {}
      },
      "source": [
        "from sklearn.linear_model import LogisticRegression\n",
        "from sklearn.ensemble import RandomForestClassifier\n",
        "from sklearn.datasets import fetch_20newsgroups_vectorized\n",
        "from sklearn.model_selection import train_test_split\n",
        "from sklearn.datasets import load_digits\n",
        "from sklearn.metrics import  classification_report, confusion_matrix\n",
        "\n",
        "import matplotlib.pyplot as plt\n",
        "import pandas as pd\n",
        "import numpy as np\n",
        "import seaborn as sns"
      ],
      "execution_count": 0,
      "outputs": []
    },
    {
      "cell_type": "code",
      "metadata": {
        "id": "i63oXzW9qnE2",
        "colab_type": "code",
        "colab": {}
      },
      "source": [
        "from sklearn.datasets import load_digits\n",
        "X, y =load_digits(return_X_y=True)"
      ],
      "execution_count": 0,
      "outputs": []
    },
    {
      "cell_type": "markdown",
      "metadata": {
        "id": "82HNIcJMr_4l",
        "colab_type": "text"
      },
      "source": [
        "#**Exploratory Data Analysis**\n",
        "\n",
        "Perform a few exploratory steps including:\n",
        "\n",
        "Display the number of rows of data returned\n",
        "\n",
        "Display the number of features in the dataset\n",
        "\n",
        "Use Numpy's bincount to display how many samples belong to each class.\n",
        "\n",
        "Is this a balanced dataset?"
      ]
    },
    {
      "cell_type": "code",
      "metadata": {
        "id": "AzdopDUHs6Uv",
        "colab_type": "code",
        "colab": {
          "base_uri": "https://localhost:8080/",
          "height": 34
        },
        "outputId": "ee41fc85-643c-4435-a334-196ec56bff33"
      },
      "source": [
        "X.shape"
      ],
      "execution_count": 8,
      "outputs": [
        {
          "output_type": "execute_result",
          "data": {
            "text/plain": [
              "(1797, 64)"
            ]
          },
          "metadata": {
            "tags": []
          },
          "execution_count": 8
        }
      ]
    },
    {
      "cell_type": "code",
      "metadata": {
        "id": "OC88jI-nt3Og",
        "colab_type": "code",
        "colab": {
          "base_uri": "https://localhost:8080/",
          "height": 101
        },
        "outputId": "e0399562-6921-4976-80bd-0a4dfeba4ff3"
      },
      "source": [
        "X[0]"
      ],
      "execution_count": 12,
      "outputs": [
        {
          "output_type": "execute_result",
          "data": {
            "text/plain": [
              "array([ 0.,  0.,  5., 13.,  9.,  1.,  0.,  0.,  0.,  0., 13., 15., 10.,\n",
              "       15.,  5.,  0.,  0.,  3., 15.,  2.,  0., 11.,  8.,  0.,  0.,  4.,\n",
              "       12.,  0.,  0.,  8.,  8.,  0.,  0.,  5.,  8.,  0.,  0.,  9.,  8.,\n",
              "        0.,  0.,  4., 11.,  0.,  1., 12.,  7.,  0.,  0.,  2., 14.,  5.,\n",
              "       10., 12.,  0.,  0.,  0.,  0.,  6., 13., 10.,  0.,  0.,  0.])"
            ]
          },
          "metadata": {
            "tags": []
          },
          "execution_count": 12
        }
      ]
    },
    {
      "cell_type": "code",
      "metadata": {
        "id": "n9YD_IXIsqkD",
        "colab_type": "code",
        "colab": {
          "base_uri": "https://localhost:8080/",
          "height": 67
        },
        "outputId": "e321988c-8082-4202-cb9b-9197360a925f"
      },
      "source": [
        "\n",
        "print('The number of rows in the dataset is {:d}'.format(X.shape[0]))\n",
        "print('The number of features in the dataset is {:d}'.format(X.shape[1]))\n",
        "np.bincount(y)"
      ],
      "execution_count": 15,
      "outputs": [
        {
          "output_type": "stream",
          "text": [
            "The number of rows in the dataset is 1797\n",
            "The number of features in the dataset is 64\n"
          ],
          "name": "stdout"
        },
        {
          "output_type": "execute_result",
          "data": {
            "text/plain": [
              "array([178, 182, 177, 183, 181, 182, 181, 179, 174, 180])"
            ]
          },
          "metadata": {
            "tags": []
          },
          "execution_count": 15
        }
      ]
    },
    {
      "cell_type": "markdown",
      "metadata": {
        "id": "ioN8kg8-uoCw",
        "colab_type": "text"
      },
      "source": [
        "#**Prepare training and testing data**\n",
        "\n",
        "Use train_test_split to split the dataset into a training set and a test set. \n",
        "\n",
        "Set the proportion of test data to 20%. Set a random state value so that the results will be repeatable."
      ]
    },
    {
      "cell_type": "code",
      "metadata": {
        "id": "yA2q3ghUu-fL",
        "colab_type": "code",
        "colab": {}
      },
      "source": [
        "from sklearn.model_selection import train_test_split\n",
        "\n",
        "X_train, X_test, y_train, y_test = train_test_split(X,y,test_size=.2,random_state=44)"
      ],
      "execution_count": 0,
      "outputs": []
    },
    {
      "cell_type": "markdown",
      "metadata": {
        "id": "etvwOkHcw8NM",
        "colab_type": "text"
      },
      "source": [
        "#**Cross validation with Logistic Regression**\n",
        "\n",
        "In this step you will create a LogisticRegression classifier and use 5-fold cross validation to train the model.\n",
        "\n",
        "import LogisticRegression classifier from sklearn\n",
        "\n",
        "instantiate a LogisticRegression classifier with the 'lbfgs' solver and 'ovr' \n",
        "multiclass strategy. \n",
        "\n",
        "You may have to set the maximum number of iterations to 1000.\n",
        "\n",
        "perform cross validation on the model\n",
        "\n",
        "print the cross validation scores and the mean of the cross validation"
      ]
    },
    {
      "cell_type": "code",
      "metadata": {
        "id": "7Uxtky3LxQTE",
        "colab_type": "code",
        "colab": {
          "base_uri": "https://localhost:8080/",
          "height": 50
        },
        "outputId": "27cd3741-90da-45eb-ce29-298a08f73070"
      },
      "source": [
        "# imports here\n",
        "from sklearn.linear_model import LogisticRegression \n",
        "from sklearn.model_selection import cross_val_score\n",
        "\n",
        "lr_clf = LogisticRegression(solver='lbfgs',multi_class='ovr',max_iter=1000)\n",
        "lr_cv_scores = cross_val_score(lr_clf,X,y,cv=5)\n",
        "\n",
        "print('Accuracy scores for the 5 folds: ', lr_cv_scores)\n",
        "print('Mean cross validation score: {:.3f}'.format(np.mean(lr_cv_scores)))"
      ],
      "execution_count": 26,
      "outputs": [
        {
          "output_type": "stream",
          "text": [
            "Accuracy scores for the 5 folds:  [0.90833333 0.87777778 0.94428969 0.9637883  0.8913649 ]\n",
            "Mean cross validation score: 0.917\n"
          ],
          "name": "stdout"
        }
      ]
    },
    {
      "cell_type": "markdown",
      "metadata": {
        "id": "-AMDItZ-1gBY",
        "colab_type": "text"
      },
      "source": [
        "#**Cross validation with RandomForest**\n",
        "\n",
        "Perform the same steps as above but this time with a RandomForestClassifier."
      ]
    },
    {
      "cell_type": "code",
      "metadata": {
        "id": "frXnlfG_1tVC",
        "colab_type": "code",
        "colab": {
          "base_uri": "https://localhost:8080/",
          "height": 101
        },
        "outputId": "a114903e-9787-40c6-df46-965eb771a4e3"
      },
      "source": [
        "# imports here\n",
        "from sklearn.ensemble import RandomForestClassifier\n",
        "\n",
        "rf_clf =RandomForestClassifier(n_estimators=24)\n",
        "\n",
        "rf_cv_scores = cross_val_score(rf_clf, X, y, cv=5)\n",
        "\n",
        "print('Accuracy scores for the 5 folds: ', ___)\n",
        "print('Mean cross validation score: {:.3f}'.format(np.mean(rf_cv_scores)))"
      ],
      "execution_count": 28,
      "outputs": [
        {
          "output_type": "stream",
          "text": [
            "Accuracy scores for the 5 folds:  [ 0.  0.  5. 13.  9.  1.  0.  0.  0.  0. 13. 15. 10. 15.  5.  0.  0.  3.\n",
            " 15.  2.  0. 11.  8.  0.  0.  4. 12.  0.  0.  8.  8.  0.  0.  5.  8.  0.\n",
            "  0.  9.  8.  0.  0.  4. 11.  0.  1. 12.  7.  0.  0.  2. 14.  5. 10. 12.\n",
            "  0.  0.  0.  0.  6. 13. 10.  0.  0.  0.]\n",
            "Mean cross validation score: 0.922\n"
          ],
          "name": "stdout"
        }
      ]
    }
  ]
}