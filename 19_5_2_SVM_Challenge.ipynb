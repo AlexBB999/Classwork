{
  "nbformat": 4,
  "nbformat_minor": 0,
  "metadata": {
    "colab": {
      "name": " 19.5.2 SVM-Challenge.ipynb",
      "provenance": [],
      "collapsed_sections": [],
      "authorship_tag": "ABX9TyMJei1rqlh686VeUjkhT98u",
      "include_colab_link": true
    },
    "kernelspec": {
      "name": "python3",
      "display_name": "Python 3"
    }
  },
  "cells": [
    {
      "cell_type": "markdown",
      "metadata": {
        "id": "view-in-github",
        "colab_type": "text"
      },
      "source": [
        "<a href=\"https://colab.research.google.com/github/AlexBB999/Classwork/blob/master/19_5_2_SVM_Challenge.ipynb\" target=\"_parent\"><img src=\"https://colab.research.google.com/assets/colab-badge.svg\" alt=\"Open In Colab\"/></a>"
      ]
    },
    {
      "cell_type": "code",
      "metadata": {
        "id": "kOhRSdi84SgL",
        "colab_type": "code",
        "colab": {}
      },
      "source": [
        "import numpy as np\n",
        "import pandas as pd\n",
        "import scipy\n",
        "import matplotlib.pyplot as plt\n",
        "import seaborn as sns\n",
        "%matplotlib inline\n",
        "from sklearn.ensemble import RandomForestClassifier\n",
        "from sklearn.metrics import accuracy_score\n",
        "from sklearn.ensemble import RandomForestRegressor"
      ],
      "execution_count": 0,
      "outputs": []
    },
    {
      "cell_type": "markdown",
      "metadata": {
        "id": "59n-R1546jM7",
        "colab_type": "text"
      },
      "source": [
        " Specifically we'll use the epicurious dataset, which has a collection of recipes, key terms and ingredients, and their ratings.\n",
        "\n",
        "**What we want to see is if we can use the ingredient and keyword list to predict the rating**."
      ]
    },
    {
      "cell_type": "code",
      "metadata": {
        "id": "6ZDmdj2E4nh5",
        "colab_type": "code",
        "colab": {}
      },
      "source": [
        "raw_data0 = pd.read_csv('https://tf-assets-prod.s3.amazonaws.com/tf-curric/data-science/epi_r.csv')"
      ],
      "execution_count": 0,
      "outputs": []
    },
    {
      "cell_type": "code",
      "metadata": {
        "id": "MB5BCJ_U21vQ",
        "colab_type": "code",
        "colab": {}
      },
      "source": [
        "raw_data=raw_data0.copy()"
      ],
      "execution_count": 0,
      "outputs": []
    },
    {
      "cell_type": "code",
      "metadata": {
        "id": "0r-7PhXZzZx8",
        "colab_type": "code",
        "outputId": "6719b38c-be8c-4b1b-a77b-90bec029c348",
        "colab": {
          "base_uri": "https://localhost:8080/",
          "height": 597
        }
      },
      "source": [
        "raw_data.head()"
      ],
      "execution_count": 6,
      "outputs": [
        {
          "output_type": "execute_result",
          "data": {
            "text/html": [
              "<div>\n",
              "<style scoped>\n",
              "    .dataframe tbody tr th:only-of-type {\n",
              "        vertical-align: middle;\n",
              "    }\n",
              "\n",
              "    .dataframe tbody tr th {\n",
              "        vertical-align: top;\n",
              "    }\n",
              "\n",
              "    .dataframe thead th {\n",
              "        text-align: right;\n",
              "    }\n",
              "</style>\n",
              "<table border=\"1\" class=\"dataframe\">\n",
              "  <thead>\n",
              "    <tr style=\"text-align: right;\">\n",
              "      <th></th>\n",
              "      <th>title</th>\n",
              "      <th>rating</th>\n",
              "      <th>calories</th>\n",
              "      <th>protein</th>\n",
              "      <th>fat</th>\n",
              "      <th>sodium</th>\n",
              "      <th>#cakeweek</th>\n",
              "      <th>#wasteless</th>\n",
              "      <th>22-minute meals</th>\n",
              "      <th>3-ingredient recipes</th>\n",
              "      <th>30 days of groceries</th>\n",
              "      <th>advance prep required</th>\n",
              "      <th>alabama</th>\n",
              "      <th>alaska</th>\n",
              "      <th>alcoholic</th>\n",
              "      <th>almond</th>\n",
              "      <th>amaretto</th>\n",
              "      <th>anchovy</th>\n",
              "      <th>anise</th>\n",
              "      <th>anniversary</th>\n",
              "      <th>anthony bourdain</th>\n",
              "      <th>aperitif</th>\n",
              "      <th>appetizer</th>\n",
              "      <th>apple</th>\n",
              "      <th>apple juice</th>\n",
              "      <th>apricot</th>\n",
              "      <th>arizona</th>\n",
              "      <th>artichoke</th>\n",
              "      <th>arugula</th>\n",
              "      <th>asian pear</th>\n",
              "      <th>asparagus</th>\n",
              "      <th>aspen</th>\n",
              "      <th>atlanta</th>\n",
              "      <th>australia</th>\n",
              "      <th>avocado</th>\n",
              "      <th>back to school</th>\n",
              "      <th>backyard bbq</th>\n",
              "      <th>bacon</th>\n",
              "      <th>bake</th>\n",
              "      <th>banana</th>\n",
              "      <th>...</th>\n",
              "      <th>vegan</th>\n",
              "      <th>vegetable</th>\n",
              "      <th>vegetarian</th>\n",
              "      <th>venison</th>\n",
              "      <th>vermont</th>\n",
              "      <th>vermouth</th>\n",
              "      <th>vinegar</th>\n",
              "      <th>virginia</th>\n",
              "      <th>vodka</th>\n",
              "      <th>waffle</th>\n",
              "      <th>walnut</th>\n",
              "      <th>wasabi</th>\n",
              "      <th>washington</th>\n",
              "      <th>washington, d.c.</th>\n",
              "      <th>watercress</th>\n",
              "      <th>watermelon</th>\n",
              "      <th>wedding</th>\n",
              "      <th>weelicious</th>\n",
              "      <th>west virginia</th>\n",
              "      <th>westwood</th>\n",
              "      <th>wheat/gluten-free</th>\n",
              "      <th>whiskey</th>\n",
              "      <th>white wine</th>\n",
              "      <th>whole wheat</th>\n",
              "      <th>wild rice</th>\n",
              "      <th>windsor</th>\n",
              "      <th>wine</th>\n",
              "      <th>winter</th>\n",
              "      <th>wisconsin</th>\n",
              "      <th>wok</th>\n",
              "      <th>yellow squash</th>\n",
              "      <th>yogurt</th>\n",
              "      <th>yonkers</th>\n",
              "      <th>yuca</th>\n",
              "      <th>zucchini</th>\n",
              "      <th>cookbooks</th>\n",
              "      <th>leftovers</th>\n",
              "      <th>snack</th>\n",
              "      <th>snack week</th>\n",
              "      <th>turkey</th>\n",
              "    </tr>\n",
              "  </thead>\n",
              "  <tbody>\n",
              "    <tr>\n",
              "      <th>0</th>\n",
              "      <td>Lentil, Apple, and Turkey Wrap</td>\n",
              "      <td>2.500</td>\n",
              "      <td>426.0</td>\n",
              "      <td>30.0</td>\n",
              "      <td>7.0</td>\n",
              "      <td>559.0</td>\n",
              "      <td>0.0</td>\n",
              "      <td>0.0</td>\n",
              "      <td>0.0</td>\n",
              "      <td>0.0</td>\n",
              "      <td>0.0</td>\n",
              "      <td>0.0</td>\n",
              "      <td>0.0</td>\n",
              "      <td>0.0</td>\n",
              "      <td>0.0</td>\n",
              "      <td>0.0</td>\n",
              "      <td>0.0</td>\n",
              "      <td>0.0</td>\n",
              "      <td>0.0</td>\n",
              "      <td>0.0</td>\n",
              "      <td>0.0</td>\n",
              "      <td>0.0</td>\n",
              "      <td>0.0</td>\n",
              "      <td>1.0</td>\n",
              "      <td>0.0</td>\n",
              "      <td>0.0</td>\n",
              "      <td>0.0</td>\n",
              "      <td>0.0</td>\n",
              "      <td>0.0</td>\n",
              "      <td>0.0</td>\n",
              "      <td>0.0</td>\n",
              "      <td>0.0</td>\n",
              "      <td>0.0</td>\n",
              "      <td>0.0</td>\n",
              "      <td>0.0</td>\n",
              "      <td>0.0</td>\n",
              "      <td>0.0</td>\n",
              "      <td>0.0</td>\n",
              "      <td>0.0</td>\n",
              "      <td>0.0</td>\n",
              "      <td>...</td>\n",
              "      <td>0.0</td>\n",
              "      <td>1.0</td>\n",
              "      <td>0.0</td>\n",
              "      <td>0.0</td>\n",
              "      <td>0.0</td>\n",
              "      <td>0.0</td>\n",
              "      <td>0.0</td>\n",
              "      <td>0.0</td>\n",
              "      <td>0.0</td>\n",
              "      <td>0.0</td>\n",
              "      <td>0.0</td>\n",
              "      <td>0.0</td>\n",
              "      <td>0.0</td>\n",
              "      <td>0.0</td>\n",
              "      <td>0.0</td>\n",
              "      <td>0.0</td>\n",
              "      <td>0.0</td>\n",
              "      <td>0.0</td>\n",
              "      <td>0.0</td>\n",
              "      <td>0.0</td>\n",
              "      <td>0.0</td>\n",
              "      <td>0.0</td>\n",
              "      <td>0.0</td>\n",
              "      <td>0.0</td>\n",
              "      <td>0.0</td>\n",
              "      <td>0.0</td>\n",
              "      <td>0.0</td>\n",
              "      <td>0.0</td>\n",
              "      <td>0.0</td>\n",
              "      <td>0.0</td>\n",
              "      <td>0.0</td>\n",
              "      <td>0.0</td>\n",
              "      <td>0.0</td>\n",
              "      <td>0.0</td>\n",
              "      <td>0.0</td>\n",
              "      <td>0.0</td>\n",
              "      <td>0.0</td>\n",
              "      <td>0.0</td>\n",
              "      <td>0.0</td>\n",
              "      <td>1.0</td>\n",
              "    </tr>\n",
              "    <tr>\n",
              "      <th>1</th>\n",
              "      <td>Boudin Blanc Terrine with Red Onion Confit</td>\n",
              "      <td>4.375</td>\n",
              "      <td>403.0</td>\n",
              "      <td>18.0</td>\n",
              "      <td>23.0</td>\n",
              "      <td>1439.0</td>\n",
              "      <td>0.0</td>\n",
              "      <td>0.0</td>\n",
              "      <td>0.0</td>\n",
              "      <td>0.0</td>\n",
              "      <td>0.0</td>\n",
              "      <td>0.0</td>\n",
              "      <td>0.0</td>\n",
              "      <td>0.0</td>\n",
              "      <td>0.0</td>\n",
              "      <td>0.0</td>\n",
              "      <td>0.0</td>\n",
              "      <td>0.0</td>\n",
              "      <td>0.0</td>\n",
              "      <td>0.0</td>\n",
              "      <td>0.0</td>\n",
              "      <td>0.0</td>\n",
              "      <td>0.0</td>\n",
              "      <td>0.0</td>\n",
              "      <td>0.0</td>\n",
              "      <td>0.0</td>\n",
              "      <td>0.0</td>\n",
              "      <td>0.0</td>\n",
              "      <td>0.0</td>\n",
              "      <td>0.0</td>\n",
              "      <td>0.0</td>\n",
              "      <td>0.0</td>\n",
              "      <td>0.0</td>\n",
              "      <td>0.0</td>\n",
              "      <td>0.0</td>\n",
              "      <td>0.0</td>\n",
              "      <td>0.0</td>\n",
              "      <td>0.0</td>\n",
              "      <td>1.0</td>\n",
              "      <td>0.0</td>\n",
              "      <td>...</td>\n",
              "      <td>0.0</td>\n",
              "      <td>0.0</td>\n",
              "      <td>0.0</td>\n",
              "      <td>0.0</td>\n",
              "      <td>0.0</td>\n",
              "      <td>0.0</td>\n",
              "      <td>0.0</td>\n",
              "      <td>0.0</td>\n",
              "      <td>0.0</td>\n",
              "      <td>0.0</td>\n",
              "      <td>0.0</td>\n",
              "      <td>0.0</td>\n",
              "      <td>0.0</td>\n",
              "      <td>0.0</td>\n",
              "      <td>0.0</td>\n",
              "      <td>0.0</td>\n",
              "      <td>0.0</td>\n",
              "      <td>0.0</td>\n",
              "      <td>0.0</td>\n",
              "      <td>0.0</td>\n",
              "      <td>0.0</td>\n",
              "      <td>0.0</td>\n",
              "      <td>0.0</td>\n",
              "      <td>0.0</td>\n",
              "      <td>0.0</td>\n",
              "      <td>0.0</td>\n",
              "      <td>0.0</td>\n",
              "      <td>1.0</td>\n",
              "      <td>0.0</td>\n",
              "      <td>0.0</td>\n",
              "      <td>0.0</td>\n",
              "      <td>0.0</td>\n",
              "      <td>0.0</td>\n",
              "      <td>0.0</td>\n",
              "      <td>0.0</td>\n",
              "      <td>0.0</td>\n",
              "      <td>0.0</td>\n",
              "      <td>0.0</td>\n",
              "      <td>0.0</td>\n",
              "      <td>0.0</td>\n",
              "    </tr>\n",
              "    <tr>\n",
              "      <th>2</th>\n",
              "      <td>Potato and Fennel Soup Hodge</td>\n",
              "      <td>3.750</td>\n",
              "      <td>165.0</td>\n",
              "      <td>6.0</td>\n",
              "      <td>7.0</td>\n",
              "      <td>165.0</td>\n",
              "      <td>0.0</td>\n",
              "      <td>0.0</td>\n",
              "      <td>0.0</td>\n",
              "      <td>0.0</td>\n",
              "      <td>0.0</td>\n",
              "      <td>0.0</td>\n",
              "      <td>0.0</td>\n",
              "      <td>0.0</td>\n",
              "      <td>0.0</td>\n",
              "      <td>0.0</td>\n",
              "      <td>0.0</td>\n",
              "      <td>0.0</td>\n",
              "      <td>0.0</td>\n",
              "      <td>0.0</td>\n",
              "      <td>0.0</td>\n",
              "      <td>0.0</td>\n",
              "      <td>0.0</td>\n",
              "      <td>0.0</td>\n",
              "      <td>0.0</td>\n",
              "      <td>0.0</td>\n",
              "      <td>0.0</td>\n",
              "      <td>0.0</td>\n",
              "      <td>0.0</td>\n",
              "      <td>0.0</td>\n",
              "      <td>0.0</td>\n",
              "      <td>0.0</td>\n",
              "      <td>0.0</td>\n",
              "      <td>0.0</td>\n",
              "      <td>0.0</td>\n",
              "      <td>0.0</td>\n",
              "      <td>0.0</td>\n",
              "      <td>0.0</td>\n",
              "      <td>0.0</td>\n",
              "      <td>0.0</td>\n",
              "      <td>...</td>\n",
              "      <td>0.0</td>\n",
              "      <td>1.0</td>\n",
              "      <td>0.0</td>\n",
              "      <td>0.0</td>\n",
              "      <td>0.0</td>\n",
              "      <td>0.0</td>\n",
              "      <td>0.0</td>\n",
              "      <td>0.0</td>\n",
              "      <td>0.0</td>\n",
              "      <td>0.0</td>\n",
              "      <td>0.0</td>\n",
              "      <td>0.0</td>\n",
              "      <td>0.0</td>\n",
              "      <td>0.0</td>\n",
              "      <td>0.0</td>\n",
              "      <td>0.0</td>\n",
              "      <td>0.0</td>\n",
              "      <td>0.0</td>\n",
              "      <td>0.0</td>\n",
              "      <td>0.0</td>\n",
              "      <td>0.0</td>\n",
              "      <td>0.0</td>\n",
              "      <td>0.0</td>\n",
              "      <td>0.0</td>\n",
              "      <td>0.0</td>\n",
              "      <td>0.0</td>\n",
              "      <td>0.0</td>\n",
              "      <td>0.0</td>\n",
              "      <td>0.0</td>\n",
              "      <td>0.0</td>\n",
              "      <td>0.0</td>\n",
              "      <td>0.0</td>\n",
              "      <td>0.0</td>\n",
              "      <td>0.0</td>\n",
              "      <td>0.0</td>\n",
              "      <td>0.0</td>\n",
              "      <td>0.0</td>\n",
              "      <td>0.0</td>\n",
              "      <td>0.0</td>\n",
              "      <td>0.0</td>\n",
              "    </tr>\n",
              "    <tr>\n",
              "      <th>3</th>\n",
              "      <td>Mahi-Mahi in Tomato Olive Sauce</td>\n",
              "      <td>5.000</td>\n",
              "      <td>NaN</td>\n",
              "      <td>NaN</td>\n",
              "      <td>NaN</td>\n",
              "      <td>NaN</td>\n",
              "      <td>0.0</td>\n",
              "      <td>0.0</td>\n",
              "      <td>0.0</td>\n",
              "      <td>0.0</td>\n",
              "      <td>0.0</td>\n",
              "      <td>0.0</td>\n",
              "      <td>0.0</td>\n",
              "      <td>0.0</td>\n",
              "      <td>0.0</td>\n",
              "      <td>0.0</td>\n",
              "      <td>0.0</td>\n",
              "      <td>0.0</td>\n",
              "      <td>0.0</td>\n",
              "      <td>0.0</td>\n",
              "      <td>0.0</td>\n",
              "      <td>0.0</td>\n",
              "      <td>0.0</td>\n",
              "      <td>0.0</td>\n",
              "      <td>0.0</td>\n",
              "      <td>0.0</td>\n",
              "      <td>0.0</td>\n",
              "      <td>0.0</td>\n",
              "      <td>0.0</td>\n",
              "      <td>0.0</td>\n",
              "      <td>0.0</td>\n",
              "      <td>0.0</td>\n",
              "      <td>0.0</td>\n",
              "      <td>0.0</td>\n",
              "      <td>0.0</td>\n",
              "      <td>0.0</td>\n",
              "      <td>0.0</td>\n",
              "      <td>0.0</td>\n",
              "      <td>0.0</td>\n",
              "      <td>0.0</td>\n",
              "      <td>...</td>\n",
              "      <td>0.0</td>\n",
              "      <td>0.0</td>\n",
              "      <td>0.0</td>\n",
              "      <td>0.0</td>\n",
              "      <td>0.0</td>\n",
              "      <td>0.0</td>\n",
              "      <td>0.0</td>\n",
              "      <td>0.0</td>\n",
              "      <td>0.0</td>\n",
              "      <td>0.0</td>\n",
              "      <td>0.0</td>\n",
              "      <td>0.0</td>\n",
              "      <td>0.0</td>\n",
              "      <td>0.0</td>\n",
              "      <td>0.0</td>\n",
              "      <td>0.0</td>\n",
              "      <td>0.0</td>\n",
              "      <td>0.0</td>\n",
              "      <td>0.0</td>\n",
              "      <td>0.0</td>\n",
              "      <td>0.0</td>\n",
              "      <td>0.0</td>\n",
              "      <td>0.0</td>\n",
              "      <td>0.0</td>\n",
              "      <td>0.0</td>\n",
              "      <td>0.0</td>\n",
              "      <td>0.0</td>\n",
              "      <td>0.0</td>\n",
              "      <td>0.0</td>\n",
              "      <td>0.0</td>\n",
              "      <td>0.0</td>\n",
              "      <td>0.0</td>\n",
              "      <td>0.0</td>\n",
              "      <td>0.0</td>\n",
              "      <td>0.0</td>\n",
              "      <td>0.0</td>\n",
              "      <td>0.0</td>\n",
              "      <td>0.0</td>\n",
              "      <td>0.0</td>\n",
              "      <td>0.0</td>\n",
              "    </tr>\n",
              "    <tr>\n",
              "      <th>4</th>\n",
              "      <td>Spinach Noodle Casserole</td>\n",
              "      <td>3.125</td>\n",
              "      <td>547.0</td>\n",
              "      <td>20.0</td>\n",
              "      <td>32.0</td>\n",
              "      <td>452.0</td>\n",
              "      <td>0.0</td>\n",
              "      <td>0.0</td>\n",
              "      <td>0.0</td>\n",
              "      <td>0.0</td>\n",
              "      <td>0.0</td>\n",
              "      <td>0.0</td>\n",
              "      <td>0.0</td>\n",
              "      <td>0.0</td>\n",
              "      <td>0.0</td>\n",
              "      <td>0.0</td>\n",
              "      <td>0.0</td>\n",
              "      <td>0.0</td>\n",
              "      <td>0.0</td>\n",
              "      <td>0.0</td>\n",
              "      <td>0.0</td>\n",
              "      <td>0.0</td>\n",
              "      <td>0.0</td>\n",
              "      <td>0.0</td>\n",
              "      <td>0.0</td>\n",
              "      <td>0.0</td>\n",
              "      <td>0.0</td>\n",
              "      <td>0.0</td>\n",
              "      <td>0.0</td>\n",
              "      <td>0.0</td>\n",
              "      <td>0.0</td>\n",
              "      <td>0.0</td>\n",
              "      <td>0.0</td>\n",
              "      <td>0.0</td>\n",
              "      <td>0.0</td>\n",
              "      <td>0.0</td>\n",
              "      <td>0.0</td>\n",
              "      <td>0.0</td>\n",
              "      <td>1.0</td>\n",
              "      <td>0.0</td>\n",
              "      <td>...</td>\n",
              "      <td>0.0</td>\n",
              "      <td>1.0</td>\n",
              "      <td>1.0</td>\n",
              "      <td>0.0</td>\n",
              "      <td>0.0</td>\n",
              "      <td>0.0</td>\n",
              "      <td>0.0</td>\n",
              "      <td>0.0</td>\n",
              "      <td>0.0</td>\n",
              "      <td>0.0</td>\n",
              "      <td>0.0</td>\n",
              "      <td>0.0</td>\n",
              "      <td>0.0</td>\n",
              "      <td>0.0</td>\n",
              "      <td>0.0</td>\n",
              "      <td>0.0</td>\n",
              "      <td>0.0</td>\n",
              "      <td>0.0</td>\n",
              "      <td>0.0</td>\n",
              "      <td>0.0</td>\n",
              "      <td>0.0</td>\n",
              "      <td>0.0</td>\n",
              "      <td>0.0</td>\n",
              "      <td>0.0</td>\n",
              "      <td>0.0</td>\n",
              "      <td>0.0</td>\n",
              "      <td>0.0</td>\n",
              "      <td>0.0</td>\n",
              "      <td>0.0</td>\n",
              "      <td>0.0</td>\n",
              "      <td>0.0</td>\n",
              "      <td>0.0</td>\n",
              "      <td>0.0</td>\n",
              "      <td>0.0</td>\n",
              "      <td>0.0</td>\n",
              "      <td>0.0</td>\n",
              "      <td>0.0</td>\n",
              "      <td>0.0</td>\n",
              "      <td>0.0</td>\n",
              "      <td>0.0</td>\n",
              "    </tr>\n",
              "  </tbody>\n",
              "</table>\n",
              "<p>5 rows × 680 columns</p>\n",
              "</div>"
            ],
            "text/plain": [
              "                                         title  rating  ...  snack week  turkey\n",
              "0              Lentil, Apple, and Turkey Wrap    2.500  ...         0.0     1.0\n",
              "1  Boudin Blanc Terrine with Red Onion Confit    4.375  ...         0.0     0.0\n",
              "2                Potato and Fennel Soup Hodge    3.750  ...         0.0     0.0\n",
              "3             Mahi-Mahi in Tomato Olive Sauce    5.000  ...         0.0     0.0\n",
              "4                    Spinach Noodle Casserole    3.125  ...         0.0     0.0\n",
              "\n",
              "[5 rows x 680 columns]"
            ]
          },
          "metadata": {
            "tags": []
          },
          "execution_count": 6
        }
      ]
    },
    {
      "cell_type": "code",
      "metadata": {
        "id": "L3dgoGH_zgj8",
        "colab_type": "code",
        "colab": {}
      },
      "source": [
        "#raw_data.info(680)"
      ],
      "execution_count": 0,
      "outputs": []
    },
    {
      "cell_type": "code",
      "metadata": {
        "id": "WdUWu0Vv43H7",
        "colab_type": "code",
        "outputId": "35c4dc40-6a42-4784-d842-721eb03d5693",
        "colab": {
          "base_uri": "https://localhost:8080/",
          "height": 34
        }
      },
      "source": [
        "raw_data.shape"
      ],
      "execution_count": 7,
      "outputs": [
        {
          "output_type": "execute_result",
          "data": {
            "text/plain": [
              "(20052, 680)"
            ]
          },
          "metadata": {
            "tags": []
          },
          "execution_count": 7
        }
      ]
    },
    {
      "cell_type": "code",
      "metadata": {
        "id": "86xnRVQx4vg7",
        "colab_type": "code",
        "colab": {}
      },
      "source": [
        "#list(raw_data)"
      ],
      "execution_count": 0,
      "outputs": []
    },
    {
      "cell_type": "code",
      "metadata": {
        "id": "tCQ0xIAC5IQL",
        "colab_type": "code",
        "outputId": "917aec25-2236-4d92-fbe8-4635bd360408",
        "colab": {
          "base_uri": "https://localhost:8080/",
          "height": 168
        }
      },
      "source": [
        "raw_data.rating.describe()"
      ],
      "execution_count": 0,
      "outputs": [
        {
          "output_type": "execute_result",
          "data": {
            "text/plain": [
              "count    20052.000000\n",
              "mean         3.714467\n",
              "std          1.340829\n",
              "min          0.000000\n",
              "25%          3.750000\n",
              "50%          4.375000\n",
              "75%          4.375000\n",
              "max          5.000000\n",
              "Name: rating, dtype: float64"
            ]
          },
          "metadata": {
            "tags": []
          },
          "execution_count": 24
        }
      ]
    },
    {
      "cell_type": "code",
      "metadata": {
        "id": "haTROa_dmJvQ",
        "colab_type": "code",
        "outputId": "b2a88a1f-f608-476d-d444-cbc849880e90",
        "colab": {
          "base_uri": "https://localhost:8080/",
          "height": 332
        }
      },
      "source": [
        "plt.hist(raw_data0['rating'])"
      ],
      "execution_count": 0,
      "outputs": [
        {
          "output_type": "execute_result",
          "data": {
            "text/plain": [
              "(array([1836.,    0.,  164.,  124.,    0.,  532., 1489., 5169., 8019.,\n",
              "        2719.]),\n",
              " array([0. , 0.5, 1. , 1.5, 2. , 2.5, 3. , 3.5, 4. , 4.5, 5. ]),\n",
              " <a list of 10 Patch objects>)"
            ]
          },
          "metadata": {
            "tags": []
          },
          "execution_count": 62
        },
        {
          "output_type": "display_data",
          "data": {
            "image/png": "[encoded data removed]",
            "text/plain": [
              "<Figure size 432x288 with 1 Axes>"
            ]
          },
          "metadata": {
            "tags": []
          }
        }
      ]
    },
    {
      "cell_type": "markdown",
      "metadata": {
        "id": "czF_yAYN5U_l",
        "colab_type": "text"
      },
      "source": [
        "We learn a few things from this analysis. From a ratings perspective, there are just over 20,000 recipes with an average rating of 3.71.\n",
        "\n",
        " **What is interesting is that the 25th percentile is actually above the mean**. \n",
        " \n",
        " **This means there is likely some kind of outlier population**.\n",
        " \n",
        "  This makes sense when we think about reviews: some bad recipes may have very few very low reviews.\n",
        "\n",
        "Let's validate the idea a bit further with a histogram."
      ]
    },
    {
      "cell_type": "code",
      "metadata": {
        "id": "jTmlrKFn5oC-",
        "colab_type": "code",
        "outputId": "9bb9d599-ab7c-4193-e277-94691b49cfdc",
        "colab": {
          "base_uri": "https://localhost:8080/",
          "height": 281
        }
      },
      "source": [
        "raw_data.rating.hist(bins=20)\n",
        "plt.title('Histogram of Recipe Ratings')\n",
        "plt.show()"
      ],
      "execution_count": 0,
      "outputs": [
        {
          "output_type": "display_data",
          "data": {
            "image/png": "[encoded data removed]",
            "text/plain": [
              "<Figure size 432x288 with 1 Axes>"
            ]
          },
          "metadata": {
            "tags": []
          }
        }
      ]
    },
    {
      "cell_type": "markdown",
      "metadata": {
        "id": "iXf3rj1N5y94",
        "colab_type": "text"
      },
      "source": [
        "So a few things are shown in this histogram.\n",
        "\n",
        " **Firstly there are sharp discontinutities**.\n",
        " \n",
        " **We don't have continuous data**. No recipe has a 3.5 rating, for example. Also we see the anticipated increase at 0.\n",
        "\n",
        "**Let's try a naive approach again, this time using SVM Regressor**.\n",
        "\n",
        " But first, we'll have to do a bit of data cleaning."
      ]
    },
    {
      "cell_type": "code",
      "metadata": {
        "id": "m__S60cy6Hy9",
        "colab_type": "code",
        "outputId": "d57bb18d-1f33-4128-bc61-bab819351e9a",
        "colab": {
          "base_uri": "https://localhost:8080/",
          "height": 101
        }
      },
      "source": [
        "# Count nulls \n",
        "null_count = raw_data.isnull().sum()\n",
        "null_count[null_count>0]"
      ],
      "execution_count": 0,
      "outputs": [
        {
          "output_type": "execute_result",
          "data": {
            "text/plain": [
              "calories    4117\n",
              "protein     4162\n",
              "fat         4183\n",
              "sodium      4119\n",
              "dtype: int64"
            ]
          },
          "metadata": {
            "tags": []
          },
          "execution_count": 20
        }
      ]
    },
    {
      "cell_type": "markdown",
      "metadata": {
        "id": "vPZXc3667Oyl",
        "colab_type": "text"
      },
      "source": [
        "**What we can see right away is that nutrition information is not available for all goods**.\n",
        "\n",
        " Now this would be an interesting data point, but let's focus on ingredients and keywords right now. \n",
        "\n",
        "**So we'll actually drop the whole columns for calories, protein, fat, and sodium.** We'll come back to nutrition information later."
      ]
    },
    {
      "cell_type": "code",
      "metadata": {
        "id": "TkDtXwMK7luI",
        "colab_type": "code",
        "outputId": "73c4539b-a414-40c2-db9d-0955b89a1116",
        "colab": {
          "base_uri": "https://localhost:8080/",
          "height": 50
        }
      },
      "source": [
        "from sklearn.svm import SVR\n",
        "svr = SVR()\n",
        "X = raw_data.drop(['rating', 'title', 'calories', 'protein', 'fat', 'sodium'], 1).sample(frac=0.3, replace=True, random_state=1)\n",
        "Y = raw_data.rating.sample(frac=0.3, replace=True, random_state=1)\n",
        "svr.fit(X,Y)"
      ],
      "execution_count": 0,
      "outputs": [
        {
          "output_type": "execute_result",
          "data": {
            "text/plain": [
              "SVR(C=1.0, cache_size=200, coef0=0.0, degree=3, epsilon=0.1, gamma='scale',\n",
              "    kernel='rbf', max_iter=-1, shrinking=True, tol=0.001, verbose=False)"
            ]
          },
          "metadata": {
            "tags": []
          },
          "execution_count": 64
        }
      ]
    },
    {
      "cell_type": "markdown",
      "metadata": {
        "id": "i54w0MAi75X-",
        "colab_type": "text"
      },
      "source": [
        "**Let's see what a scatter plot looks like, comparing actuals to predicted**."
      ]
    },
    {
      "cell_type": "code",
      "metadata": {
        "id": "ZMbcFqaX8AgI",
        "colab_type": "code",
        "outputId": "88fb32e4-60fa-4101-f16c-0faf431b54a0",
        "colab": {
          "base_uri": "https://localhost:8080/",
          "height": 282
        }
      },
      "source": [
        "plt.scatter(Y, svr.predict(X))"
      ],
      "execution_count": 0,
      "outputs": [
        {
          "output_type": "execute_result",
          "data": {
            "text/plain": [
              "<matplotlib.collections.PathCollection at 0x7fdd523ab240>"
            ]
          },
          "metadata": {
            "tags": []
          },
          "execution_count": 10
        },
        {
          "output_type": "display_data",
          "data": {
            "image/png": "[encoded data removed]",
            "text/plain": [
              "<Figure size 432x288 with 1 Axes>"
            ]
          },
          "metadata": {
            "tags": []
          }
        }
      ]
    },
    {
      "cell_type": "markdown",
      "metadata": {
        "id": "VpgI496O8MOm",
        "colab_type": "text"
      },
      "source": [
        "**Now that is a pretty useless visualization**.\n",
        "\n",
        "**This is because of the discontinuous nature of our outcome variable**.\n",
        "\n",
        " There's too much data for us to really see what's going on here. \n",
        "\n",
        "\n",
        " **If you wanted to look at it you could create histograms**,\n",
        " \n",
        "  **here we'll move on to the scores of both our full fit model and with cross validation.** Again if you choose to run it again it will take some time, so you probably shouldn't"
      ]
    },
    {
      "cell_type": "code",
      "metadata": {
        "id": "qzZSUIHZ8jxR",
        "colab_type": "code",
        "outputId": "cdface0f-a399-46f3-d953-17c679dd7095",
        "colab": {
          "base_uri": "https://localhost:8080/",
          "height": 34
        }
      },
      "source": [
        "svr.score(X, Y)"
      ],
      "execution_count": 0,
      "outputs": [
        {
          "output_type": "execute_result",
          "data": {
            "text/plain": [
              "0.4099845913800794"
            ]
          },
          "metadata": {
            "tags": []
          },
          "execution_count": 65
        }
      ]
    },
    {
      "cell_type": "code",
      "metadata": {
        "id": "WzF0e23_8uj9",
        "colab_type": "code",
        "outputId": "90c27fb6-24bf-4f13-d8cd-1367b7dfc049",
        "colab": {
          "base_uri": "https://localhost:8080/",
          "height": 34
        }
      },
      "source": [
        "from sklearn.model_selection import cross_val_score\n",
        "cross_val_score(svr, X, Y, cv=5)"
      ],
      "execution_count": 0,
      "outputs": [
        {
          "output_type": "execute_result",
          "data": {
            "text/plain": [
              "array([0.19563385, 0.14683481, 0.15013401, 0.13597791, 0.16082192])"
            ]
          },
          "metadata": {
            "tags": []
          },
          "execution_count": 54
        }
      ]
    },
    {
      "cell_type": "markdown",
      "metadata": {
        "id": "_-d_eWrl9S2y",
        "colab_type": "text"
      },
      "source": [
        "Oh dear, so this did seem not to work very well. \n",
        "\n",
        "**In fact it is remarkably poor**. Now there are many things that we could do here.\n",
        "\n",
        "Firstly the overfit is a problem, even though it was poor in the first place.\n",
        "\n",
        " We could go back and clean up our feature set. There might be some gains to be made by getting rid of the noise.\n",
        "\n",
        "We could also see how removing the nulls but including dietary information performs. Though its a slight change to the question we could still possibly get some improvements there.\n",
        "\n",
        "**Lastly, we could take our regression problem and turn it into a classifier**.\n",
        "\n",
        " With this number of features and a discontinuous outcome, we might have better luck thinking of this as a classification problem.\n",
        " \n",
        "  **We could make it simpler still by instead of classifying on each possible value, group reviews to some decided high and low values**."
      ]
    },
    {
      "cell_type": "markdown",
      "metadata": {
        "id": "h456NQe_9n81",
        "colab_type": "text"
      },
      "source": [
        "**And that is your challenge**.\n",
        "\n",
        "**Transform this regression problem into a binary classifier and clean up the feature set**.\n",
        "\n",
        " You can choose whether or not to include nutritional information, but **try to cut your feature set down to the 30 most valuable features**.\n",
        "\n",
        "Good luck!\n"
      ]
    },
    {
      "cell_type": "markdown",
      "metadata": {
        "id": "9mC1qrUm93B-",
        "colab_type": "text"
      },
      "source": [
        "When you've finished that, also take a moment to think about bias. Is there anything in this dataset that makes you think it could be biased, perhaps extremely so?\n",
        "\n",
        "There is. Several things in fact, but most glaringly is that we don't actually have a random sample. It could be, and probably is, that the people more likely to choose some kinds of recipes are more likely to give high reviews.\n",
        "\n",
        "After all, people who eat chocolate might just be happier people."
      ]
    },
    {
      "cell_type": "markdown",
      "metadata": {
        "id": "6P0uW6tmDB8g",
        "colab_type": "text"
      },
      "source": [
        "**//////////////////////////////////////////////////////////////////////////////////**"
      ]
    },
    {
      "cell_type": "markdown",
      "metadata": {
        "id": "CmZqAGrj0K3h",
        "colab_type": "text"
      },
      "source": [
        "**FIRST WILL DROP TITLE AND RATING**\n",
        "\n",
        "**NEXT WILL REPLACE THE NULLS IN PROTEIN, FAT, SODIUM, CALORIES WITH COLUMN MEANS**"
      ]
    },
    {
      "cell_type": "code",
      "metadata": {
        "id": "XE9umIXF2Wl3",
        "colab_type": "code",
        "colab": {}
      },
      "source": [
        "raw_data.drop(['rating', 'title'], 1,inplace=True)"
      ],
      "execution_count": 0,
      "outputs": []
    },
    {
      "cell_type": "markdown",
      "metadata": {
        "id": "BT0EkKFn4iG2",
        "colab_type": "text"
      },
      "source": [
        "sub2['income'].fillna((sub2['income'].mean()), inplace=True)"
      ]
    },
    {
      "cell_type": "code",
      "metadata": {
        "id": "R3qv8A2g5lMY",
        "colab_type": "code",
        "outputId": "9000a9e8-c124-40b5-84c9-01ca6a2c5499",
        "colab": {
          "base_uri": "https://localhost:8080/",
          "height": 218
        }
      },
      "source": [
        "raw_data['calories'].fillna((raw_data['calories'].mean()))"
      ],
      "execution_count": 0,
      "outputs": [
        {
          "output_type": "execute_result",
          "data": {
            "text/plain": [
              "0         426.000000\n",
              "1         403.000000\n",
              "2         165.000000\n",
              "3        6322.958017\n",
              "4         547.000000\n",
              "            ...     \n",
              "20047      28.000000\n",
              "20048     671.000000\n",
              "20049     563.000000\n",
              "20050     631.000000\n",
              "20051     560.000000\n",
              "Name: calories, Length: 20052, dtype: float64"
            ]
          },
          "metadata": {
            "tags": []
          },
          "execution_count": 23
        }
      ]
    },
    {
      "cell_type": "code",
      "metadata": {
        "id": "hBT3LAzu4j39",
        "colab_type": "code",
        "colab": {}
      },
      "source": [
        "#[  raw_data[col].fillna((raw_data[col].mean()),inplace=True) for col in list(raw_data)]"
      ],
      "execution_count": 0,
      "outputs": []
    },
    {
      "cell_type": "code",
      "metadata": {
        "id": "jDpVph2t6_cm",
        "colab_type": "code",
        "outputId": "ff2ff334-24d1-48c8-86cc-98e167d1ebec",
        "colab": {
          "base_uri": "https://localhost:8080/",
          "height": 218
        }
      },
      "source": [
        "raw_data.isnull().sum()"
      ],
      "execution_count": 0,
      "outputs": [
        {
          "output_type": "execute_result",
          "data": {
            "text/plain": [
              "calories      0\n",
              "protein       0\n",
              "fat           0\n",
              "sodium        0\n",
              "#cakeweek     0\n",
              "             ..\n",
              "cookbooks     0\n",
              "leftovers     0\n",
              "snack         0\n",
              "snack week    0\n",
              "turkey        0\n",
              "Length: 678, dtype: int64"
            ]
          },
          "metadata": {
            "tags": []
          },
          "execution_count": 35
        }
      ]
    },
    {
      "cell_type": "code",
      "metadata": {
        "id": "6i7ABBrkIsW4",
        "colab_type": "code",
        "colab": {}
      },
      "source": [
        "#list(raw_data)"
      ],
      "execution_count": 0,
      "outputs": []
    },
    {
      "cell_type": "code",
      "metadata": {
        "id": "EI53X36H71il",
        "colab_type": "code",
        "colab": {}
      },
      "source": [
        "y=raw_data0['rating']"
      ],
      "execution_count": 0,
      "outputs": []
    },
    {
      "cell_type": "markdown",
      "metadata": {
        "id": "uwUorpTP12PW",
        "colab_type": "text"
      },
      "source": [
        "**USING RANDOM FOREST REGRESSOR TO FIND TOP 30**\n",
        "\n"
      ]
    },
    {
      "cell_type": "code",
      "metadata": {
        "id": "m6Bm9z_L7YjG",
        "colab_type": "code",
        "colab": {}
      },
      "source": [
        "clf = RandomForestRegressor(n_estimators=100, random_state=0, n_jobs=-1,max_depth=3)"
      ],
      "execution_count": 0,
      "outputs": []
    },
    {
      "cell_type": "code",
      "metadata": {
        "id": "JYNgloPJ8DUE",
        "colab_type": "code",
        "outputId": "da31084a-2347-4698-8dfe-dbcbd6595204",
        "colab": {
          "base_uri": "https://localhost:8080/",
          "height": 134
        }
      },
      "source": [
        "# Train the classifier\n",
        "clf.fit(raw_data, y)"
      ],
      "execution_count": 0,
      "outputs": [
        {
          "output_type": "execute_result",
          "data": {
            "text/plain": [
              "RandomForestRegressor(bootstrap=True, ccp_alpha=0.0, criterion='mse',\n",
              "                      max_depth=3, max_features='auto', max_leaf_nodes=None,\n",
              "                      max_samples=None, min_impurity_decrease=0.0,\n",
              "                      min_impurity_split=None, min_samples_leaf=1,\n",
              "                      min_samples_split=2, min_weight_fraction_leaf=0.0,\n",
              "                      n_estimators=100, n_jobs=-1, oob_score=False,\n",
              "                      random_state=0, verbose=0, warm_start=False)"
            ]
          },
          "metadata": {
            "tags": []
          },
          "execution_count": 38
        }
      ]
    },
    {
      "cell_type": "code",
      "metadata": {
        "id": "rqsGbl-zGkfr",
        "colab_type": "code",
        "colab": {}
      },
      "source": [
        "preds=clf.predict(raw_data)"
      ],
      "execution_count": 0,
      "outputs": []
    },
    {
      "cell_type": "code",
      "metadata": {
        "id": "JFliz-QkG1ys",
        "colab_type": "code",
        "colab": {}
      },
      "source": [
        "#clf.feature_importances_"
      ],
      "execution_count": 0,
      "outputs": []
    },
    {
      "cell_type": "code",
      "metadata": {
        "id": "G4-qkJS7I5TG",
        "colab_type": "code",
        "colab": {}
      },
      "source": [
        "v=sorted(list(zip(clf.feature_importances_,raw_data)),reverse=True)[:30]"
      ],
      "execution_count": 0,
      "outputs": []
    },
    {
      "cell_type": "markdown",
      "metadata": {
        "id": "K-ktJFaMzXyf",
        "colab_type": "text"
      },
      "source": [
        "Edit: Note that **zip(*iterable) is its own inverse**"
      ]
    },
    {
      "cell_type": "code",
      "metadata": {
        "id": "d2lqGunrzO3u",
        "colab_type": "code",
        "colab": {}
      },
      "source": [
        "list1, list2 = zip(*source_list)"
      ],
      "execution_count": 0,
      "outputs": []
    },
    {
      "cell_type": "code",
      "metadata": {
        "id": "xKurm12hzuux",
        "colab_type": "code",
        "colab": {}
      },
      "source": [
        "list1, list2 = zip(*v)"
      ],
      "execution_count": 0,
      "outputs": []
    },
    {
      "cell_type": "code",
      "metadata": {
        "id": "W5-qV-Hcz9sW",
        "colab_type": "code",
        "colab": {}
      },
      "source": [
        "l22=list(list2)\n",
        "#l22"
      ],
      "execution_count": 0,
      "outputs": []
    },
    {
      "cell_type": "code",
      "metadata": {
        "id": "bFrOT1MU0NPR",
        "colab_type": "code",
        "outputId": "f08e081d-61dc-441c-e6ed-469b5aada83f",
        "colab": {
          "base_uri": "https://localhost:8080/",
          "height": 134
        }
      },
      "source": [
        "clf.fit(raw_data[l22],y)"
      ],
      "execution_count": 0,
      "outputs": [
        {
          "output_type": "execute_result",
          "data": {
            "text/plain": [
              "RandomForestRegressor(bootstrap=True, ccp_alpha=0.0, criterion='mse',\n",
              "                      max_depth=3, max_features='auto', max_leaf_nodes=None,\n",
              "                      max_samples=None, min_impurity_decrease=0.0,\n",
              "                      min_impurity_split=None, min_samples_leaf=1,\n",
              "                      min_samples_split=2, min_weight_fraction_leaf=0.0,\n",
              "                      n_estimators=100, n_jobs=-1, oob_score=False,\n",
              "                      random_state=0, verbose=0, warm_start=False)"
            ]
          },
          "metadata": {
            "tags": []
          },
          "execution_count": 50
        }
      ]
    },
    {
      "cell_type": "markdown",
      "metadata": {
        "id": "KKG_L4dE2K3D",
        "colab_type": "text"
      },
      "source": [
        "**STILL IN CONTINUOUS MODE -- RESLULTS WITH TOP 30 EVEN WORSE**"
      ]
    },
    {
      "cell_type": "code",
      "metadata": {
        "id": "xkNBxy2E2WiH",
        "colab_type": "code",
        "outputId": "339866e9-7f25-4334-f610-8d2e6481ec9c",
        "colab": {
          "base_uri": "https://localhost:8080/",
          "height": 50
        }
      },
      "source": [
        "clf.predict(raw_data[l22])"
      ],
      "execution_count": 0,
      "outputs": [
        {
          "output_type": "execute_result",
          "data": {
            "text/plain": [
              "array([3.76965752, 3.8576464 , 3.66830014, ..., 3.82968007, 3.8576464 ,\n",
              "       3.8576464 ])"
            ]
          },
          "metadata": {
            "tags": []
          },
          "execution_count": 57
        }
      ]
    },
    {
      "cell_type": "code",
      "metadata": {
        "id": "5Yu0lHyf0uMM",
        "colab_type": "code",
        "outputId": "9431c8a7-6b76-400c-e730-87600890169b",
        "colab": {
          "base_uri": "https://localhost:8080/",
          "height": 34
        }
      },
      "source": [
        "clf.score(raw_data[l22],y)"
      ],
      "execution_count": 0,
      "outputs": [
        {
          "output_type": "execute_result",
          "data": {
            "text/plain": [
              "0.11648945619737694"
            ]
          },
          "metadata": {
            "tags": []
          },
          "execution_count": 58
        }
      ]
    },
    {
      "cell_type": "markdown",
      "metadata": {
        "id": "d7qBJ_co2vdc",
        "colab_type": "text"
      },
      "source": [
        "/////////////////////////////////////////"
      ]
    },
    {
      "cell_type": "markdown",
      "metadata": {
        "id": "itUdWDCX6QsN",
        "colab_type": "text"
      },
      "source": [
        "  **CREATING BINARY TARGET**"
      ]
    },
    {
      "cell_type": "code",
      "metadata": {
        "id": "NwDZDwJS7PJ8",
        "colab_type": "code",
        "outputId": "6733f47a-e95a-4567-f635-864e2f5791a5",
        "colab": {
          "base_uri": "https://localhost:8080/",
          "height": 357
        }
      },
      "source": [
        "raw_data.head(2)"
      ],
      "execution_count": 8,
      "outputs": [
        {
          "output_type": "execute_result",
          "data": {
            "text/html": [
              "<div>\n",
              "<style scoped>\n",
              "    .dataframe tbody tr th:only-of-type {\n",
              "        vertical-align: middle;\n",
              "    }\n",
              "\n",
              "    .dataframe tbody tr th {\n",
              "        vertical-align: top;\n",
              "    }\n",
              "\n",
              "    .dataframe thead th {\n",
              "        text-align: right;\n",
              "    }\n",
              "</style>\n",
              "<table border=\"1\" class=\"dataframe\">\n",
              "  <thead>\n",
              "    <tr style=\"text-align: right;\">\n",
              "      <th></th>\n",
              "      <th>title</th>\n",
              "      <th>rating</th>\n",
              "      <th>calories</th>\n",
              "      <th>protein</th>\n",
              "      <th>fat</th>\n",
              "      <th>sodium</th>\n",
              "      <th>#cakeweek</th>\n",
              "      <th>#wasteless</th>\n",
              "      <th>22-minute meals</th>\n",
              "      <th>3-ingredient recipes</th>\n",
              "      <th>30 days of groceries</th>\n",
              "      <th>advance prep required</th>\n",
              "      <th>alabama</th>\n",
              "      <th>alaska</th>\n",
              "      <th>alcoholic</th>\n",
              "      <th>almond</th>\n",
              "      <th>amaretto</th>\n",
              "      <th>anchovy</th>\n",
              "      <th>anise</th>\n",
              "      <th>anniversary</th>\n",
              "      <th>anthony bourdain</th>\n",
              "      <th>aperitif</th>\n",
              "      <th>appetizer</th>\n",
              "      <th>apple</th>\n",
              "      <th>apple juice</th>\n",
              "      <th>apricot</th>\n",
              "      <th>arizona</th>\n",
              "      <th>artichoke</th>\n",
              "      <th>arugula</th>\n",
              "      <th>asian pear</th>\n",
              "      <th>asparagus</th>\n",
              "      <th>aspen</th>\n",
              "      <th>atlanta</th>\n",
              "      <th>australia</th>\n",
              "      <th>avocado</th>\n",
              "      <th>back to school</th>\n",
              "      <th>backyard bbq</th>\n",
              "      <th>bacon</th>\n",
              "      <th>bake</th>\n",
              "      <th>banana</th>\n",
              "      <th>...</th>\n",
              "      <th>vegan</th>\n",
              "      <th>vegetable</th>\n",
              "      <th>vegetarian</th>\n",
              "      <th>venison</th>\n",
              "      <th>vermont</th>\n",
              "      <th>vermouth</th>\n",
              "      <th>vinegar</th>\n",
              "      <th>virginia</th>\n",
              "      <th>vodka</th>\n",
              "      <th>waffle</th>\n",
              "      <th>walnut</th>\n",
              "      <th>wasabi</th>\n",
              "      <th>washington</th>\n",
              "      <th>washington, d.c.</th>\n",
              "      <th>watercress</th>\n",
              "      <th>watermelon</th>\n",
              "      <th>wedding</th>\n",
              "      <th>weelicious</th>\n",
              "      <th>west virginia</th>\n",
              "      <th>westwood</th>\n",
              "      <th>wheat/gluten-free</th>\n",
              "      <th>whiskey</th>\n",
              "      <th>white wine</th>\n",
              "      <th>whole wheat</th>\n",
              "      <th>wild rice</th>\n",
              "      <th>windsor</th>\n",
              "      <th>wine</th>\n",
              "      <th>winter</th>\n",
              "      <th>wisconsin</th>\n",
              "      <th>wok</th>\n",
              "      <th>yellow squash</th>\n",
              "      <th>yogurt</th>\n",
              "      <th>yonkers</th>\n",
              "      <th>yuca</th>\n",
              "      <th>zucchini</th>\n",
              "      <th>cookbooks</th>\n",
              "      <th>leftovers</th>\n",
              "      <th>snack</th>\n",
              "      <th>snack week</th>\n",
              "      <th>turkey</th>\n",
              "    </tr>\n",
              "  </thead>\n",
              "  <tbody>\n",
              "    <tr>\n",
              "      <th>0</th>\n",
              "      <td>Lentil, Apple, and Turkey Wrap</td>\n",
              "      <td>2.500</td>\n",
              "      <td>426.0</td>\n",
              "      <td>30.0</td>\n",
              "      <td>7.0</td>\n",
              "      <td>559.0</td>\n",
              "      <td>0.0</td>\n",
              "      <td>0.0</td>\n",
              "      <td>0.0</td>\n",
              "      <td>0.0</td>\n",
              "      <td>0.0</td>\n",
              "      <td>0.0</td>\n",
              "      <td>0.0</td>\n",
              "      <td>0.0</td>\n",
              "      <td>0.0</td>\n",
              "      <td>0.0</td>\n",
              "      <td>0.0</td>\n",
              "      <td>0.0</td>\n",
              "      <td>0.0</td>\n",
              "      <td>0.0</td>\n",
              "      <td>0.0</td>\n",
              "      <td>0.0</td>\n",
              "      <td>0.0</td>\n",
              "      <td>1.0</td>\n",
              "      <td>0.0</td>\n",
              "      <td>0.0</td>\n",
              "      <td>0.0</td>\n",
              "      <td>0.0</td>\n",
              "      <td>0.0</td>\n",
              "      <td>0.0</td>\n",
              "      <td>0.0</td>\n",
              "      <td>0.0</td>\n",
              "      <td>0.0</td>\n",
              "      <td>0.0</td>\n",
              "      <td>0.0</td>\n",
              "      <td>0.0</td>\n",
              "      <td>0.0</td>\n",
              "      <td>0.0</td>\n",
              "      <td>0.0</td>\n",
              "      <td>0.0</td>\n",
              "      <td>...</td>\n",
              "      <td>0.0</td>\n",
              "      <td>1.0</td>\n",
              "      <td>0.0</td>\n",
              "      <td>0.0</td>\n",
              "      <td>0.0</td>\n",
              "      <td>0.0</td>\n",
              "      <td>0.0</td>\n",
              "      <td>0.0</td>\n",
              "      <td>0.0</td>\n",
              "      <td>0.0</td>\n",
              "      <td>0.0</td>\n",
              "      <td>0.0</td>\n",
              "      <td>0.0</td>\n",
              "      <td>0.0</td>\n",
              "      <td>0.0</td>\n",
              "      <td>0.0</td>\n",
              "      <td>0.0</td>\n",
              "      <td>0.0</td>\n",
              "      <td>0.0</td>\n",
              "      <td>0.0</td>\n",
              "      <td>0.0</td>\n",
              "      <td>0.0</td>\n",
              "      <td>0.0</td>\n",
              "      <td>0.0</td>\n",
              "      <td>0.0</td>\n",
              "      <td>0.0</td>\n",
              "      <td>0.0</td>\n",
              "      <td>0.0</td>\n",
              "      <td>0.0</td>\n",
              "      <td>0.0</td>\n",
              "      <td>0.0</td>\n",
              "      <td>0.0</td>\n",
              "      <td>0.0</td>\n",
              "      <td>0.0</td>\n",
              "      <td>0.0</td>\n",
              "      <td>0.0</td>\n",
              "      <td>0.0</td>\n",
              "      <td>0.0</td>\n",
              "      <td>0.0</td>\n",
              "      <td>1.0</td>\n",
              "    </tr>\n",
              "    <tr>\n",
              "      <th>1</th>\n",
              "      <td>Boudin Blanc Terrine with Red Onion Confit</td>\n",
              "      <td>4.375</td>\n",
              "      <td>403.0</td>\n",
              "      <td>18.0</td>\n",
              "      <td>23.0</td>\n",
              "      <td>1439.0</td>\n",
              "      <td>0.0</td>\n",
              "      <td>0.0</td>\n",
              "      <td>0.0</td>\n",
              "      <td>0.0</td>\n",
              "      <td>0.0</td>\n",
              "      <td>0.0</td>\n",
              "      <td>0.0</td>\n",
              "      <td>0.0</td>\n",
              "      <td>0.0</td>\n",
              "      <td>0.0</td>\n",
              "      <td>0.0</td>\n",
              "      <td>0.0</td>\n",
              "      <td>0.0</td>\n",
              "      <td>0.0</td>\n",
              "      <td>0.0</td>\n",
              "      <td>0.0</td>\n",
              "      <td>0.0</td>\n",
              "      <td>0.0</td>\n",
              "      <td>0.0</td>\n",
              "      <td>0.0</td>\n",
              "      <td>0.0</td>\n",
              "      <td>0.0</td>\n",
              "      <td>0.0</td>\n",
              "      <td>0.0</td>\n",
              "      <td>0.0</td>\n",
              "      <td>0.0</td>\n",
              "      <td>0.0</td>\n",
              "      <td>0.0</td>\n",
              "      <td>0.0</td>\n",
              "      <td>0.0</td>\n",
              "      <td>0.0</td>\n",
              "      <td>0.0</td>\n",
              "      <td>1.0</td>\n",
              "      <td>0.0</td>\n",
              "      <td>...</td>\n",
              "      <td>0.0</td>\n",
              "      <td>0.0</td>\n",
              "      <td>0.0</td>\n",
              "      <td>0.0</td>\n",
              "      <td>0.0</td>\n",
              "      <td>0.0</td>\n",
              "      <td>0.0</td>\n",
              "      <td>0.0</td>\n",
              "      <td>0.0</td>\n",
              "      <td>0.0</td>\n",
              "      <td>0.0</td>\n",
              "      <td>0.0</td>\n",
              "      <td>0.0</td>\n",
              "      <td>0.0</td>\n",
              "      <td>0.0</td>\n",
              "      <td>0.0</td>\n",
              "      <td>0.0</td>\n",
              "      <td>0.0</td>\n",
              "      <td>0.0</td>\n",
              "      <td>0.0</td>\n",
              "      <td>0.0</td>\n",
              "      <td>0.0</td>\n",
              "      <td>0.0</td>\n",
              "      <td>0.0</td>\n",
              "      <td>0.0</td>\n",
              "      <td>0.0</td>\n",
              "      <td>0.0</td>\n",
              "      <td>1.0</td>\n",
              "      <td>0.0</td>\n",
              "      <td>0.0</td>\n",
              "      <td>0.0</td>\n",
              "      <td>0.0</td>\n",
              "      <td>0.0</td>\n",
              "      <td>0.0</td>\n",
              "      <td>0.0</td>\n",
              "      <td>0.0</td>\n",
              "      <td>0.0</td>\n",
              "      <td>0.0</td>\n",
              "      <td>0.0</td>\n",
              "      <td>0.0</td>\n",
              "    </tr>\n",
              "  </tbody>\n",
              "</table>\n",
              "<p>2 rows × 680 columns</p>\n",
              "</div>"
            ],
            "text/plain": [
              "                                         title  rating  ...  snack week  turkey\n",
              "0              Lentil, Apple, and Turkey Wrap    2.500  ...         0.0     1.0\n",
              "1  Boudin Blanc Terrine with Red Onion Confit    4.375  ...         0.0     0.0\n",
              "\n",
              "[2 rows x 680 columns]"
            ]
          },
          "metadata": {
            "tags": []
          },
          "execution_count": 8
        }
      ]
    },
    {
      "cell_type": "code",
      "metadata": {
        "id": "NSqOb7ssVwhZ",
        "colab_type": "code",
        "colab": {}
      },
      "source": [
        "raw_data['binary_rating']=np.where(raw_data['rating']<4.375,0,1)"
      ],
      "execution_count": 0,
      "outputs": []
    },
    {
      "cell_type": "code",
      "metadata": {
        "id": "4KpkAgnS7Z3H",
        "colab_type": "code",
        "colab": {}
      },
      "source": [
        "y=raw_data['binary_rating'].sample(frac=0.3)"
      ],
      "execution_count": 0,
      "outputs": []
    },
    {
      "cell_type": "markdown",
      "metadata": {
        "id": "NVFDlJNa7h2a",
        "colab_type": "text"
      },
      "source": [
        "x=raw_data.drop(['rating','binary_rating','title','calories','fat','sodium','protein'],1)"
      ]
    },
    {
      "cell_type": "code",
      "metadata": {
        "id": "_eYY0s-m8TXU",
        "colab_type": "code",
        "outputId": "db3b528e-f67e-4a0b-fbaa-8b6b99400391",
        "colab": {
          "base_uri": "https://localhost:8080/",
          "height": 134
        }
      },
      "source": [
        "clf.fit(x,y)"
      ],
      "execution_count": 0,
      "outputs": [
        {
          "output_type": "execute_result",
          "data": {
            "text/plain": [
              "RandomForestRegressor(bootstrap=True, ccp_alpha=0.0, criterion='mse',\n",
              "                      max_depth=3, max_features='auto', max_leaf_nodes=None,\n",
              "                      max_samples=None, min_impurity_decrease=0.0,\n",
              "                      min_impurity_split=None, min_samples_leaf=1,\n",
              "                      min_samples_split=2, min_weight_fraction_leaf=0.0,\n",
              "                      n_estimators=100, n_jobs=-1, oob_score=False,\n",
              "                      random_state=0, verbose=0, warm_start=False)"
            ]
          },
          "metadata": {
            "tags": []
          },
          "execution_count": 92
        }
      ]
    },
    {
      "cell_type": "code",
      "metadata": {
        "id": "0As7aHWY9BOy",
        "colab_type": "code",
        "outputId": "b37f8359-103f-4192-bc55-3e81e94bd6ba",
        "colab": {
          "base_uri": "https://localhost:8080/",
          "height": 50
        }
      },
      "source": [
        "clf.predict(x)"
      ],
      "execution_count": 0,
      "outputs": [
        {
          "output_type": "execute_result",
          "data": {
            "text/plain": [
              "array([0.49201434, 0.57989652, 0.49201434, ..., 0.55705081, 0.55698948,\n",
              "       0.59156813])"
            ]
          },
          "metadata": {
            "tags": []
          },
          "execution_count": 94
        }
      ]
    },
    {
      "cell_type": "markdown",
      "metadata": {
        "id": "mpX0I9JU9W_L",
        "colab_type": "text"
      },
      "source": [
        "**TERRIBLE RESULT**"
      ]
    },
    {
      "cell_type": "code",
      "metadata": {
        "id": "--iynqD_88vs",
        "colab_type": "code",
        "outputId": "4d4d5c29-4a74-4ca9-dcbe-48ab2cdc4177",
        "colab": {
          "base_uri": "https://localhost:8080/",
          "height": 34
        }
      },
      "source": [
        "clf.score(x,y)"
      ],
      "execution_count": 0,
      "outputs": [
        {
          "output_type": "execute_result",
          "data": {
            "text/plain": [
              "0.03073904360677371"
            ]
          },
          "metadata": {
            "tags": []
          },
          "execution_count": 95
        }
      ]
    },
    {
      "cell_type": "markdown",
      "metadata": {
        "id": "sU085bEK9axZ",
        "colab_type": "text"
      },
      "source": [
        "**TRY AGAIN**"
      ]
    },
    {
      "cell_type": "code",
      "metadata": {
        "id": "toIqhudh94BQ",
        "colab_type": "code",
        "colab": {}
      },
      "source": [
        "raw_data.drop('title',axis=1,inplace=True)"
      ],
      "execution_count": 0,
      "outputs": []
    },
    {
      "cell_type": "code",
      "metadata": {
        "id": "uarr7SmI9fJp",
        "colab_type": "code",
        "colab": {}
      },
      "source": [
        "#[raw_data[col].fillna((raw_data[col].mean()),inplace=True) for col in list(raw_data)]"
      ],
      "execution_count": 0,
      "outputs": []
    },
    {
      "cell_type": "code",
      "metadata": {
        "id": "UyCvE4yi-JFt",
        "colab_type": "code",
        "colab": {}
      },
      "source": [
        "x=raw_data.drop(['rating','binary_rating'],1).sample(frac=0.3)"
      ],
      "execution_count": 0,
      "outputs": []
    },
    {
      "cell_type": "code",
      "metadata": {
        "id": "5xdL2K0QWIuD",
        "colab_type": "code",
        "colab": {}
      },
      "source": [
        "clf = RandomForestRegressor(n_estimators=100, random_state=0, n_jobs=-1,max_depth=3)"
      ],
      "execution_count": 0,
      "outputs": []
    },
    {
      "cell_type": "code",
      "metadata": {
        "id": "1gbRytWD-SHQ",
        "colab_type": "code",
        "outputId": "48691230-cb4d-4bba-c6f3-cafc432c7453",
        "colab": {
          "base_uri": "https://localhost:8080/",
          "height": 134
        }
      },
      "source": [
        "clf.fit(x,y)"
      ],
      "execution_count": 23,
      "outputs": [
        {
          "output_type": "execute_result",
          "data": {
            "text/plain": [
              "RandomForestRegressor(bootstrap=True, ccp_alpha=0.0, criterion='mse',\n",
              "                      max_depth=3, max_features='auto', max_leaf_nodes=None,\n",
              "                      max_samples=None, min_impurity_decrease=0.0,\n",
              "                      min_impurity_split=None, min_samples_leaf=1,\n",
              "                      min_samples_split=2, min_weight_fraction_leaf=0.0,\n",
              "                      n_estimators=100, n_jobs=-1, oob_score=False,\n",
              "                      random_state=0, verbose=0, warm_start=False)"
            ]
          },
          "metadata": {
            "tags": []
          },
          "execution_count": 23
        }
      ]
    },
    {
      "cell_type": "code",
      "metadata": {
        "id": "WDhPCfFV-Vqt",
        "colab_type": "code",
        "outputId": "f1fef0bd-7aa8-469a-e65d-01585bb32d02",
        "colab": {
          "base_uri": "https://localhost:8080/",
          "height": 50
        }
      },
      "source": [
        "clf.predict(x)"
      ],
      "execution_count": 24,
      "outputs": [
        {
          "output_type": "execute_result",
          "data": {
            "text/plain": [
              "array([0.53758997, 0.51394726, 0.53747453, ..., 0.53348562, 0.5262795 ,\n",
              "       0.53486237])"
            ]
          },
          "metadata": {
            "tags": []
          },
          "execution_count": 24
        }
      ]
    },
    {
      "cell_type": "code",
      "metadata": {
        "id": "VbRPo6Nw-aLm",
        "colab_type": "code",
        "outputId": "20496eac-954a-42f2-a00b-d6bcdeab2a43",
        "colab": {
          "base_uri": "https://localhost:8080/",
          "height": 34
        }
      },
      "source": [
        "clf.score(x,y)"
      ],
      "execution_count": 25,
      "outputs": [
        {
          "output_type": "execute_result",
          "data": {
            "text/plain": [
              "0.013476276171496271"
            ]
          },
          "metadata": {
            "tags": []
          },
          "execution_count": 25
        }
      ]
    },
    {
      "cell_type": "markdown",
      "metadata": {
        "id": "n8vzQMAV-vhh",
        "colab_type": "text"
      },
      "source": [
        "**WHAT IS WRONG**"
      ]
    },
    {
      "cell_type": "markdown",
      "metadata": {
        "id": "8XNZ88Hg_syJ",
        "colab_type": "text"
      },
      "source": [
        "\n",
        "**TRY RANDOM FOREST AGAIN TO PICK TOP 30**\n",
        "\n",
        "**THIS TIME USE RANDOM FOREST CLASSIFIER**\n",
        "\n"
      ]
    },
    {
      "cell_type": "code",
      "metadata": {
        "id": "lJQf_JVCAT4K",
        "colab_type": "code",
        "colab": {}
      },
      "source": [
        "clf = RandomForestClassifier(n_estimators=1000, random_state=0, n_jobs=-1,max_depth=3)"
      ],
      "execution_count": 0,
      "outputs": []
    },
    {
      "cell_type": "code",
      "metadata": {
        "id": "htKdr8SFAeym",
        "colab_type": "code",
        "outputId": "3b6337ab-e81e-4879-ddcc-d2657914e746",
        "colab": {
          "base_uri": "https://localhost:8080/",
          "height": 151
        }
      },
      "source": [
        "clf.fit(x,y)"
      ],
      "execution_count": 0,
      "outputs": [
        {
          "output_type": "execute_result",
          "data": {
            "text/plain": [
              "RandomForestClassifier(bootstrap=True, ccp_alpha=0.0, class_weight=None,\n",
              "                       criterion='gini', max_depth=3, max_features='auto',\n",
              "                       max_leaf_nodes=None, max_samples=None,\n",
              "                       min_impurity_decrease=0.0, min_impurity_split=None,\n",
              "                       min_samples_leaf=1, min_samples_split=2,\n",
              "                       min_weight_fraction_leaf=0.0, n_estimators=1000,\n",
              "                       n_jobs=-1, oob_score=False, random_state=0, verbose=0,\n",
              "                       warm_start=False)"
            ]
          },
          "metadata": {
            "tags": []
          },
          "execution_count": 114
        }
      ]
    },
    {
      "cell_type": "code",
      "metadata": {
        "id": "d3Un-sfuA1Cr",
        "colab_type": "code",
        "colab": {}
      },
      "source": [
        "preds=clf.predict(x)"
      ],
      "execution_count": 0,
      "outputs": []
    },
    {
      "cell_type": "code",
      "metadata": {
        "id": "LGC06lDRBYlK",
        "colab_type": "code",
        "outputId": "b5920670-cfc4-4da3-a50e-4704d6e6432a",
        "colab": {
          "base_uri": "https://localhost:8080/",
          "height": 34
        }
      },
      "source": [
        "clf.score(x,y)"
      ],
      "execution_count": 26,
      "outputs": [
        {
          "output_type": "execute_result",
          "data": {
            "text/plain": [
              "0.013476276171496271"
            ]
          },
          "metadata": {
            "tags": []
          },
          "execution_count": 26
        }
      ]
    },
    {
      "cell_type": "code",
      "metadata": {
        "id": "xGcac5AkBMBW",
        "colab_type": "code",
        "colab": {}
      },
      "source": [
        "v=sorted(list(zip(clf.feature_importances_,x)),reverse=True)[:30]"
      ],
      "execution_count": 0,
      "outputs": []
    },
    {
      "cell_type": "code",
      "metadata": {
        "id": "Smzx8ssXBQGh",
        "colab_type": "code",
        "outputId": "973ed6d2-090c-4990-ae11-2b8bda0792a9",
        "colab": {
          "base_uri": "https://localhost:8080/",
          "height": 521
        }
      },
      "source": [
        "v"
      ],
      "execution_count": 28,
      "outputs": [
        {
          "output_type": "execute_result",
          "data": {
            "text/plain": [
              "[(0.08203192643265711, 'calories'),\n",
              " (0.050995396000828336, 'sodium'),\n",
              " (0.0467691302243075, 'fat'),\n",
              " (0.04148263028108568, 'coconut'),\n",
              " (0.03104502560242898, 'fruit'),\n",
              " (0.02830321477006683, 'protein'),\n",
              " (0.02569188023139896, 'clove'),\n",
              " (0.024968633729926748, 'roast'),\n",
              " (0.015897697312171503, 'red wine'),\n",
              " (0.014579115842001888, 'zucchini'),\n",
              " (0.014573707790540756, 'apple'),\n",
              " (0.014212231557467682, 'salad'),\n",
              " (0.01419125813677874, 'basil'),\n",
              " (0.012479204461104523, 'jalapeño'),\n",
              " (0.011751259493957784, 'ice cream machine'),\n",
              " (0.01153341255938031, 'pepper'),\n",
              " (0.010416090008794551, 'dairy'),\n",
              " (0.010377898862732443, 'mayonnaise'),\n",
              " (0.010358474694411462, 'thanksgiving'),\n",
              " (0.010221244462309029, 'christmas'),\n",
              " (0.010157183265130605, 'no sugar added'),\n",
              " (0.008597587067848682, 'gourmet'),\n",
              " (0.008407508212487824, 'brunch'),\n",
              " (0.008250996116065225, 'cumin'),\n",
              " (0.008165340467611077, 'herb'),\n",
              " (0.007849111471469265, 'lunch'),\n",
              " (0.0071149234177979945, 'summer'),\n",
              " (0.006784062266756094, 'macadamia nut'),\n",
              " (0.0066128078983664395, 'stew'),\n",
              " (0.006570841743631244, 'walnut')]"
            ]
          },
          "metadata": {
            "tags": []
          },
          "execution_count": 28
        }
      ]
    },
    {
      "cell_type": "code",
      "metadata": {
        "id": "H7DULZhsBjE_",
        "colab_type": "code",
        "colab": {}
      },
      "source": [
        "list1, list2 = zip(*v)"
      ],
      "execution_count": 0,
      "outputs": []
    },
    {
      "cell_type": "code",
      "metadata": {
        "id": "xTQ7TUe5BlIu",
        "colab_type": "code",
        "colab": {}
      },
      "source": [
        "list22=list(list2)\n",
        "x22=x[list22]"
      ],
      "execution_count": 0,
      "outputs": []
    },
    {
      "cell_type": "code",
      "metadata": {
        "id": "p4IZ6x6gXPkL",
        "colab_type": "code",
        "colab": {}
      },
      "source": [
        "from sklearn.svm import LinearSVC\n",
        "svr=LinearSVC()"
      ],
      "execution_count": 0,
      "outputs": []
    },
    {
      "cell_type": "code",
      "metadata": {
        "id": "b5r2ROP1Bs-4",
        "colab_type": "code",
        "colab": {
          "base_uri": "https://localhost:8080/",
          "height": 118
        },
        "outputId": "348bfd96-03de-40c5-b2fc-806020786149"
      },
      "source": [
        "svr.fit(x22,y)"
      ],
      "execution_count": 35,
      "outputs": [
        {
          "output_type": "stream",
          "text": [
            "/usr/local/lib/python3.6/dist-packages/sklearn/svm/_base.py:947: ConvergenceWarning: Liblinear failed to converge, increase the number of iterations.\n",
            "  \"the number of iterations.\", ConvergenceWarning)\n"
          ],
          "name": "stderr"
        },
        {
          "output_type": "execute_result",
          "data": {
            "text/plain": [
              "LinearSVC(C=1.0, class_weight=None, dual=True, fit_intercept=True,\n",
              "          intercept_scaling=1, loss='squared_hinge', max_iter=1000,\n",
              "          multi_class='ovr', penalty='l2', random_state=None, tol=0.0001,\n",
              "          verbose=0)"
            ]
          },
          "metadata": {
            "tags": []
          },
          "execution_count": 35
        }
      ]
    },
    {
      "cell_type": "code",
      "metadata": {
        "id": "4sA46GYjXxQw",
        "colab_type": "code",
        "colab": {
          "base_uri": "https://localhost:8080/",
          "height": 34
        },
        "outputId": "b8c4874b-e287-465c-9594-e8d1d7e7036f"
      },
      "source": [
        "svr.predict(x22)"
      ],
      "execution_count": 37,
      "outputs": [
        {
          "output_type": "execute_result",
          "data": {
            "text/plain": [
              "array([0, 0, 0, ..., 0, 0, 0])"
            ]
          },
          "metadata": {
            "tags": []
          },
          "execution_count": 37
        }
      ]
    },
    {
      "cell_type": "code",
      "metadata": {
        "id": "NaCuMYr2Xka8",
        "colab_type": "code",
        "colab": {
          "base_uri": "https://localhost:8080/",
          "height": 34
        },
        "outputId": "6692e9b3-d9d3-4193-d5d4-717299c926ff"
      },
      "source": [
        "svr.score(x22,y)"
      ],
      "execution_count": 36,
      "outputs": [
        {
          "output_type": "execute_result",
          "data": {
            "text/plain": [
              "0.4669215425531915"
            ]
          },
          "metadata": {
            "tags": []
          },
          "execution_count": 36
        }
      ]
    },
    {
      "cell_type": "markdown",
      "metadata": {
        "id": "aB0p4NjEXsOc",
        "colab_type": "text"
      },
      "source": [
        "MUCH BETTER RESULT"
      ]
    },
    {
      "cell_type": "code",
      "metadata": {
        "id": "DKn7Ayb8X8YV",
        "colab_type": "code",
        "colab": {
          "base_uri": "https://localhost:8080/",
          "height": 282
        },
        "outputId": "9e7b7f3f-22bc-4a0a-aa68-0dd961767694"
      },
      "source": [
        "plt.scatter(y, svr.predict(x22))"
      ],
      "execution_count": 38,
      "outputs": [
        {
          "output_type": "execute_result",
          "data": {
            "text/plain": [
              "<matplotlib.collections.PathCollection at 0x7efc40bf26a0>"
            ]
          },
          "metadata": {
            "tags": []
          },
          "execution_count": 38
        },
        {
          "output_type": "display_data",
          "data": {
            "image/png": "[encoded data removed]",
            "text/plain": [
              "<Figure size 432x288 with 1 Axes>"
            ]
          },
          "metadata": {
            "tags": []
          }
        }
      ]
    }
  ]
}