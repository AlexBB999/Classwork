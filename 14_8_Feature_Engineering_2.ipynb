{
  "nbformat": 4,
  "nbformat_minor": 0,
  "metadata": {
    "colab": {
      "name": "14.8 Feature Engineering - 2",
      "provenance": [],
      "collapsed_sections": [],
      "authorship_tag": "ABX9TyOK/K7m6kbXYS5fvr9aBFcG",
      "include_colab_link": true
    },
    "kernelspec": {
      "name": "python3",
      "display_name": "Python 3"
    }
  },
  "cells": [
    {
      "cell_type": "markdown",
      "metadata": {
        "id": "view-in-github",
        "colab_type": "text"
      },
      "source": [
        "<a href=\"https://colab.research.google.com/github/AlexBB999/Classwork/blob/master/14_8_Feature_Engineering_2.ipynb\" target=\"_parent\"><img src=\"https://colab.research.google.com/assets/colab-badge.svg\" alt=\"Open In Colab\"/></a>"
      ]
    },
    {
      "cell_type": "code",
      "metadata": {
        "id": "RRW-eJTQuvU0",
        "colab_type": "code",
        "colab": {}
      },
      "source": [
        "# Import the SQL ALchemy engine\n",
        "from sqlalchemy import create_engine"
      ],
      "execution_count": 0,
      "outputs": []
    },
    {
      "cell_type": "code",
      "metadata": {
        "id": "VA4m1Twuuwc4",
        "colab_type": "code",
        "colab": {}
      },
      "source": [
        "import matplotlib.pyplot as plt\n",
        "import seaborn as sns\n",
        "import numpy as np\n",
        "import pandas as pd\n",
        "import scipy.stats as stats\n",
        "from scipy.stats import boxcox\n",
        "from scipy.stats import jarque_bera\n",
        "from scipy.stats import normaltest\n",
        "from scipy.stats.mstats import winsorize\n",
        "#from matplotlib.mlab import PCA as mlabPCA\n",
        "from sklearn.preprocessing import StandardScaler\n",
        "from sklearn.decomposition import PCA\n",
        "import warnings"
      ],
      "execution_count": 0,
      "outputs": []
    },
    {
      "cell_type": "code",
      "metadata": {
        "id": "zYUnlYS1wk1g",
        "colab_type": "code",
        "colab": {}
      },
      "source": [
        "warnings.filterwarnings('ignore')\n",
        "sns.set(style=\"whitegrid\")"
      ],
      "execution_count": 0,
      "outputs": []
    },
    {
      "cell_type": "code",
      "metadata": {
        "id": "_0wOvuH6u_6G",
        "colab_type": "code",
        "colab": {}
      },
      "source": [
        "postgres_user = 'dsbc_student'\n",
        "postgres_pw = '7*.8G9QH21'\n",
        "postgres_host = '142.93.121.174'\n",
        "postgres_port = '5432'\n",
        "postgres_db =  'useducation'"
      ],
      "execution_count": 0,
      "outputs": []
    },
    {
      "cell_type": "code",
      "metadata": {
        "id": "gC5NgGp8vTsf",
        "colab_type": "code",
        "colab": {}
      },
      "source": [
        "engine = create_engine('postgresql://{}:{}@{}:{}/{}'.format(\n",
        "    postgres_user, postgres_pw, postgres_host, postgres_port, postgres_db))"
      ],
      "execution_count": 0,
      "outputs": []
    },
    {
      "cell_type": "code",
      "metadata": {
        "id": "ufU3mUqVvZ2j",
        "colab_type": "code",
        "colab": {}
      },
      "source": [
        "ed0 = pd.read_sql_query('select * FROM useducation',con=engine)\n",
        "#educate= engine.execute('SELECT * FROM useducation')\n",
        "engine.dispose()"
      ],
      "execution_count": 0,
      "outputs": []
    },
    {
      "cell_type": "code",
      "metadata": {
        "id": "m-2LAryWVBtk",
        "colab_type": "code",
        "colab": {}
      },
      "source": [
        "ed=ed0.copy()"
      ],
      "execution_count": 0,
      "outputs": []
    },
    {
      "cell_type": "code",
      "metadata": {
        "id": "TMsPuMx7d44Y",
        "colab_type": "code",
        "colab": {}
      },
      "source": [
        "education_df=ed0.copy()"
      ],
      "execution_count": 0,
      "outputs": []
    },
    {
      "cell_type": "code",
      "metadata": {
        "id": "WeTedLmZv1jl",
        "colab_type": "code",
        "outputId": "c9a90f86-9b0b-4a99-d9b6-c791e69b806a",
        "colab": {
          "base_uri": "https://localhost:8080/",
          "height": 363
        }
      },
      "source": [
        "ed.head(10)"
      ],
      "execution_count": 188,
      "outputs": [
        {
          "output_type": "execute_result",
          "data": {
            "text/html": [
              "<div>\n",
              "<style scoped>\n",
              "    .dataframe tbody tr th:only-of-type {\n",
              "        vertical-align: middle;\n",
              "    }\n",
              "\n",
              "    .dataframe tbody tr th {\n",
              "        vertical-align: top;\n",
              "    }\n",
              "\n",
              "    .dataframe thead th {\n",
              "        text-align: right;\n",
              "    }\n",
              "</style>\n",
              "<table border=\"1\" class=\"dataframe\">\n",
              "  <thead>\n",
              "    <tr style=\"text-align: right;\">\n",
              "      <th></th>\n",
              "      <th>PRIMARY_KEY</th>\n",
              "      <th>STATE</th>\n",
              "      <th>YEAR</th>\n",
              "      <th>ENROLL</th>\n",
              "      <th>TOTAL_REVENUE</th>\n",
              "      <th>FEDERAL_REVENUE</th>\n",
              "      <th>STATE_REVENUE</th>\n",
              "      <th>LOCAL_REVENUE</th>\n",
              "      <th>TOTAL_EXPENDITURE</th>\n",
              "      <th>INSTRUCTION_EXPENDITURE</th>\n",
              "      <th>SUPPORT_SERVICES_EXPENDITURE</th>\n",
              "      <th>OTHER_EXPENDITURE</th>\n",
              "      <th>CAPITAL_OUTLAY_EXPENDITURE</th>\n",
              "      <th>GRADES_PK_G</th>\n",
              "      <th>GRADES_KG_G</th>\n",
              "      <th>GRADES_4_G</th>\n",
              "      <th>GRADES_8_G</th>\n",
              "      <th>GRADES_12_G</th>\n",
              "      <th>GRADES_1_8_G</th>\n",
              "      <th>GRADES_9_12_G</th>\n",
              "      <th>GRADES_ALL_G</th>\n",
              "      <th>AVG_MATH_4_SCORE</th>\n",
              "      <th>AVG_MATH_8_SCORE</th>\n",
              "      <th>AVG_READING_4_SCORE</th>\n",
              "      <th>AVG_READING_8_SCORE</th>\n",
              "    </tr>\n",
              "  </thead>\n",
              "  <tbody>\n",
              "    <tr>\n",
              "      <th>0</th>\n",
              "      <td>1992_ALABAMA</td>\n",
              "      <td>ALABAMA</td>\n",
              "      <td>1992</td>\n",
              "      <td>NaN</td>\n",
              "      <td>2678885.0</td>\n",
              "      <td>304177.0</td>\n",
              "      <td>1659028.0</td>\n",
              "      <td>715680.0</td>\n",
              "      <td>2653798.0</td>\n",
              "      <td>1481703.0</td>\n",
              "      <td>735036.0</td>\n",
              "      <td>NaN</td>\n",
              "      <td>174053.0</td>\n",
              "      <td>8224.0</td>\n",
              "      <td>55460.0</td>\n",
              "      <td>57948.0</td>\n",
              "      <td>58025.0</td>\n",
              "      <td>41167.0</td>\n",
              "      <td>471564.0</td>\n",
              "      <td>196386.0</td>\n",
              "      <td>676174.0</td>\n",
              "      <td>208.327876</td>\n",
              "      <td>252.187522</td>\n",
              "      <td>207.963517</td>\n",
              "      <td>NaN</td>\n",
              "    </tr>\n",
              "    <tr>\n",
              "      <th>1</th>\n",
              "      <td>1992_ALASKA</td>\n",
              "      <td>ALASKA</td>\n",
              "      <td>1992</td>\n",
              "      <td>NaN</td>\n",
              "      <td>1049591.0</td>\n",
              "      <td>106780.0</td>\n",
              "      <td>720711.0</td>\n",
              "      <td>222100.0</td>\n",
              "      <td>972488.0</td>\n",
              "      <td>498362.0</td>\n",
              "      <td>350902.0</td>\n",
              "      <td>NaN</td>\n",
              "      <td>37451.0</td>\n",
              "      <td>2371.0</td>\n",
              "      <td>10152.0</td>\n",
              "      <td>9748.0</td>\n",
              "      <td>8789.0</td>\n",
              "      <td>6714.0</td>\n",
              "      <td>79117.0</td>\n",
              "      <td>30847.0</td>\n",
              "      <td>112335.0</td>\n",
              "      <td>NaN</td>\n",
              "      <td>NaN</td>\n",
              "      <td>NaN</td>\n",
              "      <td>258.859712</td>\n",
              "    </tr>\n",
              "    <tr>\n",
              "      <th>2</th>\n",
              "      <td>1992_ARIZONA</td>\n",
              "      <td>ARIZONA</td>\n",
              "      <td>1992</td>\n",
              "      <td>NaN</td>\n",
              "      <td>3258079.0</td>\n",
              "      <td>297888.0</td>\n",
              "      <td>1369815.0</td>\n",
              "      <td>1590376.0</td>\n",
              "      <td>3401580.0</td>\n",
              "      <td>1435908.0</td>\n",
              "      <td>1007732.0</td>\n",
              "      <td>NaN</td>\n",
              "      <td>609114.0</td>\n",
              "      <td>2544.0</td>\n",
              "      <td>53497.0</td>\n",
              "      <td>55433.0</td>\n",
              "      <td>49081.0</td>\n",
              "      <td>37410.0</td>\n",
              "      <td>437127.0</td>\n",
              "      <td>175210.0</td>\n",
              "      <td>614881.0</td>\n",
              "      <td>215.253932</td>\n",
              "      <td>265.366278</td>\n",
              "      <td>206.212716</td>\n",
              "      <td>262.169895</td>\n",
              "    </tr>\n",
              "    <tr>\n",
              "      <th>3</th>\n",
              "      <td>1992_ARKANSAS</td>\n",
              "      <td>ARKANSAS</td>\n",
              "      <td>1992</td>\n",
              "      <td>NaN</td>\n",
              "      <td>1711959.0</td>\n",
              "      <td>178571.0</td>\n",
              "      <td>958785.0</td>\n",
              "      <td>574603.0</td>\n",
              "      <td>1743022.0</td>\n",
              "      <td>964323.0</td>\n",
              "      <td>483488.0</td>\n",
              "      <td>NaN</td>\n",
              "      <td>145212.0</td>\n",
              "      <td>808.0</td>\n",
              "      <td>33511.0</td>\n",
              "      <td>34632.0</td>\n",
              "      <td>36011.0</td>\n",
              "      <td>27651.0</td>\n",
              "      <td>281338.0</td>\n",
              "      <td>123113.0</td>\n",
              "      <td>405259.0</td>\n",
              "      <td>210.206028</td>\n",
              "      <td>256.312090</td>\n",
              "      <td>208.634458</td>\n",
              "      <td>264.619665</td>\n",
              "    </tr>\n",
              "    <tr>\n",
              "      <th>4</th>\n",
              "      <td>1992_CALIFORNIA</td>\n",
              "      <td>CALIFORNIA</td>\n",
              "      <td>1992</td>\n",
              "      <td>NaN</td>\n",
              "      <td>26260025.0</td>\n",
              "      <td>2072470.0</td>\n",
              "      <td>16546514.0</td>\n",
              "      <td>7641041.0</td>\n",
              "      <td>27138832.0</td>\n",
              "      <td>14358922.0</td>\n",
              "      <td>8520926.0</td>\n",
              "      <td>NaN</td>\n",
              "      <td>2044688.0</td>\n",
              "      <td>59067.0</td>\n",
              "      <td>431763.0</td>\n",
              "      <td>418418.0</td>\n",
              "      <td>363296.0</td>\n",
              "      <td>270675.0</td>\n",
              "      <td>3286034.0</td>\n",
              "      <td>1372011.0</td>\n",
              "      <td>4717112.0</td>\n",
              "      <td>208.398961</td>\n",
              "      <td>260.892247</td>\n",
              "      <td>196.764414</td>\n",
              "      <td>NaN</td>\n",
              "    </tr>\n",
              "    <tr>\n",
              "      <th>5</th>\n",
              "      <td>1992_COLORADO</td>\n",
              "      <td>COLORADO</td>\n",
              "      <td>1992</td>\n",
              "      <td>NaN</td>\n",
              "      <td>3185173.0</td>\n",
              "      <td>163253.0</td>\n",
              "      <td>1307986.0</td>\n",
              "      <td>1713934.0</td>\n",
              "      <td>3264826.0</td>\n",
              "      <td>1642466.0</td>\n",
              "      <td>1035970.0</td>\n",
              "      <td>NaN</td>\n",
              "      <td>364760.0</td>\n",
              "      <td>7410.0</td>\n",
              "      <td>47588.0</td>\n",
              "      <td>50648.0</td>\n",
              "      <td>45025.0</td>\n",
              "      <td>34533.0</td>\n",
              "      <td>394904.0</td>\n",
              "      <td>160299.0</td>\n",
              "      <td>562613.0</td>\n",
              "      <td>221.023429</td>\n",
              "      <td>272.398433</td>\n",
              "      <td>213.480890</td>\n",
              "      <td>266.419687</td>\n",
              "    </tr>\n",
              "    <tr>\n",
              "      <th>6</th>\n",
              "      <td>1992_CONNECTICUT</td>\n",
              "      <td>CONNECTICUT</td>\n",
              "      <td>1992</td>\n",
              "      <td>NaN</td>\n",
              "      <td>3834302.0</td>\n",
              "      <td>143542.0</td>\n",
              "      <td>1342539.0</td>\n",
              "      <td>2348221.0</td>\n",
              "      <td>3721338.0</td>\n",
              "      <td>2148041.0</td>\n",
              "      <td>1142600.0</td>\n",
              "      <td>NaN</td>\n",
              "      <td>48542.0</td>\n",
              "      <td>5731.0</td>\n",
              "      <td>41319.0</td>\n",
              "      <td>38058.0</td>\n",
              "      <td>33691.0</td>\n",
              "      <td>28366.0</td>\n",
              "      <td>304284.0</td>\n",
              "      <td>126917.0</td>\n",
              "      <td>436932.0</td>\n",
              "      <td>226.798480</td>\n",
              "      <td>273.739345</td>\n",
              "      <td>222.417599</td>\n",
              "      <td>264.713904</td>\n",
              "    </tr>\n",
              "    <tr>\n",
              "      <th>7</th>\n",
              "      <td>1992_DELAWARE</td>\n",
              "      <td>DELAWARE</td>\n",
              "      <td>1992</td>\n",
              "      <td>NaN</td>\n",
              "      <td>645233.0</td>\n",
              "      <td>45945.0</td>\n",
              "      <td>420942.0</td>\n",
              "      <td>178346.0</td>\n",
              "      <td>638784.0</td>\n",
              "      <td>372722.0</td>\n",
              "      <td>194915.0</td>\n",
              "      <td>NaN</td>\n",
              "      <td>30595.0</td>\n",
              "      <td>463.0</td>\n",
              "      <td>8025.0</td>\n",
              "      <td>8272.0</td>\n",
              "      <td>8012.0</td>\n",
              "      <td>6129.0</td>\n",
              "      <td>67495.0</td>\n",
              "      <td>28338.0</td>\n",
              "      <td>96296.0</td>\n",
              "      <td>217.899972</td>\n",
              "      <td>262.868585</td>\n",
              "      <td>206.389052</td>\n",
              "      <td>261.577921</td>\n",
              "    </tr>\n",
              "    <tr>\n",
              "      <th>8</th>\n",
              "      <td>1992_DISTRICT_OF_COLUMBIA</td>\n",
              "      <td>DISTRICT_OF_COLUMBIA</td>\n",
              "      <td>1992</td>\n",
              "      <td>NaN</td>\n",
              "      <td>709480.0</td>\n",
              "      <td>64749.0</td>\n",
              "      <td>0.0</td>\n",
              "      <td>644731.0</td>\n",
              "      <td>742893.0</td>\n",
              "      <td>329160.0</td>\n",
              "      <td>316679.0</td>\n",
              "      <td>NaN</td>\n",
              "      <td>47272.0</td>\n",
              "      <td>4818.0</td>\n",
              "      <td>6667.0</td>\n",
              "      <td>5832.0</td>\n",
              "      <td>5000.0</td>\n",
              "      <td>3433.0</td>\n",
              "      <td>47009.0</td>\n",
              "      <td>18173.0</td>\n",
              "      <td>70000.0</td>\n",
              "      <td>192.600553</td>\n",
              "      <td>234.924621</td>\n",
              "      <td>178.557612</td>\n",
              "      <td>265.976765</td>\n",
              "    </tr>\n",
              "    <tr>\n",
              "      <th>9</th>\n",
              "      <td>1992_FLORIDA</td>\n",
              "      <td>FLORIDA</td>\n",
              "      <td>1992</td>\n",
              "      <td>NaN</td>\n",
              "      <td>11506299.0</td>\n",
              "      <td>788420.0</td>\n",
              "      <td>5683949.0</td>\n",
              "      <td>5033930.0</td>\n",
              "      <td>11305642.0</td>\n",
              "      <td>5166374.0</td>\n",
              "      <td>3410440.0</td>\n",
              "      <td>NaN</td>\n",
              "      <td>1667826.0</td>\n",
              "      <td>31464.0</td>\n",
              "      <td>161701.0</td>\n",
              "      <td>164416.0</td>\n",
              "      <td>142372.0</td>\n",
              "      <td>100835.0</td>\n",
              "      <td>1276685.0</td>\n",
              "      <td>511557.0</td>\n",
              "      <td>1819706.0</td>\n",
              "      <td>213.689751</td>\n",
              "      <td>259.908848</td>\n",
              "      <td>204.882606</td>\n",
              "      <td>262.118986</td>\n",
              "    </tr>\n",
              "  </tbody>\n",
              "</table>\n",
              "</div>"
            ],
            "text/plain": [
              "                 PRIMARY_KEY  ... AVG_READING_8_SCORE\n",
              "0               1992_ALABAMA  ...                 NaN\n",
              "1                1992_ALASKA  ...          258.859712\n",
              "2               1992_ARIZONA  ...          262.169895\n",
              "3              1992_ARKANSAS  ...          264.619665\n",
              "4            1992_CALIFORNIA  ...                 NaN\n",
              "5              1992_COLORADO  ...          266.419687\n",
              "6           1992_CONNECTICUT  ...          264.713904\n",
              "7              1992_DELAWARE  ...          261.577921\n",
              "8  1992_DISTRICT_OF_COLUMBIA  ...          265.976765\n",
              "9               1992_FLORIDA  ...          262.118986\n",
              "\n",
              "[10 rows x 25 columns]"
            ]
          },
          "metadata": {
            "tags": []
          },
          "execution_count": 188
        }
      ]
    },
    {
      "cell_type": "code",
      "metadata": {
        "id": "CshONOAhfJbQ",
        "colab_type": "code",
        "outputId": "bc9ed4d5-a8e3-4ab3-db0f-f43a12ed6ebb",
        "colab": {
          "base_uri": "https://localhost:8080/",
          "height": 34
        }
      },
      "source": [
        "ed['LOCAL_REVENUE'].max()\n"
      ],
      "execution_count": 0,
      "outputs": [
        {
          "output_type": "execute_result",
          "data": {
            "text/plain": [
              "12504507.0"
            ]
          },
          "metadata": {
            "tags": []
          },
          "execution_count": 30
        }
      ]
    },
    {
      "cell_type": "code",
      "metadata": {
        "id": "gcp-QQBRWGb4",
        "colab_type": "code",
        "outputId": "6613aba9-7979-4a39-88d2-043681b615ad",
        "colab": {
          "base_uri": "https://localhost:8080/",
          "height": 304
        }
      },
      "source": [
        "ed.describe()"
      ],
      "execution_count": 0,
      "outputs": [
        {
          "output_type": "execute_result",
          "data": {
            "text/html": [
              "<div>\n",
              "<style scoped>\n",
              "    .dataframe tbody tr th:only-of-type {\n",
              "        vertical-align: middle;\n",
              "    }\n",
              "\n",
              "    .dataframe tbody tr th {\n",
              "        vertical-align: top;\n",
              "    }\n",
              "\n",
              "    .dataframe thead th {\n",
              "        text-align: right;\n",
              "    }\n",
              "</style>\n",
              "<table border=\"1\" class=\"dataframe\">\n",
              "  <thead>\n",
              "    <tr style=\"text-align: right;\">\n",
              "      <th></th>\n",
              "      <th>YEAR</th>\n",
              "      <th>ENROLL</th>\n",
              "      <th>TOTAL_REVENUE</th>\n",
              "      <th>FEDERAL_REVENUE</th>\n",
              "      <th>STATE_REVENUE</th>\n",
              "      <th>LOCAL_REVENUE</th>\n",
              "      <th>TOTAL_EXPENDITURE</th>\n",
              "      <th>INSTRUCTION_EXPENDITURE</th>\n",
              "      <th>SUPPORT_SERVICES_EXPENDITURE</th>\n",
              "      <th>OTHER_EXPENDITURE</th>\n",
              "      <th>CAPITAL_OUTLAY_EXPENDITURE</th>\n",
              "      <th>GRADES_PK_G</th>\n",
              "      <th>GRADES_KG_G</th>\n",
              "      <th>GRADES_4_G</th>\n",
              "      <th>GRADES_8_G</th>\n",
              "      <th>GRADES_12_G</th>\n",
              "      <th>GRADES_1_8_G</th>\n",
              "      <th>GRADES_9_12_G</th>\n",
              "      <th>GRADES_ALL_G</th>\n",
              "      <th>AVG_MATH_4_SCORE</th>\n",
              "      <th>AVG_MATH_8_SCORE</th>\n",
              "      <th>AVG_READING_4_SCORE</th>\n",
              "      <th>AVG_READING_8_SCORE</th>\n",
              "    </tr>\n",
              "  </thead>\n",
              "  <tbody>\n",
              "    <tr>\n",
              "      <th>count</th>\n",
              "      <td>1492.000000</td>\n",
              "      <td>1.229000e+03</td>\n",
              "      <td>1.280000e+03</td>\n",
              "      <td>1.280000e+03</td>\n",
              "      <td>1.280000e+03</td>\n",
              "      <td>1.280000e+03</td>\n",
              "      <td>1.280000e+03</td>\n",
              "      <td>1.280000e+03</td>\n",
              "      <td>1.280000e+03</td>\n",
              "      <td>1.229000e+03</td>\n",
              "      <td>1.280000e+03</td>\n",
              "      <td>1319.000000</td>\n",
              "      <td>1360.000000</td>\n",
              "      <td>1361.000000</td>\n",
              "      <td>1361.000000</td>\n",
              "      <td>1361.00000</td>\n",
              "      <td>1.361000e+03</td>\n",
              "      <td>1.361000e+03</td>\n",
              "      <td>1.319000e+03</td>\n",
              "      <td>536.000000</td>\n",
              "      <td>532.000000</td>\n",
              "      <td>533.000000</td>\n",
              "      <td>498.000000</td>\n",
              "    </tr>\n",
              "    <tr>\n",
              "      <th>mean</th>\n",
              "      <td>2004.433646</td>\n",
              "      <td>9.159308e+05</td>\n",
              "      <td>9.092082e+06</td>\n",
              "      <td>7.663723e+05</td>\n",
              "      <td>4.216553e+06</td>\n",
              "      <td>4.109157e+06</td>\n",
              "      <td>9.196681e+06</td>\n",
              "      <td>4.762966e+06</td>\n",
              "      <td>2.680331e+06</td>\n",
              "      <td>4.292046e+05</td>\n",
              "      <td>9.027693e+05</td>\n",
              "      <td>17601.614102</td>\n",
              "      <td>63746.761029</td>\n",
              "      <td>64538.927259</td>\n",
              "      <td>64271.057311</td>\n",
              "      <td>54268.92432</td>\n",
              "      <td>5.192140e+05</td>\n",
              "      <td>2.470714e+05</td>\n",
              "      <td>8.024415e+05</td>\n",
              "      <td>234.768293</td>\n",
              "      <td>278.414711</td>\n",
              "      <td>218.866154</td>\n",
              "      <td>263.661132</td>\n",
              "    </tr>\n",
              "    <tr>\n",
              "      <th>std</th>\n",
              "      <td>7.393983</td>\n",
              "      <td>1.065280e+06</td>\n",
              "      <td>1.174519e+07</td>\n",
              "      <td>1.145242e+06</td>\n",
              "      <td>5.543072e+06</td>\n",
              "      <td>5.482971e+06</td>\n",
              "      <td>1.197813e+07</td>\n",
              "      <td>6.293004e+06</td>\n",
              "      <td>3.353349e+06</td>\n",
              "      <td>5.340693e+05</td>\n",
              "      <td>1.327562e+06</td>\n",
              "      <td>30016.166447</td>\n",
              "      <td>80205.138143</td>\n",
              "      <td>80293.387625</td>\n",
              "      <td>78910.545776</td>\n",
              "      <td>67889.27623</td>\n",
              "      <td>6.436384e+05</td>\n",
              "      <td>3.077056e+05</td>\n",
              "      <td>9.707031e+05</td>\n",
              "      <td>10.221511</td>\n",
              "      <td>10.159722</td>\n",
              "      <td>7.769616</td>\n",
              "      <td>6.803725</td>\n",
              "    </tr>\n",
              "    <tr>\n",
              "      <th>min</th>\n",
              "      <td>1992.000000</td>\n",
              "      <td>4.386600e+04</td>\n",
              "      <td>4.656500e+05</td>\n",
              "      <td>3.102000e+04</td>\n",
              "      <td>0.000000e+00</td>\n",
              "      <td>2.209300e+04</td>\n",
              "      <td>4.816650e+05</td>\n",
              "      <td>2.655490e+05</td>\n",
              "      <td>1.399630e+05</td>\n",
              "      <td>1.154100e+04</td>\n",
              "      <td>1.270800e+04</td>\n",
              "      <td>0.000000</td>\n",
              "      <td>544.000000</td>\n",
              "      <td>633.000000</td>\n",
              "      <td>437.000000</td>\n",
              "      <td>311.00000</td>\n",
              "      <td>4.878000e+03</td>\n",
              "      <td>1.808000e+03</td>\n",
              "      <td>7.254000e+03</td>\n",
              "      <td>187.134670</td>\n",
              "      <td>232.831510</td>\n",
              "      <td>178.557612</td>\n",
              "      <td>236.379102</td>\n",
              "    </tr>\n",
              "    <tr>\n",
              "      <th>25%</th>\n",
              "      <td>1998.000000</td>\n",
              "      <td>2.583140e+05</td>\n",
              "      <td>2.186305e+06</td>\n",
              "      <td>1.893540e+05</td>\n",
              "      <td>1.153097e+06</td>\n",
              "      <td>7.158345e+05</td>\n",
              "      <td>2.165404e+06</td>\n",
              "      <td>1.168032e+06</td>\n",
              "      <td>6.357900e+05</td>\n",
              "      <td>1.028310e+05</td>\n",
              "      <td>1.815645e+05</td>\n",
              "      <td>2021.000000</td>\n",
              "      <td>11745.000000</td>\n",
              "      <td>13739.000000</td>\n",
              "      <td>13342.000000</td>\n",
              "      <td>10919.00000</td>\n",
              "      <td>1.106260e+05</td>\n",
              "      <td>5.147100e+04</td>\n",
              "      <td>1.810650e+05</td>\n",
              "      <td>229.694352</td>\n",
              "      <td>272.761598</td>\n",
              "      <td>214.663401</td>\n",
              "      <td>259.533171</td>\n",
              "    </tr>\n",
              "    <tr>\n",
              "      <th>50%</th>\n",
              "      <td>2004.000000</td>\n",
              "      <td>6.483130e+05</td>\n",
              "      <td>5.079546e+06</td>\n",
              "      <td>4.033765e+05</td>\n",
              "      <td>2.537074e+06</td>\n",
              "      <td>2.055780e+06</td>\n",
              "      <td>5.234506e+06</td>\n",
              "      <td>2.657452e+06</td>\n",
              "      <td>1.525406e+06</td>\n",
              "      <td>2.715960e+05</td>\n",
              "      <td>5.102595e+05</td>\n",
              "      <td>8106.000000</td>\n",
              "      <td>41597.500000</td>\n",
              "      <td>43272.000000</td>\n",
              "      <td>43339.000000</td>\n",
              "      <td>36735.00000</td>\n",
              "      <td>3.457750e+05</td>\n",
              "      <td>1.642600e+05</td>\n",
              "      <td>5.503420e+05</td>\n",
              "      <td>237.238552</td>\n",
              "      <td>280.618803</td>\n",
              "      <td>220.416034</td>\n",
              "      <td>265.010912</td>\n",
              "    </tr>\n",
              "    <tr>\n",
              "      <th>75%</th>\n",
              "      <td>2011.000000</td>\n",
              "      <td>1.014528e+06</td>\n",
              "      <td>1.085985e+07</td>\n",
              "      <td>8.289660e+05</td>\n",
              "      <td>5.080939e+06</td>\n",
              "      <td>4.768680e+06</td>\n",
              "      <td>1.074519e+07</td>\n",
              "      <td>5.568028e+06</td>\n",
              "      <td>3.229651e+06</td>\n",
              "      <td>5.186000e+05</td>\n",
              "      <td>9.668515e+05</td>\n",
              "      <td>22295.000000</td>\n",
              "      <td>73865.250000</td>\n",
              "      <td>75481.000000</td>\n",
              "      <td>76566.000000</td>\n",
              "      <td>67460.00000</td>\n",
              "      <td>6.119050e+05</td>\n",
              "      <td>2.905020e+05</td>\n",
              "      <td>9.282755e+05</td>\n",
              "      <td>241.995486</td>\n",
              "      <td>285.347428</td>\n",
              "      <td>223.999337</td>\n",
              "      <td>268.190121</td>\n",
              "    </tr>\n",
              "    <tr>\n",
              "      <th>max</th>\n",
              "      <td>2017.000000</td>\n",
              "      <td>6.307022e+06</td>\n",
              "      <td>8.921726e+07</td>\n",
              "      <td>9.990221e+06</td>\n",
              "      <td>5.090457e+07</td>\n",
              "      <td>3.610526e+07</td>\n",
              "      <td>8.532013e+07</td>\n",
              "      <td>4.396452e+07</td>\n",
              "      <td>2.605802e+07</td>\n",
              "      <td>3.995951e+06</td>\n",
              "      <td>1.022366e+07</td>\n",
              "      <td>250911.000000</td>\n",
              "      <td>530531.000000</td>\n",
              "      <td>493415.000000</td>\n",
              "      <td>500143.000000</td>\n",
              "      <td>498403.00000</td>\n",
              "      <td>3.929869e+06</td>\n",
              "      <td>2.013687e+06</td>\n",
              "      <td>5.944746e+06</td>\n",
              "      <td>253.420961</td>\n",
              "      <td>300.568235</td>\n",
              "      <td>236.773867</td>\n",
              "      <td>280.499130</td>\n",
              "    </tr>\n",
              "  </tbody>\n",
              "</table>\n",
              "</div>"
            ],
            "text/plain": [
              "              YEAR        ENROLL  ...  AVG_READING_4_SCORE  AVG_READING_8_SCORE\n",
              "count  1492.000000  1.229000e+03  ...           533.000000           498.000000\n",
              "mean   2004.433646  9.159308e+05  ...           218.866154           263.661132\n",
              "std       7.393983  1.065280e+06  ...             7.769616             6.803725\n",
              "min    1992.000000  4.386600e+04  ...           178.557612           236.379102\n",
              "25%    1998.000000  2.583140e+05  ...           214.663401           259.533171\n",
              "50%    2004.000000  6.483130e+05  ...           220.416034           265.010912\n",
              "75%    2011.000000  1.014528e+06  ...           223.999337           268.190121\n",
              "max    2017.000000  6.307022e+06  ...           236.773867           280.499130\n",
              "\n",
              "[8 rows x 23 columns]"
            ]
          },
          "metadata": {
            "tags": []
          },
          "execution_count": 11
        }
      ]
    },
    {
      "cell_type": "markdown",
      "metadata": {
        "id": "3pCF-IbbuXcG",
        "colab_type": "text"
      },
      "source": [
        "Create a new score variable from the weighted averages of all score variables in the datasets. Notice that the number of students in the 4th grade isn't the same as the number of students in the 8th grade. So, you should appropriately weigh the scores!.\n",
        "\n",
        "What are the correlations between this newly created score variable and the expenditure types? Which 1 of the expenditure types is more correlated than the others?\n",
        "\n",
        "Now, apply PCA to the 4 expenditure types. How much of the total variance is explained by the 1st component?\n",
        "\n",
        "What is the correlation between the overall score variable and the 1st principal component?\n",
        "\n",
        "If you were to choose the best variables for your model, would you prefer using the 1st principal component instead of the expenditure variables? Why?"
      ]
    },
    {
      "cell_type": "markdown",
      "metadata": {
        "id": "_OrzARnrdjty",
        "colab_type": "text"
      },
      "source": [
        "**From Sample Solution**\n"
      ]
    },
    {
      "cell_type": "code",
      "metadata": {
        "id": "7jfEUrFbdvbl",
        "colab_type": "code",
        "colab": {}
      },
      "source": [
        "fill_list = [\"ENROLL\", \"TOTAL_REVENUE\", \"FEDERAL_REVENUE\",\n",
        "             \"STATE_REVENUE\", \"LOCAL_REVENUE\", \"TOTAL_EXPENDITURE\",\n",
        "             \"INSTRUCTION_EXPENDITURE\", \"SUPPORT_SERVICES_EXPENDITURE\",\n",
        "             \"OTHER_EXPENDITURE\", \"CAPITAL_OUTLAY_EXPENDITURE\", \"GRADES_PK_G\",\n",
        "             \"GRADES_KG_G\", \"GRADES_4_G\", \"GRADES_8_G\", \"GRADES_12_G\", \"GRADES_1_8_G\",\n",
        "             \"GRADES_9_12_G\", \"GRADES_ALL_G\"]\n",
        "\n",
        "states = education_df[\"STATE\"].unique()\n",
        "\n",
        "for state in states:\n",
        "    education_df.loc[education_df[\"STATE\"] == state, fill_list] = education_df.loc[education_df[\"STATE\"] == state, fill_list].interpolate()\n",
        "\n",
        "# we drop the null values after interpolation\n",
        "education_df.dropna(inplace=True)"
      ],
      "execution_count": 0,
      "outputs": []
    },
    {
      "cell_type": "code",
      "metadata": {
        "id": "tZgJXE5BeRB2",
        "colab_type": "code",
        "colab": {}
      },
      "source": [
        "education_df[\"overall_score\"] = (education_df[\"GRADES_4_G\"]*((education_df[\"AVG_MATH_4_SCORE\"] + education_df[\"AVG_READING_4_SCORE\"])*0.5) + education_df[\"GRADES_8_G\"]\n",
        "                                 * ((education_df[\"AVG_MATH_8_SCORE\"] + education_df[\"AVG_READING_8_SCORE\"])*0.5))/(education_df[\"GRADES_4_G\"] + education_df[\"GRADES_8_G\"])"
      ],
      "execution_count": 0,
      "outputs": []
    },
    {
      "cell_type": "code",
      "metadata": {
        "id": "xP2pE89weYNa",
        "colab_type": "code",
        "colab": {
          "base_uri": "https://localhost:8080/",
          "height": 225
        },
        "outputId": "01c86d99-793e-42ef-ae83-da0bbb487488"
      },
      "source": [
        "education_df[[\"overall_score\", \"TOTAL_EXPENDITURE\", \"INSTRUCTION_EXPENDITURE\",\n",
        "              \"SUPPORT_SERVICES_EXPENDITURE\", \"OTHER_EXPENDITURE\", \"CAPITAL_OUTLAY_EXPENDITURE\"]].corr()"
      ],
      "execution_count": 203,
      "outputs": [
        {
          "output_type": "execute_result",
          "data": {
            "text/html": [
              "<div>\n",
              "<style scoped>\n",
              "    .dataframe tbody tr th:only-of-type {\n",
              "        vertical-align: middle;\n",
              "    }\n",
              "\n",
              "    .dataframe tbody tr th {\n",
              "        vertical-align: top;\n",
              "    }\n",
              "\n",
              "    .dataframe thead th {\n",
              "        text-align: right;\n",
              "    }\n",
              "</style>\n",
              "<table border=\"1\" class=\"dataframe\">\n",
              "  <thead>\n",
              "    <tr style=\"text-align: right;\">\n",
              "      <th></th>\n",
              "      <th>overall_score</th>\n",
              "      <th>TOTAL_EXPENDITURE</th>\n",
              "      <th>INSTRUCTION_EXPENDITURE</th>\n",
              "      <th>SUPPORT_SERVICES_EXPENDITURE</th>\n",
              "      <th>OTHER_EXPENDITURE</th>\n",
              "      <th>CAPITAL_OUTLAY_EXPENDITURE</th>\n",
              "    </tr>\n",
              "  </thead>\n",
              "  <tbody>\n",
              "    <tr>\n",
              "      <th>overall_score</th>\n",
              "      <td>1.000000</td>\n",
              "      <td>0.074155</td>\n",
              "      <td>0.087386</td>\n",
              "      <td>0.079002</td>\n",
              "      <td>0.010959</td>\n",
              "      <td>-0.005389</td>\n",
              "    </tr>\n",
              "    <tr>\n",
              "      <th>TOTAL_EXPENDITURE</th>\n",
              "      <td>0.074155</td>\n",
              "      <td>1.000000</td>\n",
              "      <td>0.990255</td>\n",
              "      <td>0.992988</td>\n",
              "      <td>0.943702</td>\n",
              "      <td>0.925784</td>\n",
              "    </tr>\n",
              "    <tr>\n",
              "      <th>INSTRUCTION_EXPENDITURE</th>\n",
              "      <td>0.087386</td>\n",
              "      <td>0.990255</td>\n",
              "      <td>1.000000</td>\n",
              "      <td>0.974399</td>\n",
              "      <td>0.902173</td>\n",
              "      <td>0.884798</td>\n",
              "    </tr>\n",
              "    <tr>\n",
              "      <th>SUPPORT_SERVICES_EXPENDITURE</th>\n",
              "      <td>0.079002</td>\n",
              "      <td>0.992988</td>\n",
              "      <td>0.974399</td>\n",
              "      <td>1.000000</td>\n",
              "      <td>0.952282</td>\n",
              "      <td>0.911245</td>\n",
              "    </tr>\n",
              "    <tr>\n",
              "      <th>OTHER_EXPENDITURE</th>\n",
              "      <td>0.010959</td>\n",
              "      <td>0.943702</td>\n",
              "      <td>0.902173</td>\n",
              "      <td>0.952282</td>\n",
              "      <td>1.000000</td>\n",
              "      <td>0.918188</td>\n",
              "    </tr>\n",
              "    <tr>\n",
              "      <th>CAPITAL_OUTLAY_EXPENDITURE</th>\n",
              "      <td>-0.005389</td>\n",
              "      <td>0.925784</td>\n",
              "      <td>0.884798</td>\n",
              "      <td>0.911245</td>\n",
              "      <td>0.918188</td>\n",
              "      <td>1.000000</td>\n",
              "    </tr>\n",
              "  </tbody>\n",
              "</table>\n",
              "</div>"
            ],
            "text/plain": [
              "                              overall_score  ...  CAPITAL_OUTLAY_EXPENDITURE\n",
              "overall_score                      1.000000  ...                   -0.005389\n",
              "TOTAL_EXPENDITURE                  0.074155  ...                    0.925784\n",
              "INSTRUCTION_EXPENDITURE            0.087386  ...                    0.884798\n",
              "SUPPORT_SERVICES_EXPENDITURE       0.079002  ...                    0.911245\n",
              "OTHER_EXPENDITURE                  0.010959  ...                    0.918188\n",
              "CAPITAL_OUTLAY_EXPENDITURE        -0.005389  ...                    1.000000\n",
              "\n",
              "[6 rows x 6 columns]"
            ]
          },
          "metadata": {
            "tags": []
          },
          "execution_count": 203
        }
      ]
    },
    {
      "cell_type": "code",
      "metadata": {
        "id": "xcxd83T4g5Af",
        "colab_type": "code",
        "colab": {
          "base_uri": "https://localhost:8080/",
          "height": 50
        },
        "outputId": "11ee67b0-ad5c-429a-be68-e166a2601394"
      },
      "source": [
        "from sklearn.decomposition import PCA\n",
        "from sklearn.preprocessing import StandardScaler\n",
        "\n",
        "X = education_df[[\"INSTRUCTION_EXPENDITURE\", \"SUPPORT_SERVICES_EXPENDITURE\",\n",
        "                  \"OTHER_EXPENDITURE\", \"CAPITAL_OUTLAY_EXPENDITURE\"]]\n",
        "\n",
        "X = StandardScaler().fit_transform(X)\n",
        "\n",
        "sklearn_pca = PCA(n_components=1)\n",
        "education_df[\"pca_1\"] = sklearn_pca.fit_transform(X)\n",
        "\n",
        "print(\n",
        "    'The percentage of total variance in the dataset explained by each',\n",
        "    'component from Sklearn PCA.\\n',\n",
        "    sklearn_pca.explained_variance_ratio_\n",
        ")"
      ],
      "execution_count": 216,
      "outputs": [
        {
          "output_type": "stream",
          "text": [
            "The percentage of total variance in the dataset explained by each component from Sklearn PCA.\n",
            " [0.9430175]\n"
          ],
          "name": "stdout"
        }
      ]
    },
    {
      "cell_type": "code",
      "metadata": {
        "id": "FwZUKqcGgiso",
        "colab_type": "code",
        "colab": {
          "base_uri": "https://localhost:8080/",
          "height": 254
        },
        "outputId": "ad31078a-4006-4703-a427-9efb8ae4ba36"
      },
      "source": [
        "education_df[[\"overall_score\", \"pca_1\", \"TOTAL_EXPENDITURE\", \"INSTRUCTION_EXPENDITURE\",\n",
        "              \"SUPPORT_SERVICES_EXPENDITURE\", \"OTHER_EXPENDITURE\", \"CAPITAL_OUTLAY_EXPENDITURE\"]].corr()\n"
      ],
      "execution_count": 217,
      "outputs": [
        {
          "output_type": "execute_result",
          "data": {
            "text/html": [
              "<div>\n",
              "<style scoped>\n",
              "    .dataframe tbody tr th:only-of-type {\n",
              "        vertical-align: middle;\n",
              "    }\n",
              "\n",
              "    .dataframe tbody tr th {\n",
              "        vertical-align: top;\n",
              "    }\n",
              "\n",
              "    .dataframe thead th {\n",
              "        text-align: right;\n",
              "    }\n",
              "</style>\n",
              "<table border=\"1\" class=\"dataframe\">\n",
              "  <thead>\n",
              "    <tr style=\"text-align: right;\">\n",
              "      <th></th>\n",
              "      <th>overall_score</th>\n",
              "      <th>pca_1</th>\n",
              "      <th>TOTAL_EXPENDITURE</th>\n",
              "      <th>INSTRUCTION_EXPENDITURE</th>\n",
              "      <th>SUPPORT_SERVICES_EXPENDITURE</th>\n",
              "      <th>OTHER_EXPENDITURE</th>\n",
              "      <th>CAPITAL_OUTLAY_EXPENDITURE</th>\n",
              "    </tr>\n",
              "  </thead>\n",
              "  <tbody>\n",
              "    <tr>\n",
              "      <th>overall_score</th>\n",
              "      <td>1.000000</td>\n",
              "      <td>0.044596</td>\n",
              "      <td>0.074155</td>\n",
              "      <td>0.087386</td>\n",
              "      <td>0.079002</td>\n",
              "      <td>0.010959</td>\n",
              "      <td>-0.005389</td>\n",
              "    </tr>\n",
              "    <tr>\n",
              "      <th>pca_1</th>\n",
              "      <td>0.044596</td>\n",
              "      <td>1.000000</td>\n",
              "      <td>0.992054</td>\n",
              "      <td>0.968606</td>\n",
              "      <td>0.988345</td>\n",
              "      <td>0.971343</td>\n",
              "      <td>0.955792</td>\n",
              "    </tr>\n",
              "    <tr>\n",
              "      <th>TOTAL_EXPENDITURE</th>\n",
              "      <td>0.074155</td>\n",
              "      <td>0.992054</td>\n",
              "      <td>1.000000</td>\n",
              "      <td>0.990255</td>\n",
              "      <td>0.992988</td>\n",
              "      <td>0.943702</td>\n",
              "      <td>0.925784</td>\n",
              "    </tr>\n",
              "    <tr>\n",
              "      <th>INSTRUCTION_EXPENDITURE</th>\n",
              "      <td>0.087386</td>\n",
              "      <td>0.968606</td>\n",
              "      <td>0.990255</td>\n",
              "      <td>1.000000</td>\n",
              "      <td>0.974399</td>\n",
              "      <td>0.902173</td>\n",
              "      <td>0.884798</td>\n",
              "    </tr>\n",
              "    <tr>\n",
              "      <th>SUPPORT_SERVICES_EXPENDITURE</th>\n",
              "      <td>0.079002</td>\n",
              "      <td>0.988345</td>\n",
              "      <td>0.992988</td>\n",
              "      <td>0.974399</td>\n",
              "      <td>1.000000</td>\n",
              "      <td>0.952282</td>\n",
              "      <td>0.911245</td>\n",
              "    </tr>\n",
              "    <tr>\n",
              "      <th>OTHER_EXPENDITURE</th>\n",
              "      <td>0.010959</td>\n",
              "      <td>0.971343</td>\n",
              "      <td>0.943702</td>\n",
              "      <td>0.902173</td>\n",
              "      <td>0.952282</td>\n",
              "      <td>1.000000</td>\n",
              "      <td>0.918188</td>\n",
              "    </tr>\n",
              "    <tr>\n",
              "      <th>CAPITAL_OUTLAY_EXPENDITURE</th>\n",
              "      <td>-0.005389</td>\n",
              "      <td>0.955792</td>\n",
              "      <td>0.925784</td>\n",
              "      <td>0.884798</td>\n",
              "      <td>0.911245</td>\n",
              "      <td>0.918188</td>\n",
              "      <td>1.000000</td>\n",
              "    </tr>\n",
              "  </tbody>\n",
              "</table>\n",
              "</div>"
            ],
            "text/plain": [
              "                              overall_score  ...  CAPITAL_OUTLAY_EXPENDITURE\n",
              "overall_score                      1.000000  ...                   -0.005389\n",
              "pca_1                              0.044596  ...                    0.955792\n",
              "TOTAL_EXPENDITURE                  0.074155  ...                    0.925784\n",
              "INSTRUCTION_EXPENDITURE            0.087386  ...                    0.884798\n",
              "SUPPORT_SERVICES_EXPENDITURE       0.079002  ...                    0.911245\n",
              "OTHER_EXPENDITURE                  0.010959  ...                    0.918188\n",
              "CAPITAL_OUTLAY_EXPENDITURE        -0.005389  ...                    1.000000\n",
              "\n",
              "[7 rows x 7 columns]"
            ]
          },
          "metadata": {
            "tags": []
          },
          "execution_count": 217
        }
      ]
    },
    {
      "cell_type": "markdown",
      "metadata": {
        "id": "lRXpG3Apek1M",
        "colab_type": "text"
      },
      "source": [
        "**End example solutuon stuff**"
      ]
    },
    {
      "cell_type": "markdown",
      "metadata": {
        "id": "0EYOzpEkeEqd",
        "colab_type": "text"
      },
      "source": [
        "//////////////////////////////////////////////////////////////////////////////////////////////////////////////////////////////////\n"
      ]
    },
    {
      "cell_type": "markdown",
      "metadata": {
        "id": "ZcFNUCVbuxhd",
        "colab_type": "text"
      },
      "source": [
        "0 - **Clean up the data-- Missing Values**\n",
        "\n",
        "1.   Average grades handled seperately since so many mssing values?\n",
        "\n"
      ]
    },
    {
      "cell_type": "code",
      "metadata": {
        "id": "j755Cs4VLRwl",
        "colab_type": "code",
        "colab": {}
      },
      "source": [
        "fill_list=list(ed)"
      ],
      "execution_count": 0,
      "outputs": []
    },
    {
      "cell_type": "code",
      "metadata": {
        "id": "_rhGcbpaLZFM",
        "colab_type": "code",
        "colab": {}
      },
      "source": [
        "fill_list2=['ENROLL',\n",
        " 'TOTAL_REVENUE',\n",
        " 'FEDERAL_REVENUE',\n",
        " 'STATE_REVENUE',\n",
        " 'LOCAL_REVENUE',\n",
        " 'TOTAL_EXPENDITURE',\n",
        " 'INSTRUCTION_EXPENDITURE',\n",
        " 'SUPPORT_SERVICES_EXPENDITURE',\n",
        " 'OTHER_EXPENDITURE',\n",
        " 'CAPITAL_OUTLAY_EXPENDITURE',\n",
        " 'GRADES_PK_G',\n",
        " 'GRADES_KG_G',\n",
        " 'GRADES_4_G',\n",
        " 'GRADES_8_G',\n",
        " 'GRADES_12_G',\n",
        " 'GRADES_1_8_G',\n",
        " 'GRADES_9_12_G',\n",
        " 'GRADES_ALL_G','AVG_MATH_4_SCORE',\n",
        " 'AVG_MATH_8_SCORE',\n",
        " 'AVG_READING_4_SCORE',\n",
        " 'AVG_READING_8_SCORE']"
      ],
      "execution_count": 0,
      "outputs": []
    },
    {
      "cell_type": "code",
      "metadata": {
        "id": "fvhvsxNKir29",
        "colab_type": "code",
        "colab": {}
      },
      "source": [
        "fill_sub=['AVG_MATH_4_SCORE',\n",
        " 'AVG_MATH_8_SCORE',\n",
        " 'AVG_READING_4_SCORE',\n",
        " 'AVG_READING_8_SCORE']"
      ],
      "execution_count": 0,
      "outputs": []
    },
    {
      "cell_type": "markdown",
      "metadata": {
        "id": "cxUK9qlhUokg",
        "colab_type": "text"
      },
      "source": [
        "for col in fill_list2:\n",
        "  ed[col]=ed[col].interpolate(limit_direction ='both')"
      ]
    },
    {
      "cell_type": "code",
      "metadata": {
        "id": "seXiZbyUhEN9",
        "colab_type": "code",
        "colab": {}
      },
      "source": [
        "states = ed[\"STATE\"].unique()\n",
        "for state in states:\n",
        "    ed.loc[ed[\"STATE\"] == state, fill_list2] = ed.loc[ed[\"STATE\"] == state, fill_list2].interpolate()"
      ],
      "execution_count": 0,
      "outputs": []
    },
    {
      "cell_type": "code",
      "metadata": {
        "id": "JNuyWlO-War0",
        "colab_type": "code",
        "colab": {}
      },
      "source": [
        "ed.dropna(inplace=True)"
      ],
      "execution_count": 0,
      "outputs": []
    },
    {
      "cell_type": "code",
      "metadata": {
        "id": "1dwuSbnAvHHj",
        "colab_type": "code",
        "colab": {}
      },
      "source": [
        "#ed.info()"
      ],
      "execution_count": 0,
      "outputs": []
    },
    {
      "cell_type": "code",
      "metadata": {
        "id": "5FlX128lvVCr",
        "colab_type": "code",
        "colab": {}
      },
      "source": [
        "#ed.isnull().sum()"
      ],
      "execution_count": 0,
      "outputs": []
    },
    {
      "cell_type": "markdown",
      "metadata": {
        "id": "DFj4DgtZr6LW",
        "colab_type": "text"
      },
      "source": [
        ""
      ]
    },
    {
      "cell_type": "markdown",
      "metadata": {
        "id": "Rj5y1uejEw9z",
        "colab_type": "text"
      },
      "source": [
        "**Histograms for all 22 Numeric Features** (skipped year as categorical)\n",
        "\n",
        "only a few look normal\n",
        "\n",
        "there are outliers\n",
        "\n"
      ]
    },
    {
      "cell_type": "markdown",
      "metadata": {
        "id": "wXVHo-IvwqhA",
        "colab_type": "text"
      },
      "source": [
        "plt.figure(figsize=(10,20))\n",
        "#plt.subplots_adjust(right=1,top=1,bottom=.2,wspace=2)\n",
        "\n",
        "plt.subplot(8,3,1)\n",
        "plt.hist(ed['ENROLL'])\n",
        "plt.title(\"ENROLL\")\n",
        "\n",
        "plt.subplot(8,3,2)\n",
        "plt.hist(ed['TOTAL_REVENUE'])\n",
        "plt.title(\"TOTAL_REVENUE'\")\n",
        "\n",
        "plt.subplot(8,3,3)\n",
        "plt.hist(ed['FEDERAL_REVENUE'])\n",
        "plt.title('FEDERAL_REVENUE')\n",
        "\n",
        "plt.subplot(8,3,4)\n",
        "plt.hist(ed['STATE_REVENUE'])\n",
        "plt.title(\"STATE_REVENUE'\")\n",
        "\n",
        "plt.subplot(8,3,5)\n",
        "plt.hist(ed['LOCAL_REVENUE'])\n",
        "plt.title(\"LOCAL_REVENUE\")\n",
        "\n",
        "plt.subplot(8,3,6)\n",
        "plt.hist(ed['TOTAL_EXPENDITURE'])\n",
        "plt.title(\"TOTAL_EXPENDITURE\")\n",
        "\n",
        "plt.subplot(8,3,7)\n",
        "plt.hist(ed['INSTRUCTION_EXPENDITURE'])\n",
        "plt.title(\"INSTRUCTION_EXPENDITURE\")\n",
        "\n",
        "plt.subplot(8,3,8)\n",
        "plt.hist(ed['SUPPORT_SERVICES_EXPENDITURE'])\n",
        "plt.title(\"SUPPORT_SERVICES_EXPENDITURE\")\n",
        "\n",
        "plt.subplot(8,3,9)\n",
        "plt.hist(ed['OTHER_EXPENDITURE'])\n",
        "plt.title(\"OTHER_EXPENDITURE\")\n",
        "\n",
        "plt.subplot(8,3,10)\n",
        "plt.hist(ed['CAPITAL_OUTLAY_EXPENDITURE'])\n",
        "plt.title(\"CAPITAL_OUTLAY_EXPENDITURE\")\n",
        "\n",
        "plt.subplot(8,3,11)\n",
        "plt.hist(ed['GRADES_PK_G'])\n",
        "plt.title(\"GRADES_PK_G\")\n",
        "\n",
        "plt.subplot(8,3,12)\n",
        "plt.hist(ed['GRADES_KG_G'])\n",
        "plt.title(\"GRADES_KG_G\")\n",
        "\n",
        "plt.subplot(8,3,13)\n",
        "plt.hist(ed['GRADES_4_G'])\n",
        "plt.title(\"GRADES_4_G\")\n",
        "\n",
        "plt.subplot(8,3,14)\n",
        "plt.hist(ed['GRADES_8_G'])\n",
        "plt.title(\"GRADES_8_G\")\n",
        "\n",
        "plt.subplot(8,3,15)\n",
        "plt.hist(ed['GRADES_12_G'])\n",
        "plt.title(\"GRADES_12_G\")\n",
        "\n",
        "plt.subplot(8,3,16)\n",
        "plt.hist(ed['GRADES_1_8_G'])\n",
        "plt.title(\"GRADES_1_8_G\")\n",
        "\n",
        "plt.subplot(8,3,17)\n",
        "plt.hist(ed['GRADES_9_12_G'])\n",
        "plt.title(\"GRADES_9_12_G\")\n",
        "\n",
        "plt.subplot(8,3,18)\n",
        "plt.hist(ed['GRADES_ALL_G'])\n",
        "plt.title(\"GRADES_ALL_G\")\n",
        "\n",
        "plt.subplot(8,3,19)\n",
        "plt.hist(ed['AVG_MATH_4_SCORE'])\n",
        "plt.title(\"AVG_MATH_4_SCORE\")\n",
        "\n",
        "plt.subplot(8,3,20)\n",
        "plt.hist(ed['AVG_MATH_8_SCORE'])\n",
        "plt.title('AVG_MATH_8_SCORE')\n",
        "\n",
        "plt.subplot(8,3,21)\n",
        "plt.hist(ed['AVG_READING_4_SCORE'])\n",
        "plt.title('AVG_READING_4_SCORE')\n",
        "\n",
        "plt.subplot(8,3,22)\n",
        "plt.hist(ed['AVG_READING_8_SCORE'])\n",
        "plt.title('AVG_READING_8_SCORE')\n",
        "\n",
        "plt.tight_layout()\n",
        "#plt.show()"
      ]
    },
    {
      "cell_type": "markdown",
      "metadata": {
        "id": "3VektO4yKOMP",
        "colab_type": "text"
      },
      "source": [
        "///////////////////////////////////////////////////////////////////////////////////////////////////////////////////////////////////////////////////////////////"
      ]
    },
    {
      "cell_type": "markdown",
      "metadata": {
        "id": "f8x_wqpOHSrh",
        "colab_type": "text"
      },
      "source": [
        "**Boxplots for all 22 -- whis=1.5**"
      ]
    },
    {
      "cell_type": "markdown",
      "metadata": {
        "id": "XAnpaJVPHdkn",
        "colab_type": "text"
      },
      "source": [
        "plt.figure(figsize=(10,20))\n",
        "#plt.subplots_adjust(right=1,top=1,bottom=.2,wspace=2)\n",
        "\n",
        "plt.subplot(8,3,1)\n",
        "plt.boxplot(ed['ENROLL'],whis=1.5)\n",
        "plt.title(\"ENROLL\")\n",
        "\n",
        "plt.subplot(8,3,2)\n",
        "plt.boxplot(ed['TOTAL_REVENUE'],whis=1.5)\n",
        "plt.title(\"TOTAL_REVENUE'\")\n",
        "\n",
        "plt.subplot(8,3,3)\n",
        "plt.boxplot(ed['FEDERAL_REVENUE'],whis=1.5)\n",
        "plt.title('FEDERAL_REVENUE')\n",
        "\n",
        "plt.subplot(8,3,4)\n",
        "plt.boxplot(ed['STATE_REVENUE'],whis=1.5)\n",
        "plt.title(\"STATE_REVENUE'\")\n",
        "\n",
        "plt.subplot(8,3,5)\n",
        "plt.boxplot(ed['LOCAL_REVENUE'],whis=1.5)\n",
        "plt.title(\"LOCAL_REVENUE\")\n",
        "\n",
        "plt.subplot(8,3,6)\n",
        "plt.boxplot(ed['TOTAL_EXPENDITURE'],whis=1.5)\n",
        "plt.title(\"TOTAL_EXPENDITURE\")\n",
        "\n",
        "plt.subplot(8,3,7)\n",
        "plt.boxplot(ed['INSTRUCTION_EXPENDITURE'])\n",
        "plt.title(\"INSTRUCTION_EXPENDITURE\")\n",
        "\n",
        "plt.subplot(8,3,8)\n",
        "plt.boxplot(ed['SUPPORT_SERVICES_EXPENDITURE'])\n",
        "plt.title(\"SUPPORT_SERVICES_EXPENDITURE\")\n",
        "\n",
        "plt.subplot(8,3,9)\n",
        "plt.boxplot(ed['OTHER_EXPENDITURE'])\n",
        "plt.title(\"OTHER_EXPENDITURE\")\n",
        "\n",
        "plt.subplot(8,3,10)\n",
        "plt.boxplot(ed['CAPITAL_OUTLAY_EXPENDITURE'])\n",
        "plt.title(\"CAPITAL_OUTLAY_EXPENDITURE\")\n",
        "\n",
        "plt.subplot(8,3,11)\n",
        "plt.boxplot(ed['GRADES_PK_G'])\n",
        "plt.title(\"GRADES_PK_G\")\n",
        "\n",
        "plt.subplot(8,3,12)\n",
        "plt.boxplot(ed['GRADES_KG_G'])\n",
        "plt.title(\"GRADES_KG_G\")\n",
        "\n",
        "plt.subplot(8,3,13)\n",
        "plt.boxplot(ed['GRADES_4_G'])\n",
        "plt.title(\"GRADES_4_G\")\n",
        "\n",
        "plt.subplot(8,3,14)\n",
        "plt.boxplot(ed['GRADES_8_G'])\n",
        "plt.title(\"GRADES_8_G\")\n",
        "\n",
        "plt.subplot(8,3,15)\n",
        "plt.boxplot(ed['GRADES_12_G'])\n",
        "plt.title(\"GRADES_12_G\")\n",
        "\n",
        "plt.subplot(8,3,16)\n",
        "plt.boxplot(ed['GRADES_1_8_G'])\n",
        "plt.title(\"GRADES_1_8_G\")\n",
        "\n",
        "plt.subplot(8,3,17)\n",
        "plt.boxplot(ed['GRADES_9_12_G'])\n",
        "plt.title(\"GRADES_9_12_G\")\n",
        "\n",
        "plt.subplot(8,3,18)\n",
        "plt.boxplot(ed['GRADES_ALL_G'])\n",
        "plt.title(\"GRADES_ALL_G\")\n",
        "\n",
        "plt.subplot(8,3,19)\n",
        "plt.boxplot(ed['AVG_MATH_4_SCORE'])\n",
        "plt.title(\"AVG_MATH_4_SCORE\")\n",
        "\n",
        "plt.subplot(8,3,20)\n",
        "plt.boxplot(ed['AVG_MATH_8_SCORE'])\n",
        "plt.title('AVG_MATH_8_SCORE')\n",
        "\n",
        "plt.subplot(8,3,21)\n",
        "plt.boxplot(ed['AVG_READING_4_SCORE'])\n",
        "plt.title('AVG_READING_4_SCORE')\n",
        "\n",
        "plt.subplot(8,3,22)\n",
        "plt.boxplot(ed['AVG_READING_8_SCORE'],whis=1.5)\n",
        "plt.title('AVG_READING_8_SCORE')\n",
        "\n",
        "plt.tight_layout()\n",
        "plt.show"
      ]
    },
    {
      "cell_type": "markdown",
      "metadata": {
        "id": "ekaDEfC5Y9O1",
        "colab_type": "text"
      },
      "source": [
        "**Winsorize all 22 features**\n",
        "\n",
        "smaple solution did not winzorize"
      ]
    },
    {
      "cell_type": "code",
      "metadata": {
        "id": "u2l7RMcjYylC",
        "colab_type": "code",
        "colab": {}
      },
      "source": [
        "for col in fill_list2:\n",
        "  ed[col]=winsorize(ed[col], (.05,.07))"
      ],
      "execution_count": 0,
      "outputs": []
    },
    {
      "cell_type": "markdown",
      "metadata": {
        "id": "ah1kJuVmZHAh",
        "colab_type": "text"
      },
      "source": [
        "**Winsorized Boxplots**"
      ]
    },
    {
      "cell_type": "markdown",
      "metadata": {
        "id": "atNeXOWcZYuV",
        "colab_type": "text"
      },
      "source": [
        "plt.figure(figsize=(10,20))\n",
        "#plt.subplots_adjust(right=1,top=1,bottom=.2,wspace=2)\n",
        "\n",
        "plt.subplot(8,3,1)\n",
        "plt.boxplot(ed['ENROLL'],whis=1.5)\n",
        "plt.title(\"ENROLL\")\n",
        "\n",
        "plt.subplot(8,3,2)\n",
        "plt.boxplot(ed['TOTAL_REVENUE'],whis=1.5)\n",
        "plt.title(\"TOTAL_REVENUE'\")\n",
        "\n",
        "plt.subplot(8,3,3)\n",
        "plt.boxplot(ed['FEDERAL_REVENUE'],whis=1.5)\n",
        "plt.title('FEDERAL_REVENUE')\n",
        "\n",
        "plt.subplot(8,3,4)\n",
        "plt.boxplot(ed['STATE_REVENUE'],whis=1.5)\n",
        "plt.title(\"STATE_REVENUE'\")\n",
        "\n",
        "plt.subplot(8,3,5)\n",
        "plt.boxplot(ed['LOCAL_REVENUE'],whis=1.5)\n",
        "plt.title(\"LOCAL_REVENUE\")\n",
        "\n",
        "plt.subplot(8,3,6)\n",
        "plt.boxplot(ed['TOTAL_EXPENDITURE'],whis=1.5)\n",
        "plt.title(\"TOTAL_EXPENDITURE\")\n",
        "\n",
        "plt.subplot(8,3,7)\n",
        "plt.boxplot(ed['INSTRUCTION_EXPENDITURE'])\n",
        "plt.title(\"INSTRUCTION_EXPENDITURE\")\n",
        "\n",
        "plt.subplot(8,3,8)\n",
        "plt.boxplot(ed['SUPPORT_SERVICES_EXPENDITURE'])\n",
        "plt.title(\"SUPPORT_SERVICES_EXPENDITURE\")\n",
        "\n",
        "plt.subplot(8,3,9)\n",
        "plt.boxplot(ed['OTHER_EXPENDITURE'])\n",
        "plt.title(\"OTHER_EXPENDITURE\")\n",
        "\n",
        "plt.subplot(8,3,10)\n",
        "plt.boxplot(ed['CAPITAL_OUTLAY_EXPENDITURE'])\n",
        "plt.title(\"CAPITAL_OUTLAY_EXPENDITURE\")\n",
        "\n",
        "plt.subplot(8,3,11)\n",
        "plt.boxplot(ed['GRADES_PK_G'])\n",
        "plt.title(\"GRADES_PK_G\")\n",
        "\n",
        "plt.subplot(8,3,12)\n",
        "plt.boxplot(ed['GRADES_KG_G'])\n",
        "plt.title(\"GRADES_KG_G\")\n",
        "\n",
        "plt.subplot(8,3,13)\n",
        "plt.boxplot(ed['GRADES_4_G'])\n",
        "plt.title(\"GRADES_4_G\")\n",
        "\n",
        "plt.subplot(8,3,14)\n",
        "plt.boxplot(ed['GRADES_8_G'])\n",
        "plt.title(\"GRADES_8_G\")\n",
        "\n",
        "plt.subplot(8,3,15)\n",
        "plt.boxplot(ed['GRADES_12_G'])\n",
        "plt.title(\"GRADES_12_G\")\n",
        "\n",
        "plt.subplot(8,3,16)\n",
        "plt.boxplot(ed['GRADES_1_8_G'])\n",
        "plt.title(\"GRADES_1_8_G\")\n",
        "\n",
        "plt.subplot(8,3,17)\n",
        "plt.boxplot(ed['GRADES_9_12_G'])\n",
        "plt.title(\"GRADES_9_12_G\")\n",
        "\n",
        "plt.subplot(8,3,18)\n",
        "plt.boxplot(ed['GRADES_ALL_G'])\n",
        "plt.title(\"GRADES_ALL_G\")\n",
        "\n",
        "plt.subplot(8,3,19)\n",
        "plt.boxplot(ed['AVG_MATH_4_SCORE'])\n",
        "plt.title(\"AVG_MATH_4_SCORE\")\n",
        "\n",
        "plt.subplot(8,3,20)\n",
        "plt.boxplot(ed['AVG_MATH_8_SCORE'])\n",
        "plt.title('AVG_MATH_8_SCORE')\n",
        "\n",
        "plt.subplot(8,3,21)\n",
        "plt.boxplot(ed['AVG_READING_4_SCORE'])\n",
        "plt.title('AVG_READING_4_SCORE')\n",
        "\n",
        "plt.subplot(8,3,22)\n",
        "plt.boxplot(ed['AVG_READING_8_SCORE'],whis=1.5)\n",
        "plt.title('AVG_READING_8_SCORE')\n",
        "\n",
        "plt.tight_layout()\n",
        "plt.show"
      ]
    },
    {
      "cell_type": "markdown",
      "metadata": {
        "id": "S_-Gy_nTulXx",
        "colab_type": "text"
      },
      "source": [
        "1-**Create a new score variable from the weighted averages of all score variables in the datasets. Notice that the number of students in the 4th grade isn't the same as the number of students in the 8th grade. So, you should appropriately weigh the scores!.**"
      ]
    },
    {
      "cell_type": "code",
      "metadata": {
        "id": "2ojWTWrNnzPK",
        "colab_type": "code",
        "colab": {}
      },
      "source": [
        "#ed.describe()\n"
      ],
      "execution_count": 0,
      "outputs": []
    },
    {
      "cell_type": "code",
      "metadata": {
        "id": "WZeGBIn-oK5c",
        "colab_type": "code",
        "colab": {}
      },
      "source": [
        "ed['weighted']=(ed['AVG_MATH_4_SCORE']+ed['AVG_MATH_8_SCORE']+ed['AVG_READING_4_SCORE']+ed['AVG_READING_8_SCORE'])/4"
      ],
      "execution_count": 0,
      "outputs": []
    },
    {
      "cell_type": "code",
      "metadata": {
        "id": "CIgK2moqobQQ",
        "colab_type": "code",
        "colab": {
          "base_uri": "https://localhost:8080/",
          "height": 215
        },
        "outputId": "ef3b9378-bf75-4cad-99a9-d1ec515f9835"
      },
      "source": [
        "ed.head()"
      ],
      "execution_count": 177,
      "outputs": [
        {
          "output_type": "execute_result",
          "data": {
            "text/html": [
              "<div>\n",
              "<style scoped>\n",
              "    .dataframe tbody tr th:only-of-type {\n",
              "        vertical-align: middle;\n",
              "    }\n",
              "\n",
              "    .dataframe tbody tr th {\n",
              "        vertical-align: top;\n",
              "    }\n",
              "\n",
              "    .dataframe thead th {\n",
              "        text-align: right;\n",
              "    }\n",
              "</style>\n",
              "<table border=\"1\" class=\"dataframe\">\n",
              "  <thead>\n",
              "    <tr style=\"text-align: right;\">\n",
              "      <th></th>\n",
              "      <th>PRIMARY_KEY</th>\n",
              "      <th>STATE</th>\n",
              "      <th>YEAR</th>\n",
              "      <th>ENROLL</th>\n",
              "      <th>TOTAL_REVENUE</th>\n",
              "      <th>FEDERAL_REVENUE</th>\n",
              "      <th>STATE_REVENUE</th>\n",
              "      <th>LOCAL_REVENUE</th>\n",
              "      <th>TOTAL_EXPENDITURE</th>\n",
              "      <th>INSTRUCTION_EXPENDITURE</th>\n",
              "      <th>SUPPORT_SERVICES_EXPENDITURE</th>\n",
              "      <th>OTHER_EXPENDITURE</th>\n",
              "      <th>CAPITAL_OUTLAY_EXPENDITURE</th>\n",
              "      <th>GRADES_PK_G</th>\n",
              "      <th>GRADES_KG_G</th>\n",
              "      <th>GRADES_4_G</th>\n",
              "      <th>GRADES_8_G</th>\n",
              "      <th>GRADES_12_G</th>\n",
              "      <th>GRADES_1_8_G</th>\n",
              "      <th>GRADES_9_12_G</th>\n",
              "      <th>GRADES_ALL_G</th>\n",
              "      <th>AVG_MATH_4_SCORE</th>\n",
              "      <th>AVG_MATH_8_SCORE</th>\n",
              "      <th>AVG_READING_4_SCORE</th>\n",
              "      <th>AVG_READING_8_SCORE</th>\n",
              "      <th>overall_score</th>\n",
              "      <th>weighted</th>\n",
              "    </tr>\n",
              "  </thead>\n",
              "  <tbody>\n",
              "    <tr>\n",
              "      <th>0</th>\n",
              "      <td>1992_ALABAMA</td>\n",
              "      <td>ALABAMA</td>\n",
              "      <td>1992</td>\n",
              "      <td>NaN</td>\n",
              "      <td>2678885.0</td>\n",
              "      <td>304177.0</td>\n",
              "      <td>1659028.0</td>\n",
              "      <td>715680.0</td>\n",
              "      <td>2653798.0</td>\n",
              "      <td>1481703.0</td>\n",
              "      <td>735036.0</td>\n",
              "      <td>NaN</td>\n",
              "      <td>174053.0</td>\n",
              "      <td>8224.0</td>\n",
              "      <td>55460.0</td>\n",
              "      <td>57948.0</td>\n",
              "      <td>58025.0</td>\n",
              "      <td>41167.0</td>\n",
              "      <td>471564.0</td>\n",
              "      <td>196386.0</td>\n",
              "      <td>676174.0</td>\n",
              "      <td>208.327876</td>\n",
              "      <td>252.187522</td>\n",
              "      <td>207.963517</td>\n",
              "      <td>NaN</td>\n",
              "      <td>NaN</td>\n",
              "      <td>NaN</td>\n",
              "    </tr>\n",
              "    <tr>\n",
              "      <th>1</th>\n",
              "      <td>1992_ALASKA</td>\n",
              "      <td>ALASKA</td>\n",
              "      <td>1992</td>\n",
              "      <td>NaN</td>\n",
              "      <td>1049591.0</td>\n",
              "      <td>106780.0</td>\n",
              "      <td>720711.0</td>\n",
              "      <td>222100.0</td>\n",
              "      <td>972488.0</td>\n",
              "      <td>498362.0</td>\n",
              "      <td>350902.0</td>\n",
              "      <td>NaN</td>\n",
              "      <td>37451.0</td>\n",
              "      <td>2371.0</td>\n",
              "      <td>10152.0</td>\n",
              "      <td>9748.0</td>\n",
              "      <td>8789.0</td>\n",
              "      <td>6714.0</td>\n",
              "      <td>79117.0</td>\n",
              "      <td>30847.0</td>\n",
              "      <td>112335.0</td>\n",
              "      <td>NaN</td>\n",
              "      <td>NaN</td>\n",
              "      <td>NaN</td>\n",
              "      <td>258.859712</td>\n",
              "      <td>NaN</td>\n",
              "      <td>NaN</td>\n",
              "    </tr>\n",
              "    <tr>\n",
              "      <th>2</th>\n",
              "      <td>1992_ARIZONA</td>\n",
              "      <td>ARIZONA</td>\n",
              "      <td>1992</td>\n",
              "      <td>NaN</td>\n",
              "      <td>3258079.0</td>\n",
              "      <td>297888.0</td>\n",
              "      <td>1369815.0</td>\n",
              "      <td>1590376.0</td>\n",
              "      <td>3401580.0</td>\n",
              "      <td>1435908.0</td>\n",
              "      <td>1007732.0</td>\n",
              "      <td>NaN</td>\n",
              "      <td>609114.0</td>\n",
              "      <td>2544.0</td>\n",
              "      <td>53497.0</td>\n",
              "      <td>55433.0</td>\n",
              "      <td>49081.0</td>\n",
              "      <td>37410.0</td>\n",
              "      <td>437127.0</td>\n",
              "      <td>175210.0</td>\n",
              "      <td>614881.0</td>\n",
              "      <td>215.253932</td>\n",
              "      <td>265.366278</td>\n",
              "      <td>206.212716</td>\n",
              "      <td>262.169895</td>\n",
              "      <td>235.639070</td>\n",
              "      <td>237.250705</td>\n",
              "    </tr>\n",
              "    <tr>\n",
              "      <th>3</th>\n",
              "      <td>1992_ARKANSAS</td>\n",
              "      <td>ARKANSAS</td>\n",
              "      <td>1992</td>\n",
              "      <td>NaN</td>\n",
              "      <td>1711959.0</td>\n",
              "      <td>178571.0</td>\n",
              "      <td>958785.0</td>\n",
              "      <td>574603.0</td>\n",
              "      <td>1743022.0</td>\n",
              "      <td>964323.0</td>\n",
              "      <td>483488.0</td>\n",
              "      <td>NaN</td>\n",
              "      <td>145212.0</td>\n",
              "      <td>808.0</td>\n",
              "      <td>33511.0</td>\n",
              "      <td>34632.0</td>\n",
              "      <td>36011.0</td>\n",
              "      <td>27651.0</td>\n",
              "      <td>281338.0</td>\n",
              "      <td>123113.0</td>\n",
              "      <td>405259.0</td>\n",
              "      <td>210.206028</td>\n",
              "      <td>256.312090</td>\n",
              "      <td>208.634458</td>\n",
              "      <td>264.619665</td>\n",
              "      <td>235.441283</td>\n",
              "      <td>234.943060</td>\n",
              "    </tr>\n",
              "    <tr>\n",
              "      <th>4</th>\n",
              "      <td>1992_CALIFORNIA</td>\n",
              "      <td>CALIFORNIA</td>\n",
              "      <td>1992</td>\n",
              "      <td>NaN</td>\n",
              "      <td>26260025.0</td>\n",
              "      <td>2072470.0</td>\n",
              "      <td>16546514.0</td>\n",
              "      <td>7641041.0</td>\n",
              "      <td>27138832.0</td>\n",
              "      <td>14358922.0</td>\n",
              "      <td>8520926.0</td>\n",
              "      <td>NaN</td>\n",
              "      <td>2044688.0</td>\n",
              "      <td>59067.0</td>\n",
              "      <td>431763.0</td>\n",
              "      <td>418418.0</td>\n",
              "      <td>363296.0</td>\n",
              "      <td>270675.0</td>\n",
              "      <td>3286034.0</td>\n",
              "      <td>1372011.0</td>\n",
              "      <td>4717112.0</td>\n",
              "      <td>208.398961</td>\n",
              "      <td>260.892247</td>\n",
              "      <td>196.764414</td>\n",
              "      <td>NaN</td>\n",
              "      <td>NaN</td>\n",
              "      <td>NaN</td>\n",
              "    </tr>\n",
              "  </tbody>\n",
              "</table>\n",
              "</div>"
            ],
            "text/plain": [
              "       PRIMARY_KEY       STATE  ...  overall_score    weighted\n",
              "0     1992_ALABAMA     ALABAMA  ...            NaN         NaN\n",
              "1      1992_ALASKA      ALASKA  ...            NaN         NaN\n",
              "2     1992_ARIZONA     ARIZONA  ...     235.639070  237.250705\n",
              "3    1992_ARKANSAS    ARKANSAS  ...     235.441283  234.943060\n",
              "4  1992_CALIFORNIA  CALIFORNIA  ...            NaN         NaN\n",
              "\n",
              "[5 rows x 27 columns]"
            ]
          },
          "metadata": {
            "tags": []
          },
          "execution_count": 177
        }
      ]
    },
    {
      "cell_type": "markdown",
      "metadata": {
        "id": "YBIdt9C3o4Ql",
        "colab_type": "text"
      },
      "source": [
        "**What are the correlations between this newly created score variable and the expenditure types?**\n",
        "\n",
        "**Which 1 of the expenditure types is more correlated than the others>**"
      ]
    },
    {
      "cell_type": "code",
      "metadata": {
        "id": "sR8KtybHpmuU",
        "colab_type": "code",
        "colab": {}
      },
      "source": [
        "ed_sub=ed[['weighted','TOTAL_EXPENDITURE','INSTRUCTION_EXPENDITURE','SUPPORT_SERVICES_EXPENDITURE','OTHER_EXPENDITURE','CAPITAL_OUTLAY_EXPENDITURE']]"
      ],
      "execution_count": 0,
      "outputs": []
    },
    {
      "cell_type": "code",
      "metadata": {
        "id": "1lH-_XNWrUK5",
        "colab_type": "code",
        "outputId": "b067cc96-678a-45ab-f3f9-d141e82f6fd0",
        "colab": {
          "base_uri": "https://localhost:8080/",
          "height": 225
        }
      },
      "source": [
        "ed_sub.corr()"
      ],
      "execution_count": 196,
      "outputs": [
        {
          "output_type": "execute_result",
          "data": {
            "text/html": [
              "<div>\n",
              "<style scoped>\n",
              "    .dataframe tbody tr th:only-of-type {\n",
              "        vertical-align: middle;\n",
              "    }\n",
              "\n",
              "    .dataframe tbody tr th {\n",
              "        vertical-align: top;\n",
              "    }\n",
              "\n",
              "    .dataframe thead th {\n",
              "        text-align: right;\n",
              "    }\n",
              "</style>\n",
              "<table border=\"1\" class=\"dataframe\">\n",
              "  <thead>\n",
              "    <tr style=\"text-align: right;\">\n",
              "      <th></th>\n",
              "      <th>weighted</th>\n",
              "      <th>TOTAL_EXPENDITURE</th>\n",
              "      <th>INSTRUCTION_EXPENDITURE</th>\n",
              "      <th>SUPPORT_SERVICES_EXPENDITURE</th>\n",
              "      <th>OTHER_EXPENDITURE</th>\n",
              "      <th>CAPITAL_OUTLAY_EXPENDITURE</th>\n",
              "    </tr>\n",
              "  </thead>\n",
              "  <tbody>\n",
              "    <tr>\n",
              "      <th>weighted</th>\n",
              "      <td>1.000000</td>\n",
              "      <td>0.102427</td>\n",
              "      <td>0.115316</td>\n",
              "      <td>0.108445</td>\n",
              "      <td>0.031866</td>\n",
              "      <td>0.019185</td>\n",
              "    </tr>\n",
              "    <tr>\n",
              "      <th>TOTAL_EXPENDITURE</th>\n",
              "      <td>0.102427</td>\n",
              "      <td>1.000000</td>\n",
              "      <td>0.991256</td>\n",
              "      <td>0.993101</td>\n",
              "      <td>0.945620</td>\n",
              "      <td>0.930754</td>\n",
              "    </tr>\n",
              "    <tr>\n",
              "      <th>INSTRUCTION_EXPENDITURE</th>\n",
              "      <td>0.115316</td>\n",
              "      <td>0.991256</td>\n",
              "      <td>1.000000</td>\n",
              "      <td>0.976215</td>\n",
              "      <td>0.908104</td>\n",
              "      <td>0.894034</td>\n",
              "    </tr>\n",
              "    <tr>\n",
              "      <th>SUPPORT_SERVICES_EXPENDITURE</th>\n",
              "      <td>0.108445</td>\n",
              "      <td>0.993101</td>\n",
              "      <td>0.976215</td>\n",
              "      <td>1.000000</td>\n",
              "      <td>0.953297</td>\n",
              "      <td>0.915849</td>\n",
              "    </tr>\n",
              "    <tr>\n",
              "      <th>OTHER_EXPENDITURE</th>\n",
              "      <td>0.031866</td>\n",
              "      <td>0.945620</td>\n",
              "      <td>0.908104</td>\n",
              "      <td>0.953297</td>\n",
              "      <td>1.000000</td>\n",
              "      <td>0.920763</td>\n",
              "    </tr>\n",
              "    <tr>\n",
              "      <th>CAPITAL_OUTLAY_EXPENDITURE</th>\n",
              "      <td>0.019185</td>\n",
              "      <td>0.930754</td>\n",
              "      <td>0.894034</td>\n",
              "      <td>0.915849</td>\n",
              "      <td>0.920763</td>\n",
              "      <td>1.000000</td>\n",
              "    </tr>\n",
              "  </tbody>\n",
              "</table>\n",
              "</div>"
            ],
            "text/plain": [
              "                              weighted  ...  CAPITAL_OUTLAY_EXPENDITURE\n",
              "weighted                      1.000000  ...                    0.019185\n",
              "TOTAL_EXPENDITURE             0.102427  ...                    0.930754\n",
              "INSTRUCTION_EXPENDITURE       0.115316  ...                    0.894034\n",
              "SUPPORT_SERVICES_EXPENDITURE  0.108445  ...                    0.915849\n",
              "OTHER_EXPENDITURE             0.031866  ...                    0.920763\n",
              "CAPITAL_OUTLAY_EXPENDITURE    0.019185  ...                    1.000000\n",
              "\n",
              "[6 rows x 6 columns]"
            ]
          },
          "metadata": {
            "tags": []
          },
          "execution_count": 196
        }
      ]
    },
    {
      "cell_type": "code",
      "metadata": {
        "id": "NfQPyXozywcw",
        "colab_type": "code",
        "outputId": "783b8368-0c3b-43dd-f872-1a9c2a7b3b45",
        "colab": {
          "base_uri": "https://localhost:8080/",
          "height": 34
        }
      },
      "source": [
        "len(list(ed_sub))"
      ],
      "execution_count": 0,
      "outputs": [
        {
          "output_type": "execute_result",
          "data": {
            "text/plain": [
              "6"
            ]
          },
          "metadata": {
            "tags": []
          },
          "execution_count": 56
        }
      ]
    },
    {
      "cell_type": "markdown",
      "metadata": {
        "id": "msiP5onxray9",
        "colab_type": "text"
      },
      "source": [
        "**INSTRUCION_EXPENDITURE HIGHEST CORRELATION**"
      ]
    },
    {
      "cell_type": "markdown",
      "metadata": {
        "id": "jNd7zg7xUVFb",
        "colab_type": "text"
      },
      "source": [
        "///////////////////////////////////////////////////////////////////////////////"
      ]
    },
    {
      "cell_type": "code",
      "metadata": {
        "id": "O66FtBQCyV6B",
        "colab_type": "code",
        "outputId": "9bdce195-448e-491c-c269-4ef5b07c707f",
        "colab": {
          "base_uri": "https://localhost:8080/",
          "height": 195
        }
      },
      "source": [
        "ed_sub.head()"
      ],
      "execution_count": 211,
      "outputs": [
        {
          "output_type": "execute_result",
          "data": {
            "text/html": [
              "<div>\n",
              "<style scoped>\n",
              "    .dataframe tbody tr th:only-of-type {\n",
              "        vertical-align: middle;\n",
              "    }\n",
              "\n",
              "    .dataframe tbody tr th {\n",
              "        vertical-align: top;\n",
              "    }\n",
              "\n",
              "    .dataframe thead th {\n",
              "        text-align: right;\n",
              "    }\n",
              "</style>\n",
              "<table border=\"1\" class=\"dataframe\">\n",
              "  <thead>\n",
              "    <tr style=\"text-align: right;\">\n",
              "      <th></th>\n",
              "      <th>weighted</th>\n",
              "      <th>TOTAL_EXPENDITURE</th>\n",
              "      <th>INSTRUCTION_EXPENDITURE</th>\n",
              "      <th>SUPPORT_SERVICES_EXPENDITURE</th>\n",
              "      <th>OTHER_EXPENDITURE</th>\n",
              "      <th>CAPITAL_OUTLAY_EXPENDITURE</th>\n",
              "    </tr>\n",
              "  </thead>\n",
              "  <tbody>\n",
              "    <tr>\n",
              "      <th>54</th>\n",
              "      <td>237.642041</td>\n",
              "      <td>3623946.0</td>\n",
              "      <td>1578889.0</td>\n",
              "      <td>1000914.0</td>\n",
              "      <td>164083.0</td>\n",
              "      <td>680139.0</td>\n",
              "    </tr>\n",
              "    <tr>\n",
              "      <th>55</th>\n",
              "      <td>236.093013</td>\n",
              "      <td>1376067.0</td>\n",
              "      <td>782791.0</td>\n",
              "      <td>386526.0</td>\n",
              "      <td>68617.0</td>\n",
              "      <td>97824.0</td>\n",
              "    </tr>\n",
              "    <tr>\n",
              "      <th>57</th>\n",
              "      <td>244.450174</td>\n",
              "      <td>3028305.0</td>\n",
              "      <td>1537714.0</td>\n",
              "      <td>954032.0</td>\n",
              "      <td>92163.0</td>\n",
              "      <td>318959.0</td>\n",
              "    </tr>\n",
              "    <tr>\n",
              "      <th>58</th>\n",
              "      <td>248.119618</td>\n",
              "      <td>4079943.0</td>\n",
              "      <td>2302852.0</td>\n",
              "      <td>1190914.0</td>\n",
              "      <td>143312.0</td>\n",
              "      <td>186802.0</td>\n",
              "    </tr>\n",
              "    <tr>\n",
              "      <th>59</th>\n",
              "      <td>237.766088</td>\n",
              "      <td>694534.0</td>\n",
              "      <td>394680.0</td>\n",
              "      <td>207850.0</td>\n",
              "      <td>26548.0</td>\n",
              "      <td>47372.0</td>\n",
              "    </tr>\n",
              "  </tbody>\n",
              "</table>\n",
              "</div>"
            ],
            "text/plain": [
              "      weighted  ...  CAPITAL_OUTLAY_EXPENDITURE\n",
              "54  237.642041  ...                    680139.0\n",
              "55  236.093013  ...                     97824.0\n",
              "57  244.450174  ...                    318959.0\n",
              "58  248.119618  ...                    186802.0\n",
              "59  237.766088  ...                     47372.0\n",
              "\n",
              "[5 rows x 6 columns]"
            ]
          },
          "metadata": {
            "tags": []
          },
          "execution_count": 211
        }
      ]
    },
    {
      "cell_type": "code",
      "metadata": {
        "id": "txVUYLIXzagm",
        "colab_type": "code",
        "colab": {}
      },
      "source": [
        "#df[df.columns[2]]\n",
        "p=ed_sub[ed_sub.columns[1:6]]"
      ],
      "execution_count": 0,
      "outputs": []
    },
    {
      "cell_type": "code",
      "metadata": {
        "id": "3Qv6cPpC2fng",
        "colab_type": "code",
        "outputId": "edf17007-b79f-4ad6-a831-110ce107e301",
        "colab": {
          "base_uri": "https://localhost:8080/",
          "height": 195
        }
      },
      "source": [
        "p.head()"
      ],
      "execution_count": 213,
      "outputs": [
        {
          "output_type": "execute_result",
          "data": {
            "text/html": [
              "<div>\n",
              "<style scoped>\n",
              "    .dataframe tbody tr th:only-of-type {\n",
              "        vertical-align: middle;\n",
              "    }\n",
              "\n",
              "    .dataframe tbody tr th {\n",
              "        vertical-align: top;\n",
              "    }\n",
              "\n",
              "    .dataframe thead th {\n",
              "        text-align: right;\n",
              "    }\n",
              "</style>\n",
              "<table border=\"1\" class=\"dataframe\">\n",
              "  <thead>\n",
              "    <tr style=\"text-align: right;\">\n",
              "      <th></th>\n",
              "      <th>TOTAL_EXPENDITURE</th>\n",
              "      <th>INSTRUCTION_EXPENDITURE</th>\n",
              "      <th>SUPPORT_SERVICES_EXPENDITURE</th>\n",
              "      <th>OTHER_EXPENDITURE</th>\n",
              "      <th>CAPITAL_OUTLAY_EXPENDITURE</th>\n",
              "    </tr>\n",
              "  </thead>\n",
              "  <tbody>\n",
              "    <tr>\n",
              "      <th>54</th>\n",
              "      <td>3623946.0</td>\n",
              "      <td>1578889.0</td>\n",
              "      <td>1000914.0</td>\n",
              "      <td>164083.0</td>\n",
              "      <td>680139.0</td>\n",
              "    </tr>\n",
              "    <tr>\n",
              "      <th>55</th>\n",
              "      <td>1376067.0</td>\n",
              "      <td>782791.0</td>\n",
              "      <td>386526.0</td>\n",
              "      <td>68617.0</td>\n",
              "      <td>97824.0</td>\n",
              "    </tr>\n",
              "    <tr>\n",
              "      <th>57</th>\n",
              "      <td>3028305.0</td>\n",
              "      <td>1537714.0</td>\n",
              "      <td>954032.0</td>\n",
              "      <td>92163.0</td>\n",
              "      <td>318959.0</td>\n",
              "    </tr>\n",
              "    <tr>\n",
              "      <th>58</th>\n",
              "      <td>4079943.0</td>\n",
              "      <td>2302852.0</td>\n",
              "      <td>1190914.0</td>\n",
              "      <td>143312.0</td>\n",
              "      <td>186802.0</td>\n",
              "    </tr>\n",
              "    <tr>\n",
              "      <th>59</th>\n",
              "      <td>694534.0</td>\n",
              "      <td>394680.0</td>\n",
              "      <td>207850.0</td>\n",
              "      <td>26548.0</td>\n",
              "      <td>47372.0</td>\n",
              "    </tr>\n",
              "  </tbody>\n",
              "</table>\n",
              "</div>"
            ],
            "text/plain": [
              "    TOTAL_EXPENDITURE  ...  CAPITAL_OUTLAY_EXPENDITURE\n",
              "54          3623946.0  ...                    680139.0\n",
              "55          1376067.0  ...                     97824.0\n",
              "57          3028305.0  ...                    318959.0\n",
              "58          4079943.0  ...                    186802.0\n",
              "59           694534.0  ...                     47372.0\n",
              "\n",
              "[5 rows x 5 columns]"
            ]
          },
          "metadata": {
            "tags": []
          },
          "execution_count": 213
        }
      ]
    },
    {
      "cell_type": "markdown",
      "metadata": {
        "id": "ruLD-9l1wrJh",
        "colab_type": "text"
      },
      "source": [
        "X = StandardScaler().fit_transform(p)\n",
        "Xt = X.T\n",
        "Cx = np.cov(Xt)"
      ]
    },
    {
      "cell_type": "code",
      "metadata": {
        "id": "GTbGqsxJ1fyL",
        "colab_type": "code",
        "colab": {}
      },
      "source": [
        "#Cx"
      ],
      "execution_count": 0,
      "outputs": []
    },
    {
      "cell_type": "code",
      "metadata": {
        "id": "S8cQ_08-xOf5",
        "colab_type": "code",
        "colab": {}
      },
      "source": [
        "# Calculating eigenvalues and eigenvectors.\n",
        "eig_val_cov, eig_vec_cov = np.linalg.eig(Cx)"
      ],
      "execution_count": 0,
      "outputs": []
    },
    {
      "cell_type": "code",
      "metadata": {
        "id": "aPSrFg8F1moF",
        "colab_type": "code",
        "colab": {}
      },
      "source": [
        "#eig_vec_cov "
      ],
      "execution_count": 0,
      "outputs": []
    },
    {
      "cell_type": "markdown",
      "metadata": {
        "id": "-74aML9er_5Z",
        "colab_type": "text"
      },
      "source": [
        "3-**Now, apply PCA to the 5 expenditure types.**\n",
        "\n",
        "**How much of the total variance is explained by the 1st component?**"
      ]
    },
    {
      "cell_type": "code",
      "metadata": {
        "id": "QQBmscW2uHJy",
        "colab_type": "code",
        "colab": {}
      },
      "source": [
        "#\n",
        "X = StandardScaler().fit_transform(p)\n",
        "sklearn_pca = PCA(n_components=1)\n",
        "ed[\"pc1\"] = sklearn_pca.fit_transform(X)"
      ],
      "execution_count": 0,
      "outputs": []
    },
    {
      "cell_type": "code",
      "metadata": {
        "id": "j1D93g7QkegV",
        "colab_type": "code",
        "colab": {
          "base_uri": "https://localhost:8080/",
          "height": 50
        },
        "outputId": "0e7ae49a-627b-4aa9-9e9d-9bf832003cf8"
      },
      "source": [
        "print(\n",
        "    'The percentage of total variance in the dataset explained by each',\n",
        "    'component from Sklearn PCA.\\n',\n",
        "    sklearn_pca.explained_variance_ratio_\n",
        ")\n"
      ],
      "execution_count": 235,
      "outputs": [
        {
          "output_type": "stream",
          "text": [
            "The percentage of total variance in the dataset explained by each component from Sklearn PCA.\n",
            " [0.9541168]\n"
          ],
          "name": "stdout"
        }
      ]
    },
    {
      "cell_type": "markdown",
      "metadata": {
        "id": "gk-Ip3bym8eD",
        "colab_type": "text"
      },
      "source": [
        "**95.4%**"
      ]
    },
    {
      "cell_type": "code",
      "metadata": {
        "id": "WGbm5wMT12v1",
        "colab_type": "code",
        "colab": {}
      },
      "source": [
        "#Y_sklearn"
      ],
      "execution_count": 0,
      "outputs": []
    },
    {
      "cell_type": "markdown",
      "metadata": {
        "id": "7N_Rskg3vjYT",
        "colab_type": "text"
      },
      "source": [
        "P = eig_vec_cov[:, 0]\n",
        "\n",
        "# Transform X into Y.\n",
        "Y = P.T.dot(Xt)\n",
        "\n",
        "print(\n",
        "    'The percentage of total variance in the dataset explained by each',\n",
        "    'component from Sklearn PCA.\\n',\n",
        "    sklearn_pca.explained_variance_ratio_\n",
        ")\n"
      ]
    },
    {
      "cell_type": "markdown",
      "metadata": {
        "id": "llSfN4RgyKoV",
        "colab_type": "text"
      },
      "source": [
        "4 - **What is the correlation between the overall score variable and the 1st principal component?**"
      ]
    },
    {
      "cell_type": "code",
      "metadata": {
        "id": "DdT-Ne_0hbFz",
        "colab_type": "code",
        "colab": {}
      },
      "source": [
        "ed_sub2=ed[['weighted','pc1','TOTAL_EXPENDITURE','INSTRUCTION_EXPENDITURE','SUPPORT_SERVICES_EXPENDITURE','OTHER_EXPENDITURE','CAPITAL_OUTLAY_EXPENDITURE']]"
      ],
      "execution_count": 0,
      "outputs": []
    },
    {
      "cell_type": "code",
      "metadata": {
        "id": "q_mqzhsFlEWB",
        "colab_type": "code",
        "colab": {
          "base_uri": "https://localhost:8080/",
          "height": 254
        },
        "outputId": "153c10f2-3176-49ca-fedc-f6205611f7e3"
      },
      "source": [
        "ed_sub2.corr()"
      ],
      "execution_count": 244,
      "outputs": [
        {
          "output_type": "execute_result",
          "data": {
            "text/html": [
              "<div>\n",
              "<style scoped>\n",
              "    .dataframe tbody tr th:only-of-type {\n",
              "        vertical-align: middle;\n",
              "    }\n",
              "\n",
              "    .dataframe tbody tr th {\n",
              "        vertical-align: top;\n",
              "    }\n",
              "\n",
              "    .dataframe thead th {\n",
              "        text-align: right;\n",
              "    }\n",
              "</style>\n",
              "<table border=\"1\" class=\"dataframe\">\n",
              "  <thead>\n",
              "    <tr style=\"text-align: right;\">\n",
              "      <th></th>\n",
              "      <th>weighted</th>\n",
              "      <th>pc1</th>\n",
              "      <th>TOTAL_EXPENDITURE</th>\n",
              "      <th>INSTRUCTION_EXPENDITURE</th>\n",
              "      <th>SUPPORT_SERVICES_EXPENDITURE</th>\n",
              "      <th>OTHER_EXPENDITURE</th>\n",
              "      <th>CAPITAL_OUTLAY_EXPENDITURE</th>\n",
              "    </tr>\n",
              "  </thead>\n",
              "  <tbody>\n",
              "    <tr>\n",
              "      <th>weighted</th>\n",
              "      <td>1.000000</td>\n",
              "      <td>0.072534</td>\n",
              "      <td>0.096278</td>\n",
              "      <td>0.109277</td>\n",
              "      <td>0.102267</td>\n",
              "      <td>0.030638</td>\n",
              "      <td>0.013202</td>\n",
              "    </tr>\n",
              "    <tr>\n",
              "      <th>pc1</th>\n",
              "      <td>0.072534</td>\n",
              "      <td>1.000000</td>\n",
              "      <td>0.995210</td>\n",
              "      <td>0.975856</td>\n",
              "      <td>0.990651</td>\n",
              "      <td>0.968760</td>\n",
              "      <td>0.952869</td>\n",
              "    </tr>\n",
              "    <tr>\n",
              "      <th>TOTAL_EXPENDITURE</th>\n",
              "      <td>0.096278</td>\n",
              "      <td>0.995210</td>\n",
              "      <td>1.000000</td>\n",
              "      <td>0.990829</td>\n",
              "      <td>0.993175</td>\n",
              "      <td>0.946483</td>\n",
              "      <td>0.928576</td>\n",
              "    </tr>\n",
              "    <tr>\n",
              "      <th>INSTRUCTION_EXPENDITURE</th>\n",
              "      <td>0.109277</td>\n",
              "      <td>0.975856</td>\n",
              "      <td>0.990829</td>\n",
              "      <td>1.000000</td>\n",
              "      <td>0.975867</td>\n",
              "      <td>0.907235</td>\n",
              "      <td>0.889763</td>\n",
              "    </tr>\n",
              "    <tr>\n",
              "      <th>SUPPORT_SERVICES_EXPENDITURE</th>\n",
              "      <td>0.102267</td>\n",
              "      <td>0.990651</td>\n",
              "      <td>0.993175</td>\n",
              "      <td>0.975867</td>\n",
              "      <td>1.000000</td>\n",
              "      <td>0.953789</td>\n",
              "      <td>0.913680</td>\n",
              "    </tr>\n",
              "    <tr>\n",
              "      <th>OTHER_EXPENDITURE</th>\n",
              "      <td>0.030638</td>\n",
              "      <td>0.968760</td>\n",
              "      <td>0.946483</td>\n",
              "      <td>0.907235</td>\n",
              "      <td>0.953789</td>\n",
              "      <td>1.000000</td>\n",
              "      <td>0.924197</td>\n",
              "    </tr>\n",
              "    <tr>\n",
              "      <th>CAPITAL_OUTLAY_EXPENDITURE</th>\n",
              "      <td>0.013202</td>\n",
              "      <td>0.952869</td>\n",
              "      <td>0.928576</td>\n",
              "      <td>0.889763</td>\n",
              "      <td>0.913680</td>\n",
              "      <td>0.924197</td>\n",
              "      <td>1.000000</td>\n",
              "    </tr>\n",
              "  </tbody>\n",
              "</table>\n",
              "</div>"
            ],
            "text/plain": [
              "                              weighted  ...  CAPITAL_OUTLAY_EXPENDITURE\n",
              "weighted                      1.000000  ...                    0.013202\n",
              "pc1                           0.072534  ...                    0.952869\n",
              "TOTAL_EXPENDITURE             0.096278  ...                    0.928576\n",
              "INSTRUCTION_EXPENDITURE       0.109277  ...                    0.889763\n",
              "SUPPORT_SERVICES_EXPENDITURE  0.102267  ...                    0.913680\n",
              "OTHER_EXPENDITURE             0.030638  ...                    0.924197\n",
              "CAPITAL_OUTLAY_EXPENDITURE    0.013202  ...                    1.000000\n",
              "\n",
              "[7 rows x 7 columns]"
            ]
          },
          "metadata": {
            "tags": []
          },
          "execution_count": 244
        }
      ]
    },
    {
      "cell_type": "markdown",
      "metadata": {
        "id": "eSxZUl_i5Il2",
        "colab_type": "text"
      },
      "source": [
        ""
      ]
    },
    {
      "cell_type": "code",
      "metadata": {
        "id": "pmHUs3N5Lbm6",
        "colab_type": "code",
        "colab": {}
      },
      "source": [
        ""
      ],
      "execution_count": 0,
      "outputs": []
    },
    {
      "cell_type": "markdown",
      "metadata": {
        "id": "CvW8cRma33In",
        "colab_type": "text"
      },
      "source": [
        "**7.2%**"
      ]
    },
    {
      "cell_type": "markdown",
      "metadata": {
        "id": "NhAa8cDKmmuY",
        "colab_type": "text"
      },
      "source": [
        "5. **If you were to choose the best variables for your model, would you prefer using the first principal component instead of the expenditure variables? Why?**"
      ]
    },
    {
      "cell_type": "markdown",
      "metadata": {
        "id": "2UfWd3TAmr1y",
        "colab_type": "text"
      },
      "source": [
        "No -- most others have higher correlation"
      ]
    }
  ]
}