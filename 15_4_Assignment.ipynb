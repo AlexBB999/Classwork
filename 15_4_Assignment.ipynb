{
  "nbformat": 4,
  "nbformat_minor": 0,
  "metadata": {
    "colab": {
      "name": "15.4 Assignment.ipynb",
      "provenance": [],
      "collapsed_sections": [],
      "authorship_tag": "ABX9TyPhb3yLf2KSvGyDYHJysci8",
      "include_colab_link": true
    },
    "kernelspec": {
      "name": "python3",
      "display_name": "Python 3"
    }
  },
  "cells": [
    {
      "cell_type": "markdown",
      "metadata": {
        "id": "view-in-github",
        "colab_type": "text"
      },
      "source": [
        "<a href=\"https://colab.research.google.com/github/AlexBB999/Classwork/blob/master/15_4_Assignment.ipynb\" target=\"_parent\"><img src=\"https://colab.research.google.com/assets/colab-badge.svg\" alt=\"Open In Colab\"/></a>"
      ]
    },
    {
      "cell_type": "markdown",
      "metadata": {
        "id": "OzxOtJkbnrfo",
        "colab_type": "text"
      },
      "source": [
        "**Analyzing Model Performance Assignment**\n",
        "\n",
        "In this assignment you will load a dataset and train a Logistic regression Classifier use the techniques discussed in the lesson to measure the performance. We will use the Statlog Shuttle dataset from UCI to train a classifier to predict a full house.\n",
        "\n",
        "The Dataset\n",
        "Each record contain 9 numerical attributes. The 10th column is the target column. There are two classes to predict, we will call them positive and negative."
      ]
    },
    {
      "cell_type": "code",
      "metadata": {
        "id": "huxJbVtajx6p",
        "colab_type": "code",
        "colab": {}
      },
      "source": [
        "# all imports in one place for convenience\n",
        "import matplotlib.pyplot as plt\n",
        "from sklearn.datasets import fetch_20newsgroups_vectorized\n",
        "import numpy as np\n",
        "import pandas as pd\n",
        "import seaborn as sns\n",
        "from sklearn.linear_model import LogisticRegression\n",
        "from sklearn.model_selection import train_test_split, cross_val_score\n",
        "from sklearn.dummy import DummyClassifier\n",
        "from sklearn.metrics import confusion_matrix\n",
        "from sklearn.utils.multiclass import unique_labels\n",
        "from sklearn.metrics import accuracy_score, precision_score, recall_score, f1_score, fbeta_score, classification_report\n",
        "from sklearn.metrics import roc_curve, precision_recall_curve, roc_auc_score\n",
        "%matplotlib inline"
      ],
      "execution_count": 0,
      "outputs": []
    },
    {
      "cell_type": "code",
      "metadata": {
        "id": "rjzxyjHpnCer",
        "colab_type": "code",
        "colab": {}
      },
      "source": [
        "import warnings\n",
        "warnings.filterwarnings('ignore')"
      ],
      "execution_count": 0,
      "outputs": []
    },
    {
      "cell_type": "markdown",
      "metadata": {
        "id": "Di1ETjdqZPsu",
        "colab_type": "text"
      },
      "source": [
        "Load and prepare the dataset\n",
        "\n",
        "Load the training data into a dataframe named df_train_data (this step is done for you).\n",
        "\n",
        "Create binary classification problem - rename some class labels (this step done for you).\n",
        "\n",
        "Create a dataframe of 9 features named X, drop column 9\n",
        "\n",
        "Create a data frame of labels named y, select only column 9.\n",
        "\n",
        "Split the data into a training set and a test set.\n"
      ]
    },
    {
      "cell_type": "code",
      "metadata": {
        "id": "gPuHR42AZjxb",
        "colab_type": "code",
        "colab": {}
      },
      "source": [
        "df_train_data = pd.read_csv('http://archive.ics.uci.edu/ml/machine-learning-databases/statlog/shuttle/shuttle.tst', header=None, sep=' ')"
      ],
      "execution_count": 0,
      "outputs": []
    },
    {
      "cell_type": "code",
      "metadata": {
        "id": "KfRaA72MZlue",
        "colab_type": "code",
        "colab": {
          "base_uri": "https://localhost:8080/",
          "height": 195
        },
        "outputId": "2ada297d-2410-42f2-b6dd-35d95e0f3ef2"
      },
      "source": [
        "df_train_data.head()"
      ],
      "execution_count": 10,
      "outputs": [
        {
          "output_type": "execute_result",
          "data": {
            "text/html": [
              "<div>\n",
              "<style scoped>\n",
              "    .dataframe tbody tr th:only-of-type {\n",
              "        vertical-align: middle;\n",
              "    }\n",
              "\n",
              "    .dataframe tbody tr th {\n",
              "        vertical-align: top;\n",
              "    }\n",
              "\n",
              "    .dataframe thead th {\n",
              "        text-align: right;\n",
              "    }\n",
              "</style>\n",
              "<table border=\"1\" class=\"dataframe\">\n",
              "  <thead>\n",
              "    <tr style=\"text-align: right;\">\n",
              "      <th></th>\n",
              "      <th>0</th>\n",
              "      <th>1</th>\n",
              "      <th>2</th>\n",
              "      <th>3</th>\n",
              "      <th>4</th>\n",
              "      <th>5</th>\n",
              "      <th>6</th>\n",
              "      <th>7</th>\n",
              "      <th>8</th>\n",
              "      <th>9</th>\n",
              "    </tr>\n",
              "  </thead>\n",
              "  <tbody>\n",
              "    <tr>\n",
              "      <th>0</th>\n",
              "      <td>55</td>\n",
              "      <td>0</td>\n",
              "      <td>81</td>\n",
              "      <td>0</td>\n",
              "      <td>-6</td>\n",
              "      <td>11</td>\n",
              "      <td>25</td>\n",
              "      <td>88</td>\n",
              "      <td>64</td>\n",
              "      <td>4</td>\n",
              "    </tr>\n",
              "    <tr>\n",
              "      <th>1</th>\n",
              "      <td>56</td>\n",
              "      <td>0</td>\n",
              "      <td>96</td>\n",
              "      <td>0</td>\n",
              "      <td>52</td>\n",
              "      <td>-4</td>\n",
              "      <td>40</td>\n",
              "      <td>44</td>\n",
              "      <td>4</td>\n",
              "      <td>4</td>\n",
              "    </tr>\n",
              "    <tr>\n",
              "      <th>2</th>\n",
              "      <td>50</td>\n",
              "      <td>-1</td>\n",
              "      <td>89</td>\n",
              "      <td>-7</td>\n",
              "      <td>50</td>\n",
              "      <td>0</td>\n",
              "      <td>39</td>\n",
              "      <td>40</td>\n",
              "      <td>2</td>\n",
              "      <td>1</td>\n",
              "    </tr>\n",
              "    <tr>\n",
              "      <th>3</th>\n",
              "      <td>53</td>\n",
              "      <td>9</td>\n",
              "      <td>79</td>\n",
              "      <td>0</td>\n",
              "      <td>42</td>\n",
              "      <td>-2</td>\n",
              "      <td>25</td>\n",
              "      <td>37</td>\n",
              "      <td>12</td>\n",
              "      <td>4</td>\n",
              "    </tr>\n",
              "    <tr>\n",
              "      <th>4</th>\n",
              "      <td>55</td>\n",
              "      <td>2</td>\n",
              "      <td>82</td>\n",
              "      <td>0</td>\n",
              "      <td>54</td>\n",
              "      <td>-6</td>\n",
              "      <td>26</td>\n",
              "      <td>28</td>\n",
              "      <td>2</td>\n",
              "      <td>1</td>\n",
              "    </tr>\n",
              "  </tbody>\n",
              "</table>\n",
              "</div>"
            ],
            "text/plain": [
              "    0  1   2  3   4   5   6   7   8  9\n",
              "0  55  0  81  0  -6  11  25  88  64  4\n",
              "1  56  0  96  0  52  -4  40  44   4  4\n",
              "2  50 -1  89 -7  50   0  39  40   2  1\n",
              "3  53  9  79  0  42  -2  25  37  12  4\n",
              "4  55  2  82  0  54  -6  26  28   2  1"
            ]
          },
          "metadata": {
            "tags": []
          },
          "execution_count": 10
        }
      ]
    },
    {
      "cell_type": "code",
      "metadata": {
        "id": "F4D0FDI2ZuDe",
        "colab_type": "code",
        "colab": {
          "base_uri": "https://localhost:8080/",
          "height": 269
        },
        "outputId": "1294b8f0-e23b-4640-c959-f83e1f31e429"
      },
      "source": [
        "df_train_data.info()"
      ],
      "execution_count": 11,
      "outputs": [
        {
          "output_type": "stream",
          "text": [
            "<class 'pandas.core.frame.DataFrame'>\n",
            "RangeIndex: 14500 entries, 0 to 14499\n",
            "Data columns (total 10 columns):\n",
            "0    14500 non-null int64\n",
            "1    14500 non-null int64\n",
            "2    14500 non-null int64\n",
            "3    14500 non-null int64\n",
            "4    14500 non-null int64\n",
            "5    14500 non-null int64\n",
            "6    14500 non-null int64\n",
            "7    14500 non-null int64\n",
            "8    14500 non-null int64\n",
            "9    14500 non-null int64\n",
            "dtypes: int64(10)\n",
            "memory usage: 1.1 MB\n"
          ],
          "name": "stdout"
        }
      ]
    },
    {
      "cell_type": "code",
      "metadata": {
        "id": "l7rXsOQDZ6N-",
        "colab_type": "code",
        "colab": {}
      },
      "source": [
        "df_train_data.loc[df_train_data[9] != 4, 9] = 0\n",
        "df_train_data.loc[df_train_data[9] == 4, 9] = 1"
      ],
      "execution_count": 0,
      "outputs": []
    },
    {
      "cell_type": "code",
      "metadata": {
        "id": "CjQw-jPrZLar",
        "colab_type": "code",
        "colab": {
          "base_uri": "https://localhost:8080/",
          "height": 34
        },
        "outputId": "79b4706f-1e01-407e-b3e3-4ed638d84cb1"
      },
      "source": [
        "#X =df_train_data.loc[:,0:8]\n",
        "\n",
        "y = df_train_data.loc[:,9]\n",
        "X_train, X_test, y_train, y_test = train_test_split(X, y)\n",
        "\n",
        "print('There are {:d} training samples and {:d} test samples'.format(X_train.shape[0], X_test.shape[0]))\n"
      ],
      "execution_count": 36,
      "outputs": [
        {
          "output_type": "stream",
          "text": [
            "There are 10875 training samples and 3625 test samples\n"
          ],
          "name": "stdout"
        }
      ]
    },
    {
      "cell_type": "markdown",
      "metadata": {
        "id": "selGlOCzeqLD",
        "colab_type": "text"
      },
      "source": [
        "Create the model\n",
        "Instantiate a Logistic Regression classifier with a lbfgs solver.\n",
        "\n",
        "Fit the classifier to the data."
      ]
    },
    {
      "cell_type": "code",
      "metadata": {
        "id": "x5mw5yynet0H",
        "colab_type": "code",
        "colab": {
          "base_uri": "https://localhost:8080/",
          "height": 101
        },
        "outputId": "9d0044d0-7e5c-4e75-c613-c45432ef0b28"
      },
      "source": [
        "lr = LogisticRegression(solver='lbfgs')\n",
        "lr.fit(X_train,y_train)"
      ],
      "execution_count": 71,
      "outputs": [
        {
          "output_type": "execute_result",
          "data": {
            "text/plain": [
              "LogisticRegression(C=1.0, class_weight=None, dual=False, fit_intercept=True,\n",
              "                   intercept_scaling=1, l1_ratio=None, max_iter=100,\n",
              "                   multi_class='auto', n_jobs=None, penalty='l2',\n",
              "                   random_state=None, solver='lbfgs', tol=0.0001, verbose=0,\n",
              "                   warm_start=False)"
            ]
          },
          "metadata": {
            "tags": []
          },
          "execution_count": 71
        }
      ]
    },
    {
      "cell_type": "markdown",
      "metadata": {
        "id": "5gyXdWHvfkBE",
        "colab_type": "text"
      },
      "source": [
        " Calculate Accuracy\n",
        " \n",
        "Calculate and print the accuracy of the model on the test data."
      ]
    },
    {
      "cell_type": "code",
      "metadata": {
        "id": "CJkMgaAOfn0n",
        "colab_type": "code",
        "colab": {
          "base_uri": "https://localhost:8080/",
          "height": 34
        },
        "outputId": "eb0ebaa0-a51e-422d-d064-608f3f6508f6"
      },
      "source": [
        "lr_score = lr.score(X_test,y_test)\n",
        "\n",
        "print('Accuracy of Logistic Regression: {:.3f}'.format(lr_score))"
      ],
      "execution_count": 41,
      "outputs": [
        {
          "output_type": "stream",
          "text": [
            "Accuracy of Logistic Regression: 0.833\n"
          ],
          "name": "stdout"
        }
      ]
    },
    {
      "cell_type": "markdown",
      "metadata": {
        "id": "kL1yurSzf7gW",
        "colab_type": "text"
      },
      "source": [
        "Dummy Classifier\n",
        "\n",
        "Use the dummy classifier to calculate the accuracy of a purely random chance.\n",
        "\n",
        "Compare this result to the result ofthe logistic regression classifier above.\n",
        "\n",
        " What does this result tell you?"
      ]
    },
    {
      "cell_type": "code",
      "metadata": {
        "id": "rEBuGvT_f_NG",
        "colab_type": "code",
        "colab": {
          "base_uri": "https://localhost:8080/",
          "height": 34
        },
        "outputId": "9f1bf57a-5e79-474f-eeca-731269423ed9"
      },
      "source": [
        "dummy = DummyClassifier(strategy = 'most_frequent')\n",
        "dummy.fit(X_train,y_train)\n",
        "dummy.score(X_test,y_test)"
      ],
      "execution_count": 46,
      "outputs": [
        {
          "output_type": "execute_result",
          "data": {
            "text/plain": [
              "0.8518620689655172"
            ]
          },
          "metadata": {
            "tags": []
          },
          "execution_count": 46
        }
      ]
    },
    {
      "cell_type": "markdown",
      "metadata": {
        "id": "fKHZYU_mhAK8",
        "colab_type": "text"
      },
      "source": [
        "If your model's accuracy is close to the null accuracy baseline it might mean that:\n",
        "\n",
        "your features are not good predictors for your problem.\n",
        "\n",
        "your algorithm's parameters may need tuning.\n",
        "\n",
        "you have a large class imbalance."
      ]
    },
    {
      "cell_type": "markdown",
      "metadata": {
        "id": "V9O7wavxhH02",
        "colab_type": "text"
      },
      "source": [
        "Confusion Matrix\n",
        "\n",
        "Print the confusion matrix."
      ]
    },
    {
      "cell_type": "code",
      "metadata": {
        "id": "I3n5OyOuhKPS",
        "colab_type": "code",
        "colab": {
          "base_uri": "https://localhost:8080/",
          "height": 50
        },
        "outputId": "a558f2b6-ef48-4eb2-b886-2642808c18b9"
      },
      "source": [
        "predictions = lr.predict(X_test)\n",
        "\n",
        "confusion = confusion_matrix(y_test, predictions)\n",
        "print(confusion)"
      ],
      "execution_count": 50,
      "outputs": [
        {
          "output_type": "stream",
          "text": [
            "[[2972  116]\n",
            " [ 489   48]]\n"
          ],
          "name": "stdout"
        }
      ]
    },
    {
      "cell_type": "code",
      "metadata": {
        "id": "tF-jMSyXl4vm",
        "colab_type": "code",
        "colab": {}
      },
      "source": [
        "def plot_confusion_matrix(cm,\n",
        "                          target_names,\n",
        "                          title='Confusion matrix',\n",
        "                          cmap=None,\n",
        "                          normalize=True):\n",
        "    \"\"\"\n",
        "    given a sklearn confusion matrix (cm), make a nice plot\n",
        "\n",
        "    Arguments\n",
        "    ---------\n",
        "    cm:           confusion matrix from sklearn.metrics.confusion_matrix\n",
        "\n",
        "    target_names: given classification classes such as [0, 1, 2]\n",
        "                  the class names, for example: ['high', 'medium', 'low']\n",
        "\n",
        "    title:        the text to display at the top of the matrix\n",
        "\n",
        "    cmap:         the gradient of the values displayed from matplotlib.pyplot.cm\n",
        "                  see http://matplotlib.org/examples/color/colormaps_reference.html\n",
        "                  plt.get_cmap('jet') or plt.cm.Blues\n",
        "\n",
        "    normalize:    If False, plot the raw numbers\n",
        "                  If True, plot the proportions\n",
        "\n",
        "    Usage\n",
        "    -----\n",
        "    plot_confusion_matrix(cm           = cm,                  # confusion matrix created by\n",
        "                                                              # sklearn.metrics.confusion_matrix\n",
        "                          normalize    = True,                # show proportions\n",
        "                          target_names = y_labels_vals,       # list of names of the classes\n",
        "                          title        = best_estimator_name) # title of graph\n",
        "\n",
        "    Citiation\n",
        "    ---------\n",
        "    http://scikit-learn.org/stable/auto_examples/model_selection/plot_confusion_matrix.html\n",
        "\n",
        "    \"\"\"\n",
        "    import matplotlib.pyplot as plt\n",
        "    import numpy as np\n",
        "    import itertools\n",
        "\n",
        "    accuracy = np.trace(cm) / float(np.sum(cm))\n",
        "    misclass = 1 - accuracy\n",
        "\n",
        "    if cmap is None:\n",
        "        cmap = plt.get_cmap('Blues')\n",
        "\n",
        "    plt.figure(figsize=(8, 6))\n",
        "    plt.imshow(cm, interpolation='nearest', cmap=cmap)\n",
        "    plt.title(title)\n",
        "    plt.colorbar()\n",
        "    if target_names is not None:\n",
        "      tick_marks = np.arange(len(target_names))\n",
        "      plt.xticks(tick_marks, target_names, rotation=45)\n",
        "      plt.yticks(tick_marks, target_names)\n",
        "\n",
        "    if normalize:\n",
        "        cm = cm.astype('float') / cm.sum(axis=1)[:, np.newaxis]\n",
        "\n",
        "\n",
        "    thresh = cm.max() / 1.5 if normalize else cm.max() / 2\n",
        "    for i, j in itertools.product(range(cm.shape[0]), range(cm.shape[1])):\n",
        "        if normalize:\n",
        "            plt.text(j, i, \"{:0.4f}\".format(cm[i, j]),\n",
        "                     horizontalalignment=\"center\",\n",
        "                     color=\"white\" if cm[i, j] > thresh else \"black\")\n",
        "        else:\n",
        "            plt.text(j, i, \"{:,}\".format(cm[i, j]),\n",
        "                     horizontalalignment=\"center\",\n",
        "                     color=\"white\" if cm[i, j] > thresh else \"black\")\n",
        "\n",
        "\n",
        "    plt.tight_layout()\n",
        "    plt.ylabel('Predicted label')\n",
        "    plt.xlabel('True label\\naccuracy={:0.4f}; misclass={:0.4f}'.format(accuracy, misclass))\n",
        "    plt.show()\n"
      ],
      "execution_count": 0,
      "outputs": []
    },
    {
      "cell_type": "markdown",
      "metadata": {
        "id": "mEASUTYuiuuL",
        "colab_type": "text"
      },
      "source": [
        "Plot a nicer confusion matrix (optional)\n",
        "\n",
        "Use the plot_confusion_matrix function from above to plot a nicer looking confusion matrix."
      ]
    },
    {
      "cell_type": "code",
      "metadata": {
        "id": "MvBEBDrTjFk2",
        "colab_type": "code",
        "colab": {
          "base_uri": "https://localhost:8080/",
          "height": 467
        },
        "outputId": "9d6f0050-3d5c-41a9-b458-2521ce898b2d"
      },
      "source": [
        "plot_confusion_matrix(cm=confusion, target_names = ['Positive', 'Negative'], title = 'Confusion Matrix',normalize=False)\n"
      ],
      "execution_count": 56,
      "outputs": [
        {
          "output_type": "display_data",
          "data": {
            "image/png": "[encoded data removed]",
            "text/plain": [
              "<Figure size 576x432 with 2 Axes>"
            ]
          },
          "metadata": {
            "tags": []
          }
        }
      ]
    },
    {
      "cell_type": "markdown",
      "metadata": {
        "id": "4pv_tCc9jbcz",
        "colab_type": "text"
      },
      "source": [
        "**Calculate Metrics**\n",
        "\n",
        "Print the F1, F beta, precision, recall and accuracy scores."
      ]
    },
    {
      "cell_type": "code",
      "metadata": {
        "id": "ikAQ9lkKkR7g",
        "colab_type": "code",
        "colab": {
          "base_uri": "https://localhost:8080/",
          "height": 118
        },
        "outputId": "f3dbe5b0-a42e-4815-dce8-e207c7e432b0"
      },
      "source": [
        "accuracy = accuracy_score(y_test, predictions)\n",
        "precision = precision_score(y_test, predictions)\n",
        "recall = recall_score(y_test, predictions)\n",
        "f1 = f1_score(y_test, predictions)\n",
        "fbeta_precision = fbeta_score(y_test, predictions, 0.5)\n",
        "fbeta_recall = fbeta_score(y_test, predictions, 2)\n",
        "\n",
        "print('Accuracy score: {:.2f}'.format(accuracy))\n",
        "print('Precision score: {:.2f}'.format(precision))\n",
        "print('Recall score: {:.2f}'.format(recall))\n",
        "print('F1 score: {:.2f}'.format(f1))\n",
        "print('Fbeta score favoring precision: {:.2f}'.format(fbeta_precision))\n",
        "print('FBeta score favoring recall: {:.2f}'.format(fbeta_recall))"
      ],
      "execution_count": 62,
      "outputs": [
        {
          "output_type": "stream",
          "text": [
            "Accuracy score: 0.83\n",
            "Precision score: 0.29\n",
            "Recall score: 0.09\n",
            "F1 score: 0.14\n",
            "Fbeta score favoring precision: 0.20\n",
            "FBeta score favoring recall: 0.10\n"
          ],
          "name": "stdout"
        }
      ]
    },
    {
      "cell_type": "markdown",
      "metadata": {
        "id": "3kV1ZLgKkf-e",
        "colab_type": "text"
      },
      "source": [
        "**Print a classification report**"
      ]
    },
    {
      "cell_type": "code",
      "metadata": {
        "id": "o5ZSKSt2kisz",
        "colab_type": "code",
        "colab": {
          "base_uri": "https://localhost:8080/",
          "height": 168
        },
        "outputId": "a49fb4b0-1bea-4e02-b521-a9d54dbd8d15"
      },
      "source": [
        "report = classification_report(y_test,predictions, target_names=['Negative', 'Positive'])\n",
        "print(report)"
      ],
      "execution_count": 64,
      "outputs": [
        {
          "output_type": "stream",
          "text": [
            "              precision    recall  f1-score   support\n",
            "\n",
            "    Negative       0.86      0.96      0.91      3088\n",
            "    Positive       0.29      0.09      0.14       537\n",
            "\n",
            "    accuracy                           0.83      3625\n",
            "   macro avg       0.58      0.53      0.52      3625\n",
            "weighted avg       0.77      0.83      0.79      3625\n",
            "\n"
          ],
          "name": "stdout"
        }
      ]
    },
    {
      "cell_type": "markdown",
      "metadata": {
        "id": "fK0GvDDQlB7m",
        "colab_type": "text"
      },
      "source": [
        "**Plot ROC Curve and AUC**\n",
        "\n",
        "**Caculate AUC and plot the curve**."
      ]
    },
    {
      "cell_type": "code",
      "metadata": {
        "id": "4lkXCb3ilNZD",
        "colab_type": "code",
        "colab": {
          "base_uri": "https://localhost:8080/",
          "height": 421
        },
        "outputId": "e8f808a9-1ac2-477b-e0b6-59071352a98e"
      },
      "source": [
        "probs = lr.predict_proba(X_test)[:, 1]\n",
        "fpr, tpr, thresholds = roc_curve(y_test, probs)\n",
        "fig = plt.figure(figsize = (6, 6))\n",
        "plt.plot([0, 1], [0, 1], 'k--')\n",
        "plt.plot(fpr, tpr)\n",
        "plt.xlabel('False Positive Rate')\n",
        "plt.ylabel('True Positive Rate')\n",
        "plt.title('ROC curve for Logistic Regression Model')\n",
        "plt.show()\n",
        "\n",
        "auc = roc_auc_score(y_test, probs)\n",
        "print('Area under the ROC curve: {:.3f}'.format(auc))"
      ],
      "execution_count": 65,
      "outputs": [
        {
          "output_type": "display_data",
          "data": {
            "image/png": "[encoded data removed]",
            "text/plain": [
              "<Figure size 432x432 with 1 Axes>"
            ]
          },
          "metadata": {
            "tags": []
          }
        },
        {
          "output_type": "stream",
          "text": [
            "Area under the ROC curve: 0.778\n"
          ],
          "name": "stdout"
        }
      ]
    },
    {
      "cell_type": "markdown",
      "metadata": {
        "id": "R2pX-3s3l0Sz",
        "colab_type": "text"
      },
      "source": [
        "**Plot Precision-Recall Curve**\n",
        "\n",
        "**Plot the precision-recall curve for the model above**."
      ]
    },
    {
      "cell_type": "code",
      "metadata": {
        "id": "2Tx6G_qcl9In",
        "colab_type": "code",
        "colab": {
          "base_uri": "https://localhost:8080/",
          "height": 404
        },
        "outputId": "6eefc7d7-5689-4672-f2fb-b91fbf1d1f4b"
      },
      "source": [
        "pres, rec, thresholds = precision_recall_curve(y_test, predictions)\n",
        "fig = plt.figure(figsize = (6, 6))\n",
        "plt.plot(rec, pres)\n",
        "plt.xlabel('Recall')\n",
        "plt.ylabel('Precision')\n",
        "plt.title('Precision-Recall Curve')\n",
        "plt.show()"
      ],
      "execution_count": 66,
      "outputs": [
        {
          "output_type": "display_data",
          "data": {
            "image/png": "[encoded data removed]",
            "text/plain": [
              "<Figure size 432x432 with 1 Axes>"
            ]
          },
          "metadata": {
            "tags": []
          }
        }
      ]
    },
    {
      "cell_type": "markdown",
      "metadata": {
        "id": "T8TY1EIemQmA",
        "colab_type": "text"
      },
      "source": [
        "**Find the best value for C in the Logistic Regression Classifier for avoiding overfitting**. \n",
        "\n",
        "**Plot the training and testing accuracy over a range of C values from 0.05 to 1.5**."
      ]
    },
    {
      "cell_type": "code",
      "metadata": {
        "id": "Q8LdZBhsmcQA",
        "colab_type": "code",
        "colab": {
          "base_uri": "https://localhost:8080/",
          "height": 295
        },
        "outputId": "0f6c28f3-7c98-4ef0-8590-ba70ae49bd2c"
      },
      "source": [
        "c_vals = np.arange(0.05, 1.5, 0.05)\n",
        "test_accuracy = []\n",
        "train_accuracy = []\n",
        "\n",
        "for c in c_vals:\n",
        "  lr = LogisticRegression(solver='lbfgs')\n",
        "  lr.fit(X_train,y_train)\n",
        "  test_accuracy.append(lr.score(X_test, y_test))\n",
        "  train_accuracy.append(lr.score(X_train, y_train))\n",
        "\n",
        "fig = plt.figure(figsize=(8, 4))\n",
        "ax1 = fig.add_subplot(1, 1, 1)\n",
        "ax1.plot(c_vals, test_accuracy, '-g', label='Test Accuracy')\n",
        "ax1.plot(c_vals, train_accuracy, '-b', label='Train Accuracy')\n",
        "ax1.set(xlabel='C', ylabel='Accuracy')\n",
        "ax1.set_title('Effect of C on Accuracy')\n",
        "ax1.legend()\n",
        "plt.show()"
      ],
      "execution_count": 69,
      "outputs": [
        {
          "output_type": "display_data",
          "data": {
            "image/png": "[encoded data removed]",
            "text/plain": [
              "<Figure size 576x288 with 1 Axes>"
            ]
          },
          "metadata": {
            "tags": []
          }
        }
      ]
    },
    {
      "cell_type": "markdown",
      "metadata": {
        "id": "OXTH7oEHnt6T",
        "colab_type": "text"
      },
      "source": [
        "**Cross Validation**\n",
        "\n",
        "**Perform 5-fold cross validation for a Logistic Regression Classifier**.\n",
        "\n",
        " **Print the 5 accuracy scores and the mean validation score**"
      ]
    },
    {
      "cell_type": "code",
      "metadata": {
        "id": "Cn3q2hCRn9pw",
        "colab_type": "code",
        "colab": {
          "base_uri": "https://localhost:8080/",
          "height": 50
        },
        "outputId": "750f2bb5-cec8-4890-e8f9-440301663905"
      },
      "source": [
        "clf = LogisticRegression(solver='lbfgs', max_iter=1000)\n",
        "cv_scores = cross_val_score(clf,X_train, y_train, cv =5)\n",
        "\n",
        "print('Accuracy scores for the 5 folds: ', cv_scores)\n",
        "print('Mean cross validation score: {:.3f}'.format(np.mean(cv_scores)))"
      ],
      "execution_count": 70,
      "outputs": [
        {
          "output_type": "stream",
          "text": [
            "Accuracy scores for the 5 folds:  [0.81885057 0.82344828 0.82712644 0.82850575 0.81747126]\n",
            "Mean cross validation score: 0.823\n"
          ],
          "name": "stdout"
        }
      ]
    },
    {
      "cell_type": "markdown",
      "metadata": {
        "id": "oKxjXXfCrS-t",
        "colab_type": "text"
      },
      "source": [
        " **Is this really linear?**\n",
        "\n",
        "Our linear classifier is not giving us accuracy better than the dummy classifier.\n",
        " Suppose that the data was not linearly separable?\n",
        "\n",
        "**Instantiate and train a KNN model with k = 7** \n",
        "\n",
        "How does the accuracy of the KNN model compare to the Logistic Regression from above? What does that tell you about the data?"
      ]
    },
    {
      "cell_type": "code",
      "metadata": {
        "id": "93kn2gHzpswB",
        "colab_type": "code",
        "colab": {
          "base_uri": "https://localhost:8080/",
          "height": 67
        },
        "outputId": "a1221a91-ce0b-4355-c4aa-3749826350aa"
      },
      "source": [
        "from sklearn.neighbors import KNeighborsClassifier\n",
        "knn = KNeighborsClassifier(n_neighbors=7)\n",
        "knn.fit(X_train, y_train)"
      ],
      "execution_count": 74,
      "outputs": [
        {
          "output_type": "execute_result",
          "data": {
            "text/plain": [
              "KNeighborsClassifier(algorithm='auto', leaf_size=30, metric='minkowski',\n",
              "                     metric_params=None, n_jobs=None, n_neighbors=7, p=2,\n",
              "                     weights='uniform')"
            ]
          },
          "metadata": {
            "tags": []
          },
          "execution_count": 74
        }
      ]
    },
    {
      "cell_type": "markdown",
      "metadata": {
        "id": "_1h6aqZAsfbB",
        "colab_type": "text"
      },
      "source": [
        ""
      ]
    },
    {
      "cell_type": "code",
      "metadata": {
        "id": "XxNgW9MmsY8O",
        "colab_type": "code",
        "colab": {
          "base_uri": "https://localhost:8080/",
          "height": 34
        },
        "outputId": "5e32d902-6bfd-403a-95ec-56ad89800df2"
      },
      "source": [
        "knn_score = knn.score(X_test,y_test)\n",
        "\n",
        "print('Accuracy of KNN: {:.3f}'.format(knn_score))"
      ],
      "execution_count": 76,
      "outputs": [
        {
          "output_type": "stream",
          "text": [
            "Accuracy of KNN: 0.998\n"
          ],
          "name": "stdout"
        }
      ]
    },
    {
      "cell_type": "markdown",
      "metadata": {
        "id": "cniOq3PPsns4",
        "colab_type": "text"
      },
      "source": [
        "  **KNN ALMOST 100% -- SO LOOKS LIKE NOT LINERALLY SEPERABLE**"
      ]
    },
    {
      "cell_type": "markdown",
      "metadata": {
        "id": "LX1uKjjPtHhh",
        "colab_type": "text"
      },
      "source": [
        "////////////////////////////////////////////////////////////////////////"
      ]
    },
    {
      "cell_type": "markdown",
      "metadata": {
        "id": "boGoIz1Qsy38",
        "colab_type": "text"
      },
      "source": [
        "**Random Forest**\n",
        "\n",
        "**Next, instantiate and fit a RandomForestClassifier and calculate the accuracy of that model**."
      ]
    },
    {
      "cell_type": "code",
      "metadata": {
        "id": "MXUSUM7ZtDRc",
        "colab_type": "code",
        "colab": {
          "base_uri": "https://localhost:8080/",
          "height": 34
        },
        "outputId": "a605ebd9-03aa-4e3c-c37b-35945b175177"
      },
      "source": [
        "from sklearn.ensemble import RandomForestClassifier\n",
        "rf = RandomForestClassifier(max_depth=2, random_state=0)\n",
        "rf.fit(X_train, y_train)\n",
        "rf_score = rf.score(X_test,y_test)\n",
        "print('Accuracy of Random Forest: {:.3f}'.format(rf_score))"
      ],
      "execution_count": 80,
      "outputs": [
        {
          "output_type": "stream",
          "text": [
            "Accuracy of Random Forest: 0.997\n"
          ],
          "name": "stdout"
        }
      ]
    }
  ]
}