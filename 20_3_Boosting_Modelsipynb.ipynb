{
  "nbformat": 4,
  "nbformat_minor": 0,
  "metadata": {
    "colab": {
      "name": "20.3  Boosting Modelsipynb",
      "provenance": [],
      "collapsed_sections": [],
      "authorship_tag": "ABX9TyMf2uGELkNQfgmi6AODVlG2",
      "include_colab_link": true
    },
    "kernelspec": {
      "name": "python3",
      "display_name": "Python 3"
    }
  },
  "cells": [
    {
      "cell_type": "markdown",
      "metadata": {
        "id": "view-in-github",
        "colab_type": "text"
      },
      "source": [
        "<a href=\"https://colab.research.google.com/github/AlexBB999/Classwork/blob/master/20_3_Boosting_Modelsipynb.ipynb\" target=\"_parent\"><img src=\"https://colab.research.google.com/assets/colab-badge.svg\" alt=\"Open In Colab\"/></a>"
      ]
    },
    {
      "cell_type": "code",
      "metadata": {
        "id": "FBLjqYNqoYix",
        "colab_type": "code",
        "colab": {}
      },
      "source": [
        "import itertools\n",
        "import pandas as pd\n",
        "import numpy as np\n",
        "import matplotlib.pyplot as plt\n",
        "%matplotlib inline\n",
        "\n",
        "from sklearn.metrics import confusion_matrix, precision_score, recall_score\n",
        "from sklearn import ensemble"
      ],
      "execution_count": 0,
      "outputs": []
    },
    {
      "cell_type": "markdown",
      "metadata": {
        "id": "tUOBOl95op9s",
        "colab_type": "text"
      },
      "source": [
        "**Gradient boost guided example**\n",
        "\n",
        "Having walked through gradient boost by hand, now let's try it with SKlearn. \n",
        "\n",
        "We'll still use the European Social Survey Data, but now with a **categorical outcome**: **Whether or not someone lives with a partner**."
      ]
    },
    {
      "cell_type": "code",
      "metadata": {
        "id": "7P5Hdrjho6_S",
        "colab_type": "code",
        "colab": {}
      },
      "source": [
        "df = pd.read_csv((\n",
        "    \"https://raw.githubusercontent.com/Thinkful-Ed/data-201-resources/\"\n",
        "    \"master/ESS_practice_data/ESSdata_Thinkful.csv\")).dropna()\n",
        "\n",
        "# Definine outcome and predictors.\n",
        "# Set our outcome to 0 and 1.\n",
        "y = df['partner'] - 1\n",
        "X = df.loc[:, ~df.columns.isin(['partner', 'cntry', 'idno'])]\n",
        "\n",
        "# Make the categorical variable 'country' into dummies.\n",
        "X = pd.concat([X, pd.get_dummies(df['cntry'])], axis=1)\n",
        "\n",
        "# Create training and test sets.\n",
        "offset = int(X.shape[0] * 0.8)\n",
        "\n",
        "# Put 80% of the data in the training set.\n",
        "X_train, y_train = X[:offset], y[:offset]\n",
        "\n",
        "# And put 20% in the test set.\n",
        "X_test, y_test = X[offset:], y[offset:]"
      ],
      "execution_count": 0,
      "outputs": []
    },
    {
      "cell_type": "code",
      "metadata": {
        "id": "D_IASfnRphIQ",
        "colab_type": "code",
        "colab": {
          "base_uri": "https://localhost:8080/",
          "height": 195
        },
        "outputId": "c1d24fcc-c898-4290-d7e7-9c4a2c4f1fa8"
      },
      "source": [
        "df.head()"
      ],
      "execution_count": 4,
      "outputs": [
        {
          "output_type": "execute_result",
          "data": {
            "text/html": [
              "<div>\n",
              "<style scoped>\n",
              "    .dataframe tbody tr th:only-of-type {\n",
              "        vertical-align: middle;\n",
              "    }\n",
              "\n",
              "    .dataframe tbody tr th {\n",
              "        vertical-align: top;\n",
              "    }\n",
              "\n",
              "    .dataframe thead th {\n",
              "        text-align: right;\n",
              "    }\n",
              "</style>\n",
              "<table border=\"1\" class=\"dataframe\">\n",
              "  <thead>\n",
              "    <tr style=\"text-align: right;\">\n",
              "      <th></th>\n",
              "      <th>cntry</th>\n",
              "      <th>idno</th>\n",
              "      <th>year</th>\n",
              "      <th>tvtot</th>\n",
              "      <th>ppltrst</th>\n",
              "      <th>pplfair</th>\n",
              "      <th>pplhlp</th>\n",
              "      <th>happy</th>\n",
              "      <th>sclmeet</th>\n",
              "      <th>sclact</th>\n",
              "      <th>gndr</th>\n",
              "      <th>agea</th>\n",
              "      <th>partner</th>\n",
              "    </tr>\n",
              "  </thead>\n",
              "  <tbody>\n",
              "    <tr>\n",
              "      <th>0</th>\n",
              "      <td>CH</td>\n",
              "      <td>5.0</td>\n",
              "      <td>6</td>\n",
              "      <td>3.0</td>\n",
              "      <td>3.0</td>\n",
              "      <td>10.0</td>\n",
              "      <td>5.0</td>\n",
              "      <td>8.0</td>\n",
              "      <td>5.0</td>\n",
              "      <td>4.0</td>\n",
              "      <td>2.0</td>\n",
              "      <td>60.0</td>\n",
              "      <td>1.0</td>\n",
              "    </tr>\n",
              "    <tr>\n",
              "      <th>1</th>\n",
              "      <td>CH</td>\n",
              "      <td>25.0</td>\n",
              "      <td>6</td>\n",
              "      <td>6.0</td>\n",
              "      <td>5.0</td>\n",
              "      <td>7.0</td>\n",
              "      <td>5.0</td>\n",
              "      <td>9.0</td>\n",
              "      <td>3.0</td>\n",
              "      <td>2.0</td>\n",
              "      <td>2.0</td>\n",
              "      <td>59.0</td>\n",
              "      <td>1.0</td>\n",
              "    </tr>\n",
              "    <tr>\n",
              "      <th>2</th>\n",
              "      <td>CH</td>\n",
              "      <td>26.0</td>\n",
              "      <td>6</td>\n",
              "      <td>1.0</td>\n",
              "      <td>8.0</td>\n",
              "      <td>8.0</td>\n",
              "      <td>8.0</td>\n",
              "      <td>7.0</td>\n",
              "      <td>6.0</td>\n",
              "      <td>3.0</td>\n",
              "      <td>1.0</td>\n",
              "      <td>24.0</td>\n",
              "      <td>2.0</td>\n",
              "    </tr>\n",
              "    <tr>\n",
              "      <th>3</th>\n",
              "      <td>CH</td>\n",
              "      <td>28.0</td>\n",
              "      <td>6</td>\n",
              "      <td>4.0</td>\n",
              "      <td>6.0</td>\n",
              "      <td>6.0</td>\n",
              "      <td>7.0</td>\n",
              "      <td>10.0</td>\n",
              "      <td>6.0</td>\n",
              "      <td>2.0</td>\n",
              "      <td>2.0</td>\n",
              "      <td>64.0</td>\n",
              "      <td>1.0</td>\n",
              "    </tr>\n",
              "    <tr>\n",
              "      <th>4</th>\n",
              "      <td>CH</td>\n",
              "      <td>29.0</td>\n",
              "      <td>6</td>\n",
              "      <td>5.0</td>\n",
              "      <td>6.0</td>\n",
              "      <td>7.0</td>\n",
              "      <td>5.0</td>\n",
              "      <td>8.0</td>\n",
              "      <td>7.0</td>\n",
              "      <td>2.0</td>\n",
              "      <td>2.0</td>\n",
              "      <td>55.0</td>\n",
              "      <td>1.0</td>\n",
              "    </tr>\n",
              "  </tbody>\n",
              "</table>\n",
              "</div>"
            ],
            "text/plain": [
              "  cntry  idno  year  tvtot  ppltrst  ...  sclmeet  sclact  gndr  agea  partner\n",
              "0    CH   5.0     6    3.0      3.0  ...      5.0     4.0   2.0  60.0      1.0\n",
              "1    CH  25.0     6    6.0      5.0  ...      3.0     2.0   2.0  59.0      1.0\n",
              "2    CH  26.0     6    1.0      8.0  ...      6.0     3.0   1.0  24.0      2.0\n",
              "3    CH  28.0     6    4.0      6.0  ...      6.0     2.0   2.0  64.0      1.0\n",
              "4    CH  29.0     6    5.0      6.0  ...      7.0     2.0   2.0  55.0      1.0\n",
              "\n",
              "[5 rows x 13 columns]"
            ]
          },
          "metadata": {
            "tags": []
          },
          "execution_count": 4
        }
      ]
    },
    {
      "cell_type": "code",
      "metadata": {
        "id": "SRQmRDjMpoqU",
        "colab_type": "code",
        "colab": {
          "base_uri": "https://localhost:8080/",
          "height": 34
        },
        "outputId": "27f84b60-1363-443b-b9a3-a06e8b11a6be"
      },
      "source": [
        "df.shape"
      ],
      "execution_count": 5,
      "outputs": [
        {
          "output_type": "execute_result",
          "data": {
            "text/plain": [
              "(8147, 13)"
            ]
          },
          "metadata": {
            "tags": []
          },
          "execution_count": 5
        }
      ]
    },
    {
      "cell_type": "markdown",
      "metadata": {
        "id": "OZtooT-RpA5S",
        "colab_type": "text"
      },
      "source": [
        "Since we're now working with a binary outcome, **we've switched to a classifier**. \n",
        "\n",
        "**Now our loss function can't be the residuals**.\n",
        "\n",
        " **Our options are \"deviance\", or \"exponential**\".\n",
        "\n",
        " **Deviance is used for logistic regression**, and we'll try that here."
      ]
    },
    {
      "cell_type": "code",
      "metadata": {
        "id": "LdGYjUrbpUt8",
        "colab_type": "code",
        "colab": {}
      },
      "source": [
        "# We'll make 500 iterations, use 2-deep trees, and set our loss function.\n",
        "\n",
        "# *** It's best to update this table for the drill \n",
        "#  at the end of the lesson.  ***\n",
        "\n",
        "params = {'n_estimators': 500,\n",
        "          'max_depth': 2,\n",
        "          'loss': 'deviance'}\n",
        "\n",
        "# Initialize and fit the model.\n",
        "clf = ensemble.GradientBoostingClassifier(**params)\n",
        "clf.fit(X_train, y_train)\n",
        "\n",
        "predict_train = clf.predict(X_train)\n",
        "predict_test = clf.predict(X_test)"
      ],
      "execution_count": 0,
      "outputs": []
    },
    {
      "cell_type": "markdown",
      "metadata": {
        "id": "Nud_dYwgp6XC",
        "colab_type": "text"
      },
      "source": [
        "**Evaluation of Model - Confusion Matrix Plot**\n",
        "\n",
        "based on the example here:\n",
        "\n",
        "https://scikit-learn.org/0.18/auto_examples/model_selection/plot_confusion_matrix.html"
      ]
    },
    {
      "cell_type": "code",
      "metadata": {
        "id": "byfrL18eqAxa",
        "colab_type": "code",
        "colab": {}
      },
      "source": [
        "def plot_confusion_matrix(cm, classes,normalize,\n",
        "                          title='Confusion matrix',\n",
        "                          cmap=plt.cm.Blues):\n",
        "    \"\"\"\n",
        "    This function prints and plots the confusion matrix.\n",
        "    Normalization can be applied by setting `normalize=True`.\n",
        "    \"\"\"\n",
        "    if normalize:\n",
        "        cm = cm.astype('float') / cm.sum(axis=1)[:, np.newaxis]\n",
        "        print(\"Normalized confusion matrix\")\n",
        "    else:\n",
        "        print('Confusion matrix, without normalization')\n",
        "\n",
        "    plt.imshow(cm, interpolation='nearest', cmap=cmap)\n",
        "    plt.title(title)\n",
        "    plt.colorbar()\n",
        "    tick_marks = np.arange(len(classes))\n",
        "    plt.xticks(tick_marks, classes)\n",
        "    plt.yticks(tick_marks, classes)\n",
        "    fmt = '.2f' if normalize else 'd'\n",
        "    thresh = cm.max() / 2.\n",
        "    for i, j in itertools.product(range(cm.shape[0]), range(cm.shape[1])):\n",
        "        plt.text(j, i, format(cm[i, j], fmt),\n",
        "                 horizontalalignment=\"center\", verticalalignment=\"center\",\n",
        "                 color=\"white\" if cm[i, j] > thresh else \"black\")\n",
        "    plt.ylabel('True label')\n",
        "    plt.xlabel('Predicted label')"
      ],
      "execution_count": 0,
      "outputs": []
    },
    {
      "cell_type": "code",
      "metadata": {
        "id": "6ofktVqjqMV1",
        "colab_type": "code",
        "colab": {
          "base_uri": "https://localhost:8080/",
          "height": 312
        },
        "outputId": "5dde9a63-7494-44a7-8248-3ff6e37ab62a"
      },
      "source": [
        "cm = confusion_matrix(predict_test, y_test)\n",
        "plot_confusion_matrix(cm,[0,1],False)"
      ],
      "execution_count": 8,
      "outputs": [
        {
          "output_type": "stream",
          "text": [
            "Confusion matrix, without normalization\n"
          ],
          "name": "stdout"
        },
        {
          "output_type": "display_data",
          "data": {
            "image/png": "[encoded data removed]",
            "text/plain": [
              "<Figure size 432x288 with 2 Axes>"
            ]
          },
          "metadata": {
            "tags": []
          }
        }
      ]
    },
    {
      "cell_type": "code",
      "metadata": {
        "id": "F41m8EZsqVz1",
        "colab_type": "code",
        "colab": {
          "base_uri": "https://localhost:8080/",
          "height": 312
        },
        "outputId": "ad0a5220-2c07-46e8-f215-eebb4ee040be"
      },
      "source": [
        "cm = confusion_matrix(predict_test, y_test)\n",
        "plot_confusion_matrix(cm,[0,1],True)"
      ],
      "execution_count": 9,
      "outputs": [
        {
          "output_type": "stream",
          "text": [
            "Normalized confusion matrix\n"
          ],
          "name": "stdout"
        },
        {
          "output_type": "display_data",
          "data": {
            "image/png": "[encoded data removed]",
            "text/plain": [
              "<Figure size 432x288 with 2 Axes>"
            ]
          },
          "metadata": {
            "tags": []
          }
        }
      ]
    },
    {
      "cell_type": "markdown",
      "metadata": {
        "id": "6luv3oPgqnYY",
        "colab_type": "text"
      },
      "source": [
        "###**Accuracy**"
      ]
    },
    {
      "cell_type": "code",
      "metadata": {
        "id": "RPnxwLBlqsrE",
        "colab_type": "code",
        "colab": {
          "base_uri": "https://localhost:8080/",
          "height": 34
        },
        "outputId": "5aaccdc1-73c4-43da-cb97-f8f3c05d0726"
      },
      "source": [
        "clf.score(X_test, y_test)"
      ],
      "execution_count": 10,
      "outputs": [
        {
          "output_type": "execute_result",
          "data": {
            "text/plain": [
              "0.747239263803681"
            ]
          },
          "metadata": {
            "tags": []
          },
          "execution_count": 10
        }
      ]
    },
    {
      "cell_type": "markdown",
      "metadata": {
        "id": "FDMvttzpq1WH",
        "colab_type": "text"
      },
      "source": [
        "###**Precision**"
      ]
    },
    {
      "cell_type": "code",
      "metadata": {
        "id": "mNh3od5Dq44-",
        "colab_type": "code",
        "colab": {
          "base_uri": "https://localhost:8080/",
          "height": 34
        },
        "outputId": "fcce60f6-8a34-4ca5-ed52-051023b661d6"
      },
      "source": [
        "y_pred = clf.predict(X_test)\n",
        "precision_score(y_test,y_pred)"
      ],
      "execution_count": 11,
      "outputs": [
        {
          "output_type": "execute_result",
          "data": {
            "text/plain": [
              "0.7035647279549718"
            ]
          },
          "metadata": {
            "tags": []
          },
          "execution_count": 11
        }
      ]
    },
    {
      "cell_type": "markdown",
      "metadata": {
        "id": "ZRQm1C8UrCMa",
        "colab_type": "text"
      },
      "source": [
        "### **Recall**"
      ]
    },
    {
      "cell_type": "code",
      "metadata": {
        "id": "IQewt-IirFKy",
        "colab_type": "code",
        "colab": {
          "base_uri": "https://localhost:8080/",
          "height": 34
        },
        "outputId": "cfc2aeb9-3c55-48bb-e9ea-d7619d77392e"
      },
      "source": [
        "recall_score(y_test,y_pred)"
      ],
      "execution_count": 12,
      "outputs": [
        {
          "output_type": "execute_result",
          "data": {
            "text/plain": [
              "0.5961844197138315"
            ]
          },
          "metadata": {
            "tags": []
          },
          "execution_count": 12
        }
      ]
    },
    {
      "cell_type": "markdown",
      "metadata": {
        "id": "TtKcDmZ2rORw",
        "colab_type": "text"
      },
      "source": [
        "Unlike decision trees, gradient boost solutions are not terribly easy to interpret on the surface. But they aren't quite a black box. \n",
        "\n",
        "**We can get a measure of how important various features are by counting how many times a feature is used over the course of many decision tree**s"
      ]
    },
    {
      "cell_type": "code",
      "metadata": {
        "id": "66s9Zjp8rXRa",
        "colab_type": "code",
        "colab": {
          "base_uri": "https://localhost:8080/",
          "height": 295
        },
        "outputId": "a4c1d9ad-9a00-42dd-8d6b-fa417a91b19f"
      },
      "source": [
        "feature_importance = clf.feature_importances_\n",
        "\n",
        "# Make importances relative to max importance.\n",
        "feature_importance = 100.0 * (feature_importance / feature_importance.max())\n",
        "sorted_idx = np.argsort(feature_importance)\n",
        "pos = np.arange(sorted_idx.shape[0]) + .5\n",
        "plt.subplot(1, 2, 2)\n",
        "plt.barh(pos, feature_importance[sorted_idx], align='center')\n",
        "plt.yticks(pos, X.columns[sorted_idx])\n",
        "plt.xlabel('Relative Importance')\n",
        "plt.title('Variable Importance')\n",
        "plt.show()"
      ],
      "execution_count": 13,
      "outputs": [
        {
          "output_type": "display_data",
          "data": {
            "image/png": "[encoded data removed]",
            "text/plain": [
              "<Figure size 432x288 with 1 Axes>"
            ]
          },
          "metadata": {
            "tags": []
          }
        }
      ]
    },
    {
      "cell_type": "markdown",
      "metadata": {
        "id": "AbdWn2OqriFM",
        "colab_type": "text"
      },
      "source": [
        "It appears that age and happiness are the most important features in predicting whether or not someone lives with a partner."
      ]
    },
    {
      "cell_type": "markdown",
      "metadata": {
        "id": "tOYNsIWfrjs6",
        "colab_type": "text"
      },
      "source": [
        "**DRILL: Improve this gradient boost model**"
      ]
    },
    {
      "cell_type": "markdown",
      "metadata": {
        "id": "koCQb_Pvrp0C",
        "colab_type": "text"
      },
      "source": [
        "\n",
        "While this model is already doing alright, but there is definitely room for improvement.\n",
        "\n",
        "**Your task is to see how low you can get the error rates to go in the test set, based on your model in the training set**. \n",
        "\n",
        "Strategies you might use include:\n",
        "\n",
        "Creating new features\n",
        "\n",
        "Applying more overfitting-prevention strategies like subsampling\n",
        "\n",
        "More iterations\n",
        "\n",
        "\n",
        "Trying a different loss function\n",
        "Changing the structure of the weak learner: Allowing more leaves in the tree, or other modifications\n",
        "\n",
        "You can learn more about the parameters for the gradient boost model here and update the params table featured earlier, before we initialized and fit the model.\n",
        "\n",
        "A few parameters to tune could be:\n",
        "\n",
        "learning_rate\n",
        "\n",
        "max_depth\n",
        "\n",
        "n_estimators\n",
        "\n",
        "loss\n",
        "\n",
        "subsample\n",
        "\n",
        "min_samples_split\n",
        "\n",
        "You can then use the same metrics to evaluate your results.\n",
        "\n",
        "Have fun!"
      ]
    },
    {
      "cell_type": "markdown",
      "metadata": {
        "id": "OJthIU-3sWcH",
        "colab_type": "text"
      },
      "source": [
        "**///////////////////////////////////////////////////////////////////////////////////**"
      ]
    },
    {
      "cell_type": "markdown",
      "metadata": {
        "id": "jhH6kHmVsbHE",
        "colab_type": "text"
      },
      "source": [
        "##**DRILL**"
      ]
    },
    {
      "cell_type": "markdown",
      "metadata": {
        "id": "SXIjX63FszQJ",
        "colab_type": "text"
      },
      "source": [
        "FIRST TRY INCREASING MAX DEPTH TO 4"
      ]
    },
    {
      "cell_type": "code",
      "metadata": {
        "id": "_I99DbD-sgZa",
        "colab_type": "code",
        "colab": {}
      },
      "source": [
        "# We'll make 500 iterations, use 2-deep trees, and set our loss function.\n",
        "\n",
        "# *** It's best to update this table for the drill \n",
        "#  at the end of the lesson.  ***\n",
        "\n",
        "params = {'n_estimators': 500,\n",
        "          'max_depth': 4,\n",
        "          'loss': 'deviance'}\n",
        "\n",
        "# Initialize and fit the model.\n",
        "clf = ensemble.GradientBoostingClassifier(**params)\n",
        "clf.fit(X_train, y_train)\n",
        "\n",
        "predict_train = clf.predict(X_train)\n",
        "predict_test = clf.predict(X_test)"
      ],
      "execution_count": 0,
      "outputs": []
    },
    {
      "cell_type": "code",
      "metadata": {
        "id": "SrRogeGNtGUy",
        "colab_type": "code",
        "colab": {
          "base_uri": "https://localhost:8080/",
          "height": 312
        },
        "outputId": "6696aa58-eb46-4d27-e293-b2012fae7809"
      },
      "source": [
        "cm = confusion_matrix(predict_test, y_test)\n",
        "plot_confusion_matrix(cm,[0,1],True)"
      ],
      "execution_count": 16,
      "outputs": [
        {
          "output_type": "stream",
          "text": [
            "Normalized confusion matrix\n"
          ],
          "name": "stdout"
        },
        {
          "output_type": "display_data",
          "data": {
            "image/png": "[encoded data removed]",
            "text/plain": [
              "<Figure size 432x288 with 2 Axes>"
            ]
          },
          "metadata": {
            "tags": []
          }
        }
      ]
    },
    {
      "cell_type": "markdown",
      "metadata": {
        "id": "w5f-E7AKuZez",
        "colab_type": "text"
      },
      "source": [
        "**NOT MUCH IMPROVEMENT**"
      ]
    },
    {
      "cell_type": "code",
      "metadata": {
        "id": "yQR11LnWtO4g",
        "colab_type": "code",
        "colab": {
          "base_uri": "https://localhost:8080/",
          "height": 67
        },
        "outputId": "55a0fcd6-2362-4007-cd51-78c4d9239e6d"
      },
      "source": [
        "print(clf.score(X_test, y_test),'  ACCURACY')\n",
        "y_pred = clf.predict(X_test)\n",
        "print(precision_score(y_test,y_pred),'  PRECISION')\n",
        "print(recall_score(y_test,y_pred),'  RECALL')"
      ],
      "execution_count": 22,
      "outputs": [
        {
          "output_type": "stream",
          "text": [
            "0.7466257668711657   ACCURACY\n",
            "0.7084942084942085   PRECISION\n",
            "0.5834658187599364   RECALL\n"
          ],
          "name": "stdout"
        }
      ]
    },
    {
      "cell_type": "markdown",
      "metadata": {
        "id": "tWK20E9gulAJ",
        "colab_type": "text"
      },
      "source": [
        "**CHANGE ESTIMATORS TO 1000**"
      ]
    },
    {
      "cell_type": "code",
      "metadata": {
        "id": "ZaaTaqEYutz4",
        "colab_type": "code",
        "colab": {}
      },
      "source": [
        "# We'll make 500 iterations, use 2-deep trees, and set our loss function.\n",
        "\n",
        "# *** It's best to update this table for the drill \n",
        "#  at the end of the lesson.  ***\n",
        "\n",
        "params = {'n_estimators': 1000,\n",
        "          'max_depth': 2,\n",
        "          'loss': 'deviance'}\n",
        "\n",
        "# Initialize and fit the model.\n",
        "clf = ensemble.GradientBoostingClassifier(**params)\n",
        "clf.fit(X_train, y_train)\n",
        "\n",
        "predict_train = clf.predict(X_train)\n",
        "predict_test = clf.predict(X_test)"
      ],
      "execution_count": 0,
      "outputs": []
    },
    {
      "cell_type": "code",
      "metadata": {
        "id": "IoN0sSc8u1t4",
        "colab_type": "code",
        "colab": {
          "base_uri": "https://localhost:8080/",
          "height": 312
        },
        "outputId": "5dbb00a6-3d43-4a0d-facd-27d37d575e84"
      },
      "source": [
        "cm = confusion_matrix(predict_test, y_test)\n",
        "plot_confusion_matrix(cm,[0,1],True)"
      ],
      "execution_count": 24,
      "outputs": [
        {
          "output_type": "stream",
          "text": [
            "Normalized confusion matrix\n"
          ],
          "name": "stdout"
        },
        {
          "output_type": "display_data",
          "data": {
            "image/png": "[encoded data removed]",
            "text/plain": [
              "<Figure size 432x288 with 2 Axes>"
            ]
          },
          "metadata": {
            "tags": []
          }
        }
      ]
    },
    {
      "cell_type": "markdown",
      "metadata": {
        "id": "m-zp3HKGvBXM",
        "colab_type": "text"
      },
      "source": [
        "**NOT MUCH IMPROVEMENT -- RECALL IS DOWN**"
      ]
    },
    {
      "cell_type": "code",
      "metadata": {
        "id": "rmq73bcSu6GA",
        "colab_type": "code",
        "colab": {
          "base_uri": "https://localhost:8080/",
          "height": 67
        },
        "outputId": "1afc74c4-c7cf-443c-e64a-5b1aad8f2ca4"
      },
      "source": [
        "print(clf.score(X_test, y_test),'  ACCURACY')\n",
        "y_pred = clf.predict(X_test)\n",
        "print(precision_score(y_test,y_pred),'  PRECISION')\n",
        "print(recall_score(y_test,y_pred),'  RECALL')"
      ],
      "execution_count": 25,
      "outputs": [
        {
          "output_type": "stream",
          "text": [
            "0.7423312883435583   ACCURACY\n",
            "0.7181628392484343   PRECISION\n",
            "0.5468998410174881   RECALL\n"
          ],
          "name": "stdout"
        }
      ]
    },
    {
      "cell_type": "markdown",
      "metadata": {
        "id": "RusGGCRyvbLD",
        "colab_type": "text"
      },
      "source": [
        "**CHANGE LOSS TO EXPONENTIAL ![alt text](https://)**"
      ]
    },
    {
      "cell_type": "code",
      "metadata": {
        "id": "ceD6n5VHvj2d",
        "colab_type": "code",
        "colab": {}
      },
      "source": [
        "params = {'n_estimators': 1000,\n",
        "          'max_depth': 2,\n",
        "          'loss': 'exponential'}\n",
        "\n",
        "# Initialize and fit the model.\n",
        "clf = ensemble.GradientBoostingClassifier(**params)\n",
        "clf.fit(X_train, y_train)\n",
        "\n",
        "predict_train = clf.predict(X_train)\n",
        "predict_test = clf.predict(X_test)"
      ],
      "execution_count": 0,
      "outputs": []
    },
    {
      "cell_type": "code",
      "metadata": {
        "id": "b33Vu6qEvwvW",
        "colab_type": "code",
        "colab": {
          "base_uri": "https://localhost:8080/",
          "height": 312
        },
        "outputId": "4773a780-444b-4b15-afc6-7bee989ec388"
      },
      "source": [
        "cm = confusion_matrix(predict_test, y_test)\n",
        "plot_confusion_matrix(cm,[0,1],True)"
      ],
      "execution_count": 27,
      "outputs": [
        {
          "output_type": "stream",
          "text": [
            "Normalized confusion matrix\n"
          ],
          "name": "stdout"
        },
        {
          "output_type": "display_data",
          "data": {
            "image/png": "[encoded data removed]",
            "text/plain": [
              "<Figure size 432x288 with 2 Axes>"
            ]
          },
          "metadata": {
            "tags": []
          }
        }
      ]
    },
    {
      "cell_type": "markdown",
      "metadata": {
        "id": "T1Twkjcsv7fu",
        "colab_type": "text"
      },
      "source": [
        "**RECALL IMPROVED**"
      ]
    },
    {
      "cell_type": "code",
      "metadata": {
        "id": "AqK9Q0-7v1tJ",
        "colab_type": "code",
        "colab": {
          "base_uri": "https://localhost:8080/",
          "height": 67
        },
        "outputId": "210bd4af-458c-4895-d047-3b54912a98f7"
      },
      "source": [
        "print(clf.score(X_test, y_test),'  ACCURACY')\n",
        "y_pred = clf.predict(X_test)\n",
        "print(precision_score(y_test,y_pred),'  PRECISION')\n",
        "print(recall_score(y_test,y_pred),'  RECALL')"
      ],
      "execution_count": 28,
      "outputs": [
        {
          "output_type": "stream",
          "text": [
            "0.7404907975460123   ACCURACY\n",
            "0.6845878136200717   PRECISION\n",
            "0.6073131955484896   RECALL\n"
          ],
          "name": "stdout"
        }
      ]
    },
    {
      "cell_type": "markdown",
      "metadata": {
        "id": "RtLRGnOxwG7U",
        "colab_type": "text"
      },
      "source": [
        "**LAST CHANGE -- EXPONENTIAL -- MAX_DEPTH=6  ESTIMATORS STILL 1000**"
      ]
    },
    {
      "cell_type": "code",
      "metadata": {
        "id": "u2XpUyQBwWX1",
        "colab_type": "code",
        "colab": {}
      },
      "source": [
        "params = {'n_estimators': 1000,\n",
        "          'max_depth': 6,\n",
        "          'loss': 'exponential'}\n",
        "\n",
        "# Initialize and fit the model.\n",
        "clf = ensemble.GradientBoostingClassifier(**params)\n",
        "clf.fit(X_train, y_train)\n",
        "\n",
        "predict_train = clf.predict(X_train)\n",
        "predict_test = clf.predict(X_test)"
      ],
      "execution_count": 0,
      "outputs": []
    },
    {
      "cell_type": "code",
      "metadata": {
        "id": "Ox8NPGiHwhLQ",
        "colab_type": "code",
        "colab": {
          "base_uri": "https://localhost:8080/",
          "height": 312
        },
        "outputId": "1e4fc42b-6321-4688-a1d6-3c9e9aa5fc6f"
      },
      "source": [
        "cm = confusion_matrix(predict_test, y_test)\n",
        "plot_confusion_matrix(cm,[0,1],True)"
      ],
      "execution_count": 30,
      "outputs": [
        {
          "output_type": "stream",
          "text": [
            "Normalized confusion matrix\n"
          ],
          "name": "stdout"
        },
        {
          "output_type": "display_data",
          "data": {
            "image/png": "[encoded data removed]",
            "text/plain": [
              "<Figure size 432x288 with 2 Axes>"
            ]
          },
          "metadata": {
            "tags": []
          }
        }
      ]
    },
    {
      "cell_type": "markdown",
      "metadata": {
        "id": "1iC8SMXOwrzI",
        "colab_type": "text"
      },
      "source": [
        "**WORSE**"
      ]
    },
    {
      "cell_type": "code",
      "metadata": {
        "id": "4FBP-vWJwlOe",
        "colab_type": "code",
        "colab": {
          "base_uri": "https://localhost:8080/",
          "height": 67
        },
        "outputId": "cc5f0a4e-106a-47d3-9bcd-34aed4e52590"
      },
      "source": [
        "print(clf.score(X_test, y_test),'  ACCURACY')\n",
        "y_pred = clf.predict(X_test)\n",
        "print(precision_score(y_test,y_pred),'  PRECISION')\n",
        "print(recall_score(y_test,y_pred),'  RECALL')"
      ],
      "execution_count": 31,
      "outputs": [
        {
          "output_type": "stream",
          "text": [
            "0.7263803680981595   ACCURACY\n",
            "0.6625222024866785   PRECISION\n",
            "0.5930047694753577   RECALL\n"
          ],
          "name": "stdout"
        }
      ]
    }
  ]
}