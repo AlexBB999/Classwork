{
  "nbformat": 4,
  "nbformat_minor": 0,
  "metadata": {
    "colab": {
      "name": "17.7 RF-Challenge.ipynb",
      "provenance": [],
      "collapsed_sections": [],
      "authorship_tag": "ABX9TyOSadwHv5FydSuWwWpdM24l",
      "include_colab_link": true
    },
    "kernelspec": {
      "name": "python3",
      "display_name": "Python 3"
    }
  },
  "cells": [
    {
      "cell_type": "markdown",
      "metadata": {
        "id": "view-in-github",
        "colab_type": "text"
      },
      "source": [
        "<a href=\"https://colab.research.google.com/github/AlexBB999/Classwork/blob/master/17_7_RF_Challenge.ipynb\" target=\"_parent\"><img src=\"https://colab.research.google.com/assets/colab-badge.svg\" alt=\"Open In Colab\"/></a>"
      ]
    },
    {
      "cell_type": "code",
      "metadata": {
        "id": "deiqRoesIPea",
        "colab_type": "code",
        "colab": {}
      },
      "source": [
        "from sklearn.linear_model import LogisticRegression\n",
        "from sklearn.ensemble import RandomForestClassifier\n",
        "\n",
        "from sklearn.model_selection import train_test_split\n",
        "from sklearn.datasets import load_breast_cancer\n",
        "from sklearn.metrics import  classification_report, confusion_matrix\n",
        "import time\n",
        "import matplotlib.pyplot as plt\n",
        "import pandas as pd\n",
        "import numpy as np\n",
        "import seaborn as sns\n",
        "import scipy\n",
        "from sklearn import tree"
      ],
      "execution_count": 0,
      "outputs": []
    },
    {
      "cell_type": "code",
      "metadata": {
        "id": "VpsI-D81Ike3",
        "colab_type": "code",
        "colab": {}
      },
      "source": [
        "breast_cancer_X, breast_cancer_y = load_breast_cancer(return_X_y=True)"
      ],
      "execution_count": 0,
      "outputs": []
    },
    {
      "cell_type": "code",
      "metadata": {
        "id": "NGIJ4ODGIp5u",
        "colab_type": "code",
        "colab": {}
      },
      "source": [
        "breast_cancer_X_train, breast_cancer_X_test, breast_cancer_y_train, breast_cancer_y_test = train_test_split(breast_cancer_X, breast_cancer_y)"
      ],
      "execution_count": 0,
      "outputs": []
    },
    {
      "cell_type": "markdown",
      "metadata": {
        "id": "zonRYh_3NkqH",
        "colab_type": "text"
      },
      "source": [
        "**RANDOM FOREST**"
      ]
    },
    {
      "cell_type": "code",
      "metadata": {
        "id": "lScrxAIQNwpa",
        "colab_type": "code",
        "colab": {}
      },
      "source": [
        "bc_rf_clf = RandomForestClassifier()"
      ],
      "execution_count": 0,
      "outputs": []
    },
    {
      "cell_type": "code",
      "metadata": {
        "id": "U2pjjtUIJgRF",
        "colab_type": "code",
        "colab": {
          "base_uri": "https://localhost:8080/",
          "height": 34
        },
        "outputId": "a22aecf8-24a6-44c9-dd85-4f75d6107deb"
      },
      "source": [
        "time_start = time.time()\n",
        "\n",
        "bc_rf_clf.fit(breast_cancer_X_train, breast_cancer_y_train)\n",
        "time.time()-time_start"
      ],
      "execution_count": 33,
      "outputs": [
        {
          "output_type": "execute_result",
          "data": {
            "text/plain": [
              "0.19361138343811035"
            ]
          },
          "metadata": {
            "tags": []
          },
          "execution_count": 33
        }
      ]
    },
    {
      "cell_type": "code",
      "metadata": {
        "id": "yQ6jY-XvNF59",
        "colab_type": "code",
        "colab": {
          "base_uri": "https://localhost:8080/",
          "height": 168
        },
        "outputId": "eb567bcf-164b-4fbb-ea85-c4d75a1ddaac"
      },
      "source": [
        "bc_predictions = bc_rf_clf.predict(breast_cancer_X_test)\n",
        "bc_report = classification_report(breast_cancer_y_test, bc_predictions)\n",
        "print(bc_report)"
      ],
      "execution_count": 34,
      "outputs": [
        {
          "output_type": "stream",
          "text": [
            "              precision    recall  f1-score   support\n",
            "\n",
            "           0       0.94      0.89      0.91        53\n",
            "           1       0.94      0.97      0.95        90\n",
            "\n",
            "    accuracy                           0.94       143\n",
            "   macro avg       0.94      0.93      0.93       143\n",
            "weighted avg       0.94      0.94      0.94       143\n",
            "\n"
          ],
          "name": "stdout"
        }
      ]
    },
    {
      "cell_type": "markdown",
      "metadata": {
        "id": "MXL6pNHLNIiK",
        "colab_type": "text"
      },
      "source": [
        "**DECISION TREE**"
      ]
    },
    {
      "cell_type": "code",
      "metadata": {
        "id": "RYseGAjHNZ0t",
        "colab_type": "code",
        "colab": {}
      },
      "source": [
        "decision_tree = tree.DecisionTreeClassifier()"
      ],
      "execution_count": 0,
      "outputs": []
    },
    {
      "cell_type": "code",
      "metadata": {
        "id": "FMlkQa-2Nc2D",
        "colab_type": "code",
        "colab": {
          "base_uri": "https://localhost:8080/",
          "height": 34
        },
        "outputId": "30dddf1c-518e-480e-d8bf-25c03ca16d2c"
      },
      "source": [
        "time_start = time.time()\n",
        "\n",
        "decision_tree.fit(breast_cancer_X_train, breast_cancer_y_train)\n",
        "time.time()-time_start"
      ],
      "execution_count": 36,
      "outputs": [
        {
          "output_type": "execute_result",
          "data": {
            "text/plain": [
              "0.011156320571899414"
            ]
          },
          "metadata": {
            "tags": []
          },
          "execution_count": 36
        }
      ]
    },
    {
      "cell_type": "code",
      "metadata": {
        "id": "eQ2DTK9BMtVC",
        "colab_type": "code",
        "colab": {
          "base_uri": "https://localhost:8080/",
          "height": 168
        },
        "outputId": "f5ca3881-4749-4263-cd92-2eee151a75e7"
      },
      "source": [
        "dt_predictions = decision_tree.predict(breast_cancer_X_test)\n",
        "dt_report = classification_report(breast_cancer_y_test, dt_predictions)\n",
        "print(dt_report)"
      ],
      "execution_count": 37,
      "outputs": [
        {
          "output_type": "stream",
          "text": [
            "              precision    recall  f1-score   support\n",
            "\n",
            "           0       0.90      0.83      0.86        53\n",
            "           1       0.90      0.94      0.92        90\n",
            "\n",
            "    accuracy                           0.90       143\n",
            "   macro avg       0.90      0.89      0.89       143\n",
            "weighted avg       0.90      0.90      0.90       143\n",
            "\n"
          ],
          "name": "stdout"
        }
      ]
    },
    {
      "cell_type": "markdown",
      "metadata": {
        "id": "Us6RSINeN391",
        "colab_type": "text"
      },
      "source": [
        "**DECISION TREE IS FASTER BUT  NOT AS ACCURATE**"
      ]
    }
  ]
}