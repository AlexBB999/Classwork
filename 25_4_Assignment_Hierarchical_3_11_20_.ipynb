{
  "nbformat": 4,
  "nbformat_minor": 0,
  "metadata": {
    "colab": {
      "name": "25.4 Assignment -Hierarchical 3-11-20 .ipynb",
      "provenance": [],
      "collapsed_sections": [],
      "authorship_tag": "ABX9TyNBQDLhbTj8L3PF8PeblfO3",
      "include_colab_link": true
    },
    "kernelspec": {
      "name": "python3",
      "display_name": "Python 3"
    }
  },
  "cells": [
    {
      "cell_type": "markdown",
      "metadata": {
        "id": "view-in-github",
        "colab_type": "text"
      },
      "source": [
        "<a href=\"https://colab.research.google.com/github/AlexBB999/Classwork/blob/master/25_4_Assignment_Hierarchical_3_11_20_.ipynb\" target=\"_parent\"><img src=\"https://colab.research.google.com/assets/colab-badge.svg\" alt=\"Open In Colab\"/></a>"
      ]
    },
    {
      "cell_type": "markdown",
      "metadata": {
        "id": "hh6uUa26TmlN",
        "colab_type": "text"
      },
      "source": [
        "**Produce dendrograms for the heart disease dataset using three different linkage methods: complete, average and ward**. \n",
        "\n",
        "Which linkage method do you think produces more reasonable result?\n",
        "\n",
        "\n",
        "Apply agglomerative clustering to the heart disease data by setting n_clusters=2. \n",
        "\n",
        "**Try the three linkage methods above and get ARI and silhouette scores for each of your solutions**.\n",
        "\n",
        " Compare the results with each other and with that of the k-means solution that you implemented in the assignment of the previous checkpoint.\n",
        " \n",
        "  Which algorithm and setting does perform better?"
      ]
    },
    {
      "cell_type": "markdown",
      "metadata": {
        "id": "j4vx7YPCTo1_",
        "colab_type": "text"
      },
      "source": [
        "X = heart.iloc[:-1, :13] y = heart.iloc[:-1, 13]"
      ]
    },
    {
      "cell_type": "code",
      "metadata": {
        "id": "JsmFTissiQzA",
        "colab_type": "code",
        "colab": {}
      },
      "source": [
        "import numpy as np\n",
        "import pandas as pd\n",
        "import scipy\n",
        "from sqlalchemy import create_engine\n",
        "\n",
        "import matplotlib.pyplot as plt\n",
        "import seaborn as sns\n",
        "from sklearn.cluster import KMeans\n",
        "from sklearn.preprocessing import StandardScaler\n",
        "from sklearn.model_selection import train_test_split\n",
        "from sklearn.decomposition import PCA\n",
        "\n",
        "from collections import Counter\n",
        "\n",
        "from scipy.cluster.hierarchy import dendrogram, linkage\n",
        "\n",
        "from sklearn.cluster import AgglomerativeClustering\n",
        "from sklearn.decomposition import PCA\n",
        "from sklearn import datasets, metrics"
      ],
      "execution_count": 0,
      "outputs": []
    },
    {
      "cell_type": "code",
      "metadata": {
        "id": "ZVHvmCorga1E",
        "colab_type": "code",
        "colab": {}
      },
      "source": [
        "postgres_user = 'dsbc_student'\n",
        "postgres_pw = '7*.8G9QH21'\n",
        "postgres_host = '142.93.121.174'\n",
        "postgres_port = '5432'\n",
        "postgres_db = 'heartdisease'"
      ],
      "execution_count": 0,
      "outputs": []
    },
    {
      "cell_type": "code",
      "metadata": {
        "id": "eC32cIG1ga7t",
        "colab_type": "code",
        "colab": {}
      },
      "source": [
        "engine = create_engine('postgresql://{}:{}@{}:{}/{}'.format(\n",
        "    postgres_user, postgres_pw, postgres_host, postgres_port, postgres_db))\n",
        "hd0 = pd.read_sql_query('select * FROM heartdisease',con=engine)\n",
        "\n",
        "# no need for an open connection, as we're only doing a single query\n",
        "engine.dispose()"
      ],
      "execution_count": 0,
      "outputs": []
    },
    {
      "cell_type": "code",
      "metadata": {
        "id": "VakyWRnRpYiK",
        "colab_type": "code",
        "colab": {}
      },
      "source": [
        "heart=hd0.copy()"
      ],
      "execution_count": 0,
      "outputs": []
    },
    {
      "cell_type": "markdown",
      "metadata": {
        "id": "QTtOuy_kh6Ie",
        "colab_type": "text"
      },
      "source": [
        "heart = heart[:-1]"
      ]
    },
    {
      "cell_type": "markdown",
      "metadata": {
        "id": "j5FXzm9OiVJo",
        "colab_type": "text"
      },
      "source": [
        "list(heart)``"
      ]
    },
    {
      "cell_type": "markdown",
      "metadata": {
        "id": "p1stWnkyv0bO",
        "colab_type": "text"
      },
      "source": [
        "  **HERE IS THE MISSING PART**"
      ]
    },
    {
      "cell_type": "markdown",
      "metadata": {
        "id": "c-aM0Uipu0mu",
        "colab_type": "text"
      },
      "source": [
        "# Make sure the number of rows divides evenly into four samples.\n",
        "rows = heart.shape[0] - heart.shape[0] % 2\n",
        "df = heart.iloc[:rows, :]"
      ]
    },
    {
      "cell_type": "code",
      "metadata": {
        "id": "7kqA20eNhEZy",
        "colab_type": "code",
        "colab": {}
      },
      "source": [
        "# Define the features and the outcome\n",
        "X = heart.iloc[:, :13]\n",
        "y = heart.iloc[:, 13]\n",
        "\n",
        "\n",
        "# Replace missing values (marked by ?) with a 0\n",
        "X = X.replace(to_replace='?', value=0)\n",
        "\n",
        "# Binarize y so that 1 means heart disease diagnosis and 0 means no diagnosis\n",
        "y = np.where(y > 0, 0, 1)"
      ],
      "execution_count": 0,
      "outputs": []
    },
    {
      "cell_type": "code",
      "metadata": {
        "id": "eAj2QQd8kiXA",
        "colab_type": "code",
        "colab": {}
      },
      "source": [
        "scaler = StandardScaler()\n",
        "X_std = scaler.fit_transform(X)"
      ],
      "execution_count": 0,
      "outputs": []
    },
    {
      "cell_type": "code",
      "metadata": {
        "id": "wrQm6Kx5Lz97",
        "colab_type": "code",
        "colab": {}
      },
      "source": [
        "# Defining the agglomerative clustering\n",
        "agg_cluster = AgglomerativeClustering(linkage='complete', \n",
        "                                      affinity='cosine',\n",
        "                                      n_clusters=3)\n",
        "\n",
        "# Fit model\n",
        "clusters = agg_cluster.fit_predict(X_std)"
      ],
      "execution_count": 0,
      "outputs": []
    },
    {
      "cell_type": "markdown",
      "metadata": {
        "id": "1nDYA4lPLJm-",
        "colab_type": "text"
      },
      "source": [
        "plt.rcParams[\"figure.figsize\"] = [10,5]\n",
        "pca = PCA(n_components=2).fit_transform(X_std)\n",
        "\n",
        "plt.figure(figsize=(8,4))\n",
        "colours = 'rbg'\n",
        "for i in range(pca.shape[0]):\n",
        "    plt.text(pca[i, 0], pca[i, 1], str(clusters[i]),\n",
        "             color=colours[y[i]],\n",
        "             fontdict={'weight': 'bold', 'size': 20}\n",
        "        )\n",
        "\n",
        "plt.xticks([])\n",
        "plt.yticks([])\n",
        "plt.axis('off')\n",
        "#plt.tight_layout()\n",
        "#plt.show"
      ]
    },
    {
      "cell_type": "markdown",
      "metadata": {
        "id": "2v4OvHBrK7tM",
        "colab_type": "text"
      },
      "source": [
        "##**DENDOGRAMS**"
      ]
    },
    {
      "cell_type": "markdown",
      "metadata": {
        "id": "y9pmfVgTM2uK",
        "colab_type": "text"
      },
      "source": [
        "**`COMPLETE`**"
      ]
    },
    {
      "cell_type": "code",
      "metadata": {
        "id": "XP3HptE8K7ws",
        "colab_type": "code",
        "colab": {
          "base_uri": "https://localhost:8080/",
          "height": 591
        },
        "outputId": "be014d65-fc40-4588-dbc4-633c9bc22f15"
      },
      "source": [
        "plt.figure(figsize=(20,10))\n",
        "dendrogram(linkage(X_std, method='complete'))\n",
        "plt.show()"
      ],
      "execution_count": 26,
      "outputs": [
        {
          "output_type": "display_data",
          "data": {
            "image/png": "[encoded data removed]",
            "text/plain": [
              "<Figure size 1440x720 with 1 Axes>"
            ]
          },
          "metadata": {
            "tags": []
          }
        }
      ]
    },
    {
      "cell_type": "markdown",
      "metadata": {
        "id": "7TlMpZHvNKh2",
        "colab_type": "text"
      },
      "source": [
        "**AVERAGE**"
      ]
    },
    {
      "cell_type": "code",
      "metadata": {
        "id": "dp-BXwQiK701",
        "colab_type": "code",
        "colab": {
          "base_uri": "https://localhost:8080/",
          "height": 591
        },
        "outputId": "472908e6-426b-46d5-b7f4-65f8f88e0b6d"
      },
      "source": [
        "plt.figure(figsize=(20,10))\n",
        "dendrogram(linkage(X_std, method='average'))\n",
        "plt.show()"
      ],
      "execution_count": 27,
      "outputs": [
        {
          "output_type": "display_data",
          "data": {
            "image/png": "[encoded data removed]",
            "text/plain": [
              "<Figure size 1440x720 with 1 Axes>"
            ]
          },
          "metadata": {
            "tags": []
          }
        }
      ]
    },
    {
      "cell_type": "markdown",
      "metadata": {
        "id": "hQ88qkCWK736",
        "colab_type": "text"
      },
      "source": [
        "**WARD**"
      ]
    },
    {
      "cell_type": "code",
      "metadata": {
        "id": "qBAbHd9jK77t",
        "colab_type": "code",
        "colab": {
          "base_uri": "https://localhost:8080/",
          "height": 591
        },
        "outputId": "54e9f503-87f5-459e-a14d-9022634c84c5"
      },
      "source": [
        "plt.figure(figsize=(20,10))\n",
        "dendrogram(linkage(X_std, method='ward'))\n",
        "plt.show()"
      ],
      "execution_count": 28,
      "outputs": [
        {
          "output_type": "display_data",
          "data": {
            "image/png": "[encoded data removed]",
            "text/plain": [
              "<Figure size 1440x720 with 1 Axes>"
            ]
          },
          "metadata": {
            "tags": []
          }
        }
      ]
    },
    {
      "cell_type": "markdown",
      "metadata": {
        "id": "_9MejBAsK7_d",
        "colab_type": "text"
      },
      "source": [
        "**WARD SEEMS SIMPLEST**"
      ]
    },
    {
      "cell_type": "markdown",
      "metadata": {
        "id": "3NGdiucuK8GP",
        "colab_type": "text"
      },
      "source": [
        "##**Try the three linkage methods above and get ARI and silhouette scores for each of your solutions**"
      ]
    },
    {
      "cell_type": "markdown",
      "metadata": {
        "id": "oENQsU-MOt6G",
        "colab_type": "text"
      },
      "source": [
        "**COMPLETE**"
      ]
    },
    {
      "cell_type": "code",
      "metadata": {
        "id": "NBGPhx5XK8Ji",
        "colab_type": "code",
        "colab": {}
      },
      "source": [
        "# Defining the agglomerative clustering\n",
        "agg_cluster = AgglomerativeClustering(linkage='complete', \n",
        "                                      affinity='cosine',\n",
        "                                      n_clusters=2)\n",
        "\n",
        "# Fit model\n",
        "clusters = agg_cluster.fit_predict(X_std)"
      ],
      "execution_count": 0,
      "outputs": []
    },
    {
      "cell_type": "code",
      "metadata": {
        "id": "OZfUY7NpK8NF",
        "colab_type": "code",
        "colab": {
          "base_uri": "https://localhost:8080/",
          "height": 50
        },
        "outputId": "59bb8076-d344-4f61-fe97-f20ad2e15f32"
      },
      "source": [
        "print(\"Adjusted Rand Index of the Agglomerative Clustering solution: {}\"\n",
        "      .format(metrics.adjusted_rand_score(y, clusters)))\n",
        "\n",
        "print(\"The silhoutte score of the Agglomerative Clustering solution: {}\"\n",
        "      .format(metrics.silhouette_score(X_std, clusters, metric='euclidean')))"
      ],
      "execution_count": 31,
      "outputs": [
        {
          "output_type": "stream",
          "text": [
            "Adjusted Rand Index of the Agglomerative Clustering solution: 0.21394030618551016\n",
            "The silhoutte score of the Agglomerative Clustering solution: 0.11730765444448985\n"
          ],
          "name": "stdout"
        }
      ]
    },
    {
      "cell_type": "markdown",
      "metadata": {
        "id": "1XlSqRivO2z-",
        "colab_type": "text"
      },
      "source": [
        "**AVERAGE**"
      ]
    },
    {
      "cell_type": "code",
      "metadata": {
        "id": "EfSelseIPKBq",
        "colab_type": "code",
        "colab": {}
      },
      "source": [
        "# Defining the agglomerative clustering\n",
        "agg_cluster = AgglomerativeClustering(linkage='average', \n",
        "                                      affinity='cosine',\n",
        "                                      n_clusters=2)\n",
        "\n",
        "# Fit model\n",
        "clusters = agg_cluster.fit_predict(X_std)"
      ],
      "execution_count": 0,
      "outputs": []
    },
    {
      "cell_type": "code",
      "metadata": {
        "id": "xMCJpRjtPV_G",
        "colab_type": "code",
        "colab": {
          "base_uri": "https://localhost:8080/",
          "height": 50
        },
        "outputId": "ec2b98cf-7beb-48eb-c8a8-dd30caadf845"
      },
      "source": [
        "print(\"Adjusted Rand Index of the Agglomerative Clustering solution: {}\"\n",
        "      .format(metrics.adjusted_rand_score(y, clusters)))\n",
        "\n",
        "print(\"The silhoutte score of the Agglomerative Clustering solution: {}\"\n",
        "      .format(metrics.silhouette_score(X_std, clusters, metric='euclidean')))"
      ],
      "execution_count": 33,
      "outputs": [
        {
          "output_type": "stream",
          "text": [
            "Adjusted Rand Index of the Agglomerative Clustering solution: 0.2940490133353465\n",
            "The silhoutte score of the Agglomerative Clustering solution: 0.14837359969689895\n"
          ],
          "name": "stdout"
        }
      ]
    },
    {
      "cell_type": "markdown",
      "metadata": {
        "id": "VdYCgDMQPbMK",
        "colab_type": "text"
      },
      "source": [
        "**WARD**"
      ]
    },
    {
      "cell_type": "code",
      "metadata": {
        "id": "2d3iI4eSPeka",
        "colab_type": "code",
        "colab": {}
      },
      "source": [
        "# Defining the agglomerative clustering\n",
        "agg_cluster = AgglomerativeClustering(linkage='ward', \n",
        "                                      affinity='euclidean',\n",
        "                                      n_clusters=2)\n",
        "\n",
        "# Fit model\n",
        "clusters = agg_cluster.fit_predict(X_std)"
      ],
      "execution_count": 0,
      "outputs": []
    },
    {
      "cell_type": "code",
      "metadata": {
        "id": "M3FH85u7QHUu",
        "colab_type": "code",
        "colab": {
          "base_uri": "https://localhost:8080/",
          "height": 50
        },
        "outputId": "ef737511-f42b-4bb5-cdf0-6c03d85f2b7f"
      },
      "source": [
        "print(\"Adjusted Rand Index of the Agglomerative Clustering solution: {}\"\n",
        "      .format(metrics.adjusted_rand_score(y, clusters)))\n",
        "\n",
        "print(\"The silhoutte score of the Agglomerative Clustering solution: {}\"\n",
        "      .format(metrics.silhouette_score(X_std, clusters, metric='euclidean')))"
      ],
      "execution_count": 38,
      "outputs": [
        {
          "output_type": "stream",
          "text": [
            "Adjusted Rand Index of the Agglomerative Clustering solution: 0.146129913123814\n",
            "The silhoutte score of the Agglomerative Clustering solution: 0.1387197366557222\n"
          ],
          "name": "stdout"
        }
      ]
    },
    {
      "cell_type": "markdown",
      "metadata": {
        "id": "1ESckX2cQ7LW",
        "colab_type": "text"
      },
      "source": [
        "**NONE PERFORM BETTER THAN SECTION 25.3 RESULTS**\n",
        "\n",
        "**THE BEST OF THESE IS METRIC=AVERAGE**"
      ]
    }
  ]
}